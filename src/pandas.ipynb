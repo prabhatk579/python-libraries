{
  "nbformat": 4,
  "nbformat_minor": 0,
  "metadata": {
    "colab": {
      "name": "191020438-IV-1.ipynb",
      "provenance": [],
      "collapsed_sections": [],
      "toc_visible": true
    },
    "kernelspec": {
      "name": "python3",
      "display_name": "Python 3"
    }
  },
  "cells": [
    {
      "cell_type": "markdown",
      "metadata": {
        "id": "jPgBhcnJE2W2"
      },
      "source": [
        "# Introduction to Pandas\r\n",
        "__Pandas__ is a python package just like _numpy_ which allows us to easily express the data as a sturctured design to work with the _rational_ and the _labelled_ data in the python. It also highly useful for doing practical, real world data analysis in Python.\r\n",
        "\r\n",
        "Pandas is well suited for the followings:\r\n",
        "- Tabular Data with similar kind of data in the columns.\r\n",
        "- Ordered and Unordered data (Without any fixed frequency) time series data\r\n",
        "- Arbitrary matrix data (homogeneously typed or heterogeneous) with row and column labels\r\n",
        "- Any other form of observational / statistical datasets\r\n",
        "\r\n",
        "The key features of pandas is as followed: \r\n",
        "- It makes earier to handle the missing vlaues or the missing data\r\n",
        "- Size mutablility - Data can be removed or added to the existing dataframe\r\n",
        "- Automatic oe explicit data __allignment__ - Data can be alligned manually or automatically to a set of labeles\r\n",
        "- Intelligent label-based slicing, fancy indexing, and subsetting of large data sets\r\n",
        "- Easier and efficient Merging and joining of datasets.\r\n",
        "- Ability to resizing and pivoting the data to desired format.\r\n",
        "- Hierarchical labeling of axes\r\n",
        "- Time series functionality: date range generation and frequency conversion, moving window statistics, moving window linear regressions, date shifting and lagging, etc.\r\n",
        "- Better compatibility with various file types (txt files, Excel files, databases, and HDF5)\r\n",
        "\r\n",
        "\r\n",
        "\r\n",
        "\r\n"
      ]
    },
    {
      "cell_type": "code",
      "metadata": {
        "id": "uLjwr-vBEwfF",
        "colab": {
          "base_uri": "https://localhost:8080/",
          "height": 375
        },
        "outputId": "6a3e0fd8-1092-435f-bf33-5c788a729ec6"
      },
      "source": [
        "from IPython.core.display import HTML\r\n",
        "HTML(\"<iframe src=https://pandas.pydata.org width=800 height=350></iframe>\")"
      ],
      "execution_count": null,
      "outputs": [
        {
          "output_type": "execute_result",
          "data": {
            "text/html": [
              "<iframe src=https://pandas.pydata.org width=800 height=350></iframe>"
            ],
            "text/plain": [
              "<IPython.core.display.HTML object>"
            ]
          },
          "metadata": {
            "tags": []
          },
          "execution_count": 2
        }
      ]
    },
    {
      "cell_type": "code",
      "metadata": {
        "id": "-HCKP_qfIBGb"
      },
      "source": [
        "import pandas as pd\r\n",
        "pd.set_option?\r\n",
        "# Set some Pandas options\r\n",
        "pd.set_option('max_columns', 30)\r\n",
        "pd.set_option('max_rows', 20)"
      ],
      "execution_count": null,
      "outputs": []
    },
    {
      "cell_type": "markdown",
      "metadata": {
        "id": "tx3hwKLfRzwX"
      },
      "source": [
        "# Pandas Data Structures"
      ]
    },
    {
      "cell_type": "markdown",
      "metadata": {
        "id": "o2q8LuMlXnmy"
      },
      "source": [
        "## Series\r\n",
        "Series is a single vector data or a like a numpy array with an ___index___ that labels each element in the vector."
      ]
    },
    {
      "cell_type": "code",
      "metadata": {
        "colab": {
          "base_uri": "https://localhost:8080/"
        },
        "id": "rsWtYkoKQiOY",
        "outputId": "d1d017bc-2eff-40d7-eb2d-9eadf89434af"
      },
      "source": [
        "counts = pd.Series([632, 1638, 569, 115])\r\n",
        "counts"
      ],
      "execution_count": null,
      "outputs": [
        {
          "output_type": "execute_result",
          "data": {
            "text/plain": [
              "0     632\n",
              "1    1638\n",
              "2     569\n",
              "3     115\n",
              "dtype: int64"
            ]
          },
          "metadata": {
            "tags": []
          },
          "execution_count": 4
        }
      ]
    },
    {
      "cell_type": "markdown",
      "metadata": {
        "id": "-aNYBhOuS9FP"
      },
      "source": [
        "If index is not given then a default index values are given to the numpy array. A NumPy array comprises the values of the __Series__, while the index is a pandas __Index__ object."
      ]
    },
    {
      "cell_type": "code",
      "metadata": {
        "colab": {
          "base_uri": "https://localhost:8080/"
        },
        "id": "rlOmj8VsS134",
        "outputId": "94bd22f2-d738-4278-88c4-bc680014e499"
      },
      "source": [
        "counts.values"
      ],
      "execution_count": null,
      "outputs": [
        {
          "output_type": "execute_result",
          "data": {
            "text/plain": [
              "array([ 632, 1638,  569,  115])"
            ]
          },
          "metadata": {
            "tags": []
          },
          "execution_count": 5
        }
      ]
    },
    {
      "cell_type": "code",
      "metadata": {
        "colab": {
          "base_uri": "https://localhost:8080/"
        },
        "id": "b_oq7fVjTb6z",
        "outputId": "85d8892d-9a76-4125-f47a-124aa8d7b7cf"
      },
      "source": [
        "counts.index"
      ],
      "execution_count": null,
      "outputs": [
        {
          "output_type": "execute_result",
          "data": {
            "text/plain": [
              "RangeIndex(start=0, stop=4, step=1)"
            ]
          },
          "metadata": {
            "tags": []
          },
          "execution_count": 6
        }
      ]
    },
    {
      "cell_type": "markdown",
      "metadata": {
        "id": "bnhcp6g_TklF"
      },
      "source": [
        "We can assign a meaningful index as follows"
      ]
    },
    {
      "cell_type": "code",
      "metadata": {
        "colab": {
          "base_uri": "https://localhost:8080/"
        },
        "id": "5sZTNEaxTePe",
        "outputId": "90032675-67a2-4c47-a2ba-844b89d92798"
      },
      "source": [
        "bacteria = pd.Series([632, 1638, 569, 115], \r\n",
        "    index=['Firmicutes', 'Proteobacteria', 'Actinobacteria', 'Bacteroidetes'])\r\n",
        "\r\n",
        "bacteria"
      ],
      "execution_count": null,
      "outputs": [
        {
          "output_type": "execute_result",
          "data": {
            "text/plain": [
              "Firmicutes         632\n",
              "Proteobacteria    1638\n",
              "Actinobacteria     569\n",
              "Bacteroidetes      115\n",
              "dtype: int64"
            ]
          },
          "metadata": {
            "tags": []
          },
          "execution_count": 7
        }
      ]
    },
    {
      "cell_type": "markdown",
      "metadata": {
        "id": "nyPn2CR8T0Xc"
      },
      "source": [
        "These lable can be used to refer the values in the __Series__."
      ]
    },
    {
      "cell_type": "code",
      "metadata": {
        "colab": {
          "base_uri": "https://localhost:8080/"
        },
        "id": "nwY6yeUUTtA7",
        "outputId": "d81723e6-f2a0-46dc-b1f3-fc99e0c55e26"
      },
      "source": [
        "bacteria['Actinobacteria']"
      ],
      "execution_count": null,
      "outputs": [
        {
          "output_type": "execute_result",
          "data": {
            "text/plain": [
              "569"
            ]
          },
          "metadata": {
            "tags": []
          },
          "execution_count": 8
        }
      ]
    },
    {
      "cell_type": "code",
      "metadata": {
        "colab": {
          "base_uri": "https://localhost:8080/"
        },
        "id": "tIKHCTfDUBLM",
        "outputId": "187bf440-1a0d-45ea-c940-10b959126cfc"
      },
      "source": [
        "bacteria[[name.endswith('bacteria') for name in bacteria.index]]"
      ],
      "execution_count": null,
      "outputs": [
        {
          "output_type": "execute_result",
          "data": {
            "text/plain": [
              "Proteobacteria    1638\n",
              "Actinobacteria     569\n",
              "dtype: int64"
            ]
          },
          "metadata": {
            "tags": []
          },
          "execution_count": 9
        }
      ]
    },
    {
      "cell_type": "code",
      "metadata": {
        "colab": {
          "base_uri": "https://localhost:8080/"
        },
        "id": "gU4KPh6-UEBZ",
        "outputId": "6da214b3-2510-4578-ffa9-ec56ee9a0941"
      },
      "source": [
        "[name.endswith('bacteria') for name in bacteria.index]"
      ],
      "execution_count": null,
      "outputs": [
        {
          "output_type": "execute_result",
          "data": {
            "text/plain": [
              "[False, True, True, False]"
            ]
          },
          "metadata": {
            "tags": []
          },
          "execution_count": 10
        }
      ]
    },
    {
      "cell_type": "markdown",
      "metadata": {
        "id": "cl0WWS2CUGsB"
      },
      "source": [
        "__Note:__ the indexing operation preserved the association between the values and the corresponding indices.\r\n",
        "\r\n",
        "We can still use positional indexing if we wish."
      ]
    },
    {
      "cell_type": "code",
      "metadata": {
        "colab": {
          "base_uri": "https://localhost:8080/"
        },
        "id": "e-HgZkAfXtBz",
        "outputId": "1d850c12-950e-49fb-d0e4-f69d99cc2fb5"
      },
      "source": [
        "bacteria[0]"
      ],
      "execution_count": null,
      "outputs": [
        {
          "output_type": "execute_result",
          "data": {
            "text/plain": [
              "632"
            ]
          },
          "metadata": {
            "tags": []
          },
          "execution_count": 11
        }
      ]
    },
    {
      "cell_type": "markdown",
      "metadata": {
        "id": "3VF9yk4MX0X_"
      },
      "source": [
        "We can give both the array of values and the index meaningful labels themselves:"
      ]
    },
    {
      "cell_type": "code",
      "metadata": {
        "colab": {
          "base_uri": "https://localhost:8080/"
        },
        "id": "ceafunlFX8yM",
        "outputId": "76feca0d-640c-47af-a05b-8f80ce833a69"
      },
      "source": [
        "bacteria.name = 'counts'\r\n",
        "bacteria.index.name = 'phylum'\r\n",
        "bacteria"
      ],
      "execution_count": null,
      "outputs": [
        {
          "output_type": "execute_result",
          "data": {
            "text/plain": [
              "phylum\n",
              "Firmicutes         632\n",
              "Proteobacteria    1638\n",
              "Actinobacteria     569\n",
              "Bacteroidetes      115\n",
              "Name: counts, dtype: int64"
            ]
          },
          "metadata": {
            "tags": []
          },
          "execution_count": 12
        }
      ]
    },
    {
      "cell_type": "markdown",
      "metadata": {
        "id": "NgHAek2ZYGrI"
      },
      "source": [
        "We can use Numpy's Mathematical function on the series without loosing any data structure."
      ]
    },
    {
      "cell_type": "code",
      "metadata": {
        "colab": {
          "base_uri": "https://localhost:8080/"
        },
        "id": "fBVkYy40X9aX",
        "outputId": "5f7d8ec0-3ff9-4300-93d8-5afc1a6cdfe5"
      },
      "source": [
        "import numpy as np\r\n",
        "\r\n",
        "np.log(bacteria)"
      ],
      "execution_count": null,
      "outputs": [
        {
          "output_type": "execute_result",
          "data": {
            "text/plain": [
              "phylum\n",
              "Firmicutes        6.448889\n",
              "Proteobacteria    7.401231\n",
              "Actinobacteria    6.343880\n",
              "Bacteroidetes     4.744932\n",
              "Name: counts, dtype: float64"
            ]
          },
          "metadata": {
            "tags": []
          },
          "execution_count": 13
        }
      ]
    },
    {
      "cell_type": "markdown",
      "metadata": {
        "id": "Hd3gJ_r2YzPF"
      },
      "source": [
        "We can also filter the values in the Series as follows"
      ]
    },
    {
      "cell_type": "code",
      "metadata": {
        "colab": {
          "base_uri": "https://localhost:8080/"
        },
        "id": "aUBOdvJsYJjS",
        "outputId": "30cf0263-ce48-474b-db28-858056a6d06a"
      },
      "source": [
        "bacteria[bacteria>1000]"
      ],
      "execution_count": null,
      "outputs": [
        {
          "output_type": "execute_result",
          "data": {
            "text/plain": [
              "phylum\n",
              "Proteobacteria    1638\n",
              "Name: counts, dtype: int64"
            ]
          },
          "metadata": {
            "tags": []
          },
          "execution_count": 14
        }
      ]
    },
    {
      "cell_type": "markdown",
      "metadata": {
        "id": "iTDeQvPAZFZf"
      },
      "source": [
        "Series can be thought of as an ordered key-value. In fact, we can create one from a __dict__ but it is immutable"
      ]
    },
    {
      "cell_type": "code",
      "metadata": {
        "colab": {
          "base_uri": "https://localhost:8080/"
        },
        "id": "QZSiVRWZY8D7",
        "outputId": "557f179a-4880-4e34-f11f-8bea52fad5df"
      },
      "source": [
        "bacteria_dict = {'Firmicutes': 632, 'Proteobacteria': 1638, 'Actinobacteria': 569, 'Bacteroidetes': 115}\r\n",
        "pd.Series(bacteria_dict)"
      ],
      "execution_count": null,
      "outputs": [
        {
          "output_type": "execute_result",
          "data": {
            "text/plain": [
              "Firmicutes         632\n",
              "Proteobacteria    1638\n",
              "Actinobacteria     569\n",
              "Bacteroidetes      115\n",
              "dtype: int64"
            ]
          },
          "metadata": {
            "tags": []
          },
          "execution_count": 15
        }
      ]
    },
    {
      "cell_type": "markdown",
      "metadata": {
        "id": "Cwur4es2ZooX"
      },
      "source": [
        "__Note:__ The Series is sorted in key order.\r\n",
        "\r\n",
        "If we pass a custom index to __Series__, it will select the corresponding values from the dictionary, and treat indices without corrsponding values as missing. Pandas uses the `NaN` _(not a number)_ type for missing values."
      ]
    },
    {
      "cell_type": "code",
      "metadata": {
        "colab": {
          "base_uri": "https://localhost:8080/"
        },
        "id": "Qg7a3ZbsZUA9",
        "outputId": "6b437dad-c0d5-41b3-9a43-9a8588fd5bd0"
      },
      "source": [
        "bacteria2 = pd.Series(bacteria_dict, index=['Cyanobacteria','Firmicutes','Proteobacteria','Actinobacteria'])\r\n",
        "bacteria2"
      ],
      "execution_count": null,
      "outputs": [
        {
          "output_type": "execute_result",
          "data": {
            "text/plain": [
              "Cyanobacteria        NaN\n",
              "Firmicutes         632.0\n",
              "Proteobacteria    1638.0\n",
              "Actinobacteria     569.0\n",
              "dtype: float64"
            ]
          },
          "metadata": {
            "tags": []
          },
          "execution_count": 16
        }
      ]
    },
    {
      "cell_type": "code",
      "metadata": {
        "colab": {
          "base_uri": "https://localhost:8080/"
        },
        "id": "GjThNX48av-r",
        "outputId": "04cc543f-378d-4a33-e6ef-a9a52da3f9c1"
      },
      "source": [
        "bacteria2.isnull()"
      ],
      "execution_count": null,
      "outputs": [
        {
          "output_type": "execute_result",
          "data": {
            "text/plain": [
              "Cyanobacteria      True\n",
              "Firmicutes        False\n",
              "Proteobacteria    False\n",
              "Actinobacteria    False\n",
              "dtype: bool"
            ]
          },
          "metadata": {
            "tags": []
          },
          "execution_count": 17
        }
      ]
    },
    {
      "cell_type": "markdown",
      "metadata": {
        "id": "Zz0nswYMbEta"
      },
      "source": [
        "The labels are used to __align data__ when used in operations with other Series objects:"
      ]
    },
    {
      "cell_type": "code",
      "metadata": {
        "colab": {
          "base_uri": "https://localhost:8080/"
        },
        "id": "wDLEICbmay2U",
        "outputId": "471fe4af-1929-44bf-e61d-bcc9d6853c38"
      },
      "source": [
        "bacteria + bacteria2"
      ],
      "execution_count": null,
      "outputs": [
        {
          "output_type": "execute_result",
          "data": {
            "text/plain": [
              "Actinobacteria    1138.0\n",
              "Bacteroidetes        NaN\n",
              "Cyanobacteria        NaN\n",
              "Firmicutes        1264.0\n",
              "Proteobacteria    3276.0\n",
              "dtype: float64"
            ]
          },
          "metadata": {
            "tags": []
          },
          "execution_count": 18
        }
      ]
    },
    {
      "cell_type": "markdown",
      "metadata": {
        "id": "QDvlhuj7bLFH"
      },
      "source": [
        "Contrast this with NumPy arrays, where arrays of the same length will combine values element-wise; adding Series combined values with the same label in the resulting series. Notice also that the missing values were propogated by addition."
      ]
    },
    {
      "cell_type": "markdown",
      "metadata": {
        "id": "U4OTaV3UbzNf"
      },
      "source": [
        "## Dataframes\r\n",
        "A DataFrame is a structured data dsign and simply represents the data as a table with rows and columns. It stores data as a two-dimensional structure but it can also represent the data with higher dimension. \r\n",
        "\r\n",
        "With dataframe we are able to store, view and manipulate data that is _multivariate_, where for every index there are multiple fields or columns of data, often of varying data type."
      ]
    },
    {
      "cell_type": "code",
      "metadata": {
        "id": "rWfQpdeZbt9a",
        "colab": {
          "base_uri": "https://localhost:8080/",
          "height": 294
        },
        "outputId": "75444d71-a1f9-41a8-f21d-b59a8786a3e2"
      },
      "source": [
        "data = pd.DataFrame({'value':[632, 1638, 569, 115, 433, 1130, 754, 555],\r\n",
        "                     'patient':[1, 1, 1, 1, 2, 2, 2, 2],\r\n",
        "                     'phylum':['Firmicutes', 'Proteobacteria', 'Actinobacteria', \r\n",
        "    'Bacteroidetes', 'Firmicutes', 'Proteobacteria', 'Actinobacteria', 'Bacteroidetes']})\r\n",
        "data"
      ],
      "execution_count": null,
      "outputs": [
        {
          "output_type": "execute_result",
          "data": {
            "text/html": [
              "<div>\n",
              "<style scoped>\n",
              "    .dataframe tbody tr th:only-of-type {\n",
              "        vertical-align: middle;\n",
              "    }\n",
              "\n",
              "    .dataframe tbody tr th {\n",
              "        vertical-align: top;\n",
              "    }\n",
              "\n",
              "    .dataframe thead th {\n",
              "        text-align: right;\n",
              "    }\n",
              "</style>\n",
              "<table border=\"1\" class=\"dataframe\">\n",
              "  <thead>\n",
              "    <tr style=\"text-align: right;\">\n",
              "      <th></th>\n",
              "      <th>value</th>\n",
              "      <th>patient</th>\n",
              "      <th>phylum</th>\n",
              "    </tr>\n",
              "  </thead>\n",
              "  <tbody>\n",
              "    <tr>\n",
              "      <th>0</th>\n",
              "      <td>632</td>\n",
              "      <td>1</td>\n",
              "      <td>Firmicutes</td>\n",
              "    </tr>\n",
              "    <tr>\n",
              "      <th>1</th>\n",
              "      <td>1638</td>\n",
              "      <td>1</td>\n",
              "      <td>Proteobacteria</td>\n",
              "    </tr>\n",
              "    <tr>\n",
              "      <th>2</th>\n",
              "      <td>569</td>\n",
              "      <td>1</td>\n",
              "      <td>Actinobacteria</td>\n",
              "    </tr>\n",
              "    <tr>\n",
              "      <th>3</th>\n",
              "      <td>115</td>\n",
              "      <td>1</td>\n",
              "      <td>Bacteroidetes</td>\n",
              "    </tr>\n",
              "    <tr>\n",
              "      <th>4</th>\n",
              "      <td>433</td>\n",
              "      <td>2</td>\n",
              "      <td>Firmicutes</td>\n",
              "    </tr>\n",
              "    <tr>\n",
              "      <th>5</th>\n",
              "      <td>1130</td>\n",
              "      <td>2</td>\n",
              "      <td>Proteobacteria</td>\n",
              "    </tr>\n",
              "    <tr>\n",
              "      <th>6</th>\n",
              "      <td>754</td>\n",
              "      <td>2</td>\n",
              "      <td>Actinobacteria</td>\n",
              "    </tr>\n",
              "    <tr>\n",
              "      <th>7</th>\n",
              "      <td>555</td>\n",
              "      <td>2</td>\n",
              "      <td>Bacteroidetes</td>\n",
              "    </tr>\n",
              "  </tbody>\n",
              "</table>\n",
              "</div>"
            ],
            "text/plain": [
              "   value  patient          phylum\n",
              "0    632        1      Firmicutes\n",
              "1   1638        1  Proteobacteria\n",
              "2    569        1  Actinobacteria\n",
              "3    115        1   Bacteroidetes\n",
              "4    433        2      Firmicutes\n",
              "5   1130        2  Proteobacteria\n",
              "6    754        2  Actinobacteria\n",
              "7    555        2   Bacteroidetes"
            ]
          },
          "metadata": {
            "tags": []
          },
          "execution_count": 19
        }
      ]
    },
    {
      "cell_type": "markdown",
      "metadata": {
        "id": "9ZYH5-cycULF"
      },
      "source": [
        "__Note:__ We see that the __Dataframe__ have sorted the columns by column names. \r\n",
        "\r\n",
        "We can also expiclitly change the order as follows:"
      ]
    },
    {
      "cell_type": "code",
      "metadata": {
        "colab": {
          "base_uri": "https://localhost:8080/",
          "height": 294
        },
        "id": "YZtNMKQib_aH",
        "outputId": "f0da0c28-5b09-4a26-972f-e82e3c96544d"
      },
      "source": [
        "data[['phylum','value','patient']]"
      ],
      "execution_count": null,
      "outputs": [
        {
          "output_type": "execute_result",
          "data": {
            "text/html": [
              "<div>\n",
              "<style scoped>\n",
              "    .dataframe tbody tr th:only-of-type {\n",
              "        vertical-align: middle;\n",
              "    }\n",
              "\n",
              "    .dataframe tbody tr th {\n",
              "        vertical-align: top;\n",
              "    }\n",
              "\n",
              "    .dataframe thead th {\n",
              "        text-align: right;\n",
              "    }\n",
              "</style>\n",
              "<table border=\"1\" class=\"dataframe\">\n",
              "  <thead>\n",
              "    <tr style=\"text-align: right;\">\n",
              "      <th></th>\n",
              "      <th>phylum</th>\n",
              "      <th>value</th>\n",
              "      <th>patient</th>\n",
              "    </tr>\n",
              "  </thead>\n",
              "  <tbody>\n",
              "    <tr>\n",
              "      <th>0</th>\n",
              "      <td>Firmicutes</td>\n",
              "      <td>632</td>\n",
              "      <td>1</td>\n",
              "    </tr>\n",
              "    <tr>\n",
              "      <th>1</th>\n",
              "      <td>Proteobacteria</td>\n",
              "      <td>1638</td>\n",
              "      <td>1</td>\n",
              "    </tr>\n",
              "    <tr>\n",
              "      <th>2</th>\n",
              "      <td>Actinobacteria</td>\n",
              "      <td>569</td>\n",
              "      <td>1</td>\n",
              "    </tr>\n",
              "    <tr>\n",
              "      <th>3</th>\n",
              "      <td>Bacteroidetes</td>\n",
              "      <td>115</td>\n",
              "      <td>1</td>\n",
              "    </tr>\n",
              "    <tr>\n",
              "      <th>4</th>\n",
              "      <td>Firmicutes</td>\n",
              "      <td>433</td>\n",
              "      <td>2</td>\n",
              "    </tr>\n",
              "    <tr>\n",
              "      <th>5</th>\n",
              "      <td>Proteobacteria</td>\n",
              "      <td>1130</td>\n",
              "      <td>2</td>\n",
              "    </tr>\n",
              "    <tr>\n",
              "      <th>6</th>\n",
              "      <td>Actinobacteria</td>\n",
              "      <td>754</td>\n",
              "      <td>2</td>\n",
              "    </tr>\n",
              "    <tr>\n",
              "      <th>7</th>\n",
              "      <td>Bacteroidetes</td>\n",
              "      <td>555</td>\n",
              "      <td>2</td>\n",
              "    </tr>\n",
              "  </tbody>\n",
              "</table>\n",
              "</div>"
            ],
            "text/plain": [
              "           phylum  value  patient\n",
              "0      Firmicutes    632        1\n",
              "1  Proteobacteria   1638        1\n",
              "2  Actinobacteria    569        1\n",
              "3   Bacteroidetes    115        1\n",
              "4      Firmicutes    433        2\n",
              "5  Proteobacteria   1130        2\n",
              "6  Actinobacteria    754        2\n",
              "7   Bacteroidetes    555        2"
            ]
          },
          "metadata": {
            "tags": []
          },
          "execution_count": 20
        }
      ]
    },
    {
      "cell_type": "markdown",
      "metadata": {
        "id": "2p-s5CdadGQR"
      },
      "source": [
        "A dataframe also have a second index which represents the column and can be done by `data.columns`"
      ]
    },
    {
      "cell_type": "code",
      "metadata": {
        "colab": {
          "base_uri": "https://localhost:8080/"
        },
        "id": "2QqDjD11c8Ca",
        "outputId": "827d6236-8cb4-453a-9fdd-e6b94f610eed"
      },
      "source": [
        "data.columns"
      ],
      "execution_count": null,
      "outputs": [
        {
          "output_type": "execute_result",
          "data": {
            "text/plain": [
              "Index(['value', 'patient', 'phylum'], dtype='object')"
            ]
          },
          "metadata": {
            "tags": []
          },
          "execution_count": 21
        }
      ]
    },
    {
      "cell_type": "markdown",
      "metadata": {
        "id": "ticMXts9dfR1"
      },
      "source": [
        "If we wish to access a desired columns, we can do so either by dictionary like indexing or calling the attribute"
      ]
    },
    {
      "cell_type": "code",
      "metadata": {
        "colab": {
          "base_uri": "https://localhost:8080/"
        },
        "id": "zCnJIwESdY_1",
        "outputId": "f42d9c05-9c02-4da4-812b-22b2ef3a2a06"
      },
      "source": [
        "data['value']"
      ],
      "execution_count": null,
      "outputs": [
        {
          "output_type": "execute_result",
          "data": {
            "text/plain": [
              "0     632\n",
              "1    1638\n",
              "2     569\n",
              "3     115\n",
              "4     433\n",
              "5    1130\n",
              "6     754\n",
              "7     555\n",
              "Name: value, dtype: int64"
            ]
          },
          "metadata": {
            "tags": []
          },
          "execution_count": 22
        }
      ]
    },
    {
      "cell_type": "code",
      "metadata": {
        "colab": {
          "base_uri": "https://localhost:8080/"
        },
        "id": "UlccDXJadvYM",
        "outputId": "a09dda42-f72d-4584-833f-70cbed632884"
      },
      "source": [
        "data.value"
      ],
      "execution_count": null,
      "outputs": [
        {
          "output_type": "execute_result",
          "data": {
            "text/plain": [
              "0     632\n",
              "1    1638\n",
              "2     569\n",
              "3     115\n",
              "4     433\n",
              "5    1130\n",
              "6     754\n",
              "7     555\n",
              "Name: value, dtype: int64"
            ]
          },
          "metadata": {
            "tags": []
          },
          "execution_count": 23
        }
      ]
    },
    {
      "cell_type": "code",
      "metadata": {
        "colab": {
          "base_uri": "https://localhost:8080/"
        },
        "id": "o7UGiAaPdzIq",
        "outputId": "a9ccc58e-8ee2-446b-d59d-fa7d221acaaf"
      },
      "source": [
        "type(data.value)"
      ],
      "execution_count": null,
      "outputs": [
        {
          "output_type": "execute_result",
          "data": {
            "text/plain": [
              "pandas.core.series.Series"
            ]
          },
          "metadata": {
            "tags": []
          },
          "execution_count": 24
        }
      ]
    },
    {
      "cell_type": "code",
      "metadata": {
        "colab": {
          "base_uri": "https://localhost:8080/"
        },
        "id": "1qRFTFUpd1bU",
        "outputId": "81479156-5d0f-4a1f-dc17-2e204cd1869a"
      },
      "source": [
        "type(data[['value']])"
      ],
      "execution_count": null,
      "outputs": [
        {
          "output_type": "execute_result",
          "data": {
            "text/plain": [
              "pandas.core.frame.DataFrame"
            ]
          },
          "metadata": {
            "tags": []
          },
          "execution_count": 25
        }
      ]
    },
    {
      "cell_type": "markdown",
      "metadata": {
        "id": "9tO7Gn6teCAg"
      },
      "source": [
        "__Note:__ We see that it is different than Series, where dict-like indexing retrieved a particular element (row). If we want access to a row in a DataFrame, we index its `loc` attribute."
      ]
    },
    {
      "cell_type": "code",
      "metadata": {
        "colab": {
          "base_uri": "https://localhost:8080/"
        },
        "id": "Uorg_QRGd3xl",
        "outputId": "fd6c3829-fcc0-45ea-cd59-074f8aced043"
      },
      "source": [
        "data.loc[3]"
      ],
      "execution_count": null,
      "outputs": [
        {
          "output_type": "execute_result",
          "data": {
            "text/plain": [
              "value                115\n",
              "patient                1\n",
              "phylum     Bacteroidetes\n",
              "Name: 3, dtype: object"
            ]
          },
          "metadata": {
            "tags": []
          },
          "execution_count": 26
        }
      ]
    },
    {
      "cell_type": "markdown",
      "metadata": {
        "id": "xHdbCLzlfFCu"
      },
      "source": [
        "Alternatively, we can create a __DataFrame__ with a dict of dicts"
      ]
    },
    {
      "cell_type": "code",
      "metadata": {
        "id": "UBZXWTuKeTNe"
      },
      "source": [
        "data = pd.DataFrame({0: {'patient': 1, 'phylum': 'Firmicutes', 'value': 632},\r\n",
        "                    1: {'patient': 1, 'phylum': 'Proteobacteria', 'value': 1638},\r\n",
        "                    2: {'patient': 1, 'phylum': 'Actinobacteria', 'value': 569},\r\n",
        "                    3: {'patient': 1, 'phylum': 'Bacteroidetes', 'value': 115},\r\n",
        "                    4: {'patient': 2, 'phylum': 'Firmicutes', 'value': 433},\r\n",
        "                    5: {'patient': 2, 'phylum': 'Proteobacteria', 'value': 1130},\r\n",
        "                    6: {'patient': 2, 'phylum': 'Actinobacteria', 'value': 754},\r\n",
        "                    7: {'patient': 2, 'phylum': 'Bacteroidetes', 'value': 555}})"
      ],
      "execution_count": null,
      "outputs": []
    },
    {
      "cell_type": "code",
      "metadata": {
        "colab": {
          "base_uri": "https://localhost:8080/",
          "height": 141
        },
        "id": "l6gTui08fajn",
        "outputId": "7868a793-1c8c-41a4-c37d-ab39d9b81906"
      },
      "source": [
        "data"
      ],
      "execution_count": null,
      "outputs": [
        {
          "output_type": "execute_result",
          "data": {
            "text/html": [
              "<div>\n",
              "<style scoped>\n",
              "    .dataframe tbody tr th:only-of-type {\n",
              "        vertical-align: middle;\n",
              "    }\n",
              "\n",
              "    .dataframe tbody tr th {\n",
              "        vertical-align: top;\n",
              "    }\n",
              "\n",
              "    .dataframe thead th {\n",
              "        text-align: right;\n",
              "    }\n",
              "</style>\n",
              "<table border=\"1\" class=\"dataframe\">\n",
              "  <thead>\n",
              "    <tr style=\"text-align: right;\">\n",
              "      <th></th>\n",
              "      <th>0</th>\n",
              "      <th>1</th>\n",
              "      <th>2</th>\n",
              "      <th>3</th>\n",
              "      <th>4</th>\n",
              "      <th>5</th>\n",
              "      <th>6</th>\n",
              "      <th>7</th>\n",
              "    </tr>\n",
              "  </thead>\n",
              "  <tbody>\n",
              "    <tr>\n",
              "      <th>patient</th>\n",
              "      <td>1</td>\n",
              "      <td>1</td>\n",
              "      <td>1</td>\n",
              "      <td>1</td>\n",
              "      <td>2</td>\n",
              "      <td>2</td>\n",
              "      <td>2</td>\n",
              "      <td>2</td>\n",
              "    </tr>\n",
              "    <tr>\n",
              "      <th>phylum</th>\n",
              "      <td>Firmicutes</td>\n",
              "      <td>Proteobacteria</td>\n",
              "      <td>Actinobacteria</td>\n",
              "      <td>Bacteroidetes</td>\n",
              "      <td>Firmicutes</td>\n",
              "      <td>Proteobacteria</td>\n",
              "      <td>Actinobacteria</td>\n",
              "      <td>Bacteroidetes</td>\n",
              "    </tr>\n",
              "    <tr>\n",
              "      <th>value</th>\n",
              "      <td>632</td>\n",
              "      <td>1638</td>\n",
              "      <td>569</td>\n",
              "      <td>115</td>\n",
              "      <td>433</td>\n",
              "      <td>1130</td>\n",
              "      <td>754</td>\n",
              "      <td>555</td>\n",
              "    </tr>\n",
              "  </tbody>\n",
              "</table>\n",
              "</div>"
            ],
            "text/plain": [
              "                  0               1               2              3  \\\n",
              "patient           1               1               1              1   \n",
              "phylum   Firmicutes  Proteobacteria  Actinobacteria  Bacteroidetes   \n",
              "value           632            1638             569            115   \n",
              "\n",
              "                  4               5               6              7  \n",
              "patient           2               2               2              2  \n",
              "phylum   Firmicutes  Proteobacteria  Actinobacteria  Bacteroidetes  \n",
              "value           433            1130             754            555  "
            ]
          },
          "metadata": {
            "tags": []
          },
          "execution_count": 28
        }
      ]
    },
    {
      "cell_type": "markdown",
      "metadata": {
        "id": "da4vu7Cbfkh-"
      },
      "source": [
        "We can also transpose this for better understanding. To do that we can use either `trans()` finction or simply `.T` as a prefix"
      ]
    },
    {
      "cell_type": "code",
      "metadata": {
        "colab": {
          "base_uri": "https://localhost:8080/",
          "height": 294
        },
        "id": "7CyhhXIwfeHe",
        "outputId": "a3661c1d-95a2-404a-e087-360c47784e94"
      },
      "source": [
        "data = data.T\r\n",
        "data"
      ],
      "execution_count": null,
      "outputs": [
        {
          "output_type": "execute_result",
          "data": {
            "text/html": [
              "<div>\n",
              "<style scoped>\n",
              "    .dataframe tbody tr th:only-of-type {\n",
              "        vertical-align: middle;\n",
              "    }\n",
              "\n",
              "    .dataframe tbody tr th {\n",
              "        vertical-align: top;\n",
              "    }\n",
              "\n",
              "    .dataframe thead th {\n",
              "        text-align: right;\n",
              "    }\n",
              "</style>\n",
              "<table border=\"1\" class=\"dataframe\">\n",
              "  <thead>\n",
              "    <tr style=\"text-align: right;\">\n",
              "      <th></th>\n",
              "      <th>patient</th>\n",
              "      <th>phylum</th>\n",
              "      <th>value</th>\n",
              "    </tr>\n",
              "  </thead>\n",
              "  <tbody>\n",
              "    <tr>\n",
              "      <th>0</th>\n",
              "      <td>1</td>\n",
              "      <td>Firmicutes</td>\n",
              "      <td>632</td>\n",
              "    </tr>\n",
              "    <tr>\n",
              "      <th>1</th>\n",
              "      <td>1</td>\n",
              "      <td>Proteobacteria</td>\n",
              "      <td>1638</td>\n",
              "    </tr>\n",
              "    <tr>\n",
              "      <th>2</th>\n",
              "      <td>1</td>\n",
              "      <td>Actinobacteria</td>\n",
              "      <td>569</td>\n",
              "    </tr>\n",
              "    <tr>\n",
              "      <th>3</th>\n",
              "      <td>1</td>\n",
              "      <td>Bacteroidetes</td>\n",
              "      <td>115</td>\n",
              "    </tr>\n",
              "    <tr>\n",
              "      <th>4</th>\n",
              "      <td>2</td>\n",
              "      <td>Firmicutes</td>\n",
              "      <td>433</td>\n",
              "    </tr>\n",
              "    <tr>\n",
              "      <th>5</th>\n",
              "      <td>2</td>\n",
              "      <td>Proteobacteria</td>\n",
              "      <td>1130</td>\n",
              "    </tr>\n",
              "    <tr>\n",
              "      <th>6</th>\n",
              "      <td>2</td>\n",
              "      <td>Actinobacteria</td>\n",
              "      <td>754</td>\n",
              "    </tr>\n",
              "    <tr>\n",
              "      <th>7</th>\n",
              "      <td>2</td>\n",
              "      <td>Bacteroidetes</td>\n",
              "      <td>555</td>\n",
              "    </tr>\n",
              "  </tbody>\n",
              "</table>\n",
              "</div>"
            ],
            "text/plain": [
              "  patient          phylum value\n",
              "0       1      Firmicutes   632\n",
              "1       1  Proteobacteria  1638\n",
              "2       1  Actinobacteria   569\n",
              "3       1   Bacteroidetes   115\n",
              "4       2      Firmicutes   433\n",
              "5       2  Proteobacteria  1130\n",
              "6       2  Actinobacteria   754\n",
              "7       2   Bacteroidetes   555"
            ]
          },
          "metadata": {
            "tags": []
          },
          "execution_count": 29
        }
      ]
    },
    {
      "cell_type": "markdown",
      "metadata": {
        "id": "kcyvuzg0gCmr"
      },
      "source": [
        "Its important to note that the Series returned when a DataFrame is indexted is a __view__ on the DataFrame, and not a copy of the data itself. So you must be cautious when manipulating this data as if we do any operation on this data then it is not applied on the real dataset"
      ]
    },
    {
      "cell_type": "code",
      "metadata": {
        "colab": {
          "base_uri": "https://localhost:8080/"
        },
        "id": "40s4DGmzf7Gq",
        "outputId": "70d19944-795f-4960-b02e-34d7f338afbb"
      },
      "source": [
        "vals = data.value\r\n",
        "vals"
      ],
      "execution_count": null,
      "outputs": [
        {
          "output_type": "execute_result",
          "data": {
            "text/plain": [
              "0     632\n",
              "1    1638\n",
              "2     569\n",
              "3     115\n",
              "4     433\n",
              "5    1130\n",
              "6     754\n",
              "7     555\n",
              "Name: value, dtype: object"
            ]
          },
          "metadata": {
            "tags": []
          },
          "execution_count": 30
        }
      ]
    },
    {
      "cell_type": "code",
      "metadata": {
        "colab": {
          "base_uri": "https://localhost:8080/"
        },
        "id": "bzFiztkugWei",
        "outputId": "d9a320db-2f72-499d-f2f8-b8959d4b1a47"
      },
      "source": [
        "vals[5] = 0\r\n",
        "vals"
      ],
      "execution_count": null,
      "outputs": [
        {
          "output_type": "execute_result",
          "data": {
            "text/plain": [
              "0     632\n",
              "1    1638\n",
              "2     569\n",
              "3     115\n",
              "4     433\n",
              "5       0\n",
              "6     754\n",
              "7     555\n",
              "Name: value, dtype: object"
            ]
          },
          "metadata": {
            "tags": []
          },
          "execution_count": 31
        }
      ]
    },
    {
      "cell_type": "code",
      "metadata": {
        "colab": {
          "base_uri": "https://localhost:8080/",
          "height": 294
        },
        "id": "wQyfY36SgYym",
        "outputId": "c0283bdf-a684-498b-ded2-e99de0109f45"
      },
      "source": [
        "data"
      ],
      "execution_count": null,
      "outputs": [
        {
          "output_type": "execute_result",
          "data": {
            "text/html": [
              "<div>\n",
              "<style scoped>\n",
              "    .dataframe tbody tr th:only-of-type {\n",
              "        vertical-align: middle;\n",
              "    }\n",
              "\n",
              "    .dataframe tbody tr th {\n",
              "        vertical-align: top;\n",
              "    }\n",
              "\n",
              "    .dataframe thead th {\n",
              "        text-align: right;\n",
              "    }\n",
              "</style>\n",
              "<table border=\"1\" class=\"dataframe\">\n",
              "  <thead>\n",
              "    <tr style=\"text-align: right;\">\n",
              "      <th></th>\n",
              "      <th>patient</th>\n",
              "      <th>phylum</th>\n",
              "      <th>value</th>\n",
              "    </tr>\n",
              "  </thead>\n",
              "  <tbody>\n",
              "    <tr>\n",
              "      <th>0</th>\n",
              "      <td>1</td>\n",
              "      <td>Firmicutes</td>\n",
              "      <td>632</td>\n",
              "    </tr>\n",
              "    <tr>\n",
              "      <th>1</th>\n",
              "      <td>1</td>\n",
              "      <td>Proteobacteria</td>\n",
              "      <td>1638</td>\n",
              "    </tr>\n",
              "    <tr>\n",
              "      <th>2</th>\n",
              "      <td>1</td>\n",
              "      <td>Actinobacteria</td>\n",
              "      <td>569</td>\n",
              "    </tr>\n",
              "    <tr>\n",
              "      <th>3</th>\n",
              "      <td>1</td>\n",
              "      <td>Bacteroidetes</td>\n",
              "      <td>115</td>\n",
              "    </tr>\n",
              "    <tr>\n",
              "      <th>4</th>\n",
              "      <td>2</td>\n",
              "      <td>Firmicutes</td>\n",
              "      <td>433</td>\n",
              "    </tr>\n",
              "    <tr>\n",
              "      <th>5</th>\n",
              "      <td>2</td>\n",
              "      <td>Proteobacteria</td>\n",
              "      <td>0</td>\n",
              "    </tr>\n",
              "    <tr>\n",
              "      <th>6</th>\n",
              "      <td>2</td>\n",
              "      <td>Actinobacteria</td>\n",
              "      <td>754</td>\n",
              "    </tr>\n",
              "    <tr>\n",
              "      <th>7</th>\n",
              "      <td>2</td>\n",
              "      <td>Bacteroidetes</td>\n",
              "      <td>555</td>\n",
              "    </tr>\n",
              "  </tbody>\n",
              "</table>\n",
              "</div>"
            ],
            "text/plain": [
              "  patient          phylum value\n",
              "0       1      Firmicutes   632\n",
              "1       1  Proteobacteria  1638\n",
              "2       1  Actinobacteria   569\n",
              "3       1   Bacteroidetes   115\n",
              "4       2      Firmicutes   433\n",
              "5       2  Proteobacteria     0\n",
              "6       2  Actinobacteria   754\n",
              "7       2   Bacteroidetes   555"
            ]
          },
          "metadata": {
            "tags": []
          },
          "execution_count": 32
        }
      ]
    },
    {
      "cell_type": "code",
      "metadata": {
        "colab": {
          "base_uri": "https://localhost:8080/",
          "height": 294
        },
        "id": "L4C4Ir9xgZ_-",
        "outputId": "29fe337b-1278-4eac-ff3b-80e4e9ea5895"
      },
      "source": [
        "vals = data.value.copy()\r\n",
        "vals[5] = 1000\r\n",
        "data"
      ],
      "execution_count": null,
      "outputs": [
        {
          "output_type": "execute_result",
          "data": {
            "text/html": [
              "<div>\n",
              "<style scoped>\n",
              "    .dataframe tbody tr th:only-of-type {\n",
              "        vertical-align: middle;\n",
              "    }\n",
              "\n",
              "    .dataframe tbody tr th {\n",
              "        vertical-align: top;\n",
              "    }\n",
              "\n",
              "    .dataframe thead th {\n",
              "        text-align: right;\n",
              "    }\n",
              "</style>\n",
              "<table border=\"1\" class=\"dataframe\">\n",
              "  <thead>\n",
              "    <tr style=\"text-align: right;\">\n",
              "      <th></th>\n",
              "      <th>patient</th>\n",
              "      <th>phylum</th>\n",
              "      <th>value</th>\n",
              "    </tr>\n",
              "  </thead>\n",
              "  <tbody>\n",
              "    <tr>\n",
              "      <th>0</th>\n",
              "      <td>1</td>\n",
              "      <td>Firmicutes</td>\n",
              "      <td>632</td>\n",
              "    </tr>\n",
              "    <tr>\n",
              "      <th>1</th>\n",
              "      <td>1</td>\n",
              "      <td>Proteobacteria</td>\n",
              "      <td>1638</td>\n",
              "    </tr>\n",
              "    <tr>\n",
              "      <th>2</th>\n",
              "      <td>1</td>\n",
              "      <td>Actinobacteria</td>\n",
              "      <td>569</td>\n",
              "    </tr>\n",
              "    <tr>\n",
              "      <th>3</th>\n",
              "      <td>1</td>\n",
              "      <td>Bacteroidetes</td>\n",
              "      <td>115</td>\n",
              "    </tr>\n",
              "    <tr>\n",
              "      <th>4</th>\n",
              "      <td>2</td>\n",
              "      <td>Firmicutes</td>\n",
              "      <td>433</td>\n",
              "    </tr>\n",
              "    <tr>\n",
              "      <th>5</th>\n",
              "      <td>2</td>\n",
              "      <td>Proteobacteria</td>\n",
              "      <td>0</td>\n",
              "    </tr>\n",
              "    <tr>\n",
              "      <th>6</th>\n",
              "      <td>2</td>\n",
              "      <td>Actinobacteria</td>\n",
              "      <td>754</td>\n",
              "    </tr>\n",
              "    <tr>\n",
              "      <th>7</th>\n",
              "      <td>2</td>\n",
              "      <td>Bacteroidetes</td>\n",
              "      <td>555</td>\n",
              "    </tr>\n",
              "  </tbody>\n",
              "</table>\n",
              "</div>"
            ],
            "text/plain": [
              "  patient          phylum value\n",
              "0       1      Firmicutes   632\n",
              "1       1  Proteobacteria  1638\n",
              "2       1  Actinobacteria   569\n",
              "3       1   Bacteroidetes   115\n",
              "4       2      Firmicutes   433\n",
              "5       2  Proteobacteria     0\n",
              "6       2  Actinobacteria   754\n",
              "7       2   Bacteroidetes   555"
            ]
          },
          "metadata": {
            "tags": []
          },
          "execution_count": 33
        }
      ]
    },
    {
      "cell_type": "markdown",
      "metadata": {
        "id": "M1FDzoXzgoXP"
      },
      "source": [
        "We can see that when we copy the data then the value in the dataframe does not change."
      ]
    },
    {
      "cell_type": "markdown",
      "metadata": {
        "id": "lzyNt0Yug1Ni"
      },
      "source": [
        "We can create or modify columns by assignment as follows"
      ]
    },
    {
      "cell_type": "code",
      "metadata": {
        "colab": {
          "base_uri": "https://localhost:8080/",
          "height": 294
        },
        "id": "ODvCkt1WgeIZ",
        "outputId": "56bd3cd1-8703-4be4-ad06-a5478cc99828"
      },
      "source": [
        "data.value[3] = 14\r\n",
        "data"
      ],
      "execution_count": null,
      "outputs": [
        {
          "output_type": "execute_result",
          "data": {
            "text/html": [
              "<div>\n",
              "<style scoped>\n",
              "    .dataframe tbody tr th:only-of-type {\n",
              "        vertical-align: middle;\n",
              "    }\n",
              "\n",
              "    .dataframe tbody tr th {\n",
              "        vertical-align: top;\n",
              "    }\n",
              "\n",
              "    .dataframe thead th {\n",
              "        text-align: right;\n",
              "    }\n",
              "</style>\n",
              "<table border=\"1\" class=\"dataframe\">\n",
              "  <thead>\n",
              "    <tr style=\"text-align: right;\">\n",
              "      <th></th>\n",
              "      <th>patient</th>\n",
              "      <th>phylum</th>\n",
              "      <th>value</th>\n",
              "    </tr>\n",
              "  </thead>\n",
              "  <tbody>\n",
              "    <tr>\n",
              "      <th>0</th>\n",
              "      <td>1</td>\n",
              "      <td>Firmicutes</td>\n",
              "      <td>632</td>\n",
              "    </tr>\n",
              "    <tr>\n",
              "      <th>1</th>\n",
              "      <td>1</td>\n",
              "      <td>Proteobacteria</td>\n",
              "      <td>1638</td>\n",
              "    </tr>\n",
              "    <tr>\n",
              "      <th>2</th>\n",
              "      <td>1</td>\n",
              "      <td>Actinobacteria</td>\n",
              "      <td>569</td>\n",
              "    </tr>\n",
              "    <tr>\n",
              "      <th>3</th>\n",
              "      <td>1</td>\n",
              "      <td>Bacteroidetes</td>\n",
              "      <td>14</td>\n",
              "    </tr>\n",
              "    <tr>\n",
              "      <th>4</th>\n",
              "      <td>2</td>\n",
              "      <td>Firmicutes</td>\n",
              "      <td>433</td>\n",
              "    </tr>\n",
              "    <tr>\n",
              "      <th>5</th>\n",
              "      <td>2</td>\n",
              "      <td>Proteobacteria</td>\n",
              "      <td>0</td>\n",
              "    </tr>\n",
              "    <tr>\n",
              "      <th>6</th>\n",
              "      <td>2</td>\n",
              "      <td>Actinobacteria</td>\n",
              "      <td>754</td>\n",
              "    </tr>\n",
              "    <tr>\n",
              "      <th>7</th>\n",
              "      <td>2</td>\n",
              "      <td>Bacteroidetes</td>\n",
              "      <td>555</td>\n",
              "    </tr>\n",
              "  </tbody>\n",
              "</table>\n",
              "</div>"
            ],
            "text/plain": [
              "  patient          phylum value\n",
              "0       1      Firmicutes   632\n",
              "1       1  Proteobacteria  1638\n",
              "2       1  Actinobacteria   569\n",
              "3       1   Bacteroidetes    14\n",
              "4       2      Firmicutes   433\n",
              "5       2  Proteobacteria     0\n",
              "6       2  Actinobacteria   754\n",
              "7       2   Bacteroidetes   555"
            ]
          },
          "metadata": {
            "tags": []
          },
          "execution_count": 34
        }
      ]
    },
    {
      "cell_type": "code",
      "metadata": {
        "colab": {
          "base_uri": "https://localhost:8080/",
          "height": 294
        },
        "id": "u778lsGMg7XQ",
        "outputId": "37dbc80d-dcb4-4cc3-fb59-fce4509efec4"
      },
      "source": [
        "data['year'] = 2013\r\n",
        "data"
      ],
      "execution_count": null,
      "outputs": [
        {
          "output_type": "execute_result",
          "data": {
            "text/html": [
              "<div>\n",
              "<style scoped>\n",
              "    .dataframe tbody tr th:only-of-type {\n",
              "        vertical-align: middle;\n",
              "    }\n",
              "\n",
              "    .dataframe tbody tr th {\n",
              "        vertical-align: top;\n",
              "    }\n",
              "\n",
              "    .dataframe thead th {\n",
              "        text-align: right;\n",
              "    }\n",
              "</style>\n",
              "<table border=\"1\" class=\"dataframe\">\n",
              "  <thead>\n",
              "    <tr style=\"text-align: right;\">\n",
              "      <th></th>\n",
              "      <th>patient</th>\n",
              "      <th>phylum</th>\n",
              "      <th>value</th>\n",
              "      <th>year</th>\n",
              "    </tr>\n",
              "  </thead>\n",
              "  <tbody>\n",
              "    <tr>\n",
              "      <th>0</th>\n",
              "      <td>1</td>\n",
              "      <td>Firmicutes</td>\n",
              "      <td>632</td>\n",
              "      <td>2013</td>\n",
              "    </tr>\n",
              "    <tr>\n",
              "      <th>1</th>\n",
              "      <td>1</td>\n",
              "      <td>Proteobacteria</td>\n",
              "      <td>1638</td>\n",
              "      <td>2013</td>\n",
              "    </tr>\n",
              "    <tr>\n",
              "      <th>2</th>\n",
              "      <td>1</td>\n",
              "      <td>Actinobacteria</td>\n",
              "      <td>569</td>\n",
              "      <td>2013</td>\n",
              "    </tr>\n",
              "    <tr>\n",
              "      <th>3</th>\n",
              "      <td>1</td>\n",
              "      <td>Bacteroidetes</td>\n",
              "      <td>14</td>\n",
              "      <td>2013</td>\n",
              "    </tr>\n",
              "    <tr>\n",
              "      <th>4</th>\n",
              "      <td>2</td>\n",
              "      <td>Firmicutes</td>\n",
              "      <td>433</td>\n",
              "      <td>2013</td>\n",
              "    </tr>\n",
              "    <tr>\n",
              "      <th>5</th>\n",
              "      <td>2</td>\n",
              "      <td>Proteobacteria</td>\n",
              "      <td>0</td>\n",
              "      <td>2013</td>\n",
              "    </tr>\n",
              "    <tr>\n",
              "      <th>6</th>\n",
              "      <td>2</td>\n",
              "      <td>Actinobacteria</td>\n",
              "      <td>754</td>\n",
              "      <td>2013</td>\n",
              "    </tr>\n",
              "    <tr>\n",
              "      <th>7</th>\n",
              "      <td>2</td>\n",
              "      <td>Bacteroidetes</td>\n",
              "      <td>555</td>\n",
              "      <td>2013</td>\n",
              "    </tr>\n",
              "  </tbody>\n",
              "</table>\n",
              "</div>"
            ],
            "text/plain": [
              "  patient          phylum value  year\n",
              "0       1      Firmicutes   632  2013\n",
              "1       1  Proteobacteria  1638  2013\n",
              "2       1  Actinobacteria   569  2013\n",
              "3       1   Bacteroidetes    14  2013\n",
              "4       2      Firmicutes   433  2013\n",
              "5       2  Proteobacteria     0  2013\n",
              "6       2  Actinobacteria   754  2013\n",
              "7       2   Bacteroidetes   555  2013"
            ]
          },
          "metadata": {
            "tags": []
          },
          "execution_count": 35
        }
      ]
    },
    {
      "cell_type": "markdown",
      "metadata": {
        "id": "IYd12BXihGSc"
      },
      "source": [
        "__Note:__ We cannot use the attribute indexing method to add a new column to the dataframe."
      ]
    },
    {
      "cell_type": "code",
      "metadata": {
        "colab": {
          "base_uri": "https://localhost:8080/",
          "height": 294
        },
        "id": "h5yzEGf9g_Qj",
        "outputId": "1018476b-0b6c-4466-d77c-ab1097cda218"
      },
      "source": [
        "data.treatment = 1\r\n",
        "data"
      ],
      "execution_count": null,
      "outputs": [
        {
          "output_type": "execute_result",
          "data": {
            "text/html": [
              "<div>\n",
              "<style scoped>\n",
              "    .dataframe tbody tr th:only-of-type {\n",
              "        vertical-align: middle;\n",
              "    }\n",
              "\n",
              "    .dataframe tbody tr th {\n",
              "        vertical-align: top;\n",
              "    }\n",
              "\n",
              "    .dataframe thead th {\n",
              "        text-align: right;\n",
              "    }\n",
              "</style>\n",
              "<table border=\"1\" class=\"dataframe\">\n",
              "  <thead>\n",
              "    <tr style=\"text-align: right;\">\n",
              "      <th></th>\n",
              "      <th>patient</th>\n",
              "      <th>phylum</th>\n",
              "      <th>value</th>\n",
              "      <th>year</th>\n",
              "    </tr>\n",
              "  </thead>\n",
              "  <tbody>\n",
              "    <tr>\n",
              "      <th>0</th>\n",
              "      <td>1</td>\n",
              "      <td>Firmicutes</td>\n",
              "      <td>632</td>\n",
              "      <td>2013</td>\n",
              "    </tr>\n",
              "    <tr>\n",
              "      <th>1</th>\n",
              "      <td>1</td>\n",
              "      <td>Proteobacteria</td>\n",
              "      <td>1638</td>\n",
              "      <td>2013</td>\n",
              "    </tr>\n",
              "    <tr>\n",
              "      <th>2</th>\n",
              "      <td>1</td>\n",
              "      <td>Actinobacteria</td>\n",
              "      <td>569</td>\n",
              "      <td>2013</td>\n",
              "    </tr>\n",
              "    <tr>\n",
              "      <th>3</th>\n",
              "      <td>1</td>\n",
              "      <td>Bacteroidetes</td>\n",
              "      <td>14</td>\n",
              "      <td>2013</td>\n",
              "    </tr>\n",
              "    <tr>\n",
              "      <th>4</th>\n",
              "      <td>2</td>\n",
              "      <td>Firmicutes</td>\n",
              "      <td>433</td>\n",
              "      <td>2013</td>\n",
              "    </tr>\n",
              "    <tr>\n",
              "      <th>5</th>\n",
              "      <td>2</td>\n",
              "      <td>Proteobacteria</td>\n",
              "      <td>0</td>\n",
              "      <td>2013</td>\n",
              "    </tr>\n",
              "    <tr>\n",
              "      <th>6</th>\n",
              "      <td>2</td>\n",
              "      <td>Actinobacteria</td>\n",
              "      <td>754</td>\n",
              "      <td>2013</td>\n",
              "    </tr>\n",
              "    <tr>\n",
              "      <th>7</th>\n",
              "      <td>2</td>\n",
              "      <td>Bacteroidetes</td>\n",
              "      <td>555</td>\n",
              "      <td>2013</td>\n",
              "    </tr>\n",
              "  </tbody>\n",
              "</table>\n",
              "</div>"
            ],
            "text/plain": [
              "  patient          phylum value  year\n",
              "0       1      Firmicutes   632  2013\n",
              "1       1  Proteobacteria  1638  2013\n",
              "2       1  Actinobacteria   569  2013\n",
              "3       1   Bacteroidetes    14  2013\n",
              "4       2      Firmicutes   433  2013\n",
              "5       2  Proteobacteria     0  2013\n",
              "6       2  Actinobacteria   754  2013\n",
              "7       2   Bacteroidetes   555  2013"
            ]
          },
          "metadata": {
            "tags": []
          },
          "execution_count": 36
        }
      ]
    },
    {
      "cell_type": "code",
      "metadata": {
        "colab": {
          "base_uri": "https://localhost:8080/"
        },
        "id": "QDYursVEhQSI",
        "outputId": "f74271eb-78b8-4853-a36f-4679dde4357a"
      },
      "source": [
        "data.treatment"
      ],
      "execution_count": null,
      "outputs": [
        {
          "output_type": "execute_result",
          "data": {
            "text/plain": [
              "1"
            ]
          },
          "metadata": {
            "tags": []
          },
          "execution_count": 37
        }
      ]
    },
    {
      "cell_type": "markdown",
      "metadata": {
        "id": "2o9GZshRhSzV"
      },
      "source": [
        "Specifying a __series__ as a new columns cause its values to be added according to the __dataframe's__ index:"
      ]
    },
    {
      "cell_type": "code",
      "metadata": {
        "colab": {
          "base_uri": "https://localhost:8080/"
        },
        "id": "ydGnuFvShjsJ",
        "outputId": "4abf5758-5807-4542-83a2-d4f41fe61603"
      },
      "source": [
        "treatment = pd.Series([0]*4 + [1]*2)\r\n",
        "treatment"
      ],
      "execution_count": null,
      "outputs": [
        {
          "output_type": "execute_result",
          "data": {
            "text/plain": [
              "0    0\n",
              "1    0\n",
              "2    0\n",
              "3    0\n",
              "4    1\n",
              "5    1\n",
              "dtype: int64"
            ]
          },
          "metadata": {
            "tags": []
          },
          "execution_count": 38
        }
      ]
    },
    {
      "cell_type": "code",
      "metadata": {
        "colab": {
          "base_uri": "https://localhost:8080/",
          "height": 294
        },
        "id": "gqb4Vte0hmf8",
        "outputId": "0966a158-e4c1-409c-b634-6403dbb3e8de"
      },
      "source": [
        "data['treatment'] = treatment\r\n",
        "data"
      ],
      "execution_count": null,
      "outputs": [
        {
          "output_type": "execute_result",
          "data": {
            "text/html": [
              "<div>\n",
              "<style scoped>\n",
              "    .dataframe tbody tr th:only-of-type {\n",
              "        vertical-align: middle;\n",
              "    }\n",
              "\n",
              "    .dataframe tbody tr th {\n",
              "        vertical-align: top;\n",
              "    }\n",
              "\n",
              "    .dataframe thead th {\n",
              "        text-align: right;\n",
              "    }\n",
              "</style>\n",
              "<table border=\"1\" class=\"dataframe\">\n",
              "  <thead>\n",
              "    <tr style=\"text-align: right;\">\n",
              "      <th></th>\n",
              "      <th>patient</th>\n",
              "      <th>phylum</th>\n",
              "      <th>value</th>\n",
              "      <th>year</th>\n",
              "      <th>treatment</th>\n",
              "    </tr>\n",
              "  </thead>\n",
              "  <tbody>\n",
              "    <tr>\n",
              "      <th>0</th>\n",
              "      <td>1</td>\n",
              "      <td>Firmicutes</td>\n",
              "      <td>632</td>\n",
              "      <td>2013</td>\n",
              "      <td>0.0</td>\n",
              "    </tr>\n",
              "    <tr>\n",
              "      <th>1</th>\n",
              "      <td>1</td>\n",
              "      <td>Proteobacteria</td>\n",
              "      <td>1638</td>\n",
              "      <td>2013</td>\n",
              "      <td>0.0</td>\n",
              "    </tr>\n",
              "    <tr>\n",
              "      <th>2</th>\n",
              "      <td>1</td>\n",
              "      <td>Actinobacteria</td>\n",
              "      <td>569</td>\n",
              "      <td>2013</td>\n",
              "      <td>0.0</td>\n",
              "    </tr>\n",
              "    <tr>\n",
              "      <th>3</th>\n",
              "      <td>1</td>\n",
              "      <td>Bacteroidetes</td>\n",
              "      <td>14</td>\n",
              "      <td>2013</td>\n",
              "      <td>0.0</td>\n",
              "    </tr>\n",
              "    <tr>\n",
              "      <th>4</th>\n",
              "      <td>2</td>\n",
              "      <td>Firmicutes</td>\n",
              "      <td>433</td>\n",
              "      <td>2013</td>\n",
              "      <td>1.0</td>\n",
              "    </tr>\n",
              "    <tr>\n",
              "      <th>5</th>\n",
              "      <td>2</td>\n",
              "      <td>Proteobacteria</td>\n",
              "      <td>0</td>\n",
              "      <td>2013</td>\n",
              "      <td>1.0</td>\n",
              "    </tr>\n",
              "    <tr>\n",
              "      <th>6</th>\n",
              "      <td>2</td>\n",
              "      <td>Actinobacteria</td>\n",
              "      <td>754</td>\n",
              "      <td>2013</td>\n",
              "      <td>NaN</td>\n",
              "    </tr>\n",
              "    <tr>\n",
              "      <th>7</th>\n",
              "      <td>2</td>\n",
              "      <td>Bacteroidetes</td>\n",
              "      <td>555</td>\n",
              "      <td>2013</td>\n",
              "      <td>NaN</td>\n",
              "    </tr>\n",
              "  </tbody>\n",
              "</table>\n",
              "</div>"
            ],
            "text/plain": [
              "  patient          phylum value  year  treatment\n",
              "0       1      Firmicutes   632  2013        0.0\n",
              "1       1  Proteobacteria  1638  2013        0.0\n",
              "2       1  Actinobacteria   569  2013        0.0\n",
              "3       1   Bacteroidetes    14  2013        0.0\n",
              "4       2      Firmicutes   433  2013        1.0\n",
              "5       2  Proteobacteria     0  2013        1.0\n",
              "6       2  Actinobacteria   754  2013        NaN\n",
              "7       2   Bacteroidetes   555  2013        NaN"
            ]
          },
          "metadata": {
            "tags": []
          },
          "execution_count": 39
        }
      ]
    },
    {
      "cell_type": "markdown",
      "metadata": {
        "id": "UAFEs-tjhs8N"
      },
      "source": [
        "Other Python data structures (ones without an index) need to be the same length as the dataframe"
      ]
    },
    {
      "cell_type": "code",
      "metadata": {
        "colab": {
          "base_uri": "https://localhost:8080/",
          "height": 329
        },
        "id": "-L7UPRRdiAWT",
        "outputId": "be0fcaca-59bb-4316-98c7-8202aa6c25f6"
      },
      "source": [
        "month = ['Jan', 'Feb', 'Mar', 'Apr']\r\n",
        "data['month'] = month"
      ],
      "execution_count": null,
      "outputs": [
        {
          "output_type": "error",
          "ename": "ValueError",
          "evalue": "ignored",
          "traceback": [
            "\u001b[0;31m---------------------------------------------------------------------------\u001b[0m",
            "\u001b[0;31mValueError\u001b[0m                                Traceback (most recent call last)",
            "\u001b[0;32m<ipython-input-40-1fbc7bd65338>\u001b[0m in \u001b[0;36m<module>\u001b[0;34m()\u001b[0m\n\u001b[1;32m      1\u001b[0m \u001b[0mmonth\u001b[0m \u001b[0;34m=\u001b[0m \u001b[0;34m[\u001b[0m\u001b[0;34m'Jan'\u001b[0m\u001b[0;34m,\u001b[0m \u001b[0;34m'Feb'\u001b[0m\u001b[0;34m,\u001b[0m \u001b[0;34m'Mar'\u001b[0m\u001b[0;34m,\u001b[0m \u001b[0;34m'Apr'\u001b[0m\u001b[0;34m]\u001b[0m\u001b[0;34m\u001b[0m\u001b[0;34m\u001b[0m\u001b[0m\n\u001b[0;32m----> 2\u001b[0;31m \u001b[0mdata\u001b[0m\u001b[0;34m[\u001b[0m\u001b[0;34m'month'\u001b[0m\u001b[0;34m]\u001b[0m \u001b[0;34m=\u001b[0m \u001b[0mmonth\u001b[0m\u001b[0;34m\u001b[0m\u001b[0;34m\u001b[0m\u001b[0m\n\u001b[0m",
            "\u001b[0;32m/usr/local/lib/python3.6/dist-packages/pandas/core/frame.py\u001b[0m in \u001b[0;36m__setitem__\u001b[0;34m(self, key, value)\u001b[0m\n\u001b[1;32m   3042\u001b[0m         \u001b[0;32melse\u001b[0m\u001b[0;34m:\u001b[0m\u001b[0;34m\u001b[0m\u001b[0;34m\u001b[0m\u001b[0m\n\u001b[1;32m   3043\u001b[0m             \u001b[0;31m# set column\u001b[0m\u001b[0;34m\u001b[0m\u001b[0;34m\u001b[0m\u001b[0;34m\u001b[0m\u001b[0m\n\u001b[0;32m-> 3044\u001b[0;31m             \u001b[0mself\u001b[0m\u001b[0;34m.\u001b[0m\u001b[0m_set_item\u001b[0m\u001b[0;34m(\u001b[0m\u001b[0mkey\u001b[0m\u001b[0;34m,\u001b[0m \u001b[0mvalue\u001b[0m\u001b[0;34m)\u001b[0m\u001b[0;34m\u001b[0m\u001b[0;34m\u001b[0m\u001b[0m\n\u001b[0m\u001b[1;32m   3045\u001b[0m \u001b[0;34m\u001b[0m\u001b[0m\n\u001b[1;32m   3046\u001b[0m     \u001b[0;32mdef\u001b[0m \u001b[0m_setitem_slice\u001b[0m\u001b[0;34m(\u001b[0m\u001b[0mself\u001b[0m\u001b[0;34m,\u001b[0m \u001b[0mkey\u001b[0m\u001b[0;34m:\u001b[0m \u001b[0mslice\u001b[0m\u001b[0;34m,\u001b[0m \u001b[0mvalue\u001b[0m\u001b[0;34m)\u001b[0m\u001b[0;34m:\u001b[0m\u001b[0;34m\u001b[0m\u001b[0;34m\u001b[0m\u001b[0m\n",
            "\u001b[0;32m/usr/local/lib/python3.6/dist-packages/pandas/core/frame.py\u001b[0m in \u001b[0;36m_set_item\u001b[0;34m(self, key, value)\u001b[0m\n\u001b[1;32m   3118\u001b[0m         \"\"\"\n\u001b[1;32m   3119\u001b[0m         \u001b[0mself\u001b[0m\u001b[0;34m.\u001b[0m\u001b[0m_ensure_valid_index\u001b[0m\u001b[0;34m(\u001b[0m\u001b[0mvalue\u001b[0m\u001b[0;34m)\u001b[0m\u001b[0;34m\u001b[0m\u001b[0;34m\u001b[0m\u001b[0m\n\u001b[0;32m-> 3120\u001b[0;31m         \u001b[0mvalue\u001b[0m \u001b[0;34m=\u001b[0m \u001b[0mself\u001b[0m\u001b[0;34m.\u001b[0m\u001b[0m_sanitize_column\u001b[0m\u001b[0;34m(\u001b[0m\u001b[0mkey\u001b[0m\u001b[0;34m,\u001b[0m \u001b[0mvalue\u001b[0m\u001b[0;34m)\u001b[0m\u001b[0;34m\u001b[0m\u001b[0;34m\u001b[0m\u001b[0m\n\u001b[0m\u001b[1;32m   3121\u001b[0m         \u001b[0mNDFrame\u001b[0m\u001b[0;34m.\u001b[0m\u001b[0m_set_item\u001b[0m\u001b[0;34m(\u001b[0m\u001b[0mself\u001b[0m\u001b[0;34m,\u001b[0m \u001b[0mkey\u001b[0m\u001b[0;34m,\u001b[0m \u001b[0mvalue\u001b[0m\u001b[0;34m)\u001b[0m\u001b[0;34m\u001b[0m\u001b[0;34m\u001b[0m\u001b[0m\n\u001b[1;32m   3122\u001b[0m \u001b[0;34m\u001b[0m\u001b[0m\n",
            "\u001b[0;32m/usr/local/lib/python3.6/dist-packages/pandas/core/frame.py\u001b[0m in \u001b[0;36m_sanitize_column\u001b[0;34m(self, key, value, broadcast)\u001b[0m\n\u001b[1;32m   3766\u001b[0m \u001b[0;34m\u001b[0m\u001b[0m\n\u001b[1;32m   3767\u001b[0m             \u001b[0;31m# turn me into an ndarray\u001b[0m\u001b[0;34m\u001b[0m\u001b[0;34m\u001b[0m\u001b[0;34m\u001b[0m\u001b[0m\n\u001b[0;32m-> 3768\u001b[0;31m             \u001b[0mvalue\u001b[0m \u001b[0;34m=\u001b[0m \u001b[0msanitize_index\u001b[0m\u001b[0;34m(\u001b[0m\u001b[0mvalue\u001b[0m\u001b[0;34m,\u001b[0m \u001b[0mself\u001b[0m\u001b[0;34m.\u001b[0m\u001b[0mindex\u001b[0m\u001b[0;34m)\u001b[0m\u001b[0;34m\u001b[0m\u001b[0;34m\u001b[0m\u001b[0m\n\u001b[0m\u001b[1;32m   3769\u001b[0m             \u001b[0;32mif\u001b[0m \u001b[0;32mnot\u001b[0m \u001b[0misinstance\u001b[0m\u001b[0;34m(\u001b[0m\u001b[0mvalue\u001b[0m\u001b[0;34m,\u001b[0m \u001b[0;34m(\u001b[0m\u001b[0mnp\u001b[0m\u001b[0;34m.\u001b[0m\u001b[0mndarray\u001b[0m\u001b[0;34m,\u001b[0m \u001b[0mIndex\u001b[0m\u001b[0;34m)\u001b[0m\u001b[0;34m)\u001b[0m\u001b[0;34m:\u001b[0m\u001b[0;34m\u001b[0m\u001b[0;34m\u001b[0m\u001b[0m\n\u001b[1;32m   3770\u001b[0m                 \u001b[0;32mif\u001b[0m \u001b[0misinstance\u001b[0m\u001b[0;34m(\u001b[0m\u001b[0mvalue\u001b[0m\u001b[0;34m,\u001b[0m \u001b[0mlist\u001b[0m\u001b[0;34m)\u001b[0m \u001b[0;32mand\u001b[0m \u001b[0mlen\u001b[0m\u001b[0;34m(\u001b[0m\u001b[0mvalue\u001b[0m\u001b[0;34m)\u001b[0m \u001b[0;34m>\u001b[0m \u001b[0;36m0\u001b[0m\u001b[0;34m:\u001b[0m\u001b[0;34m\u001b[0m\u001b[0;34m\u001b[0m\u001b[0m\n",
            "\u001b[0;32m/usr/local/lib/python3.6/dist-packages/pandas/core/internals/construction.py\u001b[0m in \u001b[0;36msanitize_index\u001b[0;34m(data, index)\u001b[0m\n\u001b[1;32m    746\u001b[0m     \u001b[0;32mif\u001b[0m \u001b[0mlen\u001b[0m\u001b[0;34m(\u001b[0m\u001b[0mdata\u001b[0m\u001b[0;34m)\u001b[0m \u001b[0;34m!=\u001b[0m \u001b[0mlen\u001b[0m\u001b[0;34m(\u001b[0m\u001b[0mindex\u001b[0m\u001b[0;34m)\u001b[0m\u001b[0;34m:\u001b[0m\u001b[0;34m\u001b[0m\u001b[0;34m\u001b[0m\u001b[0m\n\u001b[1;32m    747\u001b[0m         raise ValueError(\n\u001b[0;32m--> 748\u001b[0;31m             \u001b[0;34m\"Length of values \"\u001b[0m\u001b[0;34m\u001b[0m\u001b[0;34m\u001b[0m\u001b[0m\n\u001b[0m\u001b[1;32m    749\u001b[0m             \u001b[0;34mf\"({len(data)}) \"\u001b[0m\u001b[0;34m\u001b[0m\u001b[0;34m\u001b[0m\u001b[0m\n\u001b[1;32m    750\u001b[0m             \u001b[0;34m\"does not match length of index \"\u001b[0m\u001b[0;34m\u001b[0m\u001b[0;34m\u001b[0m\u001b[0m\n",
            "\u001b[0;31mValueError\u001b[0m: Length of values (4) does not match length of index (8)"
          ]
        }
      ]
    },
    {
      "cell_type": "markdown",
      "metadata": {
        "id": "UZvzTfgsiTyb"
      },
      "source": [
        "As we can see here it pitches out the error as `Length of values (4) does not match length of index (8)` since there are just 4 months in the list and 8 rows in the dataframe and $4 \\not = 8$."
      ]
    },
    {
      "cell_type": "code",
      "metadata": {
        "colab": {
          "base_uri": "https://localhost:8080/",
          "height": 294
        },
        "id": "kXrJXmcHiDE_",
        "outputId": "31c1e277-1f81-4504-ead6-ee0d3df866c5"
      },
      "source": [
        "data['month'] = ['Jan']*len(data)\r\n",
        "data"
      ],
      "execution_count": null,
      "outputs": [
        {
          "output_type": "execute_result",
          "data": {
            "text/html": [
              "<div>\n",
              "<style scoped>\n",
              "    .dataframe tbody tr th:only-of-type {\n",
              "        vertical-align: middle;\n",
              "    }\n",
              "\n",
              "    .dataframe tbody tr th {\n",
              "        vertical-align: top;\n",
              "    }\n",
              "\n",
              "    .dataframe thead th {\n",
              "        text-align: right;\n",
              "    }\n",
              "</style>\n",
              "<table border=\"1\" class=\"dataframe\">\n",
              "  <thead>\n",
              "    <tr style=\"text-align: right;\">\n",
              "      <th></th>\n",
              "      <th>patient</th>\n",
              "      <th>phylum</th>\n",
              "      <th>value</th>\n",
              "      <th>year</th>\n",
              "      <th>treatment</th>\n",
              "      <th>month</th>\n",
              "    </tr>\n",
              "  </thead>\n",
              "  <tbody>\n",
              "    <tr>\n",
              "      <th>0</th>\n",
              "      <td>1</td>\n",
              "      <td>Firmicutes</td>\n",
              "      <td>632</td>\n",
              "      <td>2013</td>\n",
              "      <td>0.0</td>\n",
              "      <td>Jan</td>\n",
              "    </tr>\n",
              "    <tr>\n",
              "      <th>1</th>\n",
              "      <td>1</td>\n",
              "      <td>Proteobacteria</td>\n",
              "      <td>1638</td>\n",
              "      <td>2013</td>\n",
              "      <td>0.0</td>\n",
              "      <td>Jan</td>\n",
              "    </tr>\n",
              "    <tr>\n",
              "      <th>2</th>\n",
              "      <td>1</td>\n",
              "      <td>Actinobacteria</td>\n",
              "      <td>569</td>\n",
              "      <td>2013</td>\n",
              "      <td>0.0</td>\n",
              "      <td>Jan</td>\n",
              "    </tr>\n",
              "    <tr>\n",
              "      <th>3</th>\n",
              "      <td>1</td>\n",
              "      <td>Bacteroidetes</td>\n",
              "      <td>14</td>\n",
              "      <td>2013</td>\n",
              "      <td>0.0</td>\n",
              "      <td>Jan</td>\n",
              "    </tr>\n",
              "    <tr>\n",
              "      <th>4</th>\n",
              "      <td>2</td>\n",
              "      <td>Firmicutes</td>\n",
              "      <td>433</td>\n",
              "      <td>2013</td>\n",
              "      <td>1.0</td>\n",
              "      <td>Jan</td>\n",
              "    </tr>\n",
              "    <tr>\n",
              "      <th>5</th>\n",
              "      <td>2</td>\n",
              "      <td>Proteobacteria</td>\n",
              "      <td>0</td>\n",
              "      <td>2013</td>\n",
              "      <td>1.0</td>\n",
              "      <td>Jan</td>\n",
              "    </tr>\n",
              "    <tr>\n",
              "      <th>6</th>\n",
              "      <td>2</td>\n",
              "      <td>Actinobacteria</td>\n",
              "      <td>754</td>\n",
              "      <td>2013</td>\n",
              "      <td>NaN</td>\n",
              "      <td>Jan</td>\n",
              "    </tr>\n",
              "    <tr>\n",
              "      <th>7</th>\n",
              "      <td>2</td>\n",
              "      <td>Bacteroidetes</td>\n",
              "      <td>555</td>\n",
              "      <td>2013</td>\n",
              "      <td>NaN</td>\n",
              "      <td>Jan</td>\n",
              "    </tr>\n",
              "  </tbody>\n",
              "</table>\n",
              "</div>"
            ],
            "text/plain": [
              "  patient          phylum value  year  treatment month\n",
              "0       1      Firmicutes   632  2013        0.0   Jan\n",
              "1       1  Proteobacteria  1638  2013        0.0   Jan\n",
              "2       1  Actinobacteria   569  2013        0.0   Jan\n",
              "3       1   Bacteroidetes    14  2013        0.0   Jan\n",
              "4       2      Firmicutes   433  2013        1.0   Jan\n",
              "5       2  Proteobacteria     0  2013        1.0   Jan\n",
              "6       2  Actinobacteria   754  2013        NaN   Jan\n",
              "7       2   Bacteroidetes   555  2013        NaN   Jan"
            ]
          },
          "metadata": {
            "tags": []
          },
          "execution_count": 41
        }
      ]
    },
    {
      "cell_type": "markdown",
      "metadata": {
        "id": "y5jF7X-1ih-W"
      },
      "source": [
        "We can use `del` to remove columns, in the same way dictionary entries can be removed."
      ]
    },
    {
      "cell_type": "code",
      "metadata": {
        "colab": {
          "base_uri": "https://localhost:8080/",
          "height": 294
        },
        "id": "Ytc8AK15ireu",
        "outputId": "850ca6a8-f634-4702-a0b1-60f7a99e4b15"
      },
      "source": [
        "del data['month']\r\n",
        "data"
      ],
      "execution_count": null,
      "outputs": [
        {
          "output_type": "execute_result",
          "data": {
            "text/html": [
              "<div>\n",
              "<style scoped>\n",
              "    .dataframe tbody tr th:only-of-type {\n",
              "        vertical-align: middle;\n",
              "    }\n",
              "\n",
              "    .dataframe tbody tr th {\n",
              "        vertical-align: top;\n",
              "    }\n",
              "\n",
              "    .dataframe thead th {\n",
              "        text-align: right;\n",
              "    }\n",
              "</style>\n",
              "<table border=\"1\" class=\"dataframe\">\n",
              "  <thead>\n",
              "    <tr style=\"text-align: right;\">\n",
              "      <th></th>\n",
              "      <th>patient</th>\n",
              "      <th>phylum</th>\n",
              "      <th>value</th>\n",
              "      <th>year</th>\n",
              "      <th>treatment</th>\n",
              "    </tr>\n",
              "  </thead>\n",
              "  <tbody>\n",
              "    <tr>\n",
              "      <th>0</th>\n",
              "      <td>1</td>\n",
              "      <td>Firmicutes</td>\n",
              "      <td>632</td>\n",
              "      <td>2013</td>\n",
              "      <td>0.0</td>\n",
              "    </tr>\n",
              "    <tr>\n",
              "      <th>1</th>\n",
              "      <td>1</td>\n",
              "      <td>Proteobacteria</td>\n",
              "      <td>1638</td>\n",
              "      <td>2013</td>\n",
              "      <td>0.0</td>\n",
              "    </tr>\n",
              "    <tr>\n",
              "      <th>2</th>\n",
              "      <td>1</td>\n",
              "      <td>Actinobacteria</td>\n",
              "      <td>569</td>\n",
              "      <td>2013</td>\n",
              "      <td>0.0</td>\n",
              "    </tr>\n",
              "    <tr>\n",
              "      <th>3</th>\n",
              "      <td>1</td>\n",
              "      <td>Bacteroidetes</td>\n",
              "      <td>14</td>\n",
              "      <td>2013</td>\n",
              "      <td>0.0</td>\n",
              "    </tr>\n",
              "    <tr>\n",
              "      <th>4</th>\n",
              "      <td>2</td>\n",
              "      <td>Firmicutes</td>\n",
              "      <td>433</td>\n",
              "      <td>2013</td>\n",
              "      <td>1.0</td>\n",
              "    </tr>\n",
              "    <tr>\n",
              "      <th>5</th>\n",
              "      <td>2</td>\n",
              "      <td>Proteobacteria</td>\n",
              "      <td>0</td>\n",
              "      <td>2013</td>\n",
              "      <td>1.0</td>\n",
              "    </tr>\n",
              "    <tr>\n",
              "      <th>6</th>\n",
              "      <td>2</td>\n",
              "      <td>Actinobacteria</td>\n",
              "      <td>754</td>\n",
              "      <td>2013</td>\n",
              "      <td>NaN</td>\n",
              "    </tr>\n",
              "    <tr>\n",
              "      <th>7</th>\n",
              "      <td>2</td>\n",
              "      <td>Bacteroidetes</td>\n",
              "      <td>555</td>\n",
              "      <td>2013</td>\n",
              "      <td>NaN</td>\n",
              "    </tr>\n",
              "  </tbody>\n",
              "</table>\n",
              "</div>"
            ],
            "text/plain": [
              "  patient          phylum value  year  treatment\n",
              "0       1      Firmicutes   632  2013        0.0\n",
              "1       1  Proteobacteria  1638  2013        0.0\n",
              "2       1  Actinobacteria   569  2013        0.0\n",
              "3       1   Bacteroidetes    14  2013        0.0\n",
              "4       2      Firmicutes   433  2013        1.0\n",
              "5       2  Proteobacteria     0  2013        1.0\n",
              "6       2  Actinobacteria   754  2013        NaN\n",
              "7       2   Bacteroidetes   555  2013        NaN"
            ]
          },
          "metadata": {
            "tags": []
          },
          "execution_count": 42
        }
      ]
    },
    {
      "cell_type": "markdown",
      "metadata": {
        "id": "OohweHYxkIvS"
      },
      "source": [
        "We can extract the underlying data as a simple ndarray (__n__-__d__imensional __array__) by accessing the `values` attribute"
      ]
    },
    {
      "cell_type": "code",
      "metadata": {
        "colab": {
          "base_uri": "https://localhost:8080/"
        },
        "id": "orASjoz3itrL",
        "outputId": "4bf7b69f-210f-4169-d6c5-269f1a36bd54"
      },
      "source": [
        "data.values"
      ],
      "execution_count": null,
      "outputs": [
        {
          "output_type": "execute_result",
          "data": {
            "text/plain": [
              "array([[1, 'Firmicutes', 632, 2013, 0.0],\n",
              "       [1, 'Proteobacteria', 1638, 2013, 0.0],\n",
              "       [1, 'Actinobacteria', 569, 2013, 0.0],\n",
              "       [1, 'Bacteroidetes', 14, 2013, 0.0],\n",
              "       [2, 'Firmicutes', 433, 2013, 1.0],\n",
              "       [2, 'Proteobacteria', 0, 2013, 1.0],\n",
              "       [2, 'Actinobacteria', 754, 2013, nan],\n",
              "       [2, 'Bacteroidetes', 555, 2013, nan]], dtype=object)"
            ]
          },
          "metadata": {
            "tags": []
          },
          "execution_count": 43
        }
      ]
    },
    {
      "cell_type": "markdown",
      "metadata": {
        "id": "-LgSwlt6mKUU"
      },
      "source": [
        "__Note:__ Because of the mix of string and integer (and `NaN`) values, the dtype of the array is `object`. The dtype will automatically be chosen to be as general as needed to accomodate all the columns"
      ]
    },
    {
      "cell_type": "code",
      "metadata": {
        "colab": {
          "base_uri": "https://localhost:8080/"
        },
        "id": "PDOA3OlxkMnt",
        "outputId": "9268396b-a4ec-43fd-9e9b-8abb0b6dbfd1"
      },
      "source": [
        "df = pd.DataFrame({'foo': [1,2,3], 'bar':[0.4, -1.0, 4.5]})\r\n",
        "df.values"
      ],
      "execution_count": null,
      "outputs": [
        {
          "output_type": "execute_result",
          "data": {
            "text/plain": [
              "array([[ 1. ,  0.4],\n",
              "       [ 2. , -1. ],\n",
              "       [ 3. ,  4.5]])"
            ]
          },
          "metadata": {
            "tags": []
          },
          "execution_count": 44
        }
      ]
    },
    {
      "cell_type": "markdown",
      "metadata": {
        "id": "drH2uuaLmYeu"
      },
      "source": [
        "Pandas uses a custom data structure to represent the indices of Series and DataFrames."
      ]
    },
    {
      "cell_type": "code",
      "metadata": {
        "colab": {
          "base_uri": "https://localhost:8080/"
        },
        "id": "3YTpvFRHqAdG",
        "outputId": "405c9499-8bb3-44c5-950a-8135d2fad01b"
      },
      "source": [
        "data.index"
      ],
      "execution_count": null,
      "outputs": [
        {
          "output_type": "execute_result",
          "data": {
            "text/plain": [
              "Int64Index([0, 1, 2, 3, 4, 5, 6, 7], dtype='int64')"
            ]
          },
          "metadata": {
            "tags": []
          },
          "execution_count": 45
        }
      ]
    },
    {
      "cell_type": "markdown",
      "metadata": {
        "id": "UPiAC3SgqHDZ"
      },
      "source": [
        "Index objects are __immutable__"
      ]
    },
    {
      "cell_type": "code",
      "metadata": {
        "colab": {
          "base_uri": "https://localhost:8080/",
          "height": 287
        },
        "id": "cP8nocaMqDlY",
        "outputId": "3e90a6da-4245-40f7-d38d-ba3b892766be"
      },
      "source": [
        "data.index[0] = 15"
      ],
      "execution_count": null,
      "outputs": [
        {
          "output_type": "error",
          "ename": "TypeError",
          "evalue": "ignored",
          "traceback": [
            "\u001b[0;31m---------------------------------------------------------------------------\u001b[0m",
            "\u001b[0;31mTypeError\u001b[0m                                 Traceback (most recent call last)",
            "\u001b[0;32m<ipython-input-46-90b10fa0e9b5>\u001b[0m in \u001b[0;36m<module>\u001b[0;34m()\u001b[0m\n\u001b[0;32m----> 1\u001b[0;31m \u001b[0mdata\u001b[0m\u001b[0;34m.\u001b[0m\u001b[0mindex\u001b[0m\u001b[0;34m[\u001b[0m\u001b[0;36m0\u001b[0m\u001b[0;34m]\u001b[0m \u001b[0;34m=\u001b[0m \u001b[0;36m15\u001b[0m\u001b[0;34m\u001b[0m\u001b[0;34m\u001b[0m\u001b[0m\n\u001b[0m",
            "\u001b[0;32m/usr/local/lib/python3.6/dist-packages/pandas/core/indexes/base.py\u001b[0m in \u001b[0;36m__setitem__\u001b[0;34m(self, key, value)\u001b[0m\n\u001b[1;32m   4082\u001b[0m \u001b[0;34m\u001b[0m\u001b[0m\n\u001b[1;32m   4083\u001b[0m     \u001b[0;32mdef\u001b[0m \u001b[0m__setitem__\u001b[0m\u001b[0;34m(\u001b[0m\u001b[0mself\u001b[0m\u001b[0;34m,\u001b[0m \u001b[0mkey\u001b[0m\u001b[0;34m,\u001b[0m \u001b[0mvalue\u001b[0m\u001b[0;34m)\u001b[0m\u001b[0;34m:\u001b[0m\u001b[0;34m\u001b[0m\u001b[0;34m\u001b[0m\u001b[0m\n\u001b[0;32m-> 4084\u001b[0;31m         \u001b[0;32mraise\u001b[0m \u001b[0mTypeError\u001b[0m\u001b[0;34m(\u001b[0m\u001b[0;34m\"Index does not support mutable operations\"\u001b[0m\u001b[0;34m)\u001b[0m\u001b[0;34m\u001b[0m\u001b[0;34m\u001b[0m\u001b[0m\n\u001b[0m\u001b[1;32m   4085\u001b[0m \u001b[0;34m\u001b[0m\u001b[0m\n\u001b[1;32m   4086\u001b[0m     \u001b[0;32mdef\u001b[0m \u001b[0m__getitem__\u001b[0m\u001b[0;34m(\u001b[0m\u001b[0mself\u001b[0m\u001b[0;34m,\u001b[0m \u001b[0mkey\u001b[0m\u001b[0;34m)\u001b[0m\u001b[0;34m:\u001b[0m\u001b[0;34m\u001b[0m\u001b[0;34m\u001b[0m\u001b[0m\n",
            "\u001b[0;31mTypeError\u001b[0m: Index does not support mutable operations"
          ]
        }
      ]
    },
    {
      "cell_type": "markdown",
      "metadata": {
        "id": "Ouut2n_WqPDp"
      },
      "source": [
        "__Note:__ We can see that the while assigning some value to the index an error is given saying `\"Index does not support mutable operations\"` because we cannot modify the `Index` objects."
      ]
    },
    {
      "cell_type": "markdown",
      "metadata": {
        "id": "RU01DxxRqOxc"
      },
      "source": [
        "This is so that Index objects can be shared between data structures without fear that they will be changed."
      ]
    },
    {
      "cell_type": "code",
      "metadata": {
        "id": "K554UDrrqMf6"
      },
      "source": [
        "bacteria2.index = bacteria.index"
      ],
      "execution_count": null,
      "outputs": []
    },
    {
      "cell_type": "code",
      "metadata": {
        "colab": {
          "base_uri": "https://localhost:8080/"
        },
        "id": "tnYV8Bxtqu3l",
        "outputId": "6e3eee17-e4f4-4f5b-e08a-1a6d7c0f3d36"
      },
      "source": [
        "bacteria2"
      ],
      "execution_count": null,
      "outputs": [
        {
          "output_type": "execute_result",
          "data": {
            "text/plain": [
              "phylum\n",
              "Firmicutes           NaN\n",
              "Proteobacteria     632.0\n",
              "Actinobacteria    1638.0\n",
              "Bacteroidetes      569.0\n",
              "dtype: float64"
            ]
          },
          "metadata": {
            "tags": []
          },
          "execution_count": 48
        }
      ]
    },
    {
      "cell_type": "markdown",
      "metadata": {
        "id": "Nd0ZUxa2qwx3"
      },
      "source": [
        "# Importing Data\r\n",
        "Importing data to analyse is aslo a part of our daily life. It is easy to load basic data structures into Python using built-in tools or those provided by packages like NumPy, it is non-trivial to import structured data well, and to easily convert this input into a robust data structure:\r\n",
        "\r\n",
        "    genes = np.loadtxt(\"genes.csv\", delimiter=\",\", dtype=[('gene', '|S10'), ('value', '<f4')])\r\n",
        "\r\n",
        "Pandas provides a convenient set of functions for importing tabular data in a number of formats directly into a __DataFrame__ object. These functions include a slew of options to perform type inference, indexing, parsing, iterating and cleaning automatically as data are imported."
      ]
    },
    {
      "cell_type": "markdown",
      "metadata": {
        "id": "D1HT4BlYf82M"
      },
      "source": [
        "## CSV \r\n",
        "Let's start with some more bacteria data, stored in csv format."
      ]
    },
    {
      "cell_type": "code",
      "metadata": {
        "id": "Cj41XLLwq2eT",
        "colab": {
          "base_uri": "https://localhost:8080/"
        },
        "outputId": "da902e72-f121-485a-fad2-531c6fc4d331"
      },
      "source": [
        "!cat data/microbiome.csv"
      ],
      "execution_count": null,
      "outputs": [
        {
          "output_type": "stream",
          "text": [
            "cat: data/microbiome.csv: No such file or directory\n"
          ],
          "name": "stdout"
        }
      ]
    },
    {
      "cell_type": "markdown",
      "metadata": {
        "id": "ZaG9-8u8hR1a"
      },
      "source": [
        "This table can be read into a dataframe using `read_csv`"
      ]
    },
    {
      "cell_type": "code",
      "metadata": {
        "id": "ltv2dqUzgAJb",
        "colab": {
          "base_uri": "https://localhost:8080/",
          "height": 415
        },
        "outputId": "fb69d0c4-373d-4e2c-b0ad-a57d6f369d17"
      },
      "source": [
        "mb = pd.read_csv(\"data/microbiome.csv\")\r\n",
        "mb"
      ],
      "execution_count": null,
      "outputs": [
        {
          "output_type": "execute_result",
          "data": {
            "text/html": [
              "<div>\n",
              "<style scoped>\n",
              "    .dataframe tbody tr th:only-of-type {\n",
              "        vertical-align: middle;\n",
              "    }\n",
              "\n",
              "    .dataframe tbody tr th {\n",
              "        vertical-align: top;\n",
              "    }\n",
              "\n",
              "    .dataframe thead th {\n",
              "        text-align: right;\n",
              "    }\n",
              "</style>\n",
              "<table border=\"1\" class=\"dataframe\">\n",
              "  <thead>\n",
              "    <tr style=\"text-align: right;\">\n",
              "      <th></th>\n",
              "      <th>Taxon</th>\n",
              "      <th>Patient</th>\n",
              "      <th>Tissue</th>\n",
              "      <th>Stool</th>\n",
              "    </tr>\n",
              "  </thead>\n",
              "  <tbody>\n",
              "    <tr>\n",
              "      <th>0</th>\n",
              "      <td>Firmicutes</td>\n",
              "      <td>1</td>\n",
              "      <td>632</td>\n",
              "      <td>305</td>\n",
              "    </tr>\n",
              "    <tr>\n",
              "      <th>1</th>\n",
              "      <td>Firmicutes</td>\n",
              "      <td>2</td>\n",
              "      <td>136</td>\n",
              "      <td>4182</td>\n",
              "    </tr>\n",
              "    <tr>\n",
              "      <th>2</th>\n",
              "      <td>Firmicutes</td>\n",
              "      <td>3</td>\n",
              "      <td>1174</td>\n",
              "      <td>703</td>\n",
              "    </tr>\n",
              "    <tr>\n",
              "      <th>3</th>\n",
              "      <td>Firmicutes</td>\n",
              "      <td>4</td>\n",
              "      <td>408</td>\n",
              "      <td>3946</td>\n",
              "    </tr>\n",
              "    <tr>\n",
              "      <th>4</th>\n",
              "      <td>Firmicutes</td>\n",
              "      <td>5</td>\n",
              "      <td>831</td>\n",
              "      <td>8605</td>\n",
              "    </tr>\n",
              "    <tr>\n",
              "      <th>...</th>\n",
              "      <td>...</td>\n",
              "      <td>...</td>\n",
              "      <td>...</td>\n",
              "      <td>...</td>\n",
              "    </tr>\n",
              "    <tr>\n",
              "      <th>70</th>\n",
              "      <td>Other</td>\n",
              "      <td>11</td>\n",
              "      <td>203</td>\n",
              "      <td>6</td>\n",
              "    </tr>\n",
              "    <tr>\n",
              "      <th>71</th>\n",
              "      <td>Other</td>\n",
              "      <td>12</td>\n",
              "      <td>392</td>\n",
              "      <td>6</td>\n",
              "    </tr>\n",
              "    <tr>\n",
              "      <th>72</th>\n",
              "      <td>Other</td>\n",
              "      <td>13</td>\n",
              "      <td>28</td>\n",
              "      <td>25</td>\n",
              "    </tr>\n",
              "    <tr>\n",
              "      <th>73</th>\n",
              "      <td>Other</td>\n",
              "      <td>14</td>\n",
              "      <td>12</td>\n",
              "      <td>22</td>\n",
              "    </tr>\n",
              "    <tr>\n",
              "      <th>74</th>\n",
              "      <td>Other</td>\n",
              "      <td>15</td>\n",
              "      <td>305</td>\n",
              "      <td>32</td>\n",
              "    </tr>\n",
              "  </tbody>\n",
              "</table>\n",
              "<p>75 rows × 4 columns</p>\n",
              "</div>"
            ],
            "text/plain": [
              "         Taxon  Patient  Tissue  Stool\n",
              "0   Firmicutes        1     632    305\n",
              "1   Firmicutes        2     136   4182\n",
              "2   Firmicutes        3    1174    703\n",
              "3   Firmicutes        4     408   3946\n",
              "4   Firmicutes        5     831   8605\n",
              "..         ...      ...     ...    ...\n",
              "70       Other       11     203      6\n",
              "71       Other       12     392      6\n",
              "72       Other       13      28     25\n",
              "73       Other       14      12     22\n",
              "74       Other       15     305     32\n",
              "\n",
              "[75 rows x 4 columns]"
            ]
          },
          "metadata": {
            "tags": []
          },
          "execution_count": 52
        }
      ]
    },
    {
      "cell_type": "markdown",
      "metadata": {
        "id": "8993BlBAhwbv"
      },
      "source": [
        "__Note:__ The `read_csv` automatically considers the first row to be the header row.\r\n",
        "\r\n",
        "We can override default behavior by customizing some the arguments, like `header`, `names` or `index_col`."
      ]
    },
    {
      "cell_type": "code",
      "metadata": {
        "colab": {
          "base_uri": "https://localhost:8080/",
          "height": 202
        },
        "id": "_PoXN7PWhZvH",
        "outputId": "11363386-c04d-4ce8-b437-640e550be6bb"
      },
      "source": [
        "pd.read_csv(\"data/microbiome.csv\", header=None).head()"
      ],
      "execution_count": null,
      "outputs": [
        {
          "output_type": "execute_result",
          "data": {
            "text/html": [
              "<div>\n",
              "<style scoped>\n",
              "    .dataframe tbody tr th:only-of-type {\n",
              "        vertical-align: middle;\n",
              "    }\n",
              "\n",
              "    .dataframe tbody tr th {\n",
              "        vertical-align: top;\n",
              "    }\n",
              "\n",
              "    .dataframe thead th {\n",
              "        text-align: right;\n",
              "    }\n",
              "</style>\n",
              "<table border=\"1\" class=\"dataframe\">\n",
              "  <thead>\n",
              "    <tr style=\"text-align: right;\">\n",
              "      <th></th>\n",
              "      <th>0</th>\n",
              "      <th>1</th>\n",
              "      <th>2</th>\n",
              "      <th>3</th>\n",
              "    </tr>\n",
              "  </thead>\n",
              "  <tbody>\n",
              "    <tr>\n",
              "      <th>0</th>\n",
              "      <td>Taxon</td>\n",
              "      <td>Patient</td>\n",
              "      <td>Tissue</td>\n",
              "      <td>Stool</td>\n",
              "    </tr>\n",
              "    <tr>\n",
              "      <th>1</th>\n",
              "      <td>Firmicutes</td>\n",
              "      <td>1</td>\n",
              "      <td>632</td>\n",
              "      <td>305</td>\n",
              "    </tr>\n",
              "    <tr>\n",
              "      <th>2</th>\n",
              "      <td>Firmicutes</td>\n",
              "      <td>2</td>\n",
              "      <td>136</td>\n",
              "      <td>4182</td>\n",
              "    </tr>\n",
              "    <tr>\n",
              "      <th>3</th>\n",
              "      <td>Firmicutes</td>\n",
              "      <td>3</td>\n",
              "      <td>1174</td>\n",
              "      <td>703</td>\n",
              "    </tr>\n",
              "    <tr>\n",
              "      <th>4</th>\n",
              "      <td>Firmicutes</td>\n",
              "      <td>4</td>\n",
              "      <td>408</td>\n",
              "      <td>3946</td>\n",
              "    </tr>\n",
              "  </tbody>\n",
              "</table>\n",
              "</div>"
            ],
            "text/plain": [
              "            0        1       2      3\n",
              "0       Taxon  Patient  Tissue  Stool\n",
              "1  Firmicutes        1     632    305\n",
              "2  Firmicutes        2     136   4182\n",
              "3  Firmicutes        3    1174    703\n",
              "4  Firmicutes        4     408   3946"
            ]
          },
          "metadata": {
            "tags": []
          },
          "execution_count": 53
        }
      ]
    },
    {
      "cell_type": "markdown",
      "metadata": {
        "id": "9Jde2GskiM5M"
      },
      "source": [
        "`read_csv` is just a convenience function for `read_table`, since csv is such a common format that we use in daily life"
      ]
    },
    {
      "cell_type": "code",
      "metadata": {
        "id": "OAzARzHxiIAD"
      },
      "source": [
        "mb = pd.read_table(\"data/microbiome.csv\", sep=',')"
      ],
      "execution_count": null,
      "outputs": []
    },
    {
      "cell_type": "code",
      "metadata": {
        "colab": {
          "base_uri": "https://localhost:8080/",
          "height": 415
        },
        "id": "UtIqLw2diZrm",
        "outputId": "4d137b94-13de-47c8-c773-5c7ab998e880"
      },
      "source": [
        "mb"
      ],
      "execution_count": null,
      "outputs": [
        {
          "output_type": "execute_result",
          "data": {
            "text/html": [
              "<div>\n",
              "<style scoped>\n",
              "    .dataframe tbody tr th:only-of-type {\n",
              "        vertical-align: middle;\n",
              "    }\n",
              "\n",
              "    .dataframe tbody tr th {\n",
              "        vertical-align: top;\n",
              "    }\n",
              "\n",
              "    .dataframe thead th {\n",
              "        text-align: right;\n",
              "    }\n",
              "</style>\n",
              "<table border=\"1\" class=\"dataframe\">\n",
              "  <thead>\n",
              "    <tr style=\"text-align: right;\">\n",
              "      <th></th>\n",
              "      <th>Taxon</th>\n",
              "      <th>Patient</th>\n",
              "      <th>Tissue</th>\n",
              "      <th>Stool</th>\n",
              "    </tr>\n",
              "  </thead>\n",
              "  <tbody>\n",
              "    <tr>\n",
              "      <th>0</th>\n",
              "      <td>Firmicutes</td>\n",
              "      <td>1</td>\n",
              "      <td>632</td>\n",
              "      <td>305</td>\n",
              "    </tr>\n",
              "    <tr>\n",
              "      <th>1</th>\n",
              "      <td>Firmicutes</td>\n",
              "      <td>2</td>\n",
              "      <td>136</td>\n",
              "      <td>4182</td>\n",
              "    </tr>\n",
              "    <tr>\n",
              "      <th>2</th>\n",
              "      <td>Firmicutes</td>\n",
              "      <td>3</td>\n",
              "      <td>1174</td>\n",
              "      <td>703</td>\n",
              "    </tr>\n",
              "    <tr>\n",
              "      <th>3</th>\n",
              "      <td>Firmicutes</td>\n",
              "      <td>4</td>\n",
              "      <td>408</td>\n",
              "      <td>3946</td>\n",
              "    </tr>\n",
              "    <tr>\n",
              "      <th>4</th>\n",
              "      <td>Firmicutes</td>\n",
              "      <td>5</td>\n",
              "      <td>831</td>\n",
              "      <td>8605</td>\n",
              "    </tr>\n",
              "    <tr>\n",
              "      <th>...</th>\n",
              "      <td>...</td>\n",
              "      <td>...</td>\n",
              "      <td>...</td>\n",
              "      <td>...</td>\n",
              "    </tr>\n",
              "    <tr>\n",
              "      <th>70</th>\n",
              "      <td>Other</td>\n",
              "      <td>11</td>\n",
              "      <td>203</td>\n",
              "      <td>6</td>\n",
              "    </tr>\n",
              "    <tr>\n",
              "      <th>71</th>\n",
              "      <td>Other</td>\n",
              "      <td>12</td>\n",
              "      <td>392</td>\n",
              "      <td>6</td>\n",
              "    </tr>\n",
              "    <tr>\n",
              "      <th>72</th>\n",
              "      <td>Other</td>\n",
              "      <td>13</td>\n",
              "      <td>28</td>\n",
              "      <td>25</td>\n",
              "    </tr>\n",
              "    <tr>\n",
              "      <th>73</th>\n",
              "      <td>Other</td>\n",
              "      <td>14</td>\n",
              "      <td>12</td>\n",
              "      <td>22</td>\n",
              "    </tr>\n",
              "    <tr>\n",
              "      <th>74</th>\n",
              "      <td>Other</td>\n",
              "      <td>15</td>\n",
              "      <td>305</td>\n",
              "      <td>32</td>\n",
              "    </tr>\n",
              "  </tbody>\n",
              "</table>\n",
              "<p>75 rows × 4 columns</p>\n",
              "</div>"
            ],
            "text/plain": [
              "         Taxon  Patient  Tissue  Stool\n",
              "0   Firmicutes        1     632    305\n",
              "1   Firmicutes        2     136   4182\n",
              "2   Firmicutes        3    1174    703\n",
              "3   Firmicutes        4     408   3946\n",
              "4   Firmicutes        5     831   8605\n",
              "..         ...      ...     ...    ...\n",
              "70       Other       11     203      6\n",
              "71       Other       12     392      6\n",
              "72       Other       13      28     25\n",
              "73       Other       14      12     22\n",
              "74       Other       15     305     32\n",
              "\n",
              "[75 rows x 4 columns]"
            ]
          },
          "metadata": {
            "tags": []
          },
          "execution_count": 55
        }
      ]
    },
    {
      "cell_type": "markdown",
      "metadata": {
        "id": "XIlb1Phsi6r0"
      },
      "source": [
        "The `sep` argument can be customized as needed to accomodate arbitrary separators. For example, we can use a regular expression to define a variable amount of whitespace, which is unfortunately very common in some data formats: \r\n",
        "    \r\n",
        "    sep='\\s+'\r\n",
        "\r\n",
        "For a more useful index, we can specify the first two columns, which together provide a unique index to the data."
      ]
    },
    {
      "cell_type": "code",
      "metadata": {
        "colab": {
          "base_uri": "https://localhost:8080/",
          "height": 233
        },
        "id": "mkPjmmlXib7g",
        "outputId": "bf969e12-f3ad-413d-a034-c03af7cace19"
      },
      "source": [
        "mb = pd.read_csv(\"data/microbiome.csv\", index_col=['Taxon','Patient'])\r\n",
        "mb.head()"
      ],
      "execution_count": null,
      "outputs": [
        {
          "output_type": "execute_result",
          "data": {
            "text/html": [
              "<div>\n",
              "<style scoped>\n",
              "    .dataframe tbody tr th:only-of-type {\n",
              "        vertical-align: middle;\n",
              "    }\n",
              "\n",
              "    .dataframe tbody tr th {\n",
              "        vertical-align: top;\n",
              "    }\n",
              "\n",
              "    .dataframe thead th {\n",
              "        text-align: right;\n",
              "    }\n",
              "</style>\n",
              "<table border=\"1\" class=\"dataframe\">\n",
              "  <thead>\n",
              "    <tr style=\"text-align: right;\">\n",
              "      <th></th>\n",
              "      <th></th>\n",
              "      <th>Tissue</th>\n",
              "      <th>Stool</th>\n",
              "    </tr>\n",
              "    <tr>\n",
              "      <th>Taxon</th>\n",
              "      <th>Patient</th>\n",
              "      <th></th>\n",
              "      <th></th>\n",
              "    </tr>\n",
              "  </thead>\n",
              "  <tbody>\n",
              "    <tr>\n",
              "      <th rowspan=\"5\" valign=\"top\">Firmicutes</th>\n",
              "      <th>1</th>\n",
              "      <td>632</td>\n",
              "      <td>305</td>\n",
              "    </tr>\n",
              "    <tr>\n",
              "      <th>2</th>\n",
              "      <td>136</td>\n",
              "      <td>4182</td>\n",
              "    </tr>\n",
              "    <tr>\n",
              "      <th>3</th>\n",
              "      <td>1174</td>\n",
              "      <td>703</td>\n",
              "    </tr>\n",
              "    <tr>\n",
              "      <th>4</th>\n",
              "      <td>408</td>\n",
              "      <td>3946</td>\n",
              "    </tr>\n",
              "    <tr>\n",
              "      <th>5</th>\n",
              "      <td>831</td>\n",
              "      <td>8605</td>\n",
              "    </tr>\n",
              "  </tbody>\n",
              "</table>\n",
              "</div>"
            ],
            "text/plain": [
              "                    Tissue  Stool\n",
              "Taxon      Patient               \n",
              "Firmicutes 1           632    305\n",
              "           2           136   4182\n",
              "           3          1174    703\n",
              "           4           408   3946\n",
              "           5           831   8605"
            ]
          },
          "metadata": {
            "tags": []
          },
          "execution_count": 56
        }
      ]
    },
    {
      "cell_type": "markdown",
      "metadata": {
        "id": "O9TCPOWukcMF"
      },
      "source": [
        "This is called a __hierarchical__ indexing"
      ]
    },
    {
      "cell_type": "markdown",
      "metadata": {
        "id": "Jfiyzna5kmLO"
      },
      "source": [
        "To skip some data instead of removing it completely then we can you `skiprows` argument."
      ]
    },
    {
      "cell_type": "code",
      "metadata": {
        "colab": {
          "base_uri": "https://localhost:8080/",
          "height": 202
        },
        "id": "ccfliQhNkUgR",
        "outputId": "e18a0e5b-61d5-4576-de08-c675ab82765f"
      },
      "source": [
        "pd.read_csv(\"data/microbiome.csv\", skiprows=[3,4,6]).head()"
      ],
      "execution_count": null,
      "outputs": [
        {
          "output_type": "execute_result",
          "data": {
            "text/html": [
              "<div>\n",
              "<style scoped>\n",
              "    .dataframe tbody tr th:only-of-type {\n",
              "        vertical-align: middle;\n",
              "    }\n",
              "\n",
              "    .dataframe tbody tr th {\n",
              "        vertical-align: top;\n",
              "    }\n",
              "\n",
              "    .dataframe thead th {\n",
              "        text-align: right;\n",
              "    }\n",
              "</style>\n",
              "<table border=\"1\" class=\"dataframe\">\n",
              "  <thead>\n",
              "    <tr style=\"text-align: right;\">\n",
              "      <th></th>\n",
              "      <th>Taxon</th>\n",
              "      <th>Patient</th>\n",
              "      <th>Tissue</th>\n",
              "      <th>Stool</th>\n",
              "    </tr>\n",
              "  </thead>\n",
              "  <tbody>\n",
              "    <tr>\n",
              "      <th>0</th>\n",
              "      <td>Firmicutes</td>\n",
              "      <td>1</td>\n",
              "      <td>632</td>\n",
              "      <td>305</td>\n",
              "    </tr>\n",
              "    <tr>\n",
              "      <th>1</th>\n",
              "      <td>Firmicutes</td>\n",
              "      <td>2</td>\n",
              "      <td>136</td>\n",
              "      <td>4182</td>\n",
              "    </tr>\n",
              "    <tr>\n",
              "      <th>2</th>\n",
              "      <td>Firmicutes</td>\n",
              "      <td>5</td>\n",
              "      <td>831</td>\n",
              "      <td>8605</td>\n",
              "    </tr>\n",
              "    <tr>\n",
              "      <th>3</th>\n",
              "      <td>Firmicutes</td>\n",
              "      <td>7</td>\n",
              "      <td>718</td>\n",
              "      <td>717</td>\n",
              "    </tr>\n",
              "    <tr>\n",
              "      <th>4</th>\n",
              "      <td>Firmicutes</td>\n",
              "      <td>8</td>\n",
              "      <td>173</td>\n",
              "      <td>33</td>\n",
              "    </tr>\n",
              "  </tbody>\n",
              "</table>\n",
              "</div>"
            ],
            "text/plain": [
              "        Taxon  Patient  Tissue  Stool\n",
              "0  Firmicutes        1     632    305\n",
              "1  Firmicutes        2     136   4182\n",
              "2  Firmicutes        5     831   8605\n",
              "3  Firmicutes        7     718    717\n",
              "4  Firmicutes        8     173     33"
            ]
          },
          "metadata": {
            "tags": []
          },
          "execution_count": 57
        }
      ]
    },
    {
      "cell_type": "markdown",
      "metadata": {
        "id": "GR6oPD6Uk4yK"
      },
      "source": [
        "If we just want to view just a small section or rows of data from a very large database the we can use the `nrows` argument"
      ]
    },
    {
      "cell_type": "code",
      "metadata": {
        "colab": {
          "base_uri": "https://localhost:8080/",
          "height": 171
        },
        "id": "XSPKUHyykzht",
        "outputId": "38055acd-b59c-4def-8700-55f87a5a379b"
      },
      "source": [
        "pd.read_csv(\"data/microbiome.csv\", nrows=4)"
      ],
      "execution_count": null,
      "outputs": [
        {
          "output_type": "execute_result",
          "data": {
            "text/html": [
              "<div>\n",
              "<style scoped>\n",
              "    .dataframe tbody tr th:only-of-type {\n",
              "        vertical-align: middle;\n",
              "    }\n",
              "\n",
              "    .dataframe tbody tr th {\n",
              "        vertical-align: top;\n",
              "    }\n",
              "\n",
              "    .dataframe thead th {\n",
              "        text-align: right;\n",
              "    }\n",
              "</style>\n",
              "<table border=\"1\" class=\"dataframe\">\n",
              "  <thead>\n",
              "    <tr style=\"text-align: right;\">\n",
              "      <th></th>\n",
              "      <th>Taxon</th>\n",
              "      <th>Patient</th>\n",
              "      <th>Tissue</th>\n",
              "      <th>Stool</th>\n",
              "    </tr>\n",
              "  </thead>\n",
              "  <tbody>\n",
              "    <tr>\n",
              "      <th>0</th>\n",
              "      <td>Firmicutes</td>\n",
              "      <td>1</td>\n",
              "      <td>632</td>\n",
              "      <td>305</td>\n",
              "    </tr>\n",
              "    <tr>\n",
              "      <th>1</th>\n",
              "      <td>Firmicutes</td>\n",
              "      <td>2</td>\n",
              "      <td>136</td>\n",
              "      <td>4182</td>\n",
              "    </tr>\n",
              "    <tr>\n",
              "      <th>2</th>\n",
              "      <td>Firmicutes</td>\n",
              "      <td>3</td>\n",
              "      <td>1174</td>\n",
              "      <td>703</td>\n",
              "    </tr>\n",
              "    <tr>\n",
              "      <th>3</th>\n",
              "      <td>Firmicutes</td>\n",
              "      <td>4</td>\n",
              "      <td>408</td>\n",
              "      <td>3946</td>\n",
              "    </tr>\n",
              "  </tbody>\n",
              "</table>\n",
              "</div>"
            ],
            "text/plain": [
              "        Taxon  Patient  Tissue  Stool\n",
              "0  Firmicutes        1     632    305\n",
              "1  Firmicutes        2     136   4182\n",
              "2  Firmicutes        3    1174    703\n",
              "3  Firmicutes        4     408   3946"
            ]
          },
          "metadata": {
            "tags": []
          },
          "execution_count": 58
        }
      ]
    },
    {
      "cell_type": "markdown",
      "metadata": {
        "id": "xw3eVUoslkbF"
      },
      "source": [
        "Alternately, if we want to process our data in reasonable chunks, the `chunksize` argument will return an iterable object that can be employed in a data processing loop. \r\n",
        "\r\n",
        "For example, our microbiome data are organized by bacterial phylum, with 15 patients represented in each"
      ]
    },
    {
      "cell_type": "code",
      "metadata": {
        "colab": {
          "base_uri": "https://localhost:8080/"
        },
        "id": "OjW2EoiQldnE",
        "outputId": "ba045a6f-a06c-4d72-d81f-43931d6ecb39"
      },
      "source": [
        "data_chunks = pd.read_csv(\"data/microbiome.csv\", chunksize=15)\r\n",
        "\r\n",
        "mean_tissue = {chunk.iloc[0].Taxon:chunk.Tissue.mean() for chunk in data_chunks}\r\n",
        "    \r\n",
        "mean_tissue"
      ],
      "execution_count": null,
      "outputs": [
        {
          "output_type": "execute_result",
          "data": {
            "text/plain": [
              "{'Actinobacteria': 449.06666666666666,\n",
              " 'Bacteroidetes': 599.6666666666666,\n",
              " 'Firmicutes': 684.4,\n",
              " 'Other': 198.8,\n",
              " 'Proteobacteria': 2943.0666666666666}"
            ]
          },
          "metadata": {
            "tags": []
          },
          "execution_count": 59
        }
      ]
    },
    {
      "cell_type": "markdown",
      "metadata": {
        "id": "xkKImxWspG5U"
      },
      "source": [
        "Most real-world data is incomplete, with values missing due to incomplete observation, data entry or transcription error, or other reasons. Pandas will automatically recognize and parse common missing data indicators, including `NA` and `NULL`."
      ]
    },
    {
      "cell_type": "code",
      "metadata": {
        "colab": {
          "base_uri": "https://localhost:8080/"
        },
        "id": "VHnZZds7luKK",
        "outputId": "bb08ca42-c103-42ff-ddf5-c5615a3e3ebe"
      },
      "source": [
        "!cat data/microbiome_missing.csv"
      ],
      "execution_count": null,
      "outputs": [
        {
          "output_type": "stream",
          "text": [
            "Taxon,Patient,Tissue,Stool\n",
            "Firmicutes,1,632,305\n",
            "Firmicutes,2,136,4182\n",
            "Firmicutes,3,,703\n",
            "Firmicutes,4,408,3946\n",
            "Firmicutes,5,831,8605\n",
            "Firmicutes,6,693,50\n",
            "Firmicutes,7,718,717\n",
            "Firmicutes,8,173,33\n",
            "Firmicutes,9,228,NA\n",
            "Firmicutes,10,162,3196\n",
            "Firmicutes,11,372,-99999\n",
            "Firmicutes,12,4255,4361\n",
            "Firmicutes,13,107,1667\n",
            "Firmicutes,14,?,223\n",
            "Firmicutes,15,281,2377\n",
            "Proteobacteria,1,1638,3886\n",
            "Proteobacteria,2,2469,1821\n",
            "Proteobacteria,3,839,661\n",
            "Proteobacteria,4,4414,18\n",
            "Proteobacteria,5,12044,83\n",
            "Proteobacteria,6,2310,12\n",
            "Proteobacteria,7,3053,547\n",
            "Proteobacteria,8,395,2174\n",
            "Proteobacteria,9,2651,767\n",
            "Proteobacteria,10,1195,76\n",
            "Proteobacteria,11,6857,795\n",
            "Proteobacteria,12,483,666\n",
            "Proteobacteria,13,2950,3994\n",
            "Proteobacteria,14,1541,816\n",
            "Proteobacteria,15,1307,53\n",
            "Actinobacteria,1,569,648\n",
            "Actinobacteria,2,1590,4\n",
            "Actinobacteria,3,25,2\n",
            "Actinobacteria,4,259,300\n",
            "Actinobacteria,5,568,7\n",
            "Actinobacteria,6,1102,9\n",
            "Actinobacteria,7,678,377\n",
            "Actinobacteria,8,260,58\n",
            "Actinobacteria,9,424,233\n",
            "Actinobacteria,10,548,21\n",
            "Actinobacteria,11,201,83\n",
            "Actinobacteria,12,42,75\n",
            "Actinobacteria,13,109,59\n",
            "Actinobacteria,14,51,183\n",
            "Actinobacteria,15,310,204\n",
            "Bacteroidetes,1,115,380\n",
            "Bacteroidetes,2,67,0\n",
            "Bacteroidetes,3,0,0\n",
            "Bacteroidetes,4,85,5\n",
            "Bacteroidetes,5,143,7\n",
            "Bacteroidetes,6,678,2\n",
            "Bacteroidetes,7,4829,209\n",
            "Bacteroidetes,8,74,651\n",
            "Bacteroidetes,9,169,254\n",
            "Bacteroidetes,10,106,10\n",
            "Bacteroidetes,11,73,381\n",
            "Bacteroidetes,12,30,359\n",
            "Bacteroidetes,13,51,51\n",
            "Bacteroidetes,14,2473,2314\n",
            "Bacteroidetes,15,102,33\n",
            "Other,1,114,277\n",
            "Other,2,195,18\n",
            "Other,3,42,2\n",
            "Other,4,316,43\n",
            "Other,5,202,40\n",
            "Other,6,116,0\n",
            "Other,7,527,12\n",
            "Other,8,357,11\n",
            "Other,9,106,11\n",
            "Other,10,67,14\n",
            "Other,11,203,6\n",
            "Other,12,392,6\n",
            "Other,13,28,25\n",
            "Other,14,12,22\n",
            "Other,15,305,32"
          ],
          "name": "stdout"
        }
      ]
    },
    {
      "cell_type": "code",
      "metadata": {
        "colab": {
          "base_uri": "https://localhost:8080/",
          "height": 662
        },
        "id": "1z5XROfmrAtK",
        "outputId": "9f702b00-fbcb-469a-8e9e-4c7c74125fe1"
      },
      "source": [
        "pd.read_csv(\"data/microbiome_missing.csv\").head(20)"
      ],
      "execution_count": null,
      "outputs": [
        {
          "output_type": "execute_result",
          "data": {
            "text/html": [
              "<div>\n",
              "<style scoped>\n",
              "    .dataframe tbody tr th:only-of-type {\n",
              "        vertical-align: middle;\n",
              "    }\n",
              "\n",
              "    .dataframe tbody tr th {\n",
              "        vertical-align: top;\n",
              "    }\n",
              "\n",
              "    .dataframe thead th {\n",
              "        text-align: right;\n",
              "    }\n",
              "</style>\n",
              "<table border=\"1\" class=\"dataframe\">\n",
              "  <thead>\n",
              "    <tr style=\"text-align: right;\">\n",
              "      <th></th>\n",
              "      <th>Taxon</th>\n",
              "      <th>Patient</th>\n",
              "      <th>Tissue</th>\n",
              "      <th>Stool</th>\n",
              "    </tr>\n",
              "  </thead>\n",
              "  <tbody>\n",
              "    <tr>\n",
              "      <th>0</th>\n",
              "      <td>Firmicutes</td>\n",
              "      <td>1</td>\n",
              "      <td>632</td>\n",
              "      <td>305.0</td>\n",
              "    </tr>\n",
              "    <tr>\n",
              "      <th>1</th>\n",
              "      <td>Firmicutes</td>\n",
              "      <td>2</td>\n",
              "      <td>136</td>\n",
              "      <td>4182.0</td>\n",
              "    </tr>\n",
              "    <tr>\n",
              "      <th>2</th>\n",
              "      <td>Firmicutes</td>\n",
              "      <td>3</td>\n",
              "      <td>NaN</td>\n",
              "      <td>703.0</td>\n",
              "    </tr>\n",
              "    <tr>\n",
              "      <th>3</th>\n",
              "      <td>Firmicutes</td>\n",
              "      <td>4</td>\n",
              "      <td>408</td>\n",
              "      <td>3946.0</td>\n",
              "    </tr>\n",
              "    <tr>\n",
              "      <th>4</th>\n",
              "      <td>Firmicutes</td>\n",
              "      <td>5</td>\n",
              "      <td>831</td>\n",
              "      <td>8605.0</td>\n",
              "    </tr>\n",
              "    <tr>\n",
              "      <th>5</th>\n",
              "      <td>Firmicutes</td>\n",
              "      <td>6</td>\n",
              "      <td>693</td>\n",
              "      <td>50.0</td>\n",
              "    </tr>\n",
              "    <tr>\n",
              "      <th>6</th>\n",
              "      <td>Firmicutes</td>\n",
              "      <td>7</td>\n",
              "      <td>718</td>\n",
              "      <td>717.0</td>\n",
              "    </tr>\n",
              "    <tr>\n",
              "      <th>7</th>\n",
              "      <td>Firmicutes</td>\n",
              "      <td>8</td>\n",
              "      <td>173</td>\n",
              "      <td>33.0</td>\n",
              "    </tr>\n",
              "    <tr>\n",
              "      <th>8</th>\n",
              "      <td>Firmicutes</td>\n",
              "      <td>9</td>\n",
              "      <td>228</td>\n",
              "      <td>NaN</td>\n",
              "    </tr>\n",
              "    <tr>\n",
              "      <th>9</th>\n",
              "      <td>Firmicutes</td>\n",
              "      <td>10</td>\n",
              "      <td>162</td>\n",
              "      <td>3196.0</td>\n",
              "    </tr>\n",
              "    <tr>\n",
              "      <th>10</th>\n",
              "      <td>Firmicutes</td>\n",
              "      <td>11</td>\n",
              "      <td>372</td>\n",
              "      <td>-99999.0</td>\n",
              "    </tr>\n",
              "    <tr>\n",
              "      <th>11</th>\n",
              "      <td>Firmicutes</td>\n",
              "      <td>12</td>\n",
              "      <td>4255</td>\n",
              "      <td>4361.0</td>\n",
              "    </tr>\n",
              "    <tr>\n",
              "      <th>12</th>\n",
              "      <td>Firmicutes</td>\n",
              "      <td>13</td>\n",
              "      <td>107</td>\n",
              "      <td>1667.0</td>\n",
              "    </tr>\n",
              "    <tr>\n",
              "      <th>13</th>\n",
              "      <td>Firmicutes</td>\n",
              "      <td>14</td>\n",
              "      <td>?</td>\n",
              "      <td>223.0</td>\n",
              "    </tr>\n",
              "    <tr>\n",
              "      <th>14</th>\n",
              "      <td>Firmicutes</td>\n",
              "      <td>15</td>\n",
              "      <td>281</td>\n",
              "      <td>2377.0</td>\n",
              "    </tr>\n",
              "    <tr>\n",
              "      <th>15</th>\n",
              "      <td>Proteobacteria</td>\n",
              "      <td>1</td>\n",
              "      <td>1638</td>\n",
              "      <td>3886.0</td>\n",
              "    </tr>\n",
              "    <tr>\n",
              "      <th>16</th>\n",
              "      <td>Proteobacteria</td>\n",
              "      <td>2</td>\n",
              "      <td>2469</td>\n",
              "      <td>1821.0</td>\n",
              "    </tr>\n",
              "    <tr>\n",
              "      <th>17</th>\n",
              "      <td>Proteobacteria</td>\n",
              "      <td>3</td>\n",
              "      <td>839</td>\n",
              "      <td>661.0</td>\n",
              "    </tr>\n",
              "    <tr>\n",
              "      <th>18</th>\n",
              "      <td>Proteobacteria</td>\n",
              "      <td>4</td>\n",
              "      <td>4414</td>\n",
              "      <td>18.0</td>\n",
              "    </tr>\n",
              "    <tr>\n",
              "      <th>19</th>\n",
              "      <td>Proteobacteria</td>\n",
              "      <td>5</td>\n",
              "      <td>12044</td>\n",
              "      <td>83.0</td>\n",
              "    </tr>\n",
              "  </tbody>\n",
              "</table>\n",
              "</div>"
            ],
            "text/plain": [
              "             Taxon  Patient Tissue    Stool\n",
              "0       Firmicutes        1    632    305.0\n",
              "1       Firmicutes        2    136   4182.0\n",
              "2       Firmicutes        3    NaN    703.0\n",
              "3       Firmicutes        4    408   3946.0\n",
              "4       Firmicutes        5    831   8605.0\n",
              "5       Firmicutes        6    693     50.0\n",
              "6       Firmicutes        7    718    717.0\n",
              "7       Firmicutes        8    173     33.0\n",
              "8       Firmicutes        9    228      NaN\n",
              "9       Firmicutes       10    162   3196.0\n",
              "10      Firmicutes       11    372 -99999.0\n",
              "11      Firmicutes       12   4255   4361.0\n",
              "12      Firmicutes       13    107   1667.0\n",
              "13      Firmicutes       14      ?    223.0\n",
              "14      Firmicutes       15    281   2377.0\n",
              "15  Proteobacteria        1   1638   3886.0\n",
              "16  Proteobacteria        2   2469   1821.0\n",
              "17  Proteobacteria        3    839    661.0\n",
              "18  Proteobacteria        4   4414     18.0\n",
              "19  Proteobacteria        5  12044     83.0"
            ]
          },
          "metadata": {
            "tags": []
          },
          "execution_count": 61
        }
      ]
    },
    {
      "cell_type": "markdown",
      "metadata": {
        "id": "pF3PGr59rSUa"
      },
      "source": [
        "__Note:__ In above dataframe, Pandas recognized `NA` and an empty field `NAN` as missing data."
      ]
    },
    {
      "cell_type": "code",
      "metadata": {
        "colab": {
          "base_uri": "https://localhost:8080/",
          "height": 662
        },
        "id": "7Ea4X8PrrNFG",
        "outputId": "04b9500b-c9e8-4028-f3b6-7bf698f834c2"
      },
      "source": [
        "pd.isnull(pd.read_csv(\"data/microbiome_missing.csv\")).head(20)"
      ],
      "execution_count": null,
      "outputs": [
        {
          "output_type": "execute_result",
          "data": {
            "text/html": [
              "<div>\n",
              "<style scoped>\n",
              "    .dataframe tbody tr th:only-of-type {\n",
              "        vertical-align: middle;\n",
              "    }\n",
              "\n",
              "    .dataframe tbody tr th {\n",
              "        vertical-align: top;\n",
              "    }\n",
              "\n",
              "    .dataframe thead th {\n",
              "        text-align: right;\n",
              "    }\n",
              "</style>\n",
              "<table border=\"1\" class=\"dataframe\">\n",
              "  <thead>\n",
              "    <tr style=\"text-align: right;\">\n",
              "      <th></th>\n",
              "      <th>Taxon</th>\n",
              "      <th>Patient</th>\n",
              "      <th>Tissue</th>\n",
              "      <th>Stool</th>\n",
              "    </tr>\n",
              "  </thead>\n",
              "  <tbody>\n",
              "    <tr>\n",
              "      <th>0</th>\n",
              "      <td>False</td>\n",
              "      <td>False</td>\n",
              "      <td>False</td>\n",
              "      <td>False</td>\n",
              "    </tr>\n",
              "    <tr>\n",
              "      <th>1</th>\n",
              "      <td>False</td>\n",
              "      <td>False</td>\n",
              "      <td>False</td>\n",
              "      <td>False</td>\n",
              "    </tr>\n",
              "    <tr>\n",
              "      <th>2</th>\n",
              "      <td>False</td>\n",
              "      <td>False</td>\n",
              "      <td>True</td>\n",
              "      <td>False</td>\n",
              "    </tr>\n",
              "    <tr>\n",
              "      <th>3</th>\n",
              "      <td>False</td>\n",
              "      <td>False</td>\n",
              "      <td>False</td>\n",
              "      <td>False</td>\n",
              "    </tr>\n",
              "    <tr>\n",
              "      <th>4</th>\n",
              "      <td>False</td>\n",
              "      <td>False</td>\n",
              "      <td>False</td>\n",
              "      <td>False</td>\n",
              "    </tr>\n",
              "    <tr>\n",
              "      <th>5</th>\n",
              "      <td>False</td>\n",
              "      <td>False</td>\n",
              "      <td>False</td>\n",
              "      <td>False</td>\n",
              "    </tr>\n",
              "    <tr>\n",
              "      <th>6</th>\n",
              "      <td>False</td>\n",
              "      <td>False</td>\n",
              "      <td>False</td>\n",
              "      <td>False</td>\n",
              "    </tr>\n",
              "    <tr>\n",
              "      <th>7</th>\n",
              "      <td>False</td>\n",
              "      <td>False</td>\n",
              "      <td>False</td>\n",
              "      <td>False</td>\n",
              "    </tr>\n",
              "    <tr>\n",
              "      <th>8</th>\n",
              "      <td>False</td>\n",
              "      <td>False</td>\n",
              "      <td>False</td>\n",
              "      <td>True</td>\n",
              "    </tr>\n",
              "    <tr>\n",
              "      <th>9</th>\n",
              "      <td>False</td>\n",
              "      <td>False</td>\n",
              "      <td>False</td>\n",
              "      <td>False</td>\n",
              "    </tr>\n",
              "    <tr>\n",
              "      <th>10</th>\n",
              "      <td>False</td>\n",
              "      <td>False</td>\n",
              "      <td>False</td>\n",
              "      <td>False</td>\n",
              "    </tr>\n",
              "    <tr>\n",
              "      <th>11</th>\n",
              "      <td>False</td>\n",
              "      <td>False</td>\n",
              "      <td>False</td>\n",
              "      <td>False</td>\n",
              "    </tr>\n",
              "    <tr>\n",
              "      <th>12</th>\n",
              "      <td>False</td>\n",
              "      <td>False</td>\n",
              "      <td>False</td>\n",
              "      <td>False</td>\n",
              "    </tr>\n",
              "    <tr>\n",
              "      <th>13</th>\n",
              "      <td>False</td>\n",
              "      <td>False</td>\n",
              "      <td>False</td>\n",
              "      <td>False</td>\n",
              "    </tr>\n",
              "    <tr>\n",
              "      <th>14</th>\n",
              "      <td>False</td>\n",
              "      <td>False</td>\n",
              "      <td>False</td>\n",
              "      <td>False</td>\n",
              "    </tr>\n",
              "    <tr>\n",
              "      <th>15</th>\n",
              "      <td>False</td>\n",
              "      <td>False</td>\n",
              "      <td>False</td>\n",
              "      <td>False</td>\n",
              "    </tr>\n",
              "    <tr>\n",
              "      <th>16</th>\n",
              "      <td>False</td>\n",
              "      <td>False</td>\n",
              "      <td>False</td>\n",
              "      <td>False</td>\n",
              "    </tr>\n",
              "    <tr>\n",
              "      <th>17</th>\n",
              "      <td>False</td>\n",
              "      <td>False</td>\n",
              "      <td>False</td>\n",
              "      <td>False</td>\n",
              "    </tr>\n",
              "    <tr>\n",
              "      <th>18</th>\n",
              "      <td>False</td>\n",
              "      <td>False</td>\n",
              "      <td>False</td>\n",
              "      <td>False</td>\n",
              "    </tr>\n",
              "    <tr>\n",
              "      <th>19</th>\n",
              "      <td>False</td>\n",
              "      <td>False</td>\n",
              "      <td>False</td>\n",
              "      <td>False</td>\n",
              "    </tr>\n",
              "  </tbody>\n",
              "</table>\n",
              "</div>"
            ],
            "text/plain": [
              "    Taxon  Patient  Tissue  Stool\n",
              "0   False    False   False  False\n",
              "1   False    False   False  False\n",
              "2   False    False    True  False\n",
              "3   False    False   False  False\n",
              "4   False    False   False  False\n",
              "5   False    False   False  False\n",
              "6   False    False   False  False\n",
              "7   False    False   False  False\n",
              "8   False    False   False   True\n",
              "9   False    False   False  False\n",
              "10  False    False   False  False\n",
              "11  False    False   False  False\n",
              "12  False    False   False  False\n",
              "13  False    False   False  False\n",
              "14  False    False   False  False\n",
              "15  False    False   False  False\n",
              "16  False    False   False  False\n",
              "17  False    False   False  False\n",
              "18  False    False   False  False\n",
              "19  False    False   False  False"
            ]
          },
          "metadata": {
            "tags": []
          },
          "execution_count": 62
        }
      ]
    },
    {
      "cell_type": "markdown",
      "metadata": {
        "id": "AuUKQLharqOA"
      },
      "source": [
        "Unfortunately, there always be inconsistency with the conventions for missing data. In this example, there is a question mark (\"`?`\"at $ 13\\times 3 $) and a large negative number (`-99999.0`at $ 10\\times 4$) where there should have been a positive integer. We can specify additional symbols with the `na_values` argument"
      ]
    },
    {
      "cell_type": "code",
      "metadata": {
        "colab": {
          "base_uri": "https://localhost:8080/",
          "height": 662
        },
        "id": "1_k0PQeNrg1e",
        "outputId": "81502b8f-704e-4d36-cd83-52021dd5f1e8"
      },
      "source": [
        "pd.read_csv(\"data/microbiome_missing.csv\", na_values=['?', -99999]).head(20)"
      ],
      "execution_count": null,
      "outputs": [
        {
          "output_type": "execute_result",
          "data": {
            "text/html": [
              "<div>\n",
              "<style scoped>\n",
              "    .dataframe tbody tr th:only-of-type {\n",
              "        vertical-align: middle;\n",
              "    }\n",
              "\n",
              "    .dataframe tbody tr th {\n",
              "        vertical-align: top;\n",
              "    }\n",
              "\n",
              "    .dataframe thead th {\n",
              "        text-align: right;\n",
              "    }\n",
              "</style>\n",
              "<table border=\"1\" class=\"dataframe\">\n",
              "  <thead>\n",
              "    <tr style=\"text-align: right;\">\n",
              "      <th></th>\n",
              "      <th>Taxon</th>\n",
              "      <th>Patient</th>\n",
              "      <th>Tissue</th>\n",
              "      <th>Stool</th>\n",
              "    </tr>\n",
              "  </thead>\n",
              "  <tbody>\n",
              "    <tr>\n",
              "      <th>0</th>\n",
              "      <td>Firmicutes</td>\n",
              "      <td>1</td>\n",
              "      <td>632.0</td>\n",
              "      <td>305.0</td>\n",
              "    </tr>\n",
              "    <tr>\n",
              "      <th>1</th>\n",
              "      <td>Firmicutes</td>\n",
              "      <td>2</td>\n",
              "      <td>136.0</td>\n",
              "      <td>4182.0</td>\n",
              "    </tr>\n",
              "    <tr>\n",
              "      <th>2</th>\n",
              "      <td>Firmicutes</td>\n",
              "      <td>3</td>\n",
              "      <td>NaN</td>\n",
              "      <td>703.0</td>\n",
              "    </tr>\n",
              "    <tr>\n",
              "      <th>3</th>\n",
              "      <td>Firmicutes</td>\n",
              "      <td>4</td>\n",
              "      <td>408.0</td>\n",
              "      <td>3946.0</td>\n",
              "    </tr>\n",
              "    <tr>\n",
              "      <th>4</th>\n",
              "      <td>Firmicutes</td>\n",
              "      <td>5</td>\n",
              "      <td>831.0</td>\n",
              "      <td>8605.0</td>\n",
              "    </tr>\n",
              "    <tr>\n",
              "      <th>5</th>\n",
              "      <td>Firmicutes</td>\n",
              "      <td>6</td>\n",
              "      <td>693.0</td>\n",
              "      <td>50.0</td>\n",
              "    </tr>\n",
              "    <tr>\n",
              "      <th>6</th>\n",
              "      <td>Firmicutes</td>\n",
              "      <td>7</td>\n",
              "      <td>718.0</td>\n",
              "      <td>717.0</td>\n",
              "    </tr>\n",
              "    <tr>\n",
              "      <th>7</th>\n",
              "      <td>Firmicutes</td>\n",
              "      <td>8</td>\n",
              "      <td>173.0</td>\n",
              "      <td>33.0</td>\n",
              "    </tr>\n",
              "    <tr>\n",
              "      <th>8</th>\n",
              "      <td>Firmicutes</td>\n",
              "      <td>9</td>\n",
              "      <td>228.0</td>\n",
              "      <td>NaN</td>\n",
              "    </tr>\n",
              "    <tr>\n",
              "      <th>9</th>\n",
              "      <td>Firmicutes</td>\n",
              "      <td>10</td>\n",
              "      <td>162.0</td>\n",
              "      <td>3196.0</td>\n",
              "    </tr>\n",
              "    <tr>\n",
              "      <th>10</th>\n",
              "      <td>Firmicutes</td>\n",
              "      <td>11</td>\n",
              "      <td>372.0</td>\n",
              "      <td>NaN</td>\n",
              "    </tr>\n",
              "    <tr>\n",
              "      <th>11</th>\n",
              "      <td>Firmicutes</td>\n",
              "      <td>12</td>\n",
              "      <td>4255.0</td>\n",
              "      <td>4361.0</td>\n",
              "    </tr>\n",
              "    <tr>\n",
              "      <th>12</th>\n",
              "      <td>Firmicutes</td>\n",
              "      <td>13</td>\n",
              "      <td>107.0</td>\n",
              "      <td>1667.0</td>\n",
              "    </tr>\n",
              "    <tr>\n",
              "      <th>13</th>\n",
              "      <td>Firmicutes</td>\n",
              "      <td>14</td>\n",
              "      <td>NaN</td>\n",
              "      <td>223.0</td>\n",
              "    </tr>\n",
              "    <tr>\n",
              "      <th>14</th>\n",
              "      <td>Firmicutes</td>\n",
              "      <td>15</td>\n",
              "      <td>281.0</td>\n",
              "      <td>2377.0</td>\n",
              "    </tr>\n",
              "    <tr>\n",
              "      <th>15</th>\n",
              "      <td>Proteobacteria</td>\n",
              "      <td>1</td>\n",
              "      <td>1638.0</td>\n",
              "      <td>3886.0</td>\n",
              "    </tr>\n",
              "    <tr>\n",
              "      <th>16</th>\n",
              "      <td>Proteobacteria</td>\n",
              "      <td>2</td>\n",
              "      <td>2469.0</td>\n",
              "      <td>1821.0</td>\n",
              "    </tr>\n",
              "    <tr>\n",
              "      <th>17</th>\n",
              "      <td>Proteobacteria</td>\n",
              "      <td>3</td>\n",
              "      <td>839.0</td>\n",
              "      <td>661.0</td>\n",
              "    </tr>\n",
              "    <tr>\n",
              "      <th>18</th>\n",
              "      <td>Proteobacteria</td>\n",
              "      <td>4</td>\n",
              "      <td>4414.0</td>\n",
              "      <td>18.0</td>\n",
              "    </tr>\n",
              "    <tr>\n",
              "      <th>19</th>\n",
              "      <td>Proteobacteria</td>\n",
              "      <td>5</td>\n",
              "      <td>12044.0</td>\n",
              "      <td>83.0</td>\n",
              "    </tr>\n",
              "  </tbody>\n",
              "</table>\n",
              "</div>"
            ],
            "text/plain": [
              "             Taxon  Patient   Tissue   Stool\n",
              "0       Firmicutes        1    632.0   305.0\n",
              "1       Firmicutes        2    136.0  4182.0\n",
              "2       Firmicutes        3      NaN   703.0\n",
              "3       Firmicutes        4    408.0  3946.0\n",
              "4       Firmicutes        5    831.0  8605.0\n",
              "5       Firmicutes        6    693.0    50.0\n",
              "6       Firmicutes        7    718.0   717.0\n",
              "7       Firmicutes        8    173.0    33.0\n",
              "8       Firmicutes        9    228.0     NaN\n",
              "9       Firmicutes       10    162.0  3196.0\n",
              "10      Firmicutes       11    372.0     NaN\n",
              "11      Firmicutes       12   4255.0  4361.0\n",
              "12      Firmicutes       13    107.0  1667.0\n",
              "13      Firmicutes       14      NaN   223.0\n",
              "14      Firmicutes       15    281.0  2377.0\n",
              "15  Proteobacteria        1   1638.0  3886.0\n",
              "16  Proteobacteria        2   2469.0  1821.0\n",
              "17  Proteobacteria        3    839.0   661.0\n",
              "18  Proteobacteria        4   4414.0    18.0\n",
              "19  Proteobacteria        5  12044.0    83.0"
            ]
          },
          "metadata": {
            "tags": []
          },
          "execution_count": 63
        }
      ]
    },
    {
      "cell_type": "markdown",
      "metadata": {
        "id": "BFdbQgA2ss1S"
      },
      "source": [
        "These can be specified on a column-wise basis using an appropriate dict as the argument for `na_values`."
      ]
    },
    {
      "cell_type": "markdown",
      "metadata": {
        "id": "hYwF_UI5tBgu"
      },
      "source": [
        "## Microsoft excel\r\n",
        "Most of the companies use excel to keep track of financial and scientific data. Pandas' ability to directly import Excel spreadsheets is valuable.\r\n",
        "\r\n",
        "This support is contingent on having one or two dependencies (depending on what version of Excel file is being imported) installed: `xlrd` and `openpyxl` (these may be easily installed with either `pip` or `easy_install`).\r\n",
        "\r\n",
        "Importing Excel data to Pandas is a two-step process. First, we create an `ExcelFile` object using the path of the file                                            "
      ]
    },
    {
      "cell_type": "code",
      "metadata": {
        "colab": {
          "base_uri": "https://localhost:8080/"
        },
        "id": "TyZwDepGr1an",
        "outputId": "08440abd-c866-4a00-8d29-e5eaf531e9e3"
      },
      "source": [
        "mb_file = pd.ExcelFile('data/microbiome/MID1.xls')\r\n",
        "mb_file"
      ],
      "execution_count": null,
      "outputs": [
        {
          "output_type": "execute_result",
          "data": {
            "text/plain": [
              "<pandas.io.excel._base.ExcelFile at 0x7f4837250ac8>"
            ]
          },
          "metadata": {
            "tags": []
          },
          "execution_count": 64
        }
      ]
    },
    {
      "cell_type": "markdown",
      "metadata": {
        "id": "2IOpkZrSxG0e"
      },
      "source": [
        "Since Excel file can contains more than one sheet, we parse the sheet manually as per our requirement."
      ]
    },
    {
      "cell_type": "code",
      "metadata": {
        "colab": {
          "base_uri": "https://localhost:8080/",
          "height": 202
        },
        "id": "QiqTXPctwewt",
        "outputId": "db56944e-e189-47f6-f5fc-9976730a6a7e"
      },
      "source": [
        "mb1 = mb_file.parse(\"Sheet 1\", header=None)\r\n",
        "mb1.columns = [\"Taxon\", \"Count\"]\r\n",
        "mb1.head()"
      ],
      "execution_count": null,
      "outputs": [
        {
          "output_type": "execute_result",
          "data": {
            "text/html": [
              "<div>\n",
              "<style scoped>\n",
              "    .dataframe tbody tr th:only-of-type {\n",
              "        vertical-align: middle;\n",
              "    }\n",
              "\n",
              "    .dataframe tbody tr th {\n",
              "        vertical-align: top;\n",
              "    }\n",
              "\n",
              "    .dataframe thead th {\n",
              "        text-align: right;\n",
              "    }\n",
              "</style>\n",
              "<table border=\"1\" class=\"dataframe\">\n",
              "  <thead>\n",
              "    <tr style=\"text-align: right;\">\n",
              "      <th></th>\n",
              "      <th>Taxon</th>\n",
              "      <th>Count</th>\n",
              "    </tr>\n",
              "  </thead>\n",
              "  <tbody>\n",
              "    <tr>\n",
              "      <th>0</th>\n",
              "      <td>Archaea \"Crenarchaeota\" Thermoprotei Desulfuro...</td>\n",
              "      <td>7</td>\n",
              "    </tr>\n",
              "    <tr>\n",
              "      <th>1</th>\n",
              "      <td>Archaea \"Crenarchaeota\" Thermoprotei Desulfuro...</td>\n",
              "      <td>2</td>\n",
              "    </tr>\n",
              "    <tr>\n",
              "      <th>2</th>\n",
              "      <td>Archaea \"Crenarchaeota\" Thermoprotei Sulfoloba...</td>\n",
              "      <td>3</td>\n",
              "    </tr>\n",
              "    <tr>\n",
              "      <th>3</th>\n",
              "      <td>Archaea \"Crenarchaeota\" Thermoprotei Thermopro...</td>\n",
              "      <td>3</td>\n",
              "    </tr>\n",
              "    <tr>\n",
              "      <th>4</th>\n",
              "      <td>Archaea \"Euryarchaeota\" \"Methanomicrobia\" Meth...</td>\n",
              "      <td>7</td>\n",
              "    </tr>\n",
              "  </tbody>\n",
              "</table>\n",
              "</div>"
            ],
            "text/plain": [
              "                                               Taxon  Count\n",
              "0  Archaea \"Crenarchaeota\" Thermoprotei Desulfuro...      7\n",
              "1  Archaea \"Crenarchaeota\" Thermoprotei Desulfuro...      2\n",
              "2  Archaea \"Crenarchaeota\" Thermoprotei Sulfoloba...      3\n",
              "3  Archaea \"Crenarchaeota\" Thermoprotei Thermopro...      3\n",
              "4  Archaea \"Euryarchaeota\" \"Methanomicrobia\" Meth...      7"
            ]
          },
          "metadata": {
            "tags": []
          },
          "execution_count": 65
        }
      ]
    },
    {
      "cell_type": "markdown",
      "metadata": {
        "id": "QjM7M9NUxeM5"
      },
      "source": [
        "There is now a `read_excel` conveneince function in Pandas that combines these steps into a single call"
      ]
    },
    {
      "cell_type": "code",
      "metadata": {
        "id": "oWzH9t5mzjGU"
      },
      "source": [
        "pd.read_excel?"
      ],
      "execution_count": null,
      "outputs": []
    },
    {
      "cell_type": "code",
      "metadata": {
        "colab": {
          "base_uri": "https://localhost:8080/",
          "height": 202
        },
        "id": "bUCZ9AqixaRF",
        "outputId": "24b759b6-cf3c-4ed1-d7ee-93144771d709"
      },
      "source": [
        "mb2 = pd.read_excel('data/microbiome/MID2.xls', sheet_name='Sheet 1', header=None)\r\n",
        "mb2.head()"
      ],
      "execution_count": null,
      "outputs": [
        {
          "output_type": "execute_result",
          "data": {
            "text/html": [
              "<div>\n",
              "<style scoped>\n",
              "    .dataframe tbody tr th:only-of-type {\n",
              "        vertical-align: middle;\n",
              "    }\n",
              "\n",
              "    .dataframe tbody tr th {\n",
              "        vertical-align: top;\n",
              "    }\n",
              "\n",
              "    .dataframe thead th {\n",
              "        text-align: right;\n",
              "    }\n",
              "</style>\n",
              "<table border=\"1\" class=\"dataframe\">\n",
              "  <thead>\n",
              "    <tr style=\"text-align: right;\">\n",
              "      <th></th>\n",
              "      <th>0</th>\n",
              "      <th>1</th>\n",
              "    </tr>\n",
              "  </thead>\n",
              "  <tbody>\n",
              "    <tr>\n",
              "      <th>0</th>\n",
              "      <td>Archaea \"Crenarchaeota\" Thermoprotei Acidiloba...</td>\n",
              "      <td>2</td>\n",
              "    </tr>\n",
              "    <tr>\n",
              "      <th>1</th>\n",
              "      <td>Archaea \"Crenarchaeota\" Thermoprotei Acidiloba...</td>\n",
              "      <td>14</td>\n",
              "    </tr>\n",
              "    <tr>\n",
              "      <th>2</th>\n",
              "      <td>Archaea \"Crenarchaeota\" Thermoprotei Desulfuro...</td>\n",
              "      <td>23</td>\n",
              "    </tr>\n",
              "    <tr>\n",
              "      <th>3</th>\n",
              "      <td>Archaea \"Crenarchaeota\" Thermoprotei Desulfuro...</td>\n",
              "      <td>1</td>\n",
              "    </tr>\n",
              "    <tr>\n",
              "      <th>4</th>\n",
              "      <td>Archaea \"Crenarchaeota\" Thermoprotei Desulfuro...</td>\n",
              "      <td>2</td>\n",
              "    </tr>\n",
              "  </tbody>\n",
              "</table>\n",
              "</div>"
            ],
            "text/plain": [
              "                                                   0   1\n",
              "0  Archaea \"Crenarchaeota\" Thermoprotei Acidiloba...   2\n",
              "1  Archaea \"Crenarchaeota\" Thermoprotei Acidiloba...  14\n",
              "2  Archaea \"Crenarchaeota\" Thermoprotei Desulfuro...  23\n",
              "3  Archaea \"Crenarchaeota\" Thermoprotei Desulfuro...   1\n",
              "4  Archaea \"Crenarchaeota\" Thermoprotei Desulfuro...   2"
            ]
          },
          "metadata": {
            "tags": []
          },
          "execution_count": 67
        }
      ]
    },
    {
      "cell_type": "markdown",
      "metadata": {
        "id": "nOt69asC6iFR"
      },
      "source": [
        "#Pandas Fundamentals\r\n",
        "In this section we will see how to use pandas package efficiently and effectively."
      ]
    },
    {
      "cell_type": "code",
      "metadata": {
        "id": "ro_NaGQVxjMw",
        "colab": {
          "base_uri": "https://localhost:8080/",
          "height": 253
        },
        "outputId": "8a2107b9-5aec-4afb-b5a2-e005c17bf67c"
      },
      "source": [
        "baseball = pd.read_csv(\"data/baseball.csv\", index_col='id')\r\n",
        "baseball.head()"
      ],
      "execution_count": null,
      "outputs": [
        {
          "output_type": "execute_result",
          "data": {
            "text/html": [
              "<div>\n",
              "<style scoped>\n",
              "    .dataframe tbody tr th:only-of-type {\n",
              "        vertical-align: middle;\n",
              "    }\n",
              "\n",
              "    .dataframe tbody tr th {\n",
              "        vertical-align: top;\n",
              "    }\n",
              "\n",
              "    .dataframe thead th {\n",
              "        text-align: right;\n",
              "    }\n",
              "</style>\n",
              "<table border=\"1\" class=\"dataframe\">\n",
              "  <thead>\n",
              "    <tr style=\"text-align: right;\">\n",
              "      <th></th>\n",
              "      <th>player</th>\n",
              "      <th>year</th>\n",
              "      <th>stint</th>\n",
              "      <th>team</th>\n",
              "      <th>lg</th>\n",
              "      <th>g</th>\n",
              "      <th>ab</th>\n",
              "      <th>r</th>\n",
              "      <th>h</th>\n",
              "      <th>X2b</th>\n",
              "      <th>X3b</th>\n",
              "      <th>hr</th>\n",
              "      <th>rbi</th>\n",
              "      <th>sb</th>\n",
              "      <th>cs</th>\n",
              "      <th>bb</th>\n",
              "      <th>so</th>\n",
              "      <th>ibb</th>\n",
              "      <th>hbp</th>\n",
              "      <th>sh</th>\n",
              "      <th>sf</th>\n",
              "      <th>gidp</th>\n",
              "    </tr>\n",
              "    <tr>\n",
              "      <th>id</th>\n",
              "      <th></th>\n",
              "      <th></th>\n",
              "      <th></th>\n",
              "      <th></th>\n",
              "      <th></th>\n",
              "      <th></th>\n",
              "      <th></th>\n",
              "      <th></th>\n",
              "      <th></th>\n",
              "      <th></th>\n",
              "      <th></th>\n",
              "      <th></th>\n",
              "      <th></th>\n",
              "      <th></th>\n",
              "      <th></th>\n",
              "      <th></th>\n",
              "      <th></th>\n",
              "      <th></th>\n",
              "      <th></th>\n",
              "      <th></th>\n",
              "      <th></th>\n",
              "      <th></th>\n",
              "    </tr>\n",
              "  </thead>\n",
              "  <tbody>\n",
              "    <tr>\n",
              "      <th>88641</th>\n",
              "      <td>womacto01</td>\n",
              "      <td>2006</td>\n",
              "      <td>2</td>\n",
              "      <td>CHN</td>\n",
              "      <td>NL</td>\n",
              "      <td>19</td>\n",
              "      <td>50</td>\n",
              "      <td>6</td>\n",
              "      <td>14</td>\n",
              "      <td>1</td>\n",
              "      <td>0</td>\n",
              "      <td>1</td>\n",
              "      <td>2.0</td>\n",
              "      <td>1.0</td>\n",
              "      <td>1.0</td>\n",
              "      <td>4</td>\n",
              "      <td>4.0</td>\n",
              "      <td>0.0</td>\n",
              "      <td>0.0</td>\n",
              "      <td>3.0</td>\n",
              "      <td>0.0</td>\n",
              "      <td>0.0</td>\n",
              "    </tr>\n",
              "    <tr>\n",
              "      <th>88643</th>\n",
              "      <td>schilcu01</td>\n",
              "      <td>2006</td>\n",
              "      <td>1</td>\n",
              "      <td>BOS</td>\n",
              "      <td>AL</td>\n",
              "      <td>31</td>\n",
              "      <td>2</td>\n",
              "      <td>0</td>\n",
              "      <td>1</td>\n",
              "      <td>0</td>\n",
              "      <td>0</td>\n",
              "      <td>0</td>\n",
              "      <td>0.0</td>\n",
              "      <td>0.0</td>\n",
              "      <td>0.0</td>\n",
              "      <td>0</td>\n",
              "      <td>1.0</td>\n",
              "      <td>0.0</td>\n",
              "      <td>0.0</td>\n",
              "      <td>0.0</td>\n",
              "      <td>0.0</td>\n",
              "      <td>0.0</td>\n",
              "    </tr>\n",
              "    <tr>\n",
              "      <th>88645</th>\n",
              "      <td>myersmi01</td>\n",
              "      <td>2006</td>\n",
              "      <td>1</td>\n",
              "      <td>NYA</td>\n",
              "      <td>AL</td>\n",
              "      <td>62</td>\n",
              "      <td>0</td>\n",
              "      <td>0</td>\n",
              "      <td>0</td>\n",
              "      <td>0</td>\n",
              "      <td>0</td>\n",
              "      <td>0</td>\n",
              "      <td>0.0</td>\n",
              "      <td>0.0</td>\n",
              "      <td>0.0</td>\n",
              "      <td>0</td>\n",
              "      <td>0.0</td>\n",
              "      <td>0.0</td>\n",
              "      <td>0.0</td>\n",
              "      <td>0.0</td>\n",
              "      <td>0.0</td>\n",
              "      <td>0.0</td>\n",
              "    </tr>\n",
              "    <tr>\n",
              "      <th>88649</th>\n",
              "      <td>helliri01</td>\n",
              "      <td>2006</td>\n",
              "      <td>1</td>\n",
              "      <td>MIL</td>\n",
              "      <td>NL</td>\n",
              "      <td>20</td>\n",
              "      <td>3</td>\n",
              "      <td>0</td>\n",
              "      <td>0</td>\n",
              "      <td>0</td>\n",
              "      <td>0</td>\n",
              "      <td>0</td>\n",
              "      <td>0.0</td>\n",
              "      <td>0.0</td>\n",
              "      <td>0.0</td>\n",
              "      <td>0</td>\n",
              "      <td>2.0</td>\n",
              "      <td>0.0</td>\n",
              "      <td>0.0</td>\n",
              "      <td>0.0</td>\n",
              "      <td>0.0</td>\n",
              "      <td>0.0</td>\n",
              "    </tr>\n",
              "    <tr>\n",
              "      <th>88650</th>\n",
              "      <td>johnsra05</td>\n",
              "      <td>2006</td>\n",
              "      <td>1</td>\n",
              "      <td>NYA</td>\n",
              "      <td>AL</td>\n",
              "      <td>33</td>\n",
              "      <td>6</td>\n",
              "      <td>0</td>\n",
              "      <td>1</td>\n",
              "      <td>0</td>\n",
              "      <td>0</td>\n",
              "      <td>0</td>\n",
              "      <td>0.0</td>\n",
              "      <td>0.0</td>\n",
              "      <td>0.0</td>\n",
              "      <td>0</td>\n",
              "      <td>4.0</td>\n",
              "      <td>0.0</td>\n",
              "      <td>0.0</td>\n",
              "      <td>0.0</td>\n",
              "      <td>0.0</td>\n",
              "      <td>0.0</td>\n",
              "    </tr>\n",
              "  </tbody>\n",
              "</table>\n",
              "</div>"
            ],
            "text/plain": [
              "          player  year  stint team  lg   g  ab  r   h  X2b  X3b  hr  rbi   sb  \\\n",
              "id                                                                              \n",
              "88641  womacto01  2006      2  CHN  NL  19  50  6  14    1    0   1  2.0  1.0   \n",
              "88643  schilcu01  2006      1  BOS  AL  31   2  0   1    0    0   0  0.0  0.0   \n",
              "88645  myersmi01  2006      1  NYA  AL  62   0  0   0    0    0   0  0.0  0.0   \n",
              "88649  helliri01  2006      1  MIL  NL  20   3  0   0    0    0   0  0.0  0.0   \n",
              "88650  johnsra05  2006      1  NYA  AL  33   6  0   1    0    0   0  0.0  0.0   \n",
              "\n",
              "        cs  bb   so  ibb  hbp   sh   sf  gidp  \n",
              "id                                             \n",
              "88641  1.0   4  4.0  0.0  0.0  3.0  0.0   0.0  \n",
              "88643  0.0   0  1.0  0.0  0.0  0.0  0.0   0.0  \n",
              "88645  0.0   0  0.0  0.0  0.0  0.0  0.0   0.0  \n",
              "88649  0.0   0  2.0  0.0  0.0  0.0  0.0   0.0  \n",
              "88650  0.0   0  4.0  0.0  0.0  0.0  0.0   0.0  "
            ]
          },
          "metadata": {
            "tags": []
          },
          "execution_count": 68
        }
      ]
    },
    {
      "cell_type": "markdown",
      "metadata": {
        "id": "eUaV93i2-KU7"
      },
      "source": [
        "We now specified the __id__ column as the __index__, since it appears to be a unique identifier. We could try to create a unique index ourselves by combining __player__ and __year__"
      ]
    },
    {
      "cell_type": "code",
      "metadata": {
        "colab": {
          "base_uri": "https://localhost:8080/",
          "height": 222
        },
        "id": "wO0kiJsN6_Vu",
        "outputId": "307e7924-db0a-48ca-a190-ca45dfc8fe12"
      },
      "source": [
        "player_id = baseball.player + baseball.year.astype(str)\r\n",
        "baseball_newind = baseball.copy()\r\n",
        "baseball_newind.index = player_id\r\n",
        "baseball_newind.head()"
      ],
      "execution_count": null,
      "outputs": [
        {
          "output_type": "execute_result",
          "data": {
            "text/html": [
              "<div>\n",
              "<style scoped>\n",
              "    .dataframe tbody tr th:only-of-type {\n",
              "        vertical-align: middle;\n",
              "    }\n",
              "\n",
              "    .dataframe tbody tr th {\n",
              "        vertical-align: top;\n",
              "    }\n",
              "\n",
              "    .dataframe thead th {\n",
              "        text-align: right;\n",
              "    }\n",
              "</style>\n",
              "<table border=\"1\" class=\"dataframe\">\n",
              "  <thead>\n",
              "    <tr style=\"text-align: right;\">\n",
              "      <th></th>\n",
              "      <th>player</th>\n",
              "      <th>year</th>\n",
              "      <th>stint</th>\n",
              "      <th>team</th>\n",
              "      <th>lg</th>\n",
              "      <th>g</th>\n",
              "      <th>ab</th>\n",
              "      <th>r</th>\n",
              "      <th>h</th>\n",
              "      <th>X2b</th>\n",
              "      <th>X3b</th>\n",
              "      <th>hr</th>\n",
              "      <th>rbi</th>\n",
              "      <th>sb</th>\n",
              "      <th>cs</th>\n",
              "      <th>bb</th>\n",
              "      <th>so</th>\n",
              "      <th>ibb</th>\n",
              "      <th>hbp</th>\n",
              "      <th>sh</th>\n",
              "      <th>sf</th>\n",
              "      <th>gidp</th>\n",
              "    </tr>\n",
              "  </thead>\n",
              "  <tbody>\n",
              "    <tr>\n",
              "      <th>womacto012006</th>\n",
              "      <td>womacto01</td>\n",
              "      <td>2006</td>\n",
              "      <td>2</td>\n",
              "      <td>CHN</td>\n",
              "      <td>NL</td>\n",
              "      <td>19</td>\n",
              "      <td>50</td>\n",
              "      <td>6</td>\n",
              "      <td>14</td>\n",
              "      <td>1</td>\n",
              "      <td>0</td>\n",
              "      <td>1</td>\n",
              "      <td>2.0</td>\n",
              "      <td>1.0</td>\n",
              "      <td>1.0</td>\n",
              "      <td>4</td>\n",
              "      <td>4.0</td>\n",
              "      <td>0.0</td>\n",
              "      <td>0.0</td>\n",
              "      <td>3.0</td>\n",
              "      <td>0.0</td>\n",
              "      <td>0.0</td>\n",
              "    </tr>\n",
              "    <tr>\n",
              "      <th>schilcu012006</th>\n",
              "      <td>schilcu01</td>\n",
              "      <td>2006</td>\n",
              "      <td>1</td>\n",
              "      <td>BOS</td>\n",
              "      <td>AL</td>\n",
              "      <td>31</td>\n",
              "      <td>2</td>\n",
              "      <td>0</td>\n",
              "      <td>1</td>\n",
              "      <td>0</td>\n",
              "      <td>0</td>\n",
              "      <td>0</td>\n",
              "      <td>0.0</td>\n",
              "      <td>0.0</td>\n",
              "      <td>0.0</td>\n",
              "      <td>0</td>\n",
              "      <td>1.0</td>\n",
              "      <td>0.0</td>\n",
              "      <td>0.0</td>\n",
              "      <td>0.0</td>\n",
              "      <td>0.0</td>\n",
              "      <td>0.0</td>\n",
              "    </tr>\n",
              "    <tr>\n",
              "      <th>myersmi012006</th>\n",
              "      <td>myersmi01</td>\n",
              "      <td>2006</td>\n",
              "      <td>1</td>\n",
              "      <td>NYA</td>\n",
              "      <td>AL</td>\n",
              "      <td>62</td>\n",
              "      <td>0</td>\n",
              "      <td>0</td>\n",
              "      <td>0</td>\n",
              "      <td>0</td>\n",
              "      <td>0</td>\n",
              "      <td>0</td>\n",
              "      <td>0.0</td>\n",
              "      <td>0.0</td>\n",
              "      <td>0.0</td>\n",
              "      <td>0</td>\n",
              "      <td>0.0</td>\n",
              "      <td>0.0</td>\n",
              "      <td>0.0</td>\n",
              "      <td>0.0</td>\n",
              "      <td>0.0</td>\n",
              "      <td>0.0</td>\n",
              "    </tr>\n",
              "    <tr>\n",
              "      <th>helliri012006</th>\n",
              "      <td>helliri01</td>\n",
              "      <td>2006</td>\n",
              "      <td>1</td>\n",
              "      <td>MIL</td>\n",
              "      <td>NL</td>\n",
              "      <td>20</td>\n",
              "      <td>3</td>\n",
              "      <td>0</td>\n",
              "      <td>0</td>\n",
              "      <td>0</td>\n",
              "      <td>0</td>\n",
              "      <td>0</td>\n",
              "      <td>0.0</td>\n",
              "      <td>0.0</td>\n",
              "      <td>0.0</td>\n",
              "      <td>0</td>\n",
              "      <td>2.0</td>\n",
              "      <td>0.0</td>\n",
              "      <td>0.0</td>\n",
              "      <td>0.0</td>\n",
              "      <td>0.0</td>\n",
              "      <td>0.0</td>\n",
              "    </tr>\n",
              "    <tr>\n",
              "      <th>johnsra052006</th>\n",
              "      <td>johnsra05</td>\n",
              "      <td>2006</td>\n",
              "      <td>1</td>\n",
              "      <td>NYA</td>\n",
              "      <td>AL</td>\n",
              "      <td>33</td>\n",
              "      <td>6</td>\n",
              "      <td>0</td>\n",
              "      <td>1</td>\n",
              "      <td>0</td>\n",
              "      <td>0</td>\n",
              "      <td>0</td>\n",
              "      <td>0.0</td>\n",
              "      <td>0.0</td>\n",
              "      <td>0.0</td>\n",
              "      <td>0</td>\n",
              "      <td>4.0</td>\n",
              "      <td>0.0</td>\n",
              "      <td>0.0</td>\n",
              "      <td>0.0</td>\n",
              "      <td>0.0</td>\n",
              "      <td>0.0</td>\n",
              "    </tr>\n",
              "  </tbody>\n",
              "</table>\n",
              "</div>"
            ],
            "text/plain": [
              "                  player  year  stint team  lg   g  ab  r   h  X2b  X3b  hr  \\\n",
              "womacto012006  womacto01  2006      2  CHN  NL  19  50  6  14    1    0   1   \n",
              "schilcu012006  schilcu01  2006      1  BOS  AL  31   2  0   1    0    0   0   \n",
              "myersmi012006  myersmi01  2006      1  NYA  AL  62   0  0   0    0    0   0   \n",
              "helliri012006  helliri01  2006      1  MIL  NL  20   3  0   0    0    0   0   \n",
              "johnsra052006  johnsra05  2006      1  NYA  AL  33   6  0   1    0    0   0   \n",
              "\n",
              "               rbi   sb   cs  bb   so  ibb  hbp   sh   sf  gidp  \n",
              "womacto012006  2.0  1.0  1.0   4  4.0  0.0  0.0  3.0  0.0   0.0  \n",
              "schilcu012006  0.0  0.0  0.0   0  1.0  0.0  0.0  0.0  0.0   0.0  \n",
              "myersmi012006  0.0  0.0  0.0   0  0.0  0.0  0.0  0.0  0.0   0.0  \n",
              "helliri012006  0.0  0.0  0.0   0  2.0  0.0  0.0  0.0  0.0   0.0  \n",
              "johnsra052006  0.0  0.0  0.0   0  4.0  0.0  0.0  0.0  0.0   0.0  "
            ]
          },
          "metadata": {
            "tags": []
          },
          "execution_count": 69
        }
      ]
    },
    {
      "cell_type": "markdown",
      "metadata": {
        "id": "EzZR8rVf-cwE"
      },
      "source": [
        "Cross Checking"
      ]
    },
    {
      "cell_type": "code",
      "metadata": {
        "colab": {
          "base_uri": "https://localhost:8080/"
        },
        "id": "rYDqSS69-VIf",
        "outputId": "f4f48c3a-ed7d-4550-a5a2-74c4ec727ce3"
      },
      "source": [
        "baseball_newind.index.is_unique"
      ],
      "execution_count": null,
      "outputs": [
        {
          "output_type": "execute_result",
          "data": {
            "text/plain": [
              "False"
            ]
          },
          "metadata": {
            "tags": []
          },
          "execution_count": 70
        }
      ]
    },
    {
      "cell_type": "markdown",
      "metadata": {
        "id": "L1uEjf2J-idr"
      },
      "source": [
        "This `False` means that indices need not be unique. Our choice is not unique because some players change teams within years."
      ]
    },
    {
      "cell_type": "code",
      "metadata": {
        "colab": {
          "base_uri": "https://localhost:8080/"
        },
        "id": "0zl8jGQj-fBt",
        "outputId": "b6fb7953-805b-4b24-8249-95edf479bfe7"
      },
      "source": [
        "pd.Series(baseball_newind.index).value_counts()"
      ],
      "execution_count": null,
      "outputs": [
        {
          "output_type": "execute_result",
          "data": {
            "text/plain": [
              "sweenma012007    2\n",
              "trachst012007    2\n",
              "francju012007    2\n",
              "wellsda012007    2\n",
              "gomezch022007    2\n",
              "                ..\n",
              "seaneru012007    1\n",
              "clemero022007    1\n",
              "williwo022007    1\n",
              "thomeji012007    1\n",
              "helliri012006    1\n",
              "Length: 88, dtype: int64"
            ]
          },
          "metadata": {
            "tags": []
          },
          "execution_count": 71
        }
      ]
    },
    {
      "cell_type": "markdown",
      "metadata": {
        "id": "OozneZzd-xuM"
      },
      "source": [
        "We can create a truly unique index by combining `player`, `team` and `year`:"
      ]
    },
    {
      "cell_type": "code",
      "metadata": {
        "colab": {
          "base_uri": "https://localhost:8080/",
          "height": 222
        },
        "id": "QpZvgF9P-tJM",
        "outputId": "401fe1a7-6a11-470a-c925-49f1ad7765bf"
      },
      "source": [
        "player_unique = baseball.player + baseball.team + baseball.year.astype(str)\r\n",
        "baseball_newind = baseball.copy()\r\n",
        "baseball_newind.index = player_unique\r\n",
        "baseball_newind.head()"
      ],
      "execution_count": null,
      "outputs": [
        {
          "output_type": "execute_result",
          "data": {
            "text/html": [
              "<div>\n",
              "<style scoped>\n",
              "    .dataframe tbody tr th:only-of-type {\n",
              "        vertical-align: middle;\n",
              "    }\n",
              "\n",
              "    .dataframe tbody tr th {\n",
              "        vertical-align: top;\n",
              "    }\n",
              "\n",
              "    .dataframe thead th {\n",
              "        text-align: right;\n",
              "    }\n",
              "</style>\n",
              "<table border=\"1\" class=\"dataframe\">\n",
              "  <thead>\n",
              "    <tr style=\"text-align: right;\">\n",
              "      <th></th>\n",
              "      <th>player</th>\n",
              "      <th>year</th>\n",
              "      <th>stint</th>\n",
              "      <th>team</th>\n",
              "      <th>lg</th>\n",
              "      <th>g</th>\n",
              "      <th>ab</th>\n",
              "      <th>r</th>\n",
              "      <th>h</th>\n",
              "      <th>X2b</th>\n",
              "      <th>X3b</th>\n",
              "      <th>hr</th>\n",
              "      <th>rbi</th>\n",
              "      <th>sb</th>\n",
              "      <th>cs</th>\n",
              "      <th>bb</th>\n",
              "      <th>so</th>\n",
              "      <th>ibb</th>\n",
              "      <th>hbp</th>\n",
              "      <th>sh</th>\n",
              "      <th>sf</th>\n",
              "      <th>gidp</th>\n",
              "    </tr>\n",
              "  </thead>\n",
              "  <tbody>\n",
              "    <tr>\n",
              "      <th>womacto01CHN2006</th>\n",
              "      <td>womacto01</td>\n",
              "      <td>2006</td>\n",
              "      <td>2</td>\n",
              "      <td>CHN</td>\n",
              "      <td>NL</td>\n",
              "      <td>19</td>\n",
              "      <td>50</td>\n",
              "      <td>6</td>\n",
              "      <td>14</td>\n",
              "      <td>1</td>\n",
              "      <td>0</td>\n",
              "      <td>1</td>\n",
              "      <td>2.0</td>\n",
              "      <td>1.0</td>\n",
              "      <td>1.0</td>\n",
              "      <td>4</td>\n",
              "      <td>4.0</td>\n",
              "      <td>0.0</td>\n",
              "      <td>0.0</td>\n",
              "      <td>3.0</td>\n",
              "      <td>0.0</td>\n",
              "      <td>0.0</td>\n",
              "    </tr>\n",
              "    <tr>\n",
              "      <th>schilcu01BOS2006</th>\n",
              "      <td>schilcu01</td>\n",
              "      <td>2006</td>\n",
              "      <td>1</td>\n",
              "      <td>BOS</td>\n",
              "      <td>AL</td>\n",
              "      <td>31</td>\n",
              "      <td>2</td>\n",
              "      <td>0</td>\n",
              "      <td>1</td>\n",
              "      <td>0</td>\n",
              "      <td>0</td>\n",
              "      <td>0</td>\n",
              "      <td>0.0</td>\n",
              "      <td>0.0</td>\n",
              "      <td>0.0</td>\n",
              "      <td>0</td>\n",
              "      <td>1.0</td>\n",
              "      <td>0.0</td>\n",
              "      <td>0.0</td>\n",
              "      <td>0.0</td>\n",
              "      <td>0.0</td>\n",
              "      <td>0.0</td>\n",
              "    </tr>\n",
              "    <tr>\n",
              "      <th>myersmi01NYA2006</th>\n",
              "      <td>myersmi01</td>\n",
              "      <td>2006</td>\n",
              "      <td>1</td>\n",
              "      <td>NYA</td>\n",
              "      <td>AL</td>\n",
              "      <td>62</td>\n",
              "      <td>0</td>\n",
              "      <td>0</td>\n",
              "      <td>0</td>\n",
              "      <td>0</td>\n",
              "      <td>0</td>\n",
              "      <td>0</td>\n",
              "      <td>0.0</td>\n",
              "      <td>0.0</td>\n",
              "      <td>0.0</td>\n",
              "      <td>0</td>\n",
              "      <td>0.0</td>\n",
              "      <td>0.0</td>\n",
              "      <td>0.0</td>\n",
              "      <td>0.0</td>\n",
              "      <td>0.0</td>\n",
              "      <td>0.0</td>\n",
              "    </tr>\n",
              "    <tr>\n",
              "      <th>helliri01MIL2006</th>\n",
              "      <td>helliri01</td>\n",
              "      <td>2006</td>\n",
              "      <td>1</td>\n",
              "      <td>MIL</td>\n",
              "      <td>NL</td>\n",
              "      <td>20</td>\n",
              "      <td>3</td>\n",
              "      <td>0</td>\n",
              "      <td>0</td>\n",
              "      <td>0</td>\n",
              "      <td>0</td>\n",
              "      <td>0</td>\n",
              "      <td>0.0</td>\n",
              "      <td>0.0</td>\n",
              "      <td>0.0</td>\n",
              "      <td>0</td>\n",
              "      <td>2.0</td>\n",
              "      <td>0.0</td>\n",
              "      <td>0.0</td>\n",
              "      <td>0.0</td>\n",
              "      <td>0.0</td>\n",
              "      <td>0.0</td>\n",
              "    </tr>\n",
              "    <tr>\n",
              "      <th>johnsra05NYA2006</th>\n",
              "      <td>johnsra05</td>\n",
              "      <td>2006</td>\n",
              "      <td>1</td>\n",
              "      <td>NYA</td>\n",
              "      <td>AL</td>\n",
              "      <td>33</td>\n",
              "      <td>6</td>\n",
              "      <td>0</td>\n",
              "      <td>1</td>\n",
              "      <td>0</td>\n",
              "      <td>0</td>\n",
              "      <td>0</td>\n",
              "      <td>0.0</td>\n",
              "      <td>0.0</td>\n",
              "      <td>0.0</td>\n",
              "      <td>0</td>\n",
              "      <td>4.0</td>\n",
              "      <td>0.0</td>\n",
              "      <td>0.0</td>\n",
              "      <td>0.0</td>\n",
              "      <td>0.0</td>\n",
              "      <td>0.0</td>\n",
              "    </tr>\n",
              "  </tbody>\n",
              "</table>\n",
              "</div>"
            ],
            "text/plain": [
              "                     player  year  stint team  lg   g  ab  r   h  X2b  X3b  \\\n",
              "womacto01CHN2006  womacto01  2006      2  CHN  NL  19  50  6  14    1    0   \n",
              "schilcu01BOS2006  schilcu01  2006      1  BOS  AL  31   2  0   1    0    0   \n",
              "myersmi01NYA2006  myersmi01  2006      1  NYA  AL  62   0  0   0    0    0   \n",
              "helliri01MIL2006  helliri01  2006      1  MIL  NL  20   3  0   0    0    0   \n",
              "johnsra05NYA2006  johnsra05  2006      1  NYA  AL  33   6  0   1    0    0   \n",
              "\n",
              "                  hr  rbi   sb   cs  bb   so  ibb  hbp   sh   sf  gidp  \n",
              "womacto01CHN2006   1  2.0  1.0  1.0   4  4.0  0.0  0.0  3.0  0.0   0.0  \n",
              "schilcu01BOS2006   0  0.0  0.0  0.0   0  1.0  0.0  0.0  0.0  0.0   0.0  \n",
              "myersmi01NYA2006   0  0.0  0.0  0.0   0  0.0  0.0  0.0  0.0  0.0   0.0  \n",
              "helliri01MIL2006   0  0.0  0.0  0.0   0  2.0  0.0  0.0  0.0  0.0   0.0  \n",
              "johnsra05NYA2006   0  0.0  0.0  0.0   0  4.0  0.0  0.0  0.0  0.0   0.0  "
            ]
          },
          "metadata": {
            "tags": []
          },
          "execution_count": 72
        }
      ]
    },
    {
      "cell_type": "code",
      "metadata": {
        "colab": {
          "base_uri": "https://localhost:8080/"
        },
        "id": "46uMRQU1-0O8",
        "outputId": "41d4a9f4-740b-4ec9-e332-1b810905257a"
      },
      "source": [
        "baseball_newind.index.is_unique"
      ],
      "execution_count": null,
      "outputs": [
        {
          "output_type": "execute_result",
          "data": {
            "text/plain": [
              "True"
            ]
          },
          "metadata": {
            "tags": []
          },
          "execution_count": 73
        }
      ]
    },
    {
      "cell_type": "markdown",
      "metadata": {
        "id": "icl_o9BW-4E3"
      },
      "source": [
        "We can create meaningful indices more easily using a hierarchical index; for now, we will stick with the numeric `id` field as our index."
      ]
    },
    {
      "cell_type": "markdown",
      "metadata": {
        "id": "Bz6XHg6U_IG5"
      },
      "source": [
        "### Manupulating Indecies\r\n",
        "__Reindexing__ allows user to manupulate the data labels in the dataframe. It forces the dataframe to confirm the new index, and fill the missing data idd requested.\r\n",
        "\r\n",
        "The `reindex` attribute is used to alter the order of the rows"
      ]
    },
    {
      "cell_type": "code",
      "metadata": {
        "colab": {
          "base_uri": "https://localhost:8080/",
          "height": 253
        },
        "id": "v6AFGx0g-8RE",
        "outputId": "af0710d4-eb2e-4083-c61d-232163022092"
      },
      "source": [
        "baseball.reindex(baseball.index[::-1]).head()"
      ],
      "execution_count": null,
      "outputs": [
        {
          "output_type": "execute_result",
          "data": {
            "text/html": [
              "<div>\n",
              "<style scoped>\n",
              "    .dataframe tbody tr th:only-of-type {\n",
              "        vertical-align: middle;\n",
              "    }\n",
              "\n",
              "    .dataframe tbody tr th {\n",
              "        vertical-align: top;\n",
              "    }\n",
              "\n",
              "    .dataframe thead th {\n",
              "        text-align: right;\n",
              "    }\n",
              "</style>\n",
              "<table border=\"1\" class=\"dataframe\">\n",
              "  <thead>\n",
              "    <tr style=\"text-align: right;\">\n",
              "      <th></th>\n",
              "      <th>player</th>\n",
              "      <th>year</th>\n",
              "      <th>stint</th>\n",
              "      <th>team</th>\n",
              "      <th>lg</th>\n",
              "      <th>g</th>\n",
              "      <th>ab</th>\n",
              "      <th>r</th>\n",
              "      <th>h</th>\n",
              "      <th>X2b</th>\n",
              "      <th>X3b</th>\n",
              "      <th>hr</th>\n",
              "      <th>rbi</th>\n",
              "      <th>sb</th>\n",
              "      <th>cs</th>\n",
              "      <th>bb</th>\n",
              "      <th>so</th>\n",
              "      <th>ibb</th>\n",
              "      <th>hbp</th>\n",
              "      <th>sh</th>\n",
              "      <th>sf</th>\n",
              "      <th>gidp</th>\n",
              "    </tr>\n",
              "    <tr>\n",
              "      <th>id</th>\n",
              "      <th></th>\n",
              "      <th></th>\n",
              "      <th></th>\n",
              "      <th></th>\n",
              "      <th></th>\n",
              "      <th></th>\n",
              "      <th></th>\n",
              "      <th></th>\n",
              "      <th></th>\n",
              "      <th></th>\n",
              "      <th></th>\n",
              "      <th></th>\n",
              "      <th></th>\n",
              "      <th></th>\n",
              "      <th></th>\n",
              "      <th></th>\n",
              "      <th></th>\n",
              "      <th></th>\n",
              "      <th></th>\n",
              "      <th></th>\n",
              "      <th></th>\n",
              "      <th></th>\n",
              "    </tr>\n",
              "  </thead>\n",
              "  <tbody>\n",
              "    <tr>\n",
              "      <th>89534</th>\n",
              "      <td>alomasa02</td>\n",
              "      <td>2007</td>\n",
              "      <td>1</td>\n",
              "      <td>NYN</td>\n",
              "      <td>NL</td>\n",
              "      <td>8</td>\n",
              "      <td>22</td>\n",
              "      <td>1</td>\n",
              "      <td>3</td>\n",
              "      <td>1</td>\n",
              "      <td>0</td>\n",
              "      <td>0</td>\n",
              "      <td>0.0</td>\n",
              "      <td>0.0</td>\n",
              "      <td>0.0</td>\n",
              "      <td>0</td>\n",
              "      <td>3.0</td>\n",
              "      <td>0.0</td>\n",
              "      <td>0.0</td>\n",
              "      <td>0.0</td>\n",
              "      <td>0.0</td>\n",
              "      <td>0.0</td>\n",
              "    </tr>\n",
              "    <tr>\n",
              "      <th>89533</th>\n",
              "      <td>aloumo01</td>\n",
              "      <td>2007</td>\n",
              "      <td>1</td>\n",
              "      <td>NYN</td>\n",
              "      <td>NL</td>\n",
              "      <td>87</td>\n",
              "      <td>328</td>\n",
              "      <td>51</td>\n",
              "      <td>112</td>\n",
              "      <td>19</td>\n",
              "      <td>1</td>\n",
              "      <td>13</td>\n",
              "      <td>49.0</td>\n",
              "      <td>3.0</td>\n",
              "      <td>0.0</td>\n",
              "      <td>27</td>\n",
              "      <td>30.0</td>\n",
              "      <td>5.0</td>\n",
              "      <td>2.0</td>\n",
              "      <td>0.0</td>\n",
              "      <td>3.0</td>\n",
              "      <td>13.0</td>\n",
              "    </tr>\n",
              "    <tr>\n",
              "      <th>89530</th>\n",
              "      <td>ausmubr01</td>\n",
              "      <td>2007</td>\n",
              "      <td>1</td>\n",
              "      <td>HOU</td>\n",
              "      <td>NL</td>\n",
              "      <td>117</td>\n",
              "      <td>349</td>\n",
              "      <td>38</td>\n",
              "      <td>82</td>\n",
              "      <td>16</td>\n",
              "      <td>3</td>\n",
              "      <td>3</td>\n",
              "      <td>25.0</td>\n",
              "      <td>6.0</td>\n",
              "      <td>1.0</td>\n",
              "      <td>37</td>\n",
              "      <td>74.0</td>\n",
              "      <td>3.0</td>\n",
              "      <td>6.0</td>\n",
              "      <td>4.0</td>\n",
              "      <td>1.0</td>\n",
              "      <td>11.0</td>\n",
              "    </tr>\n",
              "    <tr>\n",
              "      <th>89526</th>\n",
              "      <td>benitar01</td>\n",
              "      <td>2007</td>\n",
              "      <td>1</td>\n",
              "      <td>SFN</td>\n",
              "      <td>NL</td>\n",
              "      <td>19</td>\n",
              "      <td>0</td>\n",
              "      <td>0</td>\n",
              "      <td>0</td>\n",
              "      <td>0</td>\n",
              "      <td>0</td>\n",
              "      <td>0</td>\n",
              "      <td>0.0</td>\n",
              "      <td>0.0</td>\n",
              "      <td>0.0</td>\n",
              "      <td>0</td>\n",
              "      <td>0.0</td>\n",
              "      <td>0.0</td>\n",
              "      <td>0.0</td>\n",
              "      <td>0.0</td>\n",
              "      <td>0.0</td>\n",
              "      <td>0.0</td>\n",
              "    </tr>\n",
              "    <tr>\n",
              "      <th>89525</th>\n",
              "      <td>benitar01</td>\n",
              "      <td>2007</td>\n",
              "      <td>2</td>\n",
              "      <td>FLO</td>\n",
              "      <td>NL</td>\n",
              "      <td>34</td>\n",
              "      <td>0</td>\n",
              "      <td>0</td>\n",
              "      <td>0</td>\n",
              "      <td>0</td>\n",
              "      <td>0</td>\n",
              "      <td>0</td>\n",
              "      <td>0.0</td>\n",
              "      <td>0.0</td>\n",
              "      <td>0.0</td>\n",
              "      <td>0</td>\n",
              "      <td>0.0</td>\n",
              "      <td>0.0</td>\n",
              "      <td>0.0</td>\n",
              "      <td>0.0</td>\n",
              "      <td>0.0</td>\n",
              "      <td>0.0</td>\n",
              "    </tr>\n",
              "  </tbody>\n",
              "</table>\n",
              "</div>"
            ],
            "text/plain": [
              "          player  year  stint team  lg    g   ab   r    h  X2b  X3b  hr   rbi  \\\n",
              "id                                                                              \n",
              "89534  alomasa02  2007      1  NYN  NL    8   22   1    3    1    0   0   0.0   \n",
              "89533   aloumo01  2007      1  NYN  NL   87  328  51  112   19    1  13  49.0   \n",
              "89530  ausmubr01  2007      1  HOU  NL  117  349  38   82   16    3   3  25.0   \n",
              "89526  benitar01  2007      1  SFN  NL   19    0   0    0    0    0   0   0.0   \n",
              "89525  benitar01  2007      2  FLO  NL   34    0   0    0    0    0   0   0.0   \n",
              "\n",
              "        sb   cs  bb    so  ibb  hbp   sh   sf  gidp  \n",
              "id                                                   \n",
              "89534  0.0  0.0   0   3.0  0.0  0.0  0.0  0.0   0.0  \n",
              "89533  3.0  0.0  27  30.0  5.0  2.0  0.0  3.0  13.0  \n",
              "89530  6.0  1.0  37  74.0  3.0  6.0  4.0  1.0  11.0  \n",
              "89526  0.0  0.0   0   0.0  0.0  0.0  0.0  0.0   0.0  \n",
              "89525  0.0  0.0   0   0.0  0.0  0.0  0.0  0.0   0.0  "
            ]
          },
          "metadata": {
            "tags": []
          },
          "execution_count": 74
        }
      ]
    },
    {
      "cell_type": "markdown",
      "metadata": {
        "id": "FPyVxlv7AKGq"
      },
      "source": [
        "__Note:__ The `id` index is not sequential. Say we wanted to populate the table with every `id` value. We could specify and index that is a sequence from the first to the last `id` numbers in the database, and Pandas would fill in the missing data with `NaN` values."
      ]
    },
    {
      "cell_type": "code",
      "metadata": {
        "colab": {
          "base_uri": "https://localhost:8080/",
          "height": 253
        },
        "id": "ZrxLROV9ACAD",
        "outputId": "71868afe-edcb-4b2e-9882-d5c7cfcf1d7a"
      },
      "source": [
        "id_range = range(baseball.index.values.min(), baseball.index.values.max())\r\n",
        "baseball.reindex(id_range).head()"
      ],
      "execution_count": null,
      "outputs": [
        {
          "output_type": "execute_result",
          "data": {
            "text/html": [
              "<div>\n",
              "<style scoped>\n",
              "    .dataframe tbody tr th:only-of-type {\n",
              "        vertical-align: middle;\n",
              "    }\n",
              "\n",
              "    .dataframe tbody tr th {\n",
              "        vertical-align: top;\n",
              "    }\n",
              "\n",
              "    .dataframe thead th {\n",
              "        text-align: right;\n",
              "    }\n",
              "</style>\n",
              "<table border=\"1\" class=\"dataframe\">\n",
              "  <thead>\n",
              "    <tr style=\"text-align: right;\">\n",
              "      <th></th>\n",
              "      <th>player</th>\n",
              "      <th>year</th>\n",
              "      <th>stint</th>\n",
              "      <th>team</th>\n",
              "      <th>lg</th>\n",
              "      <th>g</th>\n",
              "      <th>ab</th>\n",
              "      <th>r</th>\n",
              "      <th>h</th>\n",
              "      <th>X2b</th>\n",
              "      <th>X3b</th>\n",
              "      <th>hr</th>\n",
              "      <th>rbi</th>\n",
              "      <th>sb</th>\n",
              "      <th>cs</th>\n",
              "      <th>bb</th>\n",
              "      <th>so</th>\n",
              "      <th>ibb</th>\n",
              "      <th>hbp</th>\n",
              "      <th>sh</th>\n",
              "      <th>sf</th>\n",
              "      <th>gidp</th>\n",
              "    </tr>\n",
              "    <tr>\n",
              "      <th>id</th>\n",
              "      <th></th>\n",
              "      <th></th>\n",
              "      <th></th>\n",
              "      <th></th>\n",
              "      <th></th>\n",
              "      <th></th>\n",
              "      <th></th>\n",
              "      <th></th>\n",
              "      <th></th>\n",
              "      <th></th>\n",
              "      <th></th>\n",
              "      <th></th>\n",
              "      <th></th>\n",
              "      <th></th>\n",
              "      <th></th>\n",
              "      <th></th>\n",
              "      <th></th>\n",
              "      <th></th>\n",
              "      <th></th>\n",
              "      <th></th>\n",
              "      <th></th>\n",
              "      <th></th>\n",
              "    </tr>\n",
              "  </thead>\n",
              "  <tbody>\n",
              "    <tr>\n",
              "      <th>88641</th>\n",
              "      <td>womacto01</td>\n",
              "      <td>2006.0</td>\n",
              "      <td>2.0</td>\n",
              "      <td>CHN</td>\n",
              "      <td>NL</td>\n",
              "      <td>19.0</td>\n",
              "      <td>50.0</td>\n",
              "      <td>6.0</td>\n",
              "      <td>14.0</td>\n",
              "      <td>1.0</td>\n",
              "      <td>0.0</td>\n",
              "      <td>1.0</td>\n",
              "      <td>2.0</td>\n",
              "      <td>1.0</td>\n",
              "      <td>1.0</td>\n",
              "      <td>4.0</td>\n",
              "      <td>4.0</td>\n",
              "      <td>0.0</td>\n",
              "      <td>0.0</td>\n",
              "      <td>3.0</td>\n",
              "      <td>0.0</td>\n",
              "      <td>0.0</td>\n",
              "    </tr>\n",
              "    <tr>\n",
              "      <th>88642</th>\n",
              "      <td>NaN</td>\n",
              "      <td>NaN</td>\n",
              "      <td>NaN</td>\n",
              "      <td>NaN</td>\n",
              "      <td>NaN</td>\n",
              "      <td>NaN</td>\n",
              "      <td>NaN</td>\n",
              "      <td>NaN</td>\n",
              "      <td>NaN</td>\n",
              "      <td>NaN</td>\n",
              "      <td>NaN</td>\n",
              "      <td>NaN</td>\n",
              "      <td>NaN</td>\n",
              "      <td>NaN</td>\n",
              "      <td>NaN</td>\n",
              "      <td>NaN</td>\n",
              "      <td>NaN</td>\n",
              "      <td>NaN</td>\n",
              "      <td>NaN</td>\n",
              "      <td>NaN</td>\n",
              "      <td>NaN</td>\n",
              "      <td>NaN</td>\n",
              "    </tr>\n",
              "    <tr>\n",
              "      <th>88643</th>\n",
              "      <td>schilcu01</td>\n",
              "      <td>2006.0</td>\n",
              "      <td>1.0</td>\n",
              "      <td>BOS</td>\n",
              "      <td>AL</td>\n",
              "      <td>31.0</td>\n",
              "      <td>2.0</td>\n",
              "      <td>0.0</td>\n",
              "      <td>1.0</td>\n",
              "      <td>0.0</td>\n",
              "      <td>0.0</td>\n",
              "      <td>0.0</td>\n",
              "      <td>0.0</td>\n",
              "      <td>0.0</td>\n",
              "      <td>0.0</td>\n",
              "      <td>0.0</td>\n",
              "      <td>1.0</td>\n",
              "      <td>0.0</td>\n",
              "      <td>0.0</td>\n",
              "      <td>0.0</td>\n",
              "      <td>0.0</td>\n",
              "      <td>0.0</td>\n",
              "    </tr>\n",
              "    <tr>\n",
              "      <th>88644</th>\n",
              "      <td>NaN</td>\n",
              "      <td>NaN</td>\n",
              "      <td>NaN</td>\n",
              "      <td>NaN</td>\n",
              "      <td>NaN</td>\n",
              "      <td>NaN</td>\n",
              "      <td>NaN</td>\n",
              "      <td>NaN</td>\n",
              "      <td>NaN</td>\n",
              "      <td>NaN</td>\n",
              "      <td>NaN</td>\n",
              "      <td>NaN</td>\n",
              "      <td>NaN</td>\n",
              "      <td>NaN</td>\n",
              "      <td>NaN</td>\n",
              "      <td>NaN</td>\n",
              "      <td>NaN</td>\n",
              "      <td>NaN</td>\n",
              "      <td>NaN</td>\n",
              "      <td>NaN</td>\n",
              "      <td>NaN</td>\n",
              "      <td>NaN</td>\n",
              "    </tr>\n",
              "    <tr>\n",
              "      <th>88645</th>\n",
              "      <td>myersmi01</td>\n",
              "      <td>2006.0</td>\n",
              "      <td>1.0</td>\n",
              "      <td>NYA</td>\n",
              "      <td>AL</td>\n",
              "      <td>62.0</td>\n",
              "      <td>0.0</td>\n",
              "      <td>0.0</td>\n",
              "      <td>0.0</td>\n",
              "      <td>0.0</td>\n",
              "      <td>0.0</td>\n",
              "      <td>0.0</td>\n",
              "      <td>0.0</td>\n",
              "      <td>0.0</td>\n",
              "      <td>0.0</td>\n",
              "      <td>0.0</td>\n",
              "      <td>0.0</td>\n",
              "      <td>0.0</td>\n",
              "      <td>0.0</td>\n",
              "      <td>0.0</td>\n",
              "      <td>0.0</td>\n",
              "      <td>0.0</td>\n",
              "    </tr>\n",
              "  </tbody>\n",
              "</table>\n",
              "</div>"
            ],
            "text/plain": [
              "          player    year  stint team   lg     g    ab    r     h  X2b  X3b  \\\n",
              "id                                                                           \n",
              "88641  womacto01  2006.0    2.0  CHN   NL  19.0  50.0  6.0  14.0  1.0  0.0   \n",
              "88642        NaN     NaN    NaN  NaN  NaN   NaN   NaN  NaN   NaN  NaN  NaN   \n",
              "88643  schilcu01  2006.0    1.0  BOS   AL  31.0   2.0  0.0   1.0  0.0  0.0   \n",
              "88644        NaN     NaN    NaN  NaN  NaN   NaN   NaN  NaN   NaN  NaN  NaN   \n",
              "88645  myersmi01  2006.0    1.0  NYA   AL  62.0   0.0  0.0   0.0  0.0  0.0   \n",
              "\n",
              "        hr  rbi   sb   cs   bb   so  ibb  hbp   sh   sf  gidp  \n",
              "id                                                             \n",
              "88641  1.0  2.0  1.0  1.0  4.0  4.0  0.0  0.0  3.0  0.0   0.0  \n",
              "88642  NaN  NaN  NaN  NaN  NaN  NaN  NaN  NaN  NaN  NaN   NaN  \n",
              "88643  0.0  0.0  0.0  0.0  0.0  1.0  0.0  0.0  0.0  0.0   0.0  \n",
              "88644  NaN  NaN  NaN  NaN  NaN  NaN  NaN  NaN  NaN  NaN   NaN  \n",
              "88645  0.0  0.0  0.0  0.0  0.0  0.0  0.0  0.0  0.0  0.0   0.0  "
            ]
          },
          "metadata": {
            "tags": []
          },
          "execution_count": 75
        }
      ]
    },
    {
      "cell_type": "markdown",
      "metadata": {
        "id": "L89YwHipAb7a"
      },
      "source": [
        "Missing values can be filled as desired, either with selected values or by the rule"
      ]
    },
    {
      "cell_type": "code",
      "metadata": {
        "id": "ux_0bBExEO_2"
      },
      "source": [
        "baseball.reindex?"
      ],
      "execution_count": null,
      "outputs": []
    },
    {
      "cell_type": "code",
      "metadata": {
        "colab": {
          "base_uri": "https://localhost:8080/",
          "height": 233
        },
        "id": "aaopL8WyAUg3",
        "outputId": "cb272e4c-59ab-49dd-99ee-315228a40816"
      },
      "source": [
        "baseball.reindex(id_range, columns=['player','year']).ffill().head()"
      ],
      "execution_count": null,
      "outputs": [
        {
          "output_type": "execute_result",
          "data": {
            "text/html": [
              "<div>\n",
              "<style scoped>\n",
              "    .dataframe tbody tr th:only-of-type {\n",
              "        vertical-align: middle;\n",
              "    }\n",
              "\n",
              "    .dataframe tbody tr th {\n",
              "        vertical-align: top;\n",
              "    }\n",
              "\n",
              "    .dataframe thead th {\n",
              "        text-align: right;\n",
              "    }\n",
              "</style>\n",
              "<table border=\"1\" class=\"dataframe\">\n",
              "  <thead>\n",
              "    <tr style=\"text-align: right;\">\n",
              "      <th></th>\n",
              "      <th>player</th>\n",
              "      <th>year</th>\n",
              "    </tr>\n",
              "    <tr>\n",
              "      <th>id</th>\n",
              "      <th></th>\n",
              "      <th></th>\n",
              "    </tr>\n",
              "  </thead>\n",
              "  <tbody>\n",
              "    <tr>\n",
              "      <th>88641</th>\n",
              "      <td>womacto01</td>\n",
              "      <td>2006.0</td>\n",
              "    </tr>\n",
              "    <tr>\n",
              "      <th>88642</th>\n",
              "      <td>womacto01</td>\n",
              "      <td>2006.0</td>\n",
              "    </tr>\n",
              "    <tr>\n",
              "      <th>88643</th>\n",
              "      <td>schilcu01</td>\n",
              "      <td>2006.0</td>\n",
              "    </tr>\n",
              "    <tr>\n",
              "      <th>88644</th>\n",
              "      <td>schilcu01</td>\n",
              "      <td>2006.0</td>\n",
              "    </tr>\n",
              "    <tr>\n",
              "      <th>88645</th>\n",
              "      <td>myersmi01</td>\n",
              "      <td>2006.0</td>\n",
              "    </tr>\n",
              "  </tbody>\n",
              "</table>\n",
              "</div>"
            ],
            "text/plain": [
              "          player    year\n",
              "id                      \n",
              "88641  womacto01  2006.0\n",
              "88642  womacto01  2006.0\n",
              "88643  schilcu01  2006.0\n",
              "88644  schilcu01  2006.0\n",
              "88645  myersmi01  2006.0"
            ]
          },
          "metadata": {
            "tags": []
          },
          "execution_count": 77
        }
      ]
    },
    {
      "cell_type": "code",
      "metadata": {
        "colab": {
          "base_uri": "https://localhost:8080/",
          "height": 233
        },
        "id": "T7sSb-5jAmAI",
        "outputId": "61b1b392-fd19-4fb1-abab-a02ca345f571"
      },
      "source": [
        "baseball.reindex(id_range, fill_value='mr.nobody', columns=['player']).head()"
      ],
      "execution_count": null,
      "outputs": [
        {
          "output_type": "execute_result",
          "data": {
            "text/html": [
              "<div>\n",
              "<style scoped>\n",
              "    .dataframe tbody tr th:only-of-type {\n",
              "        vertical-align: middle;\n",
              "    }\n",
              "\n",
              "    .dataframe tbody tr th {\n",
              "        vertical-align: top;\n",
              "    }\n",
              "\n",
              "    .dataframe thead th {\n",
              "        text-align: right;\n",
              "    }\n",
              "</style>\n",
              "<table border=\"1\" class=\"dataframe\">\n",
              "  <thead>\n",
              "    <tr style=\"text-align: right;\">\n",
              "      <th></th>\n",
              "      <th>player</th>\n",
              "    </tr>\n",
              "    <tr>\n",
              "      <th>id</th>\n",
              "      <th></th>\n",
              "    </tr>\n",
              "  </thead>\n",
              "  <tbody>\n",
              "    <tr>\n",
              "      <th>88641</th>\n",
              "      <td>womacto01</td>\n",
              "    </tr>\n",
              "    <tr>\n",
              "      <th>88642</th>\n",
              "      <td>mr.nobody</td>\n",
              "    </tr>\n",
              "    <tr>\n",
              "      <th>88643</th>\n",
              "      <td>schilcu01</td>\n",
              "    </tr>\n",
              "    <tr>\n",
              "      <th>88644</th>\n",
              "      <td>mr.nobody</td>\n",
              "    </tr>\n",
              "    <tr>\n",
              "      <th>88645</th>\n",
              "      <td>myersmi01</td>\n",
              "    </tr>\n",
              "  </tbody>\n",
              "</table>\n",
              "</div>"
            ],
            "text/plain": [
              "          player\n",
              "id              \n",
              "88641  womacto01\n",
              "88642  mr.nobody\n",
              "88643  schilcu01\n",
              "88644  mr.nobody\n",
              "88645  myersmi01"
            ]
          },
          "metadata": {
            "tags": []
          },
          "execution_count": 78
        }
      ]
    },
    {
      "cell_type": "markdown",
      "metadata": {
        "id": "nh1tHxkrE6vX"
      },
      "source": [
        "__Note:__ `reindex` does not work if we pass a non-unique index series."
      ]
    },
    {
      "cell_type": "markdown",
      "metadata": {
        "id": "nvpiXZboFD2n"
      },
      "source": [
        "We can remove rows or columns via the `drop` method"
      ]
    },
    {
      "cell_type": "code",
      "metadata": {
        "colab": {
          "base_uri": "https://localhost:8080/"
        },
        "id": "lkxQn2NVEv-H",
        "outputId": "12f05df2-ff12-404f-925f-e96762f115ce"
      },
      "source": [
        "baseball.shape"
      ],
      "execution_count": null,
      "outputs": [
        {
          "output_type": "execute_result",
          "data": {
            "text/plain": [
              "(100, 22)"
            ]
          },
          "metadata": {
            "tags": []
          },
          "execution_count": 79
        }
      ]
    },
    {
      "cell_type": "code",
      "metadata": {
        "colab": {
          "base_uri": "https://localhost:8080/",
          "height": 466
        },
        "id": "anHLrJkdFJbz",
        "outputId": "af9df1d3-fd3d-4d31-8d66-30a8be425907"
      },
      "source": [
        "baseball.drop([89525, 89526])"
      ],
      "execution_count": null,
      "outputs": [
        {
          "output_type": "execute_result",
          "data": {
            "text/html": [
              "<div>\n",
              "<style scoped>\n",
              "    .dataframe tbody tr th:only-of-type {\n",
              "        vertical-align: middle;\n",
              "    }\n",
              "\n",
              "    .dataframe tbody tr th {\n",
              "        vertical-align: top;\n",
              "    }\n",
              "\n",
              "    .dataframe thead th {\n",
              "        text-align: right;\n",
              "    }\n",
              "</style>\n",
              "<table border=\"1\" class=\"dataframe\">\n",
              "  <thead>\n",
              "    <tr style=\"text-align: right;\">\n",
              "      <th></th>\n",
              "      <th>player</th>\n",
              "      <th>year</th>\n",
              "      <th>stint</th>\n",
              "      <th>team</th>\n",
              "      <th>lg</th>\n",
              "      <th>g</th>\n",
              "      <th>ab</th>\n",
              "      <th>r</th>\n",
              "      <th>h</th>\n",
              "      <th>X2b</th>\n",
              "      <th>X3b</th>\n",
              "      <th>hr</th>\n",
              "      <th>rbi</th>\n",
              "      <th>sb</th>\n",
              "      <th>cs</th>\n",
              "      <th>bb</th>\n",
              "      <th>so</th>\n",
              "      <th>ibb</th>\n",
              "      <th>hbp</th>\n",
              "      <th>sh</th>\n",
              "      <th>sf</th>\n",
              "      <th>gidp</th>\n",
              "    </tr>\n",
              "    <tr>\n",
              "      <th>id</th>\n",
              "      <th></th>\n",
              "      <th></th>\n",
              "      <th></th>\n",
              "      <th></th>\n",
              "      <th></th>\n",
              "      <th></th>\n",
              "      <th></th>\n",
              "      <th></th>\n",
              "      <th></th>\n",
              "      <th></th>\n",
              "      <th></th>\n",
              "      <th></th>\n",
              "      <th></th>\n",
              "      <th></th>\n",
              "      <th></th>\n",
              "      <th></th>\n",
              "      <th></th>\n",
              "      <th></th>\n",
              "      <th></th>\n",
              "      <th></th>\n",
              "      <th></th>\n",
              "      <th></th>\n",
              "    </tr>\n",
              "  </thead>\n",
              "  <tbody>\n",
              "    <tr>\n",
              "      <th>88641</th>\n",
              "      <td>womacto01</td>\n",
              "      <td>2006</td>\n",
              "      <td>2</td>\n",
              "      <td>CHN</td>\n",
              "      <td>NL</td>\n",
              "      <td>19</td>\n",
              "      <td>50</td>\n",
              "      <td>6</td>\n",
              "      <td>14</td>\n",
              "      <td>1</td>\n",
              "      <td>0</td>\n",
              "      <td>1</td>\n",
              "      <td>2.0</td>\n",
              "      <td>1.0</td>\n",
              "      <td>1.0</td>\n",
              "      <td>4</td>\n",
              "      <td>4.0</td>\n",
              "      <td>0.0</td>\n",
              "      <td>0.0</td>\n",
              "      <td>3.0</td>\n",
              "      <td>0.0</td>\n",
              "      <td>0.0</td>\n",
              "    </tr>\n",
              "    <tr>\n",
              "      <th>88643</th>\n",
              "      <td>schilcu01</td>\n",
              "      <td>2006</td>\n",
              "      <td>1</td>\n",
              "      <td>BOS</td>\n",
              "      <td>AL</td>\n",
              "      <td>31</td>\n",
              "      <td>2</td>\n",
              "      <td>0</td>\n",
              "      <td>1</td>\n",
              "      <td>0</td>\n",
              "      <td>0</td>\n",
              "      <td>0</td>\n",
              "      <td>0.0</td>\n",
              "      <td>0.0</td>\n",
              "      <td>0.0</td>\n",
              "      <td>0</td>\n",
              "      <td>1.0</td>\n",
              "      <td>0.0</td>\n",
              "      <td>0.0</td>\n",
              "      <td>0.0</td>\n",
              "      <td>0.0</td>\n",
              "      <td>0.0</td>\n",
              "    </tr>\n",
              "    <tr>\n",
              "      <th>88645</th>\n",
              "      <td>myersmi01</td>\n",
              "      <td>2006</td>\n",
              "      <td>1</td>\n",
              "      <td>NYA</td>\n",
              "      <td>AL</td>\n",
              "      <td>62</td>\n",
              "      <td>0</td>\n",
              "      <td>0</td>\n",
              "      <td>0</td>\n",
              "      <td>0</td>\n",
              "      <td>0</td>\n",
              "      <td>0</td>\n",
              "      <td>0.0</td>\n",
              "      <td>0.0</td>\n",
              "      <td>0.0</td>\n",
              "      <td>0</td>\n",
              "      <td>0.0</td>\n",
              "      <td>0.0</td>\n",
              "      <td>0.0</td>\n",
              "      <td>0.0</td>\n",
              "      <td>0.0</td>\n",
              "      <td>0.0</td>\n",
              "    </tr>\n",
              "    <tr>\n",
              "      <th>88649</th>\n",
              "      <td>helliri01</td>\n",
              "      <td>2006</td>\n",
              "      <td>1</td>\n",
              "      <td>MIL</td>\n",
              "      <td>NL</td>\n",
              "      <td>20</td>\n",
              "      <td>3</td>\n",
              "      <td>0</td>\n",
              "      <td>0</td>\n",
              "      <td>0</td>\n",
              "      <td>0</td>\n",
              "      <td>0</td>\n",
              "      <td>0.0</td>\n",
              "      <td>0.0</td>\n",
              "      <td>0.0</td>\n",
              "      <td>0</td>\n",
              "      <td>2.0</td>\n",
              "      <td>0.0</td>\n",
              "      <td>0.0</td>\n",
              "      <td>0.0</td>\n",
              "      <td>0.0</td>\n",
              "      <td>0.0</td>\n",
              "    </tr>\n",
              "    <tr>\n",
              "      <th>88650</th>\n",
              "      <td>johnsra05</td>\n",
              "      <td>2006</td>\n",
              "      <td>1</td>\n",
              "      <td>NYA</td>\n",
              "      <td>AL</td>\n",
              "      <td>33</td>\n",
              "      <td>6</td>\n",
              "      <td>0</td>\n",
              "      <td>1</td>\n",
              "      <td>0</td>\n",
              "      <td>0</td>\n",
              "      <td>0</td>\n",
              "      <td>0.0</td>\n",
              "      <td>0.0</td>\n",
              "      <td>0.0</td>\n",
              "      <td>0</td>\n",
              "      <td>4.0</td>\n",
              "      <td>0.0</td>\n",
              "      <td>0.0</td>\n",
              "      <td>0.0</td>\n",
              "      <td>0.0</td>\n",
              "      <td>0.0</td>\n",
              "    </tr>\n",
              "    <tr>\n",
              "      <th>...</th>\n",
              "      <td>...</td>\n",
              "      <td>...</td>\n",
              "      <td>...</td>\n",
              "      <td>...</td>\n",
              "      <td>...</td>\n",
              "      <td>...</td>\n",
              "      <td>...</td>\n",
              "      <td>...</td>\n",
              "      <td>...</td>\n",
              "      <td>...</td>\n",
              "      <td>...</td>\n",
              "      <td>...</td>\n",
              "      <td>...</td>\n",
              "      <td>...</td>\n",
              "      <td>...</td>\n",
              "      <td>...</td>\n",
              "      <td>...</td>\n",
              "      <td>...</td>\n",
              "      <td>...</td>\n",
              "      <td>...</td>\n",
              "      <td>...</td>\n",
              "      <td>...</td>\n",
              "    </tr>\n",
              "    <tr>\n",
              "      <th>89521</th>\n",
              "      <td>bondsba01</td>\n",
              "      <td>2007</td>\n",
              "      <td>1</td>\n",
              "      <td>SFN</td>\n",
              "      <td>NL</td>\n",
              "      <td>126</td>\n",
              "      <td>340</td>\n",
              "      <td>75</td>\n",
              "      <td>94</td>\n",
              "      <td>14</td>\n",
              "      <td>0</td>\n",
              "      <td>28</td>\n",
              "      <td>66.0</td>\n",
              "      <td>5.0</td>\n",
              "      <td>0.0</td>\n",
              "      <td>132</td>\n",
              "      <td>54.0</td>\n",
              "      <td>43.0</td>\n",
              "      <td>3.0</td>\n",
              "      <td>0.0</td>\n",
              "      <td>2.0</td>\n",
              "      <td>13.0</td>\n",
              "    </tr>\n",
              "    <tr>\n",
              "      <th>89523</th>\n",
              "      <td>biggicr01</td>\n",
              "      <td>2007</td>\n",
              "      <td>1</td>\n",
              "      <td>HOU</td>\n",
              "      <td>NL</td>\n",
              "      <td>141</td>\n",
              "      <td>517</td>\n",
              "      <td>68</td>\n",
              "      <td>130</td>\n",
              "      <td>31</td>\n",
              "      <td>3</td>\n",
              "      <td>10</td>\n",
              "      <td>50.0</td>\n",
              "      <td>4.0</td>\n",
              "      <td>3.0</td>\n",
              "      <td>23</td>\n",
              "      <td>112.0</td>\n",
              "      <td>0.0</td>\n",
              "      <td>3.0</td>\n",
              "      <td>7.0</td>\n",
              "      <td>5.0</td>\n",
              "      <td>5.0</td>\n",
              "    </tr>\n",
              "    <tr>\n",
              "      <th>89530</th>\n",
              "      <td>ausmubr01</td>\n",
              "      <td>2007</td>\n",
              "      <td>1</td>\n",
              "      <td>HOU</td>\n",
              "      <td>NL</td>\n",
              "      <td>117</td>\n",
              "      <td>349</td>\n",
              "      <td>38</td>\n",
              "      <td>82</td>\n",
              "      <td>16</td>\n",
              "      <td>3</td>\n",
              "      <td>3</td>\n",
              "      <td>25.0</td>\n",
              "      <td>6.0</td>\n",
              "      <td>1.0</td>\n",
              "      <td>37</td>\n",
              "      <td>74.0</td>\n",
              "      <td>3.0</td>\n",
              "      <td>6.0</td>\n",
              "      <td>4.0</td>\n",
              "      <td>1.0</td>\n",
              "      <td>11.0</td>\n",
              "    </tr>\n",
              "    <tr>\n",
              "      <th>89533</th>\n",
              "      <td>aloumo01</td>\n",
              "      <td>2007</td>\n",
              "      <td>1</td>\n",
              "      <td>NYN</td>\n",
              "      <td>NL</td>\n",
              "      <td>87</td>\n",
              "      <td>328</td>\n",
              "      <td>51</td>\n",
              "      <td>112</td>\n",
              "      <td>19</td>\n",
              "      <td>1</td>\n",
              "      <td>13</td>\n",
              "      <td>49.0</td>\n",
              "      <td>3.0</td>\n",
              "      <td>0.0</td>\n",
              "      <td>27</td>\n",
              "      <td>30.0</td>\n",
              "      <td>5.0</td>\n",
              "      <td>2.0</td>\n",
              "      <td>0.0</td>\n",
              "      <td>3.0</td>\n",
              "      <td>13.0</td>\n",
              "    </tr>\n",
              "    <tr>\n",
              "      <th>89534</th>\n",
              "      <td>alomasa02</td>\n",
              "      <td>2007</td>\n",
              "      <td>1</td>\n",
              "      <td>NYN</td>\n",
              "      <td>NL</td>\n",
              "      <td>8</td>\n",
              "      <td>22</td>\n",
              "      <td>1</td>\n",
              "      <td>3</td>\n",
              "      <td>1</td>\n",
              "      <td>0</td>\n",
              "      <td>0</td>\n",
              "      <td>0.0</td>\n",
              "      <td>0.0</td>\n",
              "      <td>0.0</td>\n",
              "      <td>0</td>\n",
              "      <td>3.0</td>\n",
              "      <td>0.0</td>\n",
              "      <td>0.0</td>\n",
              "      <td>0.0</td>\n",
              "      <td>0.0</td>\n",
              "      <td>0.0</td>\n",
              "    </tr>\n",
              "  </tbody>\n",
              "</table>\n",
              "<p>98 rows × 22 columns</p>\n",
              "</div>"
            ],
            "text/plain": [
              "          player  year  stint team  lg    g   ab   r    h  X2b  X3b  hr   rbi  \\\n",
              "id                                                                              \n",
              "88641  womacto01  2006      2  CHN  NL   19   50   6   14    1    0   1   2.0   \n",
              "88643  schilcu01  2006      1  BOS  AL   31    2   0    1    0    0   0   0.0   \n",
              "88645  myersmi01  2006      1  NYA  AL   62    0   0    0    0    0   0   0.0   \n",
              "88649  helliri01  2006      1  MIL  NL   20    3   0    0    0    0   0   0.0   \n",
              "88650  johnsra05  2006      1  NYA  AL   33    6   0    1    0    0   0   0.0   \n",
              "...          ...   ...    ...  ...  ..  ...  ...  ..  ...  ...  ...  ..   ...   \n",
              "89521  bondsba01  2007      1  SFN  NL  126  340  75   94   14    0  28  66.0   \n",
              "89523  biggicr01  2007      1  HOU  NL  141  517  68  130   31    3  10  50.0   \n",
              "89530  ausmubr01  2007      1  HOU  NL  117  349  38   82   16    3   3  25.0   \n",
              "89533   aloumo01  2007      1  NYN  NL   87  328  51  112   19    1  13  49.0   \n",
              "89534  alomasa02  2007      1  NYN  NL    8   22   1    3    1    0   0   0.0   \n",
              "\n",
              "        sb   cs   bb     so   ibb  hbp   sh   sf  gidp  \n",
              "id                                                      \n",
              "88641  1.0  1.0    4    4.0   0.0  0.0  3.0  0.0   0.0  \n",
              "88643  0.0  0.0    0    1.0   0.0  0.0  0.0  0.0   0.0  \n",
              "88645  0.0  0.0    0    0.0   0.0  0.0  0.0  0.0   0.0  \n",
              "88649  0.0  0.0    0    2.0   0.0  0.0  0.0  0.0   0.0  \n",
              "88650  0.0  0.0    0    4.0   0.0  0.0  0.0  0.0   0.0  \n",
              "...    ...  ...  ...    ...   ...  ...  ...  ...   ...  \n",
              "89521  5.0  0.0  132   54.0  43.0  3.0  0.0  2.0  13.0  \n",
              "89523  4.0  3.0   23  112.0   0.0  3.0  7.0  5.0   5.0  \n",
              "89530  6.0  1.0   37   74.0   3.0  6.0  4.0  1.0  11.0  \n",
              "89533  3.0  0.0   27   30.0   5.0  2.0  0.0  3.0  13.0  \n",
              "89534  0.0  0.0    0    3.0   0.0  0.0  0.0  0.0   0.0  \n",
              "\n",
              "[98 rows x 22 columns]"
            ]
          },
          "metadata": {
            "tags": []
          },
          "execution_count": 80
        }
      ]
    },
    {
      "cell_type": "code",
      "metadata": {
        "colab": {
          "base_uri": "https://localhost:8080/",
          "height": 446
        },
        "id": "El193KklFLvR",
        "outputId": "9868caf0-7ae9-4843-f0a4-8ba79c9be8be"
      },
      "source": [
        "baseball.drop(['ibb','hbp'], axis=1)"
      ],
      "execution_count": null,
      "outputs": [
        {
          "output_type": "execute_result",
          "data": {
            "text/html": [
              "<div>\n",
              "<style scoped>\n",
              "    .dataframe tbody tr th:only-of-type {\n",
              "        vertical-align: middle;\n",
              "    }\n",
              "\n",
              "    .dataframe tbody tr th {\n",
              "        vertical-align: top;\n",
              "    }\n",
              "\n",
              "    .dataframe thead th {\n",
              "        text-align: right;\n",
              "    }\n",
              "</style>\n",
              "<table border=\"1\" class=\"dataframe\">\n",
              "  <thead>\n",
              "    <tr style=\"text-align: right;\">\n",
              "      <th></th>\n",
              "      <th>player</th>\n",
              "      <th>year</th>\n",
              "      <th>stint</th>\n",
              "      <th>team</th>\n",
              "      <th>lg</th>\n",
              "      <th>g</th>\n",
              "      <th>ab</th>\n",
              "      <th>r</th>\n",
              "      <th>h</th>\n",
              "      <th>X2b</th>\n",
              "      <th>X3b</th>\n",
              "      <th>hr</th>\n",
              "      <th>rbi</th>\n",
              "      <th>sb</th>\n",
              "      <th>cs</th>\n",
              "      <th>bb</th>\n",
              "      <th>so</th>\n",
              "      <th>sh</th>\n",
              "      <th>sf</th>\n",
              "      <th>gidp</th>\n",
              "    </tr>\n",
              "    <tr>\n",
              "      <th>id</th>\n",
              "      <th></th>\n",
              "      <th></th>\n",
              "      <th></th>\n",
              "      <th></th>\n",
              "      <th></th>\n",
              "      <th></th>\n",
              "      <th></th>\n",
              "      <th></th>\n",
              "      <th></th>\n",
              "      <th></th>\n",
              "      <th></th>\n",
              "      <th></th>\n",
              "      <th></th>\n",
              "      <th></th>\n",
              "      <th></th>\n",
              "      <th></th>\n",
              "      <th></th>\n",
              "      <th></th>\n",
              "      <th></th>\n",
              "      <th></th>\n",
              "    </tr>\n",
              "  </thead>\n",
              "  <tbody>\n",
              "    <tr>\n",
              "      <th>88641</th>\n",
              "      <td>womacto01</td>\n",
              "      <td>2006</td>\n",
              "      <td>2</td>\n",
              "      <td>CHN</td>\n",
              "      <td>NL</td>\n",
              "      <td>19</td>\n",
              "      <td>50</td>\n",
              "      <td>6</td>\n",
              "      <td>14</td>\n",
              "      <td>1</td>\n",
              "      <td>0</td>\n",
              "      <td>1</td>\n",
              "      <td>2.0</td>\n",
              "      <td>1.0</td>\n",
              "      <td>1.0</td>\n",
              "      <td>4</td>\n",
              "      <td>4.0</td>\n",
              "      <td>3.0</td>\n",
              "      <td>0.0</td>\n",
              "      <td>0.0</td>\n",
              "    </tr>\n",
              "    <tr>\n",
              "      <th>88643</th>\n",
              "      <td>schilcu01</td>\n",
              "      <td>2006</td>\n",
              "      <td>1</td>\n",
              "      <td>BOS</td>\n",
              "      <td>AL</td>\n",
              "      <td>31</td>\n",
              "      <td>2</td>\n",
              "      <td>0</td>\n",
              "      <td>1</td>\n",
              "      <td>0</td>\n",
              "      <td>0</td>\n",
              "      <td>0</td>\n",
              "      <td>0.0</td>\n",
              "      <td>0.0</td>\n",
              "      <td>0.0</td>\n",
              "      <td>0</td>\n",
              "      <td>1.0</td>\n",
              "      <td>0.0</td>\n",
              "      <td>0.0</td>\n",
              "      <td>0.0</td>\n",
              "    </tr>\n",
              "    <tr>\n",
              "      <th>88645</th>\n",
              "      <td>myersmi01</td>\n",
              "      <td>2006</td>\n",
              "      <td>1</td>\n",
              "      <td>NYA</td>\n",
              "      <td>AL</td>\n",
              "      <td>62</td>\n",
              "      <td>0</td>\n",
              "      <td>0</td>\n",
              "      <td>0</td>\n",
              "      <td>0</td>\n",
              "      <td>0</td>\n",
              "      <td>0</td>\n",
              "      <td>0.0</td>\n",
              "      <td>0.0</td>\n",
              "      <td>0.0</td>\n",
              "      <td>0</td>\n",
              "      <td>0.0</td>\n",
              "      <td>0.0</td>\n",
              "      <td>0.0</td>\n",
              "      <td>0.0</td>\n",
              "    </tr>\n",
              "    <tr>\n",
              "      <th>88649</th>\n",
              "      <td>helliri01</td>\n",
              "      <td>2006</td>\n",
              "      <td>1</td>\n",
              "      <td>MIL</td>\n",
              "      <td>NL</td>\n",
              "      <td>20</td>\n",
              "      <td>3</td>\n",
              "      <td>0</td>\n",
              "      <td>0</td>\n",
              "      <td>0</td>\n",
              "      <td>0</td>\n",
              "      <td>0</td>\n",
              "      <td>0.0</td>\n",
              "      <td>0.0</td>\n",
              "      <td>0.0</td>\n",
              "      <td>0</td>\n",
              "      <td>2.0</td>\n",
              "      <td>0.0</td>\n",
              "      <td>0.0</td>\n",
              "      <td>0.0</td>\n",
              "    </tr>\n",
              "    <tr>\n",
              "      <th>88650</th>\n",
              "      <td>johnsra05</td>\n",
              "      <td>2006</td>\n",
              "      <td>1</td>\n",
              "      <td>NYA</td>\n",
              "      <td>AL</td>\n",
              "      <td>33</td>\n",
              "      <td>6</td>\n",
              "      <td>0</td>\n",
              "      <td>1</td>\n",
              "      <td>0</td>\n",
              "      <td>0</td>\n",
              "      <td>0</td>\n",
              "      <td>0.0</td>\n",
              "      <td>0.0</td>\n",
              "      <td>0.0</td>\n",
              "      <td>0</td>\n",
              "      <td>4.0</td>\n",
              "      <td>0.0</td>\n",
              "      <td>0.0</td>\n",
              "      <td>0.0</td>\n",
              "    </tr>\n",
              "    <tr>\n",
              "      <th>...</th>\n",
              "      <td>...</td>\n",
              "      <td>...</td>\n",
              "      <td>...</td>\n",
              "      <td>...</td>\n",
              "      <td>...</td>\n",
              "      <td>...</td>\n",
              "      <td>...</td>\n",
              "      <td>...</td>\n",
              "      <td>...</td>\n",
              "      <td>...</td>\n",
              "      <td>...</td>\n",
              "      <td>...</td>\n",
              "      <td>...</td>\n",
              "      <td>...</td>\n",
              "      <td>...</td>\n",
              "      <td>...</td>\n",
              "      <td>...</td>\n",
              "      <td>...</td>\n",
              "      <td>...</td>\n",
              "      <td>...</td>\n",
              "    </tr>\n",
              "    <tr>\n",
              "      <th>89525</th>\n",
              "      <td>benitar01</td>\n",
              "      <td>2007</td>\n",
              "      <td>2</td>\n",
              "      <td>FLO</td>\n",
              "      <td>NL</td>\n",
              "      <td>34</td>\n",
              "      <td>0</td>\n",
              "      <td>0</td>\n",
              "      <td>0</td>\n",
              "      <td>0</td>\n",
              "      <td>0</td>\n",
              "      <td>0</td>\n",
              "      <td>0.0</td>\n",
              "      <td>0.0</td>\n",
              "      <td>0.0</td>\n",
              "      <td>0</td>\n",
              "      <td>0.0</td>\n",
              "      <td>0.0</td>\n",
              "      <td>0.0</td>\n",
              "      <td>0.0</td>\n",
              "    </tr>\n",
              "    <tr>\n",
              "      <th>89526</th>\n",
              "      <td>benitar01</td>\n",
              "      <td>2007</td>\n",
              "      <td>1</td>\n",
              "      <td>SFN</td>\n",
              "      <td>NL</td>\n",
              "      <td>19</td>\n",
              "      <td>0</td>\n",
              "      <td>0</td>\n",
              "      <td>0</td>\n",
              "      <td>0</td>\n",
              "      <td>0</td>\n",
              "      <td>0</td>\n",
              "      <td>0.0</td>\n",
              "      <td>0.0</td>\n",
              "      <td>0.0</td>\n",
              "      <td>0</td>\n",
              "      <td>0.0</td>\n",
              "      <td>0.0</td>\n",
              "      <td>0.0</td>\n",
              "      <td>0.0</td>\n",
              "    </tr>\n",
              "    <tr>\n",
              "      <th>89530</th>\n",
              "      <td>ausmubr01</td>\n",
              "      <td>2007</td>\n",
              "      <td>1</td>\n",
              "      <td>HOU</td>\n",
              "      <td>NL</td>\n",
              "      <td>117</td>\n",
              "      <td>349</td>\n",
              "      <td>38</td>\n",
              "      <td>82</td>\n",
              "      <td>16</td>\n",
              "      <td>3</td>\n",
              "      <td>3</td>\n",
              "      <td>25.0</td>\n",
              "      <td>6.0</td>\n",
              "      <td>1.0</td>\n",
              "      <td>37</td>\n",
              "      <td>74.0</td>\n",
              "      <td>4.0</td>\n",
              "      <td>1.0</td>\n",
              "      <td>11.0</td>\n",
              "    </tr>\n",
              "    <tr>\n",
              "      <th>89533</th>\n",
              "      <td>aloumo01</td>\n",
              "      <td>2007</td>\n",
              "      <td>1</td>\n",
              "      <td>NYN</td>\n",
              "      <td>NL</td>\n",
              "      <td>87</td>\n",
              "      <td>328</td>\n",
              "      <td>51</td>\n",
              "      <td>112</td>\n",
              "      <td>19</td>\n",
              "      <td>1</td>\n",
              "      <td>13</td>\n",
              "      <td>49.0</td>\n",
              "      <td>3.0</td>\n",
              "      <td>0.0</td>\n",
              "      <td>27</td>\n",
              "      <td>30.0</td>\n",
              "      <td>0.0</td>\n",
              "      <td>3.0</td>\n",
              "      <td>13.0</td>\n",
              "    </tr>\n",
              "    <tr>\n",
              "      <th>89534</th>\n",
              "      <td>alomasa02</td>\n",
              "      <td>2007</td>\n",
              "      <td>1</td>\n",
              "      <td>NYN</td>\n",
              "      <td>NL</td>\n",
              "      <td>8</td>\n",
              "      <td>22</td>\n",
              "      <td>1</td>\n",
              "      <td>3</td>\n",
              "      <td>1</td>\n",
              "      <td>0</td>\n",
              "      <td>0</td>\n",
              "      <td>0.0</td>\n",
              "      <td>0.0</td>\n",
              "      <td>0.0</td>\n",
              "      <td>0</td>\n",
              "      <td>3.0</td>\n",
              "      <td>0.0</td>\n",
              "      <td>0.0</td>\n",
              "      <td>0.0</td>\n",
              "    </tr>\n",
              "  </tbody>\n",
              "</table>\n",
              "<p>100 rows × 20 columns</p>\n",
              "</div>"
            ],
            "text/plain": [
              "          player  year  stint team  lg    g   ab   r    h  X2b  X3b  hr   rbi  \\\n",
              "id                                                                              \n",
              "88641  womacto01  2006      2  CHN  NL   19   50   6   14    1    0   1   2.0   \n",
              "88643  schilcu01  2006      1  BOS  AL   31    2   0    1    0    0   0   0.0   \n",
              "88645  myersmi01  2006      1  NYA  AL   62    0   0    0    0    0   0   0.0   \n",
              "88649  helliri01  2006      1  MIL  NL   20    3   0    0    0    0   0   0.0   \n",
              "88650  johnsra05  2006      1  NYA  AL   33    6   0    1    0    0   0   0.0   \n",
              "...          ...   ...    ...  ...  ..  ...  ...  ..  ...  ...  ...  ..   ...   \n",
              "89525  benitar01  2007      2  FLO  NL   34    0   0    0    0    0   0   0.0   \n",
              "89526  benitar01  2007      1  SFN  NL   19    0   0    0    0    0   0   0.0   \n",
              "89530  ausmubr01  2007      1  HOU  NL  117  349  38   82   16    3   3  25.0   \n",
              "89533   aloumo01  2007      1  NYN  NL   87  328  51  112   19    1  13  49.0   \n",
              "89534  alomasa02  2007      1  NYN  NL    8   22   1    3    1    0   0   0.0   \n",
              "\n",
              "        sb   cs  bb    so   sh   sf  gidp  \n",
              "id                                         \n",
              "88641  1.0  1.0   4   4.0  3.0  0.0   0.0  \n",
              "88643  0.0  0.0   0   1.0  0.0  0.0   0.0  \n",
              "88645  0.0  0.0   0   0.0  0.0  0.0   0.0  \n",
              "88649  0.0  0.0   0   2.0  0.0  0.0   0.0  \n",
              "88650  0.0  0.0   0   4.0  0.0  0.0   0.0  \n",
              "...    ...  ...  ..   ...  ...  ...   ...  \n",
              "89525  0.0  0.0   0   0.0  0.0  0.0   0.0  \n",
              "89526  0.0  0.0   0   0.0  0.0  0.0   0.0  \n",
              "89530  6.0  1.0  37  74.0  4.0  1.0  11.0  \n",
              "89533  3.0  0.0  27  30.0  0.0  3.0  13.0  \n",
              "89534  0.0  0.0   0   3.0  0.0  0.0   0.0  \n",
              "\n",
              "[100 rows x 20 columns]"
            ]
          },
          "metadata": {
            "tags": []
          },
          "execution_count": 81
        }
      ]
    },
    {
      "cell_type": "markdown",
      "metadata": {
        "id": "5G9EIpA8WLGj"
      },
      "source": [
        "## Indexing and Selection\r\n",
        "Indexing in pandas is similar to the indexing in NumPy arrays, except we can use the labels in the Index object to extract values in addition to arrays of integers"
      ]
    },
    {
      "cell_type": "code",
      "metadata": {
        "id": "l5cY2aeGFPpU",
        "colab": {
          "base_uri": "https://localhost:8080/"
        },
        "outputId": "7318436e-249e-491f-f043-63e6896ee5f2"
      },
      "source": [
        "# Sample Series object\r\n",
        "hits = baseball_newind.h\r\n",
        "hits"
      ],
      "execution_count": null,
      "outputs": [
        {
          "output_type": "execute_result",
          "data": {
            "text/plain": [
              "womacto01CHN2006     14\n",
              "schilcu01BOS2006      1\n",
              "myersmi01NYA2006      0\n",
              "helliri01MIL2006      0\n",
              "johnsra05NYA2006      1\n",
              "                   ... \n",
              "benitar01FLO2007      0\n",
              "benitar01SFN2007      0\n",
              "ausmubr01HOU2007     82\n",
              "aloumo01NYN2007     112\n",
              "alomasa02NYN2007      3\n",
              "Name: h, Length: 100, dtype: int64"
            ]
          },
          "metadata": {
            "tags": []
          },
          "execution_count": 82
        }
      ]
    },
    {
      "cell_type": "code",
      "metadata": {
        "colab": {
          "base_uri": "https://localhost:8080/"
        },
        "id": "FMELsdhfWb81",
        "outputId": "9e8e37e7-52cd-4817-f302-006ddb496eb5"
      },
      "source": [
        "# Numpy-style indexing\r\n",
        "hits[:3]"
      ],
      "execution_count": null,
      "outputs": [
        {
          "output_type": "execute_result",
          "data": {
            "text/plain": [
              "womacto01CHN2006    14\n",
              "schilcu01BOS2006     1\n",
              "myersmi01NYA2006     0\n",
              "Name: h, dtype: int64"
            ]
          },
          "metadata": {
            "tags": []
          },
          "execution_count": 83
        }
      ]
    },
    {
      "cell_type": "code",
      "metadata": {
        "colab": {
          "base_uri": "https://localhost:8080/"
        },
        "id": "DtM1MHyiXmw_",
        "outputId": "bd847680-2969-469b-8f6e-a3e670c65dec"
      },
      "source": [
        "# Indexing by label\r\n",
        "hits[['womacto01CHN2006','schilcu01BOS2006']]"
      ],
      "execution_count": null,
      "outputs": [
        {
          "output_type": "execute_result",
          "data": {
            "text/plain": [
              "womacto01CHN2006    14\n",
              "schilcu01BOS2006     1\n",
              "Name: h, dtype: int64"
            ]
          },
          "metadata": {
            "tags": []
          },
          "execution_count": 84
        }
      ]
    },
    {
      "cell_type": "markdown",
      "metadata": {
        "id": "u3x5sWLqXsAt"
      },
      "source": [
        "We can also slice with data labels, since they have an intrinsic order within the Index"
      ]
    },
    {
      "cell_type": "code",
      "metadata": {
        "colab": {
          "base_uri": "https://localhost:8080/"
        },
        "id": "4rvZqpmYXpCc",
        "outputId": "0c8e6bcf-e92e-43ce-97b7-d6b557aa84b2"
      },
      "source": [
        "hits['womacto01CHN2006':'gonzalu01ARI2006']"
      ],
      "execution_count": null,
      "outputs": [
        {
          "output_type": "execute_result",
          "data": {
            "text/plain": [
              "womacto01CHN2006     14\n",
              "schilcu01BOS2006      1\n",
              "myersmi01NYA2006      0\n",
              "helliri01MIL2006      0\n",
              "johnsra05NYA2006      1\n",
              "finlest01SFN2006    105\n",
              "gonzalu01ARI2006    159\n",
              "Name: h, dtype: int64"
            ]
          },
          "metadata": {
            "tags": []
          },
          "execution_count": 85
        }
      ]
    },
    {
      "cell_type": "code",
      "metadata": {
        "colab": {
          "base_uri": "https://localhost:8080/"
        },
        "id": "hcGTVB9NXvO8",
        "outputId": "5c8c17e6-7ca7-4a1a-eb7f-c79ace251de3"
      },
      "source": [
        "hits['womacto01CHN2006':'gonzalu01ARI2006'] = 5\r\n",
        "hits"
      ],
      "execution_count": null,
      "outputs": [
        {
          "output_type": "stream",
          "text": [
            "/usr/local/lib/python3.6/dist-packages/ipykernel_launcher.py:1: SettingWithCopyWarning: \n",
            "A value is trying to be set on a copy of a slice from a DataFrame\n",
            "\n",
            "See the caveats in the documentation: https://pandas.pydata.org/pandas-docs/stable/user_guide/indexing.html#returning-a-view-versus-a-copy\n",
            "  \"\"\"Entry point for launching an IPython kernel.\n"
          ],
          "name": "stderr"
        },
        {
          "output_type": "execute_result",
          "data": {
            "text/plain": [
              "womacto01CHN2006      5\n",
              "schilcu01BOS2006      5\n",
              "myersmi01NYA2006      5\n",
              "helliri01MIL2006      5\n",
              "johnsra05NYA2006      5\n",
              "                   ... \n",
              "benitar01FLO2007      0\n",
              "benitar01SFN2007      0\n",
              "ausmubr01HOU2007     82\n",
              "aloumo01NYN2007     112\n",
              "alomasa02NYN2007      3\n",
              "Name: h, Length: 100, dtype: int64"
            ]
          },
          "metadata": {
            "tags": []
          },
          "execution_count": 86
        }
      ]
    },
    {
      "cell_type": "markdown",
      "metadata": {
        "id": "_Nh_o39HXxlc"
      },
      "source": [
        "In a DataFrame we can slice along either or both axes as shown below"
      ]
    },
    {
      "cell_type": "code",
      "metadata": {
        "colab": {
          "base_uri": "https://localhost:8080/",
          "height": 415
        },
        "id": "pdmIBwxcYB7j",
        "outputId": "2f513e20-2d1a-4bf3-f4bc-0335123a936a"
      },
      "source": [
        "baseball_newind[['h','ab']]"
      ],
      "execution_count": null,
      "outputs": [
        {
          "output_type": "execute_result",
          "data": {
            "text/html": [
              "<div>\n",
              "<style scoped>\n",
              "    .dataframe tbody tr th:only-of-type {\n",
              "        vertical-align: middle;\n",
              "    }\n",
              "\n",
              "    .dataframe tbody tr th {\n",
              "        vertical-align: top;\n",
              "    }\n",
              "\n",
              "    .dataframe thead th {\n",
              "        text-align: right;\n",
              "    }\n",
              "</style>\n",
              "<table border=\"1\" class=\"dataframe\">\n",
              "  <thead>\n",
              "    <tr style=\"text-align: right;\">\n",
              "      <th></th>\n",
              "      <th>h</th>\n",
              "      <th>ab</th>\n",
              "    </tr>\n",
              "  </thead>\n",
              "  <tbody>\n",
              "    <tr>\n",
              "      <th>womacto01CHN2006</th>\n",
              "      <td>5</td>\n",
              "      <td>50</td>\n",
              "    </tr>\n",
              "    <tr>\n",
              "      <th>schilcu01BOS2006</th>\n",
              "      <td>5</td>\n",
              "      <td>2</td>\n",
              "    </tr>\n",
              "    <tr>\n",
              "      <th>myersmi01NYA2006</th>\n",
              "      <td>5</td>\n",
              "      <td>0</td>\n",
              "    </tr>\n",
              "    <tr>\n",
              "      <th>helliri01MIL2006</th>\n",
              "      <td>5</td>\n",
              "      <td>3</td>\n",
              "    </tr>\n",
              "    <tr>\n",
              "      <th>johnsra05NYA2006</th>\n",
              "      <td>5</td>\n",
              "      <td>6</td>\n",
              "    </tr>\n",
              "    <tr>\n",
              "      <th>...</th>\n",
              "      <td>...</td>\n",
              "      <td>...</td>\n",
              "    </tr>\n",
              "    <tr>\n",
              "      <th>benitar01FLO2007</th>\n",
              "      <td>0</td>\n",
              "      <td>0</td>\n",
              "    </tr>\n",
              "    <tr>\n",
              "      <th>benitar01SFN2007</th>\n",
              "      <td>0</td>\n",
              "      <td>0</td>\n",
              "    </tr>\n",
              "    <tr>\n",
              "      <th>ausmubr01HOU2007</th>\n",
              "      <td>82</td>\n",
              "      <td>349</td>\n",
              "    </tr>\n",
              "    <tr>\n",
              "      <th>aloumo01NYN2007</th>\n",
              "      <td>112</td>\n",
              "      <td>328</td>\n",
              "    </tr>\n",
              "    <tr>\n",
              "      <th>alomasa02NYN2007</th>\n",
              "      <td>3</td>\n",
              "      <td>22</td>\n",
              "    </tr>\n",
              "  </tbody>\n",
              "</table>\n",
              "<p>100 rows × 2 columns</p>\n",
              "</div>"
            ],
            "text/plain": [
              "                    h   ab\n",
              "womacto01CHN2006    5   50\n",
              "schilcu01BOS2006    5    2\n",
              "myersmi01NYA2006    5    0\n",
              "helliri01MIL2006    5    3\n",
              "johnsra05NYA2006    5    6\n",
              "...               ...  ...\n",
              "benitar01FLO2007    0    0\n",
              "benitar01SFN2007    0    0\n",
              "ausmubr01HOU2007   82  349\n",
              "aloumo01NYN2007   112  328\n",
              "alomasa02NYN2007    3   22\n",
              "\n",
              "[100 rows x 2 columns]"
            ]
          },
          "metadata": {
            "tags": []
          },
          "execution_count": 87
        }
      ]
    },
    {
      "cell_type": "code",
      "metadata": {
        "colab": {
          "base_uri": "https://localhost:8080/",
          "height": 283
        },
        "id": "8yh2mbz4YEbT",
        "outputId": "6f84b7b3-37ff-4cae-b67e-cc87956532d4"
      },
      "source": [
        "baseball_newind[baseball_newind.ab>500]"
      ],
      "execution_count": null,
      "outputs": [
        {
          "output_type": "execute_result",
          "data": {
            "text/html": [
              "<div>\n",
              "<style scoped>\n",
              "    .dataframe tbody tr th:only-of-type {\n",
              "        vertical-align: middle;\n",
              "    }\n",
              "\n",
              "    .dataframe tbody tr th {\n",
              "        vertical-align: top;\n",
              "    }\n",
              "\n",
              "    .dataframe thead th {\n",
              "        text-align: right;\n",
              "    }\n",
              "</style>\n",
              "<table border=\"1\" class=\"dataframe\">\n",
              "  <thead>\n",
              "    <tr style=\"text-align: right;\">\n",
              "      <th></th>\n",
              "      <th>player</th>\n",
              "      <th>year</th>\n",
              "      <th>stint</th>\n",
              "      <th>team</th>\n",
              "      <th>lg</th>\n",
              "      <th>g</th>\n",
              "      <th>ab</th>\n",
              "      <th>r</th>\n",
              "      <th>h</th>\n",
              "      <th>X2b</th>\n",
              "      <th>X3b</th>\n",
              "      <th>hr</th>\n",
              "      <th>rbi</th>\n",
              "      <th>sb</th>\n",
              "      <th>cs</th>\n",
              "      <th>bb</th>\n",
              "      <th>so</th>\n",
              "      <th>ibb</th>\n",
              "      <th>hbp</th>\n",
              "      <th>sh</th>\n",
              "      <th>sf</th>\n",
              "      <th>gidp</th>\n",
              "    </tr>\n",
              "  </thead>\n",
              "  <tbody>\n",
              "    <tr>\n",
              "      <th>gonzalu01ARI2006</th>\n",
              "      <td>gonzalu01</td>\n",
              "      <td>2006</td>\n",
              "      <td>1</td>\n",
              "      <td>ARI</td>\n",
              "      <td>NL</td>\n",
              "      <td>153</td>\n",
              "      <td>586</td>\n",
              "      <td>93</td>\n",
              "      <td>5</td>\n",
              "      <td>52</td>\n",
              "      <td>2</td>\n",
              "      <td>15</td>\n",
              "      <td>73.0</td>\n",
              "      <td>0.0</td>\n",
              "      <td>1.0</td>\n",
              "      <td>69</td>\n",
              "      <td>58.0</td>\n",
              "      <td>10.0</td>\n",
              "      <td>7.0</td>\n",
              "      <td>0.0</td>\n",
              "      <td>6.0</td>\n",
              "      <td>14.0</td>\n",
              "    </tr>\n",
              "    <tr>\n",
              "      <th>vizquom01SFN2007</th>\n",
              "      <td>vizquom01</td>\n",
              "      <td>2007</td>\n",
              "      <td>1</td>\n",
              "      <td>SFN</td>\n",
              "      <td>NL</td>\n",
              "      <td>145</td>\n",
              "      <td>513</td>\n",
              "      <td>54</td>\n",
              "      <td>126</td>\n",
              "      <td>18</td>\n",
              "      <td>3</td>\n",
              "      <td>4</td>\n",
              "      <td>51.0</td>\n",
              "      <td>14.0</td>\n",
              "      <td>6.0</td>\n",
              "      <td>44</td>\n",
              "      <td>48.0</td>\n",
              "      <td>6.0</td>\n",
              "      <td>1.0</td>\n",
              "      <td>14.0</td>\n",
              "      <td>3.0</td>\n",
              "      <td>14.0</td>\n",
              "    </tr>\n",
              "    <tr>\n",
              "      <th>thomafr04TOR2007</th>\n",
              "      <td>thomafr04</td>\n",
              "      <td>2007</td>\n",
              "      <td>1</td>\n",
              "      <td>TOR</td>\n",
              "      <td>AL</td>\n",
              "      <td>155</td>\n",
              "      <td>531</td>\n",
              "      <td>63</td>\n",
              "      <td>147</td>\n",
              "      <td>30</td>\n",
              "      <td>0</td>\n",
              "      <td>26</td>\n",
              "      <td>95.0</td>\n",
              "      <td>0.0</td>\n",
              "      <td>0.0</td>\n",
              "      <td>81</td>\n",
              "      <td>94.0</td>\n",
              "      <td>3.0</td>\n",
              "      <td>7.0</td>\n",
              "      <td>0.0</td>\n",
              "      <td>5.0</td>\n",
              "      <td>14.0</td>\n",
              "    </tr>\n",
              "    <tr>\n",
              "      <th>rodriiv01DET2007</th>\n",
              "      <td>rodriiv01</td>\n",
              "      <td>2007</td>\n",
              "      <td>1</td>\n",
              "      <td>DET</td>\n",
              "      <td>AL</td>\n",
              "      <td>129</td>\n",
              "      <td>502</td>\n",
              "      <td>50</td>\n",
              "      <td>141</td>\n",
              "      <td>31</td>\n",
              "      <td>3</td>\n",
              "      <td>11</td>\n",
              "      <td>63.0</td>\n",
              "      <td>2.0</td>\n",
              "      <td>2.0</td>\n",
              "      <td>9</td>\n",
              "      <td>96.0</td>\n",
              "      <td>1.0</td>\n",
              "      <td>1.0</td>\n",
              "      <td>1.0</td>\n",
              "      <td>2.0</td>\n",
              "      <td>16.0</td>\n",
              "    </tr>\n",
              "    <tr>\n",
              "      <th>griffke02CIN2007</th>\n",
              "      <td>griffke02</td>\n",
              "      <td>2007</td>\n",
              "      <td>1</td>\n",
              "      <td>CIN</td>\n",
              "      <td>NL</td>\n",
              "      <td>144</td>\n",
              "      <td>528</td>\n",
              "      <td>78</td>\n",
              "      <td>146</td>\n",
              "      <td>24</td>\n",
              "      <td>1</td>\n",
              "      <td>30</td>\n",
              "      <td>93.0</td>\n",
              "      <td>6.0</td>\n",
              "      <td>1.0</td>\n",
              "      <td>85</td>\n",
              "      <td>99.0</td>\n",
              "      <td>14.0</td>\n",
              "      <td>1.0</td>\n",
              "      <td>0.0</td>\n",
              "      <td>9.0</td>\n",
              "      <td>14.0</td>\n",
              "    </tr>\n",
              "    <tr>\n",
              "      <th>delgaca01NYN2007</th>\n",
              "      <td>delgaca01</td>\n",
              "      <td>2007</td>\n",
              "      <td>1</td>\n",
              "      <td>NYN</td>\n",
              "      <td>NL</td>\n",
              "      <td>139</td>\n",
              "      <td>538</td>\n",
              "      <td>71</td>\n",
              "      <td>139</td>\n",
              "      <td>30</td>\n",
              "      <td>0</td>\n",
              "      <td>24</td>\n",
              "      <td>87.0</td>\n",
              "      <td>4.0</td>\n",
              "      <td>0.0</td>\n",
              "      <td>52</td>\n",
              "      <td>118.0</td>\n",
              "      <td>8.0</td>\n",
              "      <td>11.0</td>\n",
              "      <td>0.0</td>\n",
              "      <td>6.0</td>\n",
              "      <td>12.0</td>\n",
              "    </tr>\n",
              "    <tr>\n",
              "      <th>biggicr01HOU2007</th>\n",
              "      <td>biggicr01</td>\n",
              "      <td>2007</td>\n",
              "      <td>1</td>\n",
              "      <td>HOU</td>\n",
              "      <td>NL</td>\n",
              "      <td>141</td>\n",
              "      <td>517</td>\n",
              "      <td>68</td>\n",
              "      <td>130</td>\n",
              "      <td>31</td>\n",
              "      <td>3</td>\n",
              "      <td>10</td>\n",
              "      <td>50.0</td>\n",
              "      <td>4.0</td>\n",
              "      <td>3.0</td>\n",
              "      <td>23</td>\n",
              "      <td>112.0</td>\n",
              "      <td>0.0</td>\n",
              "      <td>3.0</td>\n",
              "      <td>7.0</td>\n",
              "      <td>5.0</td>\n",
              "      <td>5.0</td>\n",
              "    </tr>\n",
              "  </tbody>\n",
              "</table>\n",
              "</div>"
            ],
            "text/plain": [
              "                     player  year  stint team  lg    g   ab   r    h  X2b  \\\n",
              "gonzalu01ARI2006  gonzalu01  2006      1  ARI  NL  153  586  93    5   52   \n",
              "vizquom01SFN2007  vizquom01  2007      1  SFN  NL  145  513  54  126   18   \n",
              "thomafr04TOR2007  thomafr04  2007      1  TOR  AL  155  531  63  147   30   \n",
              "rodriiv01DET2007  rodriiv01  2007      1  DET  AL  129  502  50  141   31   \n",
              "griffke02CIN2007  griffke02  2007      1  CIN  NL  144  528  78  146   24   \n",
              "delgaca01NYN2007  delgaca01  2007      1  NYN  NL  139  538  71  139   30   \n",
              "biggicr01HOU2007  biggicr01  2007      1  HOU  NL  141  517  68  130   31   \n",
              "\n",
              "                  X3b  hr   rbi    sb   cs  bb     so   ibb   hbp    sh   sf  \\\n",
              "gonzalu01ARI2006    2  15  73.0   0.0  1.0  69   58.0  10.0   7.0   0.0  6.0   \n",
              "vizquom01SFN2007    3   4  51.0  14.0  6.0  44   48.0   6.0   1.0  14.0  3.0   \n",
              "thomafr04TOR2007    0  26  95.0   0.0  0.0  81   94.0   3.0   7.0   0.0  5.0   \n",
              "rodriiv01DET2007    3  11  63.0   2.0  2.0   9   96.0   1.0   1.0   1.0  2.0   \n",
              "griffke02CIN2007    1  30  93.0   6.0  1.0  85   99.0  14.0   1.0   0.0  9.0   \n",
              "delgaca01NYN2007    0  24  87.0   4.0  0.0  52  118.0   8.0  11.0   0.0  6.0   \n",
              "biggicr01HOU2007    3  10  50.0   4.0  3.0  23  112.0   0.0   3.0   7.0  5.0   \n",
              "\n",
              "                  gidp  \n",
              "gonzalu01ARI2006  14.0  \n",
              "vizquom01SFN2007  14.0  \n",
              "thomafr04TOR2007  14.0  \n",
              "rodriiv01DET2007  16.0  \n",
              "griffke02CIN2007  14.0  \n",
              "delgaca01NYN2007  12.0  \n",
              "biggicr01HOU2007   5.0  "
            ]
          },
          "metadata": {
            "tags": []
          },
          "execution_count": 88
        }
      ]
    },
    {
      "cell_type": "markdown",
      "metadata": {
        "id": "54ErAv1xYG-D"
      },
      "source": [
        "The indexing field `loc` allows us to select subsets of rows and columns in an intuitive way"
      ]
    },
    {
      "cell_type": "code",
      "metadata": {
        "colab": {
          "base_uri": "https://localhost:8080/"
        },
        "id": "dpfpnF6YYNly",
        "outputId": "c6823b36-cb4f-4116-b9b9-15734657d1f3"
      },
      "source": [
        "baseball_newind.loc['gonzalu01ARI2006', ['h','X2b', 'X3b', 'hr']]"
      ],
      "execution_count": null,
      "outputs": [
        {
          "output_type": "execute_result",
          "data": {
            "text/plain": [
              "h       5\n",
              "X2b    52\n",
              "X3b     2\n",
              "hr     15\n",
              "Name: gonzalu01ARI2006, dtype: object"
            ]
          },
          "metadata": {
            "tags": []
          },
          "execution_count": 89
        }
      ]
    },
    {
      "cell_type": "code",
      "metadata": {
        "colab": {
          "base_uri": "https://localhost:8080/",
          "height": 110
        },
        "id": "Ux5JK9j7YYOv",
        "outputId": "6e630f54-97ba-43e3-eb30-dc03c1cb7a20"
      },
      "source": [
        "baseball_newind.loc[['gonzalu01ARI2006','finlest01SFN2006'], bassball.columns[5:8]]"
      ],
      "execution_count": null,
      "outputs": [
        {
          "output_type": "execute_result",
          "data": {
            "text/html": [
              "<div>\n",
              "<style scoped>\n",
              "    .dataframe tbody tr th:only-of-type {\n",
              "        vertical-align: middle;\n",
              "    }\n",
              "\n",
              "    .dataframe tbody tr th {\n",
              "        vertical-align: top;\n",
              "    }\n",
              "\n",
              "    .dataframe thead th {\n",
              "        text-align: right;\n",
              "    }\n",
              "</style>\n",
              "<table border=\"1\" class=\"dataframe\">\n",
              "  <thead>\n",
              "    <tr style=\"text-align: right;\">\n",
              "      <th></th>\n",
              "      <th>g</th>\n",
              "      <th>ab</th>\n",
              "      <th>r</th>\n",
              "    </tr>\n",
              "  </thead>\n",
              "  <tbody>\n",
              "    <tr>\n",
              "      <th>gonzalu01ARI2006</th>\n",
              "      <td>153</td>\n",
              "      <td>586</td>\n",
              "      <td>93</td>\n",
              "    </tr>\n",
              "    <tr>\n",
              "      <th>finlest01SFN2006</th>\n",
              "      <td>139</td>\n",
              "      <td>426</td>\n",
              "      <td>66</td>\n",
              "    </tr>\n",
              "  </tbody>\n",
              "</table>\n",
              "</div>"
            ],
            "text/plain": [
              "                    g   ab   r\n",
              "gonzalu01ARI2006  153  586  93\n",
              "finlest01SFN2006  139  426  66"
            ]
          },
          "metadata": {
            "tags": []
          },
          "execution_count": 163
        }
      ]
    },
    {
      "cell_type": "code",
      "metadata": {
        "colab": {
          "base_uri": "https://localhost:8080/"
        },
        "id": "MEK9wp1HYd1Q",
        "outputId": "69a190ae-a744-4f1c-b00e-4bf4e4cf4a0d"
      },
      "source": [
        "baseball_newind.loc[:'myersmi01NYA2006', 'hr']"
      ],
      "execution_count": null,
      "outputs": [
        {
          "output_type": "execute_result",
          "data": {
            "text/plain": [
              "womacto01CHN2006    1\n",
              "schilcu01BOS2006    0\n",
              "myersmi01NYA2006    0\n",
              "Name: hr, dtype: int64"
            ]
          },
          "metadata": {
            "tags": []
          },
          "execution_count": 91
        }
      ]
    },
    {
      "cell_type": "markdown",
      "metadata": {
        "id": "jlWIfuZRcLSh"
      },
      "source": [
        "Similarly, the cross-section method `xs` (not a field) extracts a single column or row *by label* and returns it as a `Series`:"
      ]
    },
    {
      "cell_type": "code",
      "metadata": {
        "colab": {
          "base_uri": "https://localhost:8080/"
        },
        "id": "eI3Qy5JHZTVY",
        "outputId": "05ada83c-ec6c-43c4-cd59-62dc5c6b6b0e"
      },
      "source": [
        "baseball_newind.xs('myersmi01NYA2006')"
      ],
      "execution_count": null,
      "outputs": [
        {
          "output_type": "execute_result",
          "data": {
            "text/plain": [
              "player    myersmi01\n",
              "year           2006\n",
              "stint             1\n",
              "team            NYA\n",
              "lg               AL\n",
              "            ...    \n",
              "ibb               0\n",
              "hbp               0\n",
              "sh                0\n",
              "sf                0\n",
              "gidp              0\n",
              "Name: myersmi01NYA2006, Length: 22, dtype: object"
            ]
          },
          "metadata": {
            "tags": []
          },
          "execution_count": 92
        }
      ]
    },
    {
      "cell_type": "markdown",
      "metadata": {
        "id": "kHDnszqXch5T"
      },
      "source": [
        "## Operations\r\n",
        "DataFrame and Series objects allow for several operations to take place either on a single object, or between two or more objects.\r\n",
        "\r\n",
        "For example, we can perform arithmetic on the elements of two objects, such as combining baseball statistics across `years` or the `g`"
      ]
    },
    {
      "cell_type": "code",
      "metadata": {
        "id": "JbBMPT_7cOvc"
      },
      "source": [
        "hr2006 = baseball[baseball.year==2006].xs('hr', axis=1)\r\n",
        "hr2006.index = baseball.player[baseball.year==2006]\r\n",
        "\r\n",
        "hr2007 = baseball[baseball.year==2007].xs('hr', axis=1)\r\n",
        "hr2007.index = baseball.player[baseball.year==2007]"
      ],
      "execution_count": null,
      "outputs": []
    },
    {
      "cell_type": "code",
      "metadata": {
        "id": "RHK9elJuj1o4"
      },
      "source": [
        "hr2006 = pd.Series(baseball.hr[baseball.year==2006].values, index=baseball.player[baseball.year==2006])\r\n",
        "hr2007 = pd.Series(baseball.hr[baseball.year==2007].values, index=baseball.player[baseball.year==2007])"
      ],
      "execution_count": null,
      "outputs": []
    },
    {
      "cell_type": "code",
      "metadata": {
        "colab": {
          "base_uri": "https://localhost:8080/"
        },
        "id": "2RbDQELIj6A7",
        "outputId": "b4dced65-fa6a-4871-cb3a-48b617b92b37"
      },
      "source": [
        "hr_total = hr2006 + hr2007\r\n",
        "hr_total"
      ],
      "execution_count": null,
      "outputs": [
        {
          "output_type": "execute_result",
          "data": {
            "text/plain": [
              "player\n",
              "alomasa02   NaN\n",
              "aloumo01    NaN\n",
              "ausmubr01   NaN\n",
              "benitar01   NaN\n",
              "benitar01   NaN\n",
              "             ..\n",
              "wickmbo01   NaN\n",
              "williwo02   NaN\n",
              "witasja01   NaN\n",
              "womacto01   NaN\n",
              "zaungr01    NaN\n",
              "Length: 94, dtype: float64"
            ]
          },
          "metadata": {
            "tags": []
          },
          "execution_count": 95
        }
      ]
    },
    {
      "cell_type": "markdown",
      "metadata": {
        "id": "E4-Si6XGj_pG"
      },
      "source": [
        "__Note:__ Pandas' data alignment places `NaN` values for labels that do not overlap in the two Series. \r\n"
      ]
    },
    {
      "cell_type": "code",
      "metadata": {
        "colab": {
          "base_uri": "https://localhost:8080/"
        },
        "id": "4wat-BLoj7ys",
        "outputId": "875476ce-1095-47c7-d007-43b9038bf947"
      },
      "source": [
        "hr_total[hr_total.notnull()]"
      ],
      "execution_count": null,
      "outputs": [
        {
          "output_type": "execute_result",
          "data": {
            "text/plain": [
              "player\n",
              "finlest01     7.0\n",
              "gonzalu01    30.0\n",
              "johnsra05     0.0\n",
              "myersmi01     0.0\n",
              "schilcu01     0.0\n",
              "seleaa01      0.0\n",
              "dtype: float64"
            ]
          },
          "metadata": {
            "tags": []
          },
          "execution_count": 96
        }
      ]
    },
    {
      "cell_type": "markdown",
      "metadata": {
        "id": "5ujGjwSukReN"
      },
      "source": [
        "\r\n",
        "In fact, there are only 6 players that occur in both years"
      ]
    },
    {
      "cell_type": "markdown",
      "metadata": {
        "id": "_17vlHtBkcb-"
      },
      "source": [
        "If we do not want the data to have `NAN` filled in place of the missing values, We can use the `add` method to calculate player home run totals by using the `fill_value` argument to insert a zero for home runs where labels do not overlap"
      ]
    },
    {
      "cell_type": "code",
      "metadata": {
        "colab": {
          "base_uri": "https://localhost:8080/"
        },
        "id": "WgNcnk-ekN3r",
        "outputId": "106fd228-529c-4ef8-d105-4ff62d9ef4d0"
      },
      "source": [
        "hr2007.add(hr2006, fill_value=0)"
      ],
      "execution_count": null,
      "outputs": [
        {
          "output_type": "execute_result",
          "data": {
            "text/plain": [
              "player\n",
              "alomasa02     0.0\n",
              "aloumo01     13.0\n",
              "ausmubr01     3.0\n",
              "benitar01     0.0\n",
              "benitar01     0.0\n",
              "             ... \n",
              "wickmbo01     0.0\n",
              "williwo02     1.0\n",
              "witasja01     0.0\n",
              "womacto01     1.0\n",
              "zaungr01     10.0\n",
              "Length: 94, dtype: float64"
            ]
          },
          "metadata": {
            "tags": []
          },
          "execution_count": 97
        }
      ]
    },
    {
      "cell_type": "markdown",
      "metadata": {
        "id": "EweREFxKk4Jf"
      },
      "source": [
        "The operation can also be __brodcasted__ between rows and columns. \r\n",
        "\r\n",
        "For example, if we subtract the maximum number of home runs hit from the `hr` column, we get how many fewer than the maximum (by using `.max` atteibute) were hit by each player"
      ]
    },
    {
      "cell_type": "code",
      "metadata": {
        "colab": {
          "base_uri": "https://localhost:8080/"
        },
        "id": "TTWhqbfGk0Vn",
        "outputId": "d7a374d0-2ead-45fc-895e-602b62dbe713"
      },
      "source": [
        "baseball.hr - baseball.hr.max()"
      ],
      "execution_count": null,
      "outputs": [
        {
          "output_type": "execute_result",
          "data": {
            "text/plain": [
              "id\n",
              "88641   -34\n",
              "88643   -35\n",
              "88645   -35\n",
              "88649   -35\n",
              "88650   -35\n",
              "         ..\n",
              "89525   -35\n",
              "89526   -35\n",
              "89530   -32\n",
              "89533   -22\n",
              "89534   -35\n",
              "Name: hr, Length: 100, dtype: int64"
            ]
          },
          "metadata": {
            "tags": []
          },
          "execution_count": 98
        }
      ]
    },
    {
      "cell_type": "markdown",
      "metadata": {
        "id": "Cig3w3O8lL-a"
      },
      "source": [
        "Or, looking at things row-wise, we can see how a particular player compares with the rest of the group with respect to statistical analysis"
      ]
    },
    {
      "cell_type": "code",
      "metadata": {
        "colab": {
          "base_uri": "https://localhost:8080/",
          "height": 35
        },
        "id": "Z81qywcclnho",
        "outputId": "0c810440-4906-4bd0-8220-61ac77fe3753"
      },
      "source": [
        "baseball.loc[89521][\"player\"]"
      ],
      "execution_count": null,
      "outputs": [
        {
          "output_type": "execute_result",
          "data": {
            "application/vnd.google.colaboratory.intrinsic+json": {
              "type": "string"
            },
            "text/plain": [
              "'bondsba01'"
            ]
          },
          "metadata": {
            "tags": []
          },
          "execution_count": 99
        }
      ]
    },
    {
      "cell_type": "code",
      "metadata": {
        "colab": {
          "base_uri": "https://localhost:8080/",
          "height": 386
        },
        "id": "LrhylagKlsUO",
        "outputId": "d2d9046b-ad4f-4557-a4dd-ea54b2b2dc39"
      },
      "source": [
        "stats = baseball[['h','X2b', 'X3b', 'hr']]\r\n",
        "diff = stats - stats.xs(89521)\r\n",
        "diff[:10]"
      ],
      "execution_count": null,
      "outputs": [
        {
          "output_type": "execute_result",
          "data": {
            "text/html": [
              "<div>\n",
              "<style scoped>\n",
              "    .dataframe tbody tr th:only-of-type {\n",
              "        vertical-align: middle;\n",
              "    }\n",
              "\n",
              "    .dataframe tbody tr th {\n",
              "        vertical-align: top;\n",
              "    }\n",
              "\n",
              "    .dataframe thead th {\n",
              "        text-align: right;\n",
              "    }\n",
              "</style>\n",
              "<table border=\"1\" class=\"dataframe\">\n",
              "  <thead>\n",
              "    <tr style=\"text-align: right;\">\n",
              "      <th></th>\n",
              "      <th>h</th>\n",
              "      <th>X2b</th>\n",
              "      <th>X3b</th>\n",
              "      <th>hr</th>\n",
              "    </tr>\n",
              "    <tr>\n",
              "      <th>id</th>\n",
              "      <th></th>\n",
              "      <th></th>\n",
              "      <th></th>\n",
              "      <th></th>\n",
              "    </tr>\n",
              "  </thead>\n",
              "  <tbody>\n",
              "    <tr>\n",
              "      <th>88641</th>\n",
              "      <td>-80</td>\n",
              "      <td>-13</td>\n",
              "      <td>0</td>\n",
              "      <td>-27</td>\n",
              "    </tr>\n",
              "    <tr>\n",
              "      <th>88643</th>\n",
              "      <td>-93</td>\n",
              "      <td>-14</td>\n",
              "      <td>0</td>\n",
              "      <td>-28</td>\n",
              "    </tr>\n",
              "    <tr>\n",
              "      <th>88645</th>\n",
              "      <td>-94</td>\n",
              "      <td>-14</td>\n",
              "      <td>0</td>\n",
              "      <td>-28</td>\n",
              "    </tr>\n",
              "    <tr>\n",
              "      <th>88649</th>\n",
              "      <td>-94</td>\n",
              "      <td>-14</td>\n",
              "      <td>0</td>\n",
              "      <td>-28</td>\n",
              "    </tr>\n",
              "    <tr>\n",
              "      <th>88650</th>\n",
              "      <td>-93</td>\n",
              "      <td>-14</td>\n",
              "      <td>0</td>\n",
              "      <td>-28</td>\n",
              "    </tr>\n",
              "    <tr>\n",
              "      <th>88652</th>\n",
              "      <td>11</td>\n",
              "      <td>7</td>\n",
              "      <td>12</td>\n",
              "      <td>-22</td>\n",
              "    </tr>\n",
              "    <tr>\n",
              "      <th>88653</th>\n",
              "      <td>65</td>\n",
              "      <td>38</td>\n",
              "      <td>2</td>\n",
              "      <td>-13</td>\n",
              "    </tr>\n",
              "    <tr>\n",
              "      <th>88662</th>\n",
              "      <td>-89</td>\n",
              "      <td>-13</td>\n",
              "      <td>0</td>\n",
              "      <td>-28</td>\n",
              "    </tr>\n",
              "    <tr>\n",
              "      <th>89177</th>\n",
              "      <td>-84</td>\n",
              "      <td>-11</td>\n",
              "      <td>0</td>\n",
              "      <td>-28</td>\n",
              "    </tr>\n",
              "    <tr>\n",
              "      <th>89178</th>\n",
              "      <td>-84</td>\n",
              "      <td>-14</td>\n",
              "      <td>0</td>\n",
              "      <td>-27</td>\n",
              "    </tr>\n",
              "  </tbody>\n",
              "</table>\n",
              "</div>"
            ],
            "text/plain": [
              "        h  X2b  X3b  hr\n",
              "id                     \n",
              "88641 -80  -13    0 -27\n",
              "88643 -93  -14    0 -28\n",
              "88645 -94  -14    0 -28\n",
              "88649 -94  -14    0 -28\n",
              "88650 -93  -14    0 -28\n",
              "88652  11    7   12 -22\n",
              "88653  65   38    2 -13\n",
              "88662 -89  -13    0 -28\n",
              "89177 -84  -11    0 -28\n",
              "89178 -84  -14    0 -27"
            ]
          },
          "metadata": {
            "tags": []
          },
          "execution_count": 100
        }
      ]
    },
    {
      "cell_type": "markdown",
      "metadata": {
        "id": "KosSUKlolzic"
      },
      "source": [
        "We can also apply functions to each column or row of a __dataframe__"
      ]
    },
    {
      "cell_type": "code",
      "metadata": {
        "colab": {
          "base_uri": "https://localhost:8080/"
        },
        "id": "IdpcQ0oBlvpV",
        "outputId": "3e78791f-44ca-49ba-e6bd-fc3559e5eb9a"
      },
      "source": [
        "stats.apply(np.median)"
      ],
      "execution_count": null,
      "outputs": [
        {
          "output_type": "execute_result",
          "data": {
            "text/plain": [
              "h      8.0\n",
              "X2b    1.0\n",
              "X3b    0.0\n",
              "hr     0.0\n",
              "dtype: float64"
            ]
          },
          "metadata": {
            "tags": []
          },
          "execution_count": 101
        }
      ]
    },
    {
      "cell_type": "code",
      "metadata": {
        "colab": {
          "base_uri": "https://localhost:8080/"
        },
        "id": "fDjKTTNul4Zs",
        "outputId": "f231ddc1-9f7c-4a1e-b8aa-d8f576d419b5"
      },
      "source": [
        "stat_range = lambda x: x.max() - x.min()\r\n",
        "stats.apply(stat_range)"
      ],
      "execution_count": null,
      "outputs": [
        {
          "output_type": "execute_result",
          "data": {
            "text/plain": [
              "h      159\n",
              "X2b     52\n",
              "X3b     12\n",
              "hr      35\n",
              "dtype: int64"
            ]
          },
          "metadata": {
            "tags": []
          },
          "execution_count": 102
        }
      ]
    },
    {
      "cell_type": "markdown",
      "metadata": {
        "id": "tHF5zCVCmCCU"
      },
      "source": [
        "Lets use apply to calculate a meaningful baseball statistics, slugging percentage:\r\n",
        "\r\n",
        "$$SLG = \\frac{1B + (2 \\times 2B) + (3 \\times 3B) + (4 \\times HR)}{AB}$$\r\n",
        "\r\n",
        "And just for fun, we will format the resulting estimate"
      ]
    },
    {
      "cell_type": "code",
      "metadata": {
        "colab": {
          "base_uri": "https://localhost:8080/"
        },
        "id": "LamXNSNhl9zh",
        "outputId": "7c85a995-e03a-4a9d-d19b-092c433bcc32"
      },
      "source": [
        "slg = lambda x: (x['h']-x['X2b']-x['X3b']-x['hr'] + 2*x['X2b'] + 3*x['X3b'] + 4*x['hr'])/(x['ab']+1e-6)\r\n",
        "baseball.apply(slg, axis=1).apply(lambda x: '%.3f' % x)"
      ],
      "execution_count": null,
      "outputs": [
        {
          "output_type": "execute_result",
          "data": {
            "text/plain": [
              "id\n",
              "88641    0.360\n",
              "88643    0.500\n",
              "88645    0.000\n",
              "88649    0.000\n",
              "88650    0.167\n",
              "         ...  \n",
              "89525    0.000\n",
              "89526    0.000\n",
              "89530    0.324\n",
              "89533    0.524\n",
              "89534    0.182\n",
              "Length: 100, dtype: object"
            ]
          },
          "metadata": {
            "tags": []
          },
          "execution_count": 103
        }
      ]
    },
    {
      "cell_type": "markdown",
      "metadata": {
        "id": "OMWpUqAQpixd"
      },
      "source": [
        "## Sorting and Ranking\r\n",
        "\r\n",
        "Pandas objects include methods for re-ordering data."
      ]
    },
    {
      "cell_type": "code",
      "metadata": {
        "colab": {
          "base_uri": "https://localhost:8080/",
          "height": 222
        },
        "id": "aLNjLDctmSji",
        "outputId": "abda8f60-2cd9-4f33-85e6-8f6056f8f597"
      },
      "source": [
        "baseball_newind.sort_index().head()"
      ],
      "execution_count": null,
      "outputs": [
        {
          "output_type": "execute_result",
          "data": {
            "text/html": [
              "<div>\n",
              "<style scoped>\n",
              "    .dataframe tbody tr th:only-of-type {\n",
              "        vertical-align: middle;\n",
              "    }\n",
              "\n",
              "    .dataframe tbody tr th {\n",
              "        vertical-align: top;\n",
              "    }\n",
              "\n",
              "    .dataframe thead th {\n",
              "        text-align: right;\n",
              "    }\n",
              "</style>\n",
              "<table border=\"1\" class=\"dataframe\">\n",
              "  <thead>\n",
              "    <tr style=\"text-align: right;\">\n",
              "      <th></th>\n",
              "      <th>player</th>\n",
              "      <th>year</th>\n",
              "      <th>stint</th>\n",
              "      <th>team</th>\n",
              "      <th>lg</th>\n",
              "      <th>g</th>\n",
              "      <th>ab</th>\n",
              "      <th>r</th>\n",
              "      <th>h</th>\n",
              "      <th>X2b</th>\n",
              "      <th>X3b</th>\n",
              "      <th>hr</th>\n",
              "      <th>rbi</th>\n",
              "      <th>sb</th>\n",
              "      <th>cs</th>\n",
              "      <th>bb</th>\n",
              "      <th>so</th>\n",
              "      <th>ibb</th>\n",
              "      <th>hbp</th>\n",
              "      <th>sh</th>\n",
              "      <th>sf</th>\n",
              "      <th>gidp</th>\n",
              "    </tr>\n",
              "  </thead>\n",
              "  <tbody>\n",
              "    <tr>\n",
              "      <th>alomasa02NYN2007</th>\n",
              "      <td>alomasa02</td>\n",
              "      <td>2007</td>\n",
              "      <td>1</td>\n",
              "      <td>NYN</td>\n",
              "      <td>NL</td>\n",
              "      <td>8</td>\n",
              "      <td>22</td>\n",
              "      <td>1</td>\n",
              "      <td>3</td>\n",
              "      <td>1</td>\n",
              "      <td>0</td>\n",
              "      <td>0</td>\n",
              "      <td>0.0</td>\n",
              "      <td>0.0</td>\n",
              "      <td>0.0</td>\n",
              "      <td>0</td>\n",
              "      <td>3.0</td>\n",
              "      <td>0.0</td>\n",
              "      <td>0.0</td>\n",
              "      <td>0.0</td>\n",
              "      <td>0.0</td>\n",
              "      <td>0.0</td>\n",
              "    </tr>\n",
              "    <tr>\n",
              "      <th>aloumo01NYN2007</th>\n",
              "      <td>aloumo01</td>\n",
              "      <td>2007</td>\n",
              "      <td>1</td>\n",
              "      <td>NYN</td>\n",
              "      <td>NL</td>\n",
              "      <td>87</td>\n",
              "      <td>328</td>\n",
              "      <td>51</td>\n",
              "      <td>112</td>\n",
              "      <td>19</td>\n",
              "      <td>1</td>\n",
              "      <td>13</td>\n",
              "      <td>49.0</td>\n",
              "      <td>3.0</td>\n",
              "      <td>0.0</td>\n",
              "      <td>27</td>\n",
              "      <td>30.0</td>\n",
              "      <td>5.0</td>\n",
              "      <td>2.0</td>\n",
              "      <td>0.0</td>\n",
              "      <td>3.0</td>\n",
              "      <td>13.0</td>\n",
              "    </tr>\n",
              "    <tr>\n",
              "      <th>ausmubr01HOU2007</th>\n",
              "      <td>ausmubr01</td>\n",
              "      <td>2007</td>\n",
              "      <td>1</td>\n",
              "      <td>HOU</td>\n",
              "      <td>NL</td>\n",
              "      <td>117</td>\n",
              "      <td>349</td>\n",
              "      <td>38</td>\n",
              "      <td>82</td>\n",
              "      <td>16</td>\n",
              "      <td>3</td>\n",
              "      <td>3</td>\n",
              "      <td>25.0</td>\n",
              "      <td>6.0</td>\n",
              "      <td>1.0</td>\n",
              "      <td>37</td>\n",
              "      <td>74.0</td>\n",
              "      <td>3.0</td>\n",
              "      <td>6.0</td>\n",
              "      <td>4.0</td>\n",
              "      <td>1.0</td>\n",
              "      <td>11.0</td>\n",
              "    </tr>\n",
              "    <tr>\n",
              "      <th>benitar01FLO2007</th>\n",
              "      <td>benitar01</td>\n",
              "      <td>2007</td>\n",
              "      <td>2</td>\n",
              "      <td>FLO</td>\n",
              "      <td>NL</td>\n",
              "      <td>34</td>\n",
              "      <td>0</td>\n",
              "      <td>0</td>\n",
              "      <td>0</td>\n",
              "      <td>0</td>\n",
              "      <td>0</td>\n",
              "      <td>0</td>\n",
              "      <td>0.0</td>\n",
              "      <td>0.0</td>\n",
              "      <td>0.0</td>\n",
              "      <td>0</td>\n",
              "      <td>0.0</td>\n",
              "      <td>0.0</td>\n",
              "      <td>0.0</td>\n",
              "      <td>0.0</td>\n",
              "      <td>0.0</td>\n",
              "      <td>0.0</td>\n",
              "    </tr>\n",
              "    <tr>\n",
              "      <th>benitar01SFN2007</th>\n",
              "      <td>benitar01</td>\n",
              "      <td>2007</td>\n",
              "      <td>1</td>\n",
              "      <td>SFN</td>\n",
              "      <td>NL</td>\n",
              "      <td>19</td>\n",
              "      <td>0</td>\n",
              "      <td>0</td>\n",
              "      <td>0</td>\n",
              "      <td>0</td>\n",
              "      <td>0</td>\n",
              "      <td>0</td>\n",
              "      <td>0.0</td>\n",
              "      <td>0.0</td>\n",
              "      <td>0.0</td>\n",
              "      <td>0</td>\n",
              "      <td>0.0</td>\n",
              "      <td>0.0</td>\n",
              "      <td>0.0</td>\n",
              "      <td>0.0</td>\n",
              "      <td>0.0</td>\n",
              "      <td>0.0</td>\n",
              "    </tr>\n",
              "  </tbody>\n",
              "</table>\n",
              "</div>"
            ],
            "text/plain": [
              "                     player  year  stint team  lg    g   ab   r    h  X2b  \\\n",
              "alomasa02NYN2007  alomasa02  2007      1  NYN  NL    8   22   1    3    1   \n",
              "aloumo01NYN2007    aloumo01  2007      1  NYN  NL   87  328  51  112   19   \n",
              "ausmubr01HOU2007  ausmubr01  2007      1  HOU  NL  117  349  38   82   16   \n",
              "benitar01FLO2007  benitar01  2007      2  FLO  NL   34    0   0    0    0   \n",
              "benitar01SFN2007  benitar01  2007      1  SFN  NL   19    0   0    0    0   \n",
              "\n",
              "                  X3b  hr   rbi   sb   cs  bb    so  ibb  hbp   sh   sf  gidp  \n",
              "alomasa02NYN2007    0   0   0.0  0.0  0.0   0   3.0  0.0  0.0  0.0  0.0   0.0  \n",
              "aloumo01NYN2007     1  13  49.0  3.0  0.0  27  30.0  5.0  2.0  0.0  3.0  13.0  \n",
              "ausmubr01HOU2007    3   3  25.0  6.0  1.0  37  74.0  3.0  6.0  4.0  1.0  11.0  \n",
              "benitar01FLO2007    0   0   0.0  0.0  0.0   0   0.0  0.0  0.0  0.0  0.0   0.0  \n",
              "benitar01SFN2007    0   0   0.0  0.0  0.0   0   0.0  0.0  0.0  0.0  0.0   0.0  "
            ]
          },
          "metadata": {
            "tags": []
          },
          "execution_count": 104
        }
      ]
    },
    {
      "cell_type": "code",
      "metadata": {
        "colab": {
          "base_uri": "https://localhost:8080/",
          "height": 222
        },
        "id": "DHSygu5Dpovx",
        "outputId": "68f9c20d-9afc-4622-f6c3-8c4381ec4dec"
      },
      "source": [
        "baseball_newind.sort_index(ascending=False).head()"
      ],
      "execution_count": null,
      "outputs": [
        {
          "output_type": "execute_result",
          "data": {
            "text/html": [
              "<div>\n",
              "<style scoped>\n",
              "    .dataframe tbody tr th:only-of-type {\n",
              "        vertical-align: middle;\n",
              "    }\n",
              "\n",
              "    .dataframe tbody tr th {\n",
              "        vertical-align: top;\n",
              "    }\n",
              "\n",
              "    .dataframe thead th {\n",
              "        text-align: right;\n",
              "    }\n",
              "</style>\n",
              "<table border=\"1\" class=\"dataframe\">\n",
              "  <thead>\n",
              "    <tr style=\"text-align: right;\">\n",
              "      <th></th>\n",
              "      <th>player</th>\n",
              "      <th>year</th>\n",
              "      <th>stint</th>\n",
              "      <th>team</th>\n",
              "      <th>lg</th>\n",
              "      <th>g</th>\n",
              "      <th>ab</th>\n",
              "      <th>r</th>\n",
              "      <th>h</th>\n",
              "      <th>X2b</th>\n",
              "      <th>X3b</th>\n",
              "      <th>hr</th>\n",
              "      <th>rbi</th>\n",
              "      <th>sb</th>\n",
              "      <th>cs</th>\n",
              "      <th>bb</th>\n",
              "      <th>so</th>\n",
              "      <th>ibb</th>\n",
              "      <th>hbp</th>\n",
              "      <th>sh</th>\n",
              "      <th>sf</th>\n",
              "      <th>gidp</th>\n",
              "    </tr>\n",
              "  </thead>\n",
              "  <tbody>\n",
              "    <tr>\n",
              "      <th>zaungr01TOR2007</th>\n",
              "      <td>zaungr01</td>\n",
              "      <td>2007</td>\n",
              "      <td>1</td>\n",
              "      <td>TOR</td>\n",
              "      <td>AL</td>\n",
              "      <td>110</td>\n",
              "      <td>331</td>\n",
              "      <td>43</td>\n",
              "      <td>80</td>\n",
              "      <td>24</td>\n",
              "      <td>1</td>\n",
              "      <td>10</td>\n",
              "      <td>52.0</td>\n",
              "      <td>0.0</td>\n",
              "      <td>0.0</td>\n",
              "      <td>51</td>\n",
              "      <td>55.0</td>\n",
              "      <td>8.0</td>\n",
              "      <td>2.0</td>\n",
              "      <td>1.0</td>\n",
              "      <td>6.0</td>\n",
              "      <td>9.0</td>\n",
              "    </tr>\n",
              "    <tr>\n",
              "      <th>womacto01CHN2006</th>\n",
              "      <td>womacto01</td>\n",
              "      <td>2006</td>\n",
              "      <td>2</td>\n",
              "      <td>CHN</td>\n",
              "      <td>NL</td>\n",
              "      <td>19</td>\n",
              "      <td>50</td>\n",
              "      <td>6</td>\n",
              "      <td>5</td>\n",
              "      <td>1</td>\n",
              "      <td>0</td>\n",
              "      <td>1</td>\n",
              "      <td>2.0</td>\n",
              "      <td>1.0</td>\n",
              "      <td>1.0</td>\n",
              "      <td>4</td>\n",
              "      <td>4.0</td>\n",
              "      <td>0.0</td>\n",
              "      <td>0.0</td>\n",
              "      <td>3.0</td>\n",
              "      <td>0.0</td>\n",
              "      <td>0.0</td>\n",
              "    </tr>\n",
              "    <tr>\n",
              "      <th>witasja01TBA2007</th>\n",
              "      <td>witasja01</td>\n",
              "      <td>2007</td>\n",
              "      <td>1</td>\n",
              "      <td>TBA</td>\n",
              "      <td>AL</td>\n",
              "      <td>3</td>\n",
              "      <td>0</td>\n",
              "      <td>0</td>\n",
              "      <td>0</td>\n",
              "      <td>0</td>\n",
              "      <td>0</td>\n",
              "      <td>0</td>\n",
              "      <td>0.0</td>\n",
              "      <td>0.0</td>\n",
              "      <td>0.0</td>\n",
              "      <td>0</td>\n",
              "      <td>0.0</td>\n",
              "      <td>0.0</td>\n",
              "      <td>0.0</td>\n",
              "      <td>0.0</td>\n",
              "      <td>0.0</td>\n",
              "      <td>0.0</td>\n",
              "    </tr>\n",
              "    <tr>\n",
              "      <th>williwo02HOU2007</th>\n",
              "      <td>williwo02</td>\n",
              "      <td>2007</td>\n",
              "      <td>1</td>\n",
              "      <td>HOU</td>\n",
              "      <td>NL</td>\n",
              "      <td>33</td>\n",
              "      <td>59</td>\n",
              "      <td>3</td>\n",
              "      <td>6</td>\n",
              "      <td>0</td>\n",
              "      <td>0</td>\n",
              "      <td>1</td>\n",
              "      <td>2.0</td>\n",
              "      <td>0.0</td>\n",
              "      <td>0.0</td>\n",
              "      <td>0</td>\n",
              "      <td>25.0</td>\n",
              "      <td>0.0</td>\n",
              "      <td>0.0</td>\n",
              "      <td>5.0</td>\n",
              "      <td>0.0</td>\n",
              "      <td>1.0</td>\n",
              "    </tr>\n",
              "    <tr>\n",
              "      <th>wickmbo01ATL2007</th>\n",
              "      <td>wickmbo01</td>\n",
              "      <td>2007</td>\n",
              "      <td>1</td>\n",
              "      <td>ATL</td>\n",
              "      <td>NL</td>\n",
              "      <td>47</td>\n",
              "      <td>0</td>\n",
              "      <td>0</td>\n",
              "      <td>0</td>\n",
              "      <td>0</td>\n",
              "      <td>0</td>\n",
              "      <td>0</td>\n",
              "      <td>0.0</td>\n",
              "      <td>0.0</td>\n",
              "      <td>0.0</td>\n",
              "      <td>0</td>\n",
              "      <td>0.0</td>\n",
              "      <td>0.0</td>\n",
              "      <td>0.0</td>\n",
              "      <td>0.0</td>\n",
              "      <td>0.0</td>\n",
              "      <td>0.0</td>\n",
              "    </tr>\n",
              "  </tbody>\n",
              "</table>\n",
              "</div>"
            ],
            "text/plain": [
              "                     player  year  stint team  lg    g   ab   r   h  X2b  X3b  \\\n",
              "zaungr01TOR2007    zaungr01  2007      1  TOR  AL  110  331  43  80   24    1   \n",
              "womacto01CHN2006  womacto01  2006      2  CHN  NL   19   50   6   5    1    0   \n",
              "witasja01TBA2007  witasja01  2007      1  TBA  AL    3    0   0   0    0    0   \n",
              "williwo02HOU2007  williwo02  2007      1  HOU  NL   33   59   3   6    0    0   \n",
              "wickmbo01ATL2007  wickmbo01  2007      1  ATL  NL   47    0   0   0    0    0   \n",
              "\n",
              "                  hr   rbi   sb   cs  bb    so  ibb  hbp   sh   sf  gidp  \n",
              "zaungr01TOR2007   10  52.0  0.0  0.0  51  55.0  8.0  2.0  1.0  6.0   9.0  \n",
              "womacto01CHN2006   1   2.0  1.0  1.0   4   4.0  0.0  0.0  3.0  0.0   0.0  \n",
              "witasja01TBA2007   0   0.0  0.0  0.0   0   0.0  0.0  0.0  0.0  0.0   0.0  \n",
              "williwo02HOU2007   1   2.0  0.0  0.0   0  25.0  0.0  0.0  5.0  0.0   1.0  \n",
              "wickmbo01ATL2007   0   0.0  0.0  0.0   0   0.0  0.0  0.0  0.0  0.0   0.0  "
            ]
          },
          "metadata": {
            "tags": []
          },
          "execution_count": 105
        }
      ]
    },
    {
      "cell_type": "code",
      "metadata": {
        "colab": {
          "base_uri": "https://localhost:8080/",
          "height": 222
        },
        "id": "wpEh-jCYpr1F",
        "outputId": "999f1ff1-b1e4-4aa0-e1d5-f8cc9478024e"
      },
      "source": [
        "baseball_newind.sort_index(axis=1).head()"
      ],
      "execution_count": null,
      "outputs": [
        {
          "output_type": "execute_result",
          "data": {
            "text/html": [
              "<div>\n",
              "<style scoped>\n",
              "    .dataframe tbody tr th:only-of-type {\n",
              "        vertical-align: middle;\n",
              "    }\n",
              "\n",
              "    .dataframe tbody tr th {\n",
              "        vertical-align: top;\n",
              "    }\n",
              "\n",
              "    .dataframe thead th {\n",
              "        text-align: right;\n",
              "    }\n",
              "</style>\n",
              "<table border=\"1\" class=\"dataframe\">\n",
              "  <thead>\n",
              "    <tr style=\"text-align: right;\">\n",
              "      <th></th>\n",
              "      <th>X2b</th>\n",
              "      <th>X3b</th>\n",
              "      <th>ab</th>\n",
              "      <th>bb</th>\n",
              "      <th>cs</th>\n",
              "      <th>g</th>\n",
              "      <th>gidp</th>\n",
              "      <th>h</th>\n",
              "      <th>hbp</th>\n",
              "      <th>hr</th>\n",
              "      <th>ibb</th>\n",
              "      <th>lg</th>\n",
              "      <th>player</th>\n",
              "      <th>r</th>\n",
              "      <th>rbi</th>\n",
              "      <th>sb</th>\n",
              "      <th>sf</th>\n",
              "      <th>sh</th>\n",
              "      <th>so</th>\n",
              "      <th>stint</th>\n",
              "      <th>team</th>\n",
              "      <th>year</th>\n",
              "    </tr>\n",
              "  </thead>\n",
              "  <tbody>\n",
              "    <tr>\n",
              "      <th>womacto01CHN2006</th>\n",
              "      <td>1</td>\n",
              "      <td>0</td>\n",
              "      <td>50</td>\n",
              "      <td>4</td>\n",
              "      <td>1.0</td>\n",
              "      <td>19</td>\n",
              "      <td>0.0</td>\n",
              "      <td>5</td>\n",
              "      <td>0.0</td>\n",
              "      <td>1</td>\n",
              "      <td>0.0</td>\n",
              "      <td>NL</td>\n",
              "      <td>womacto01</td>\n",
              "      <td>6</td>\n",
              "      <td>2.0</td>\n",
              "      <td>1.0</td>\n",
              "      <td>0.0</td>\n",
              "      <td>3.0</td>\n",
              "      <td>4.0</td>\n",
              "      <td>2</td>\n",
              "      <td>CHN</td>\n",
              "      <td>2006</td>\n",
              "    </tr>\n",
              "    <tr>\n",
              "      <th>schilcu01BOS2006</th>\n",
              "      <td>0</td>\n",
              "      <td>0</td>\n",
              "      <td>2</td>\n",
              "      <td>0</td>\n",
              "      <td>0.0</td>\n",
              "      <td>31</td>\n",
              "      <td>0.0</td>\n",
              "      <td>5</td>\n",
              "      <td>0.0</td>\n",
              "      <td>0</td>\n",
              "      <td>0.0</td>\n",
              "      <td>AL</td>\n",
              "      <td>schilcu01</td>\n",
              "      <td>0</td>\n",
              "      <td>0.0</td>\n",
              "      <td>0.0</td>\n",
              "      <td>0.0</td>\n",
              "      <td>0.0</td>\n",
              "      <td>1.0</td>\n",
              "      <td>1</td>\n",
              "      <td>BOS</td>\n",
              "      <td>2006</td>\n",
              "    </tr>\n",
              "    <tr>\n",
              "      <th>myersmi01NYA2006</th>\n",
              "      <td>0</td>\n",
              "      <td>0</td>\n",
              "      <td>0</td>\n",
              "      <td>0</td>\n",
              "      <td>0.0</td>\n",
              "      <td>62</td>\n",
              "      <td>0.0</td>\n",
              "      <td>5</td>\n",
              "      <td>0.0</td>\n",
              "      <td>0</td>\n",
              "      <td>0.0</td>\n",
              "      <td>AL</td>\n",
              "      <td>myersmi01</td>\n",
              "      <td>0</td>\n",
              "      <td>0.0</td>\n",
              "      <td>0.0</td>\n",
              "      <td>0.0</td>\n",
              "      <td>0.0</td>\n",
              "      <td>0.0</td>\n",
              "      <td>1</td>\n",
              "      <td>NYA</td>\n",
              "      <td>2006</td>\n",
              "    </tr>\n",
              "    <tr>\n",
              "      <th>helliri01MIL2006</th>\n",
              "      <td>0</td>\n",
              "      <td>0</td>\n",
              "      <td>3</td>\n",
              "      <td>0</td>\n",
              "      <td>0.0</td>\n",
              "      <td>20</td>\n",
              "      <td>0.0</td>\n",
              "      <td>5</td>\n",
              "      <td>0.0</td>\n",
              "      <td>0</td>\n",
              "      <td>0.0</td>\n",
              "      <td>NL</td>\n",
              "      <td>helliri01</td>\n",
              "      <td>0</td>\n",
              "      <td>0.0</td>\n",
              "      <td>0.0</td>\n",
              "      <td>0.0</td>\n",
              "      <td>0.0</td>\n",
              "      <td>2.0</td>\n",
              "      <td>1</td>\n",
              "      <td>MIL</td>\n",
              "      <td>2006</td>\n",
              "    </tr>\n",
              "    <tr>\n",
              "      <th>johnsra05NYA2006</th>\n",
              "      <td>0</td>\n",
              "      <td>0</td>\n",
              "      <td>6</td>\n",
              "      <td>0</td>\n",
              "      <td>0.0</td>\n",
              "      <td>33</td>\n",
              "      <td>0.0</td>\n",
              "      <td>5</td>\n",
              "      <td>0.0</td>\n",
              "      <td>0</td>\n",
              "      <td>0.0</td>\n",
              "      <td>AL</td>\n",
              "      <td>johnsra05</td>\n",
              "      <td>0</td>\n",
              "      <td>0.0</td>\n",
              "      <td>0.0</td>\n",
              "      <td>0.0</td>\n",
              "      <td>0.0</td>\n",
              "      <td>4.0</td>\n",
              "      <td>1</td>\n",
              "      <td>NYA</td>\n",
              "      <td>2006</td>\n",
              "    </tr>\n",
              "  </tbody>\n",
              "</table>\n",
              "</div>"
            ],
            "text/plain": [
              "                  X2b  X3b  ab  bb   cs   g  gidp  h  hbp  hr  ibb  lg  \\\n",
              "womacto01CHN2006    1    0  50   4  1.0  19   0.0  5  0.0   1  0.0  NL   \n",
              "schilcu01BOS2006    0    0   2   0  0.0  31   0.0  5  0.0   0  0.0  AL   \n",
              "myersmi01NYA2006    0    0   0   0  0.0  62   0.0  5  0.0   0  0.0  AL   \n",
              "helliri01MIL2006    0    0   3   0  0.0  20   0.0  5  0.0   0  0.0  NL   \n",
              "johnsra05NYA2006    0    0   6   0  0.0  33   0.0  5  0.0   0  0.0  AL   \n",
              "\n",
              "                     player  r  rbi   sb   sf   sh   so  stint team  year  \n",
              "womacto01CHN2006  womacto01  6  2.0  1.0  0.0  3.0  4.0      2  CHN  2006  \n",
              "schilcu01BOS2006  schilcu01  0  0.0  0.0  0.0  0.0  1.0      1  BOS  2006  \n",
              "myersmi01NYA2006  myersmi01  0  0.0  0.0  0.0  0.0  0.0      1  NYA  2006  \n",
              "helliri01MIL2006  helliri01  0  0.0  0.0  0.0  0.0  2.0      1  MIL  2006  \n",
              "johnsra05NYA2006  johnsra05  0  0.0  0.0  0.0  0.0  4.0      1  NYA  2006  "
            ]
          },
          "metadata": {
            "tags": []
          },
          "execution_count": 106
        }
      ]
    },
    {
      "cell_type": "markdown",
      "metadata": {
        "id": "qc7Hr2DEp2jW"
      },
      "source": [
        "We can also use `sort_values` to sort a Series by value, rather than by label"
      ]
    },
    {
      "cell_type": "code",
      "metadata": {
        "colab": {
          "base_uri": "https://localhost:8080/"
        },
        "id": "8AZqlV2Mpus3",
        "outputId": "6ed56ea0-75e1-47c5-d3df-a79fbad84a08"
      },
      "source": [
        "baseball.hr.sort_values(ascending=False)"
      ],
      "execution_count": null,
      "outputs": [
        {
          "output_type": "execute_result",
          "data": {
            "text/plain": [
              "id\n",
              "89360    35\n",
              "89462    30\n",
              "89521    28\n",
              "89361    26\n",
              "89378    25\n",
              "         ..\n",
              "89370     0\n",
              "89367     0\n",
              "89469     0\n",
              "89365     0\n",
              "89534     0\n",
              "Name: hr, Length: 100, dtype: int64"
            ]
          },
          "metadata": {
            "tags": []
          },
          "execution_count": 107
        }
      ]
    },
    {
      "cell_type": "markdown",
      "metadata": {
        "id": "-NifWw23vK4k"
      },
      "source": [
        "For a dataframe, we can sort according to the values of one or more columns using the `by` argument of `sort_values`"
      ]
    },
    {
      "cell_type": "code",
      "metadata": {
        "colab": {
          "base_uri": "https://localhost:8080/",
          "height": 386
        },
        "id": "aQSzhr-Dp7-P",
        "outputId": "a7afe8ce-8885-41a1-ecd6-4e3a6fc9b903"
      },
      "source": [
        "baseball[['player','sb','cs']].sort_values(ascending=[False,True], by=['sb', 'cs']).head(10)"
      ],
      "execution_count": null,
      "outputs": [
        {
          "output_type": "execute_result",
          "data": {
            "text/html": [
              "<div>\n",
              "<style scoped>\n",
              "    .dataframe tbody tr th:only-of-type {\n",
              "        vertical-align: middle;\n",
              "    }\n",
              "\n",
              "    .dataframe tbody tr th {\n",
              "        vertical-align: top;\n",
              "    }\n",
              "\n",
              "    .dataframe thead th {\n",
              "        text-align: right;\n",
              "    }\n",
              "</style>\n",
              "<table border=\"1\" class=\"dataframe\">\n",
              "  <thead>\n",
              "    <tr style=\"text-align: right;\">\n",
              "      <th></th>\n",
              "      <th>player</th>\n",
              "      <th>sb</th>\n",
              "      <th>cs</th>\n",
              "    </tr>\n",
              "    <tr>\n",
              "      <th>id</th>\n",
              "      <th></th>\n",
              "      <th></th>\n",
              "      <th></th>\n",
              "    </tr>\n",
              "  </thead>\n",
              "  <tbody>\n",
              "    <tr>\n",
              "      <th>89378</th>\n",
              "      <td>sheffga01</td>\n",
              "      <td>22.0</td>\n",
              "      <td>5.0</td>\n",
              "    </tr>\n",
              "    <tr>\n",
              "      <th>89430</th>\n",
              "      <td>loftoke01</td>\n",
              "      <td>21.0</td>\n",
              "      <td>4.0</td>\n",
              "    </tr>\n",
              "    <tr>\n",
              "      <th>89347</th>\n",
              "      <td>vizquom01</td>\n",
              "      <td>14.0</td>\n",
              "      <td>6.0</td>\n",
              "    </tr>\n",
              "    <tr>\n",
              "      <th>89463</th>\n",
              "      <td>greensh01</td>\n",
              "      <td>11.0</td>\n",
              "      <td>1.0</td>\n",
              "    </tr>\n",
              "    <tr>\n",
              "      <th>88652</th>\n",
              "      <td>finlest01</td>\n",
              "      <td>7.0</td>\n",
              "      <td>0.0</td>\n",
              "    </tr>\n",
              "    <tr>\n",
              "      <th>89462</th>\n",
              "      <td>griffke02</td>\n",
              "      <td>6.0</td>\n",
              "      <td>1.0</td>\n",
              "    </tr>\n",
              "    <tr>\n",
              "      <th>89530</th>\n",
              "      <td>ausmubr01</td>\n",
              "      <td>6.0</td>\n",
              "      <td>1.0</td>\n",
              "    </tr>\n",
              "    <tr>\n",
              "      <th>89466</th>\n",
              "      <td>gonzalu01</td>\n",
              "      <td>6.0</td>\n",
              "      <td>2.0</td>\n",
              "    </tr>\n",
              "    <tr>\n",
              "      <th>89521</th>\n",
              "      <td>bondsba01</td>\n",
              "      <td>5.0</td>\n",
              "      <td>0.0</td>\n",
              "    </tr>\n",
              "    <tr>\n",
              "      <th>89438</th>\n",
              "      <td>kleskry01</td>\n",
              "      <td>5.0</td>\n",
              "      <td>1.0</td>\n",
              "    </tr>\n",
              "  </tbody>\n",
              "</table>\n",
              "</div>"
            ],
            "text/plain": [
              "          player    sb   cs\n",
              "id                         \n",
              "89378  sheffga01  22.0  5.0\n",
              "89430  loftoke01  21.0  4.0\n",
              "89347  vizquom01  14.0  6.0\n",
              "89463  greensh01  11.0  1.0\n",
              "88652  finlest01   7.0  0.0\n",
              "89462  griffke02   6.0  1.0\n",
              "89530  ausmubr01   6.0  1.0\n",
              "89466  gonzalu01   6.0  2.0\n",
              "89521  bondsba01   5.0  0.0\n",
              "89438  kleskry01   5.0  1.0"
            ]
          },
          "metadata": {
            "tags": []
          },
          "execution_count": 108
        }
      ]
    },
    {
      "cell_type": "markdown",
      "metadata": {
        "id": "ovp5DGvOwvHY"
      },
      "source": [
        "__Ranking__ returns an index associated to the value respective to the other value in the series.\r\n",
        "\r\n",
        "__Note:__ Ranking does not rearrange the order."
      ]
    },
    {
      "cell_type": "code",
      "metadata": {
        "colab": {
          "base_uri": "https://localhost:8080/"
        },
        "id": "09SOORqjvYHL",
        "outputId": "35fa45b3-1fc7-49ea-cb5b-0699f92fff8e"
      },
      "source": [
        "baseball.hr.rank()"
      ],
      "execution_count": null,
      "outputs": [
        {
          "output_type": "execute_result",
          "data": {
            "text/plain": [
              "id\n",
              "88641    62.5\n",
              "88643    29.0\n",
              "88645    29.0\n",
              "88649    29.0\n",
              "88650    29.0\n",
              "         ... \n",
              "89525    29.0\n",
              "89526    29.0\n",
              "89530    71.5\n",
              "89533    88.0\n",
              "89534    29.0\n",
              "Name: hr, Length: 100, dtype: float64"
            ]
          },
          "metadata": {
            "tags": []
          },
          "execution_count": 109
        }
      ]
    },
    {
      "cell_type": "markdown",
      "metadata": {
        "id": "3lPN0bC-xnMU"
      },
      "source": [
        "Ties are assigned the mean value of the tied ranks, which may result in decimal values."
      ]
    },
    {
      "cell_type": "code",
      "metadata": {
        "colab": {
          "base_uri": "https://localhost:8080/"
        },
        "id": "kaSbe7ZJvqeq",
        "outputId": "788fcf61-1a44-41a9-9c0a-ab63ecbac7c6"
      },
      "source": [
        "pd.Series([100,100]).rank()"
      ],
      "execution_count": null,
      "outputs": [
        {
          "output_type": "execute_result",
          "data": {
            "text/plain": [
              "0    1.5\n",
              "1    1.5\n",
              "dtype: float64"
            ]
          },
          "metadata": {
            "tags": []
          },
          "execution_count": 110
        }
      ]
    },
    {
      "cell_type": "markdown",
      "metadata": {
        "id": "zvANHjiFyOAJ"
      },
      "source": [
        "Alternatively, you can break ties via one of several methods, such as by the order in which they occur in the dataset"
      ]
    },
    {
      "cell_type": "code",
      "metadata": {
        "colab": {
          "base_uri": "https://localhost:8080/"
        },
        "id": "O-GUntdkxt_l",
        "outputId": "f7a9904e-3f07-4067-9f37-cc7d504efd3e"
      },
      "source": [
        "baseball.hr.rank(method='first')"
      ],
      "execution_count": null,
      "outputs": [
        {
          "output_type": "execute_result",
          "data": {
            "text/plain": [
              "id\n",
              "88641    58.0\n",
              "88643     1.0\n",
              "88645     2.0\n",
              "88649     3.0\n",
              "88650     4.0\n",
              "         ... \n",
              "89525    55.0\n",
              "89526    56.0\n",
              "89530    72.0\n",
              "89533    88.0\n",
              "89534    57.0\n",
              "Name: hr, Length: 100, dtype: float64"
            ]
          },
          "metadata": {
            "tags": []
          },
          "execution_count": 111
        }
      ]
    },
    {
      "cell_type": "markdown",
      "metadata": {
        "id": "Iwkq7LLTyXoz"
      },
      "source": [
        "Calling the dataframe's `rank` method results in the ranks of all columns"
      ]
    },
    {
      "cell_type": "code",
      "metadata": {
        "colab": {
          "base_uri": "https://localhost:8080/",
          "height": 253
        },
        "id": "MLhn62ZuyUx6",
        "outputId": "f754322d-0eee-44d3-a6d7-69ffa0cfca96"
      },
      "source": [
        "baseball.rank(ascending=False).head()"
      ],
      "execution_count": null,
      "outputs": [
        {
          "output_type": "execute_result",
          "data": {
            "text/html": [
              "<div>\n",
              "<style scoped>\n",
              "    .dataframe tbody tr th:only-of-type {\n",
              "        vertical-align: middle;\n",
              "    }\n",
              "\n",
              "    .dataframe tbody tr th {\n",
              "        vertical-align: top;\n",
              "    }\n",
              "\n",
              "    .dataframe thead th {\n",
              "        text-align: right;\n",
              "    }\n",
              "</style>\n",
              "<table border=\"1\" class=\"dataframe\">\n",
              "  <thead>\n",
              "    <tr style=\"text-align: right;\">\n",
              "      <th></th>\n",
              "      <th>player</th>\n",
              "      <th>year</th>\n",
              "      <th>stint</th>\n",
              "      <th>team</th>\n",
              "      <th>lg</th>\n",
              "      <th>g</th>\n",
              "      <th>ab</th>\n",
              "      <th>r</th>\n",
              "      <th>h</th>\n",
              "      <th>X2b</th>\n",
              "      <th>X3b</th>\n",
              "      <th>hr</th>\n",
              "      <th>rbi</th>\n",
              "      <th>sb</th>\n",
              "      <th>cs</th>\n",
              "      <th>bb</th>\n",
              "      <th>so</th>\n",
              "      <th>ibb</th>\n",
              "      <th>hbp</th>\n",
              "      <th>sh</th>\n",
              "      <th>sf</th>\n",
              "      <th>gidp</th>\n",
              "    </tr>\n",
              "    <tr>\n",
              "      <th>id</th>\n",
              "      <th></th>\n",
              "      <th></th>\n",
              "      <th></th>\n",
              "      <th></th>\n",
              "      <th></th>\n",
              "      <th></th>\n",
              "      <th></th>\n",
              "      <th></th>\n",
              "      <th></th>\n",
              "      <th></th>\n",
              "      <th></th>\n",
              "      <th></th>\n",
              "      <th></th>\n",
              "      <th></th>\n",
              "      <th></th>\n",
              "      <th></th>\n",
              "      <th></th>\n",
              "      <th></th>\n",
              "      <th></th>\n",
              "      <th></th>\n",
              "      <th></th>\n",
              "      <th></th>\n",
              "    </tr>\n",
              "  </thead>\n",
              "  <tbody>\n",
              "    <tr>\n",
              "      <th>88641</th>\n",
              "      <td>2.0</td>\n",
              "      <td>96.5</td>\n",
              "      <td>7.0</td>\n",
              "      <td>82.0</td>\n",
              "      <td>31.5</td>\n",
              "      <td>70.0</td>\n",
              "      <td>47.5</td>\n",
              "      <td>40.5</td>\n",
              "      <td>39.0</td>\n",
              "      <td>50.5</td>\n",
              "      <td>63.5</td>\n",
              "      <td>38.5</td>\n",
              "      <td>51.0</td>\n",
              "      <td>24.5</td>\n",
              "      <td>17.5</td>\n",
              "      <td>44.5</td>\n",
              "      <td>59.0</td>\n",
              "      <td>66.0</td>\n",
              "      <td>65.5</td>\n",
              "      <td>16.0</td>\n",
              "      <td>70.0</td>\n",
              "      <td>76.5</td>\n",
              "    </tr>\n",
              "    <tr>\n",
              "      <th>88643</th>\n",
              "      <td>37.5</td>\n",
              "      <td>96.5</td>\n",
              "      <td>57.0</td>\n",
              "      <td>88.0</td>\n",
              "      <td>81.5</td>\n",
              "      <td>55.5</td>\n",
              "      <td>73.0</td>\n",
              "      <td>81.0</td>\n",
              "      <td>63.5</td>\n",
              "      <td>78.0</td>\n",
              "      <td>63.5</td>\n",
              "      <td>72.0</td>\n",
              "      <td>78.5</td>\n",
              "      <td>63.5</td>\n",
              "      <td>62.5</td>\n",
              "      <td>79.0</td>\n",
              "      <td>73.0</td>\n",
              "      <td>66.0</td>\n",
              "      <td>65.5</td>\n",
              "      <td>67.5</td>\n",
              "      <td>70.0</td>\n",
              "      <td>76.5</td>\n",
              "    </tr>\n",
              "    <tr>\n",
              "      <th>88645</th>\n",
              "      <td>47.5</td>\n",
              "      <td>96.5</td>\n",
              "      <td>57.0</td>\n",
              "      <td>40.5</td>\n",
              "      <td>81.5</td>\n",
              "      <td>36.0</td>\n",
              "      <td>91.0</td>\n",
              "      <td>81.0</td>\n",
              "      <td>84.5</td>\n",
              "      <td>78.0</td>\n",
              "      <td>63.5</td>\n",
              "      <td>72.0</td>\n",
              "      <td>78.5</td>\n",
              "      <td>63.5</td>\n",
              "      <td>62.5</td>\n",
              "      <td>79.0</td>\n",
              "      <td>89.0</td>\n",
              "      <td>66.0</td>\n",
              "      <td>65.5</td>\n",
              "      <td>67.5</td>\n",
              "      <td>70.0</td>\n",
              "      <td>76.5</td>\n",
              "    </tr>\n",
              "    <tr>\n",
              "      <th>88649</th>\n",
              "      <td>66.0</td>\n",
              "      <td>96.5</td>\n",
              "      <td>57.0</td>\n",
              "      <td>47.0</td>\n",
              "      <td>31.5</td>\n",
              "      <td>67.5</td>\n",
              "      <td>69.0</td>\n",
              "      <td>81.0</td>\n",
              "      <td>84.5</td>\n",
              "      <td>78.0</td>\n",
              "      <td>63.5</td>\n",
              "      <td>72.0</td>\n",
              "      <td>78.5</td>\n",
              "      <td>63.5</td>\n",
              "      <td>62.5</td>\n",
              "      <td>79.0</td>\n",
              "      <td>67.0</td>\n",
              "      <td>66.0</td>\n",
              "      <td>65.5</td>\n",
              "      <td>67.5</td>\n",
              "      <td>70.0</td>\n",
              "      <td>76.5</td>\n",
              "    </tr>\n",
              "    <tr>\n",
              "      <th>88650</th>\n",
              "      <td>61.5</td>\n",
              "      <td>96.5</td>\n",
              "      <td>57.0</td>\n",
              "      <td>40.5</td>\n",
              "      <td>81.5</td>\n",
              "      <td>51.0</td>\n",
              "      <td>64.5</td>\n",
              "      <td>81.0</td>\n",
              "      <td>63.5</td>\n",
              "      <td>78.0</td>\n",
              "      <td>63.5</td>\n",
              "      <td>72.0</td>\n",
              "      <td>78.5</td>\n",
              "      <td>63.5</td>\n",
              "      <td>62.5</td>\n",
              "      <td>79.0</td>\n",
              "      <td>59.0</td>\n",
              "      <td>66.0</td>\n",
              "      <td>65.5</td>\n",
              "      <td>67.5</td>\n",
              "      <td>70.0</td>\n",
              "      <td>76.5</td>\n",
              "    </tr>\n",
              "  </tbody>\n",
              "</table>\n",
              "</div>"
            ],
            "text/plain": [
              "       player  year  stint  team    lg     g    ab     r     h   X2b   X3b  \\\n",
              "id                                                                           \n",
              "88641     2.0  96.5    7.0  82.0  31.5  70.0  47.5  40.5  39.0  50.5  63.5   \n",
              "88643    37.5  96.5   57.0  88.0  81.5  55.5  73.0  81.0  63.5  78.0  63.5   \n",
              "88645    47.5  96.5   57.0  40.5  81.5  36.0  91.0  81.0  84.5  78.0  63.5   \n",
              "88649    66.0  96.5   57.0  47.0  31.5  67.5  69.0  81.0  84.5  78.0  63.5   \n",
              "88650    61.5  96.5   57.0  40.5  81.5  51.0  64.5  81.0  63.5  78.0  63.5   \n",
              "\n",
              "         hr   rbi    sb    cs    bb    so   ibb   hbp    sh    sf  gidp  \n",
              "id                                                                       \n",
              "88641  38.5  51.0  24.5  17.5  44.5  59.0  66.0  65.5  16.0  70.0  76.5  \n",
              "88643  72.0  78.5  63.5  62.5  79.0  73.0  66.0  65.5  67.5  70.0  76.5  \n",
              "88645  72.0  78.5  63.5  62.5  79.0  89.0  66.0  65.5  67.5  70.0  76.5  \n",
              "88649  72.0  78.5  63.5  62.5  79.0  67.0  66.0  65.5  67.5  70.0  76.5  \n",
              "88650  72.0  78.5  63.5  62.5  79.0  59.0  66.0  65.5  67.5  70.0  76.5  "
            ]
          },
          "metadata": {
            "tags": []
          },
          "execution_count": 112
        }
      ]
    },
    {
      "cell_type": "code",
      "metadata": {
        "colab": {
          "base_uri": "https://localhost:8080/",
          "height": 233
        },
        "id": "kIDxqsN1yhpK",
        "outputId": "452e0b47-0a77-48c9-d451-739d5fa7738c"
      },
      "source": [
        "baseball[['r','h','hr']].rank(ascending=False).head()"
      ],
      "execution_count": null,
      "outputs": [
        {
          "output_type": "execute_result",
          "data": {
            "text/html": [
              "<div>\n",
              "<style scoped>\n",
              "    .dataframe tbody tr th:only-of-type {\n",
              "        vertical-align: middle;\n",
              "    }\n",
              "\n",
              "    .dataframe tbody tr th {\n",
              "        vertical-align: top;\n",
              "    }\n",
              "\n",
              "    .dataframe thead th {\n",
              "        text-align: right;\n",
              "    }\n",
              "</style>\n",
              "<table border=\"1\" class=\"dataframe\">\n",
              "  <thead>\n",
              "    <tr style=\"text-align: right;\">\n",
              "      <th></th>\n",
              "      <th>r</th>\n",
              "      <th>h</th>\n",
              "      <th>hr</th>\n",
              "    </tr>\n",
              "    <tr>\n",
              "      <th>id</th>\n",
              "      <th></th>\n",
              "      <th></th>\n",
              "      <th></th>\n",
              "    </tr>\n",
              "  </thead>\n",
              "  <tbody>\n",
              "    <tr>\n",
              "      <th>88641</th>\n",
              "      <td>40.5</td>\n",
              "      <td>39.0</td>\n",
              "      <td>38.5</td>\n",
              "    </tr>\n",
              "    <tr>\n",
              "      <th>88643</th>\n",
              "      <td>81.0</td>\n",
              "      <td>63.5</td>\n",
              "      <td>72.0</td>\n",
              "    </tr>\n",
              "    <tr>\n",
              "      <th>88645</th>\n",
              "      <td>81.0</td>\n",
              "      <td>84.5</td>\n",
              "      <td>72.0</td>\n",
              "    </tr>\n",
              "    <tr>\n",
              "      <th>88649</th>\n",
              "      <td>81.0</td>\n",
              "      <td>84.5</td>\n",
              "      <td>72.0</td>\n",
              "    </tr>\n",
              "    <tr>\n",
              "      <th>88650</th>\n",
              "      <td>81.0</td>\n",
              "      <td>63.5</td>\n",
              "      <td>72.0</td>\n",
              "    </tr>\n",
              "  </tbody>\n",
              "</table>\n",
              "</div>"
            ],
            "text/plain": [
              "          r     h    hr\n",
              "id                     \n",
              "88641  40.5  39.0  38.5\n",
              "88643  81.0  63.5  72.0\n",
              "88645  81.0  84.5  72.0\n",
              "88649  81.0  84.5  72.0\n",
              "88650  81.0  63.5  72.0"
            ]
          },
          "metadata": {
            "tags": []
          },
          "execution_count": 113
        }
      ]
    },
    {
      "cell_type": "markdown",
      "metadata": {
        "id": "p5FaOgruyn9F"
      },
      "source": [
        "### Exercise\r\n",
        "\r\n",
        "Calculate **on base percentage** for each player, and return the ordered series of estimates.\r\n",
        "\r\n",
        "$$OBP = \\frac{H + BB + HBP}{AB + BB + HBP + SF}$$"
      ]
    },
    {
      "cell_type": "code",
      "metadata": {
        "colab": {
          "base_uri": "https://localhost:8080/"
        },
        "id": "epWmHX5lyj1x",
        "outputId": "abe54c98-7f3c-4be9-d945-a733095afef4"
      },
      "source": [
        "def onbasepercent(x):\r\n",
        "    nr = x['h'] + x['bb'] + x['hbp']\r\n",
        "    dr = x['ab'] + x['bb'] + x['hbp'] + x['sf']+1e-6\r\n",
        "    \r\n",
        "    return nr/dr\r\n",
        "\r\n",
        "baseball.apply(onbasepercent, axis=1).round(3)"
      ],
      "execution_count": null,
      "outputs": [
        {
          "output_type": "execute_result",
          "data": {
            "text/plain": [
              "id\n",
              "88641    0.333\n",
              "88643    0.500\n",
              "88645    0.000\n",
              "88649    0.000\n",
              "88650    0.167\n",
              "         ...  \n",
              "89525    0.000\n",
              "89526    0.000\n",
              "89530    0.318\n",
              "89533    0.392\n",
              "89534    0.136\n",
              "Length: 100, dtype: float64"
            ]
          },
          "metadata": {
            "tags": []
          },
          "execution_count": 114
        }
      ]
    },
    {
      "cell_type": "markdown",
      "metadata": {
        "id": "gJ1iGDhIy4HV"
      },
      "source": [
        "## Hierarchical indexing\r\n",
        "\r\n",
        "In the baseball example, we were foreced to have three rounds to have unidentical or unique index that was simply not an integer value.\r\n",
        "\r\n",
        "A more elegant way to have this done would be to create a hierarchical index from the three fields."
      ]
    },
    {
      "cell_type": "code",
      "metadata": {
        "colab": {
          "base_uri": "https://localhost:8080/",
          "height": 406
        },
        "id": "nMhn20Qvy0yj",
        "outputId": "50aa7669-380b-43f1-9504-02c6daea7b98"
      },
      "source": [
        "baseball_h = baseball.set_index(['year', 'team', 'player'])\r\n",
        "baseball_h.head(10)"
      ],
      "execution_count": null,
      "outputs": [
        {
          "output_type": "execute_result",
          "data": {
            "text/html": [
              "<div>\n",
              "<style scoped>\n",
              "    .dataframe tbody tr th:only-of-type {\n",
              "        vertical-align: middle;\n",
              "    }\n",
              "\n",
              "    .dataframe tbody tr th {\n",
              "        vertical-align: top;\n",
              "    }\n",
              "\n",
              "    .dataframe thead th {\n",
              "        text-align: right;\n",
              "    }\n",
              "</style>\n",
              "<table border=\"1\" class=\"dataframe\">\n",
              "  <thead>\n",
              "    <tr style=\"text-align: right;\">\n",
              "      <th></th>\n",
              "      <th></th>\n",
              "      <th></th>\n",
              "      <th>stint</th>\n",
              "      <th>lg</th>\n",
              "      <th>g</th>\n",
              "      <th>ab</th>\n",
              "      <th>r</th>\n",
              "      <th>h</th>\n",
              "      <th>X2b</th>\n",
              "      <th>X3b</th>\n",
              "      <th>hr</th>\n",
              "      <th>rbi</th>\n",
              "      <th>sb</th>\n",
              "      <th>cs</th>\n",
              "      <th>bb</th>\n",
              "      <th>so</th>\n",
              "      <th>ibb</th>\n",
              "      <th>hbp</th>\n",
              "      <th>sh</th>\n",
              "      <th>sf</th>\n",
              "      <th>gidp</th>\n",
              "    </tr>\n",
              "    <tr>\n",
              "      <th>year</th>\n",
              "      <th>team</th>\n",
              "      <th>player</th>\n",
              "      <th></th>\n",
              "      <th></th>\n",
              "      <th></th>\n",
              "      <th></th>\n",
              "      <th></th>\n",
              "      <th></th>\n",
              "      <th></th>\n",
              "      <th></th>\n",
              "      <th></th>\n",
              "      <th></th>\n",
              "      <th></th>\n",
              "      <th></th>\n",
              "      <th></th>\n",
              "      <th></th>\n",
              "      <th></th>\n",
              "      <th></th>\n",
              "      <th></th>\n",
              "      <th></th>\n",
              "      <th></th>\n",
              "    </tr>\n",
              "  </thead>\n",
              "  <tbody>\n",
              "    <tr>\n",
              "      <th rowspan=\"8\" valign=\"top\">2006</th>\n",
              "      <th>CHN</th>\n",
              "      <th>womacto01</th>\n",
              "      <td>2</td>\n",
              "      <td>NL</td>\n",
              "      <td>19</td>\n",
              "      <td>50</td>\n",
              "      <td>6</td>\n",
              "      <td>14</td>\n",
              "      <td>1</td>\n",
              "      <td>0</td>\n",
              "      <td>1</td>\n",
              "      <td>2.0</td>\n",
              "      <td>1.0</td>\n",
              "      <td>1.0</td>\n",
              "      <td>4</td>\n",
              "      <td>4.0</td>\n",
              "      <td>0.0</td>\n",
              "      <td>0.0</td>\n",
              "      <td>3.0</td>\n",
              "      <td>0.0</td>\n",
              "      <td>0.0</td>\n",
              "    </tr>\n",
              "    <tr>\n",
              "      <th>BOS</th>\n",
              "      <th>schilcu01</th>\n",
              "      <td>1</td>\n",
              "      <td>AL</td>\n",
              "      <td>31</td>\n",
              "      <td>2</td>\n",
              "      <td>0</td>\n",
              "      <td>1</td>\n",
              "      <td>0</td>\n",
              "      <td>0</td>\n",
              "      <td>0</td>\n",
              "      <td>0.0</td>\n",
              "      <td>0.0</td>\n",
              "      <td>0.0</td>\n",
              "      <td>0</td>\n",
              "      <td>1.0</td>\n",
              "      <td>0.0</td>\n",
              "      <td>0.0</td>\n",
              "      <td>0.0</td>\n",
              "      <td>0.0</td>\n",
              "      <td>0.0</td>\n",
              "    </tr>\n",
              "    <tr>\n",
              "      <th>NYA</th>\n",
              "      <th>myersmi01</th>\n",
              "      <td>1</td>\n",
              "      <td>AL</td>\n",
              "      <td>62</td>\n",
              "      <td>0</td>\n",
              "      <td>0</td>\n",
              "      <td>0</td>\n",
              "      <td>0</td>\n",
              "      <td>0</td>\n",
              "      <td>0</td>\n",
              "      <td>0.0</td>\n",
              "      <td>0.0</td>\n",
              "      <td>0.0</td>\n",
              "      <td>0</td>\n",
              "      <td>0.0</td>\n",
              "      <td>0.0</td>\n",
              "      <td>0.0</td>\n",
              "      <td>0.0</td>\n",
              "      <td>0.0</td>\n",
              "      <td>0.0</td>\n",
              "    </tr>\n",
              "    <tr>\n",
              "      <th>MIL</th>\n",
              "      <th>helliri01</th>\n",
              "      <td>1</td>\n",
              "      <td>NL</td>\n",
              "      <td>20</td>\n",
              "      <td>3</td>\n",
              "      <td>0</td>\n",
              "      <td>0</td>\n",
              "      <td>0</td>\n",
              "      <td>0</td>\n",
              "      <td>0</td>\n",
              "      <td>0.0</td>\n",
              "      <td>0.0</td>\n",
              "      <td>0.0</td>\n",
              "      <td>0</td>\n",
              "      <td>2.0</td>\n",
              "      <td>0.0</td>\n",
              "      <td>0.0</td>\n",
              "      <td>0.0</td>\n",
              "      <td>0.0</td>\n",
              "      <td>0.0</td>\n",
              "    </tr>\n",
              "    <tr>\n",
              "      <th>NYA</th>\n",
              "      <th>johnsra05</th>\n",
              "      <td>1</td>\n",
              "      <td>AL</td>\n",
              "      <td>33</td>\n",
              "      <td>6</td>\n",
              "      <td>0</td>\n",
              "      <td>1</td>\n",
              "      <td>0</td>\n",
              "      <td>0</td>\n",
              "      <td>0</td>\n",
              "      <td>0.0</td>\n",
              "      <td>0.0</td>\n",
              "      <td>0.0</td>\n",
              "      <td>0</td>\n",
              "      <td>4.0</td>\n",
              "      <td>0.0</td>\n",
              "      <td>0.0</td>\n",
              "      <td>0.0</td>\n",
              "      <td>0.0</td>\n",
              "      <td>0.0</td>\n",
              "    </tr>\n",
              "    <tr>\n",
              "      <th>SFN</th>\n",
              "      <th>finlest01</th>\n",
              "      <td>1</td>\n",
              "      <td>NL</td>\n",
              "      <td>139</td>\n",
              "      <td>426</td>\n",
              "      <td>66</td>\n",
              "      <td>105</td>\n",
              "      <td>21</td>\n",
              "      <td>12</td>\n",
              "      <td>6</td>\n",
              "      <td>40.0</td>\n",
              "      <td>7.0</td>\n",
              "      <td>0.0</td>\n",
              "      <td>46</td>\n",
              "      <td>55.0</td>\n",
              "      <td>2.0</td>\n",
              "      <td>2.0</td>\n",
              "      <td>3.0</td>\n",
              "      <td>4.0</td>\n",
              "      <td>6.0</td>\n",
              "    </tr>\n",
              "    <tr>\n",
              "      <th>ARI</th>\n",
              "      <th>gonzalu01</th>\n",
              "      <td>1</td>\n",
              "      <td>NL</td>\n",
              "      <td>153</td>\n",
              "      <td>586</td>\n",
              "      <td>93</td>\n",
              "      <td>159</td>\n",
              "      <td>52</td>\n",
              "      <td>2</td>\n",
              "      <td>15</td>\n",
              "      <td>73.0</td>\n",
              "      <td>0.0</td>\n",
              "      <td>1.0</td>\n",
              "      <td>69</td>\n",
              "      <td>58.0</td>\n",
              "      <td>10.0</td>\n",
              "      <td>7.0</td>\n",
              "      <td>0.0</td>\n",
              "      <td>6.0</td>\n",
              "      <td>14.0</td>\n",
              "    </tr>\n",
              "    <tr>\n",
              "      <th>LAN</th>\n",
              "      <th>seleaa01</th>\n",
              "      <td>1</td>\n",
              "      <td>NL</td>\n",
              "      <td>28</td>\n",
              "      <td>26</td>\n",
              "      <td>2</td>\n",
              "      <td>5</td>\n",
              "      <td>1</td>\n",
              "      <td>0</td>\n",
              "      <td>0</td>\n",
              "      <td>0.0</td>\n",
              "      <td>0.0</td>\n",
              "      <td>0.0</td>\n",
              "      <td>1</td>\n",
              "      <td>7.0</td>\n",
              "      <td>0.0</td>\n",
              "      <td>0.0</td>\n",
              "      <td>6.0</td>\n",
              "      <td>0.0</td>\n",
              "      <td>1.0</td>\n",
              "    </tr>\n",
              "    <tr>\n",
              "      <th rowspan=\"2\" valign=\"top\">2007</th>\n",
              "      <th>ATL</th>\n",
              "      <th>francju01</th>\n",
              "      <td>2</td>\n",
              "      <td>NL</td>\n",
              "      <td>15</td>\n",
              "      <td>40</td>\n",
              "      <td>1</td>\n",
              "      <td>10</td>\n",
              "      <td>3</td>\n",
              "      <td>0</td>\n",
              "      <td>0</td>\n",
              "      <td>8.0</td>\n",
              "      <td>0.0</td>\n",
              "      <td>0.0</td>\n",
              "      <td>4</td>\n",
              "      <td>10.0</td>\n",
              "      <td>1.0</td>\n",
              "      <td>0.0</td>\n",
              "      <td>0.0</td>\n",
              "      <td>1.0</td>\n",
              "      <td>1.0</td>\n",
              "    </tr>\n",
              "    <tr>\n",
              "      <th>NYN</th>\n",
              "      <th>francju01</th>\n",
              "      <td>1</td>\n",
              "      <td>NL</td>\n",
              "      <td>40</td>\n",
              "      <td>50</td>\n",
              "      <td>7</td>\n",
              "      <td>10</td>\n",
              "      <td>0</td>\n",
              "      <td>0</td>\n",
              "      <td>1</td>\n",
              "      <td>8.0</td>\n",
              "      <td>2.0</td>\n",
              "      <td>1.0</td>\n",
              "      <td>10</td>\n",
              "      <td>13.0</td>\n",
              "      <td>0.0</td>\n",
              "      <td>0.0</td>\n",
              "      <td>0.0</td>\n",
              "      <td>1.0</td>\n",
              "      <td>1.0</td>\n",
              "    </tr>\n",
              "  </tbody>\n",
              "</table>\n",
              "</div>"
            ],
            "text/plain": [
              "                     stint  lg    g   ab   r    h  X2b  X3b  hr   rbi   sb  \\\n",
              "year team player                                                             \n",
              "2006 CHN  womacto01      2  NL   19   50   6   14    1    0   1   2.0  1.0   \n",
              "     BOS  schilcu01      1  AL   31    2   0    1    0    0   0   0.0  0.0   \n",
              "     NYA  myersmi01      1  AL   62    0   0    0    0    0   0   0.0  0.0   \n",
              "     MIL  helliri01      1  NL   20    3   0    0    0    0   0   0.0  0.0   \n",
              "     NYA  johnsra05      1  AL   33    6   0    1    0    0   0   0.0  0.0   \n",
              "     SFN  finlest01      1  NL  139  426  66  105   21   12   6  40.0  7.0   \n",
              "     ARI  gonzalu01      1  NL  153  586  93  159   52    2  15  73.0  0.0   \n",
              "     LAN  seleaa01       1  NL   28   26   2    5    1    0   0   0.0  0.0   \n",
              "2007 ATL  francju01      2  NL   15   40   1   10    3    0   0   8.0  0.0   \n",
              "     NYN  francju01      1  NL   40   50   7   10    0    0   1   8.0  2.0   \n",
              "\n",
              "                      cs  bb    so   ibb  hbp   sh   sf  gidp  \n",
              "year team player                                               \n",
              "2006 CHN  womacto01  1.0   4   4.0   0.0  0.0  3.0  0.0   0.0  \n",
              "     BOS  schilcu01  0.0   0   1.0   0.0  0.0  0.0  0.0   0.0  \n",
              "     NYA  myersmi01  0.0   0   0.0   0.0  0.0  0.0  0.0   0.0  \n",
              "     MIL  helliri01  0.0   0   2.0   0.0  0.0  0.0  0.0   0.0  \n",
              "     NYA  johnsra05  0.0   0   4.0   0.0  0.0  0.0  0.0   0.0  \n",
              "     SFN  finlest01  0.0  46  55.0   2.0  2.0  3.0  4.0   6.0  \n",
              "     ARI  gonzalu01  1.0  69  58.0  10.0  7.0  0.0  6.0  14.0  \n",
              "     LAN  seleaa01   0.0   1   7.0   0.0  0.0  6.0  0.0   1.0  \n",
              "2007 ATL  francju01  0.0   4  10.0   1.0  0.0  0.0  1.0   1.0  \n",
              "     NYN  francju01  1.0  10  13.0   0.0  0.0  0.0  1.0   1.0  "
            ]
          },
          "metadata": {
            "tags": []
          },
          "execution_count": 115
        }
      ]
    },
    {
      "cell_type": "markdown",
      "metadata": {
        "id": "6DO9OizWzhFm"
      },
      "source": [
        "This index is a __`MultiIndex`__object that consists of a sequence of tuples, the elements of which is some combination of the three columns used to create the index. Where there are multiple repeated values, Pandas does not print the repeats, making it easy to identify groups of values."
      ]
    },
    {
      "cell_type": "code",
      "metadata": {
        "colab": {
          "base_uri": "https://localhost:8080/"
        },
        "id": "ntdVuebKzbBh",
        "outputId": "0cdc00f8-a7a8-4d39-a281-11e4eab51db2"
      },
      "source": [
        "baseball_h.index[:10]"
      ],
      "execution_count": null,
      "outputs": [
        {
          "output_type": "execute_result",
          "data": {
            "text/plain": [
              "MultiIndex([(2006, 'CHN', 'womacto01'),\n",
              "            (2006, 'BOS', 'schilcu01'),\n",
              "            (2006, 'NYA', 'myersmi01'),\n",
              "            (2006, 'MIL', 'helliri01'),\n",
              "            (2006, 'NYA', 'johnsra05'),\n",
              "            (2006, 'SFN', 'finlest01'),\n",
              "            (2006, 'ARI', 'gonzalu01'),\n",
              "            (2006, 'LAN',  'seleaa01'),\n",
              "            (2007, 'ATL', 'francju01'),\n",
              "            (2007, 'NYN', 'francju01')],\n",
              "           names=['year', 'team', 'player'])"
            ]
          },
          "metadata": {
            "tags": []
          },
          "execution_count": 116
        }
      ]
    },
    {
      "cell_type": "code",
      "metadata": {
        "colab": {
          "base_uri": "https://localhost:8080/"
        },
        "id": "YeZNovVZzmPm",
        "outputId": "e7a7808f-b424-462c-f85d-8a7ab9019504"
      },
      "source": [
        "baseball_h.index.is_unique"
      ],
      "execution_count": null,
      "outputs": [
        {
          "output_type": "execute_result",
          "data": {
            "text/plain": [
              "True"
            ]
          },
          "metadata": {
            "tags": []
          },
          "execution_count": 117
        }
      ]
    },
    {
      "cell_type": "code",
      "metadata": {
        "colab": {
          "base_uri": "https://localhost:8080/"
        },
        "id": "mbOJBxdNzogd",
        "outputId": "83833d63-8976-44a1-f797-2dc0fe9bd8aa"
      },
      "source": [
        "baseball_h.loc[(2007, 'ATL', 'francju01')]"
      ],
      "execution_count": null,
      "outputs": [
        {
          "output_type": "execute_result",
          "data": {
            "text/plain": [
              "stint     2\n",
              "lg       NL\n",
              "g        15\n",
              "ab       40\n",
              "r         1\n",
              "h        10\n",
              "X2b       3\n",
              "X3b       0\n",
              "hr        0\n",
              "rbi       8\n",
              "sb        0\n",
              "cs        0\n",
              "bb        4\n",
              "so       10\n",
              "ibb       1\n",
              "hbp       0\n",
              "sh        0\n",
              "sf        1\n",
              "gidp      1\n",
              "Name: (2007, ATL, francju01), dtype: object"
            ]
          },
          "metadata": {
            "tags": []
          },
          "execution_count": 118
        }
      ]
    },
    {
      "cell_type": "markdown",
      "metadata": {
        "id": "Ky6ArsLyzz1M"
      },
      "source": [
        "Recall earlier we imported some microbiome data using two index columns. This created a 2-level hierarchical index in the [section](https://colab.research.google.com/drive/1V81cV1L2IrDJN6YWXaaRFSLbYETuVuLw?authuser=1#scrollTo=O9TCPOWukcMF).\r\n"
      ]
    },
    {
      "cell_type": "code",
      "metadata": {
        "id": "UVmoZNL3z6b1"
      },
      "source": [
        "mb = pd.read_csv(\"data/microbiome.csv\", index_col=['Taxon','Patient'])"
      ],
      "execution_count": null,
      "outputs": []
    },
    {
      "cell_type": "code",
      "metadata": {
        "colab": {
          "base_uri": "https://localhost:8080/",
          "height": 386
        },
        "id": "Bh2gJVBn0wd5",
        "outputId": "bb9bcdc2-dec4-49f0-c0b9-4e28b195beb4"
      },
      "source": [
        "mb.head(10)"
      ],
      "execution_count": null,
      "outputs": [
        {
          "output_type": "execute_result",
          "data": {
            "text/html": [
              "<div>\n",
              "<style scoped>\n",
              "    .dataframe tbody tr th:only-of-type {\n",
              "        vertical-align: middle;\n",
              "    }\n",
              "\n",
              "    .dataframe tbody tr th {\n",
              "        vertical-align: top;\n",
              "    }\n",
              "\n",
              "    .dataframe thead th {\n",
              "        text-align: right;\n",
              "    }\n",
              "</style>\n",
              "<table border=\"1\" class=\"dataframe\">\n",
              "  <thead>\n",
              "    <tr style=\"text-align: right;\">\n",
              "      <th></th>\n",
              "      <th></th>\n",
              "      <th>Tissue</th>\n",
              "      <th>Stool</th>\n",
              "    </tr>\n",
              "    <tr>\n",
              "      <th>Taxon</th>\n",
              "      <th>Patient</th>\n",
              "      <th></th>\n",
              "      <th></th>\n",
              "    </tr>\n",
              "  </thead>\n",
              "  <tbody>\n",
              "    <tr>\n",
              "      <th rowspan=\"10\" valign=\"top\">Firmicutes</th>\n",
              "      <th>1</th>\n",
              "      <td>632</td>\n",
              "      <td>305</td>\n",
              "    </tr>\n",
              "    <tr>\n",
              "      <th>2</th>\n",
              "      <td>136</td>\n",
              "      <td>4182</td>\n",
              "    </tr>\n",
              "    <tr>\n",
              "      <th>3</th>\n",
              "      <td>1174</td>\n",
              "      <td>703</td>\n",
              "    </tr>\n",
              "    <tr>\n",
              "      <th>4</th>\n",
              "      <td>408</td>\n",
              "      <td>3946</td>\n",
              "    </tr>\n",
              "    <tr>\n",
              "      <th>5</th>\n",
              "      <td>831</td>\n",
              "      <td>8605</td>\n",
              "    </tr>\n",
              "    <tr>\n",
              "      <th>6</th>\n",
              "      <td>693</td>\n",
              "      <td>50</td>\n",
              "    </tr>\n",
              "    <tr>\n",
              "      <th>7</th>\n",
              "      <td>718</td>\n",
              "      <td>717</td>\n",
              "    </tr>\n",
              "    <tr>\n",
              "      <th>8</th>\n",
              "      <td>173</td>\n",
              "      <td>33</td>\n",
              "    </tr>\n",
              "    <tr>\n",
              "      <th>9</th>\n",
              "      <td>228</td>\n",
              "      <td>80</td>\n",
              "    </tr>\n",
              "    <tr>\n",
              "      <th>10</th>\n",
              "      <td>162</td>\n",
              "      <td>3196</td>\n",
              "    </tr>\n",
              "  </tbody>\n",
              "</table>\n",
              "</div>"
            ],
            "text/plain": [
              "                    Tissue  Stool\n",
              "Taxon      Patient               \n",
              "Firmicutes 1           632    305\n",
              "           2           136   4182\n",
              "           3          1174    703\n",
              "           4           408   3946\n",
              "           5           831   8605\n",
              "           6           693     50\n",
              "           7           718    717\n",
              "           8           173     33\n",
              "           9           228     80\n",
              "           10          162   3196"
            ]
          },
          "metadata": {
            "tags": []
          },
          "execution_count": 120
        }
      ]
    },
    {
      "cell_type": "code",
      "metadata": {
        "colab": {
          "base_uri": "https://localhost:8080/"
        },
        "id": "YUwYetp30y4m",
        "outputId": "1347b700-d89a-4f57-f072-c0e6d91e2443"
      },
      "source": [
        "mb.index"
      ],
      "execution_count": null,
      "outputs": [
        {
          "output_type": "execute_result",
          "data": {
            "text/plain": [
              "MultiIndex([(    'Firmicutes',  1),\n",
              "            (    'Firmicutes',  2),\n",
              "            (    'Firmicutes',  3),\n",
              "            (    'Firmicutes',  4),\n",
              "            (    'Firmicutes',  5),\n",
              "            (    'Firmicutes',  6),\n",
              "            (    'Firmicutes',  7),\n",
              "            (    'Firmicutes',  8),\n",
              "            (    'Firmicutes',  9),\n",
              "            (    'Firmicutes', 10),\n",
              "            (    'Firmicutes', 11),\n",
              "            (    'Firmicutes', 12),\n",
              "            (    'Firmicutes', 13),\n",
              "            (    'Firmicutes', 14),\n",
              "            (    'Firmicutes', 15),\n",
              "            ('Proteobacteria',  1),\n",
              "            ('Proteobacteria',  2),\n",
              "            ('Proteobacteria',  3),\n",
              "            ('Proteobacteria',  4),\n",
              "            ('Proteobacteria',  5),\n",
              "            ('Proteobacteria',  6),\n",
              "            ('Proteobacteria',  7),\n",
              "            ('Proteobacteria',  8),\n",
              "            ('Proteobacteria',  9),\n",
              "            ('Proteobacteria', 10),\n",
              "            ('Proteobacteria', 11),\n",
              "            ('Proteobacteria', 12),\n",
              "            ('Proteobacteria', 13),\n",
              "            ('Proteobacteria', 14),\n",
              "            ('Proteobacteria', 15),\n",
              "            ('Actinobacteria',  1),\n",
              "            ('Actinobacteria',  2),\n",
              "            ('Actinobacteria',  3),\n",
              "            ('Actinobacteria',  4),\n",
              "            ('Actinobacteria',  5),\n",
              "            ('Actinobacteria',  6),\n",
              "            ('Actinobacteria',  7),\n",
              "            ('Actinobacteria',  8),\n",
              "            ('Actinobacteria',  9),\n",
              "            ('Actinobacteria', 10),\n",
              "            ('Actinobacteria', 11),\n",
              "            ('Actinobacteria', 12),\n",
              "            ('Actinobacteria', 13),\n",
              "            ('Actinobacteria', 14),\n",
              "            ('Actinobacteria', 15),\n",
              "            ( 'Bacteroidetes',  1),\n",
              "            ( 'Bacteroidetes',  2),\n",
              "            ( 'Bacteroidetes',  3),\n",
              "            ( 'Bacteroidetes',  4),\n",
              "            ( 'Bacteroidetes',  5),\n",
              "            ( 'Bacteroidetes',  6),\n",
              "            ( 'Bacteroidetes',  7),\n",
              "            ( 'Bacteroidetes',  8),\n",
              "            ( 'Bacteroidetes',  9),\n",
              "            ( 'Bacteroidetes', 10),\n",
              "            ( 'Bacteroidetes', 11),\n",
              "            ( 'Bacteroidetes', 12),\n",
              "            ( 'Bacteroidetes', 13),\n",
              "            ( 'Bacteroidetes', 14),\n",
              "            ( 'Bacteroidetes', 15),\n",
              "            (         'Other',  1),\n",
              "            (         'Other',  2),\n",
              "            (         'Other',  3),\n",
              "            (         'Other',  4),\n",
              "            (         'Other',  5),\n",
              "            (         'Other',  6),\n",
              "            (         'Other',  7),\n",
              "            (         'Other',  8),\n",
              "            (         'Other',  9),\n",
              "            (         'Other', 10),\n",
              "            (         'Other', 11),\n",
              "            (         'Other', 12),\n",
              "            (         'Other', 13),\n",
              "            (         'Other', 14),\n",
              "            (         'Other', 15)],\n",
              "           names=['Taxon', 'Patient'])"
            ]
          },
          "metadata": {
            "tags": []
          },
          "execution_count": 121
        }
      ]
    },
    {
      "cell_type": "markdown",
      "metadata": {
        "id": "MQ56BmrG04pV"
      },
      "source": [
        "With a hierachical index, we can select subsets of the data based on a _partial_ index"
      ]
    },
    {
      "cell_type": "code",
      "metadata": {
        "colab": {
          "base_uri": "https://localhost:8080/",
          "height": 539
        },
        "id": "F8cTvKxf01gI",
        "outputId": "6a739ec7-f80c-421f-8c91-25f332166b86"
      },
      "source": [
        "mb.loc['Proteobacteria']"
      ],
      "execution_count": null,
      "outputs": [
        {
          "output_type": "execute_result",
          "data": {
            "text/html": [
              "<div>\n",
              "<style scoped>\n",
              "    .dataframe tbody tr th:only-of-type {\n",
              "        vertical-align: middle;\n",
              "    }\n",
              "\n",
              "    .dataframe tbody tr th {\n",
              "        vertical-align: top;\n",
              "    }\n",
              "\n",
              "    .dataframe thead th {\n",
              "        text-align: right;\n",
              "    }\n",
              "</style>\n",
              "<table border=\"1\" class=\"dataframe\">\n",
              "  <thead>\n",
              "    <tr style=\"text-align: right;\">\n",
              "      <th></th>\n",
              "      <th>Tissue</th>\n",
              "      <th>Stool</th>\n",
              "    </tr>\n",
              "    <tr>\n",
              "      <th>Patient</th>\n",
              "      <th></th>\n",
              "      <th></th>\n",
              "    </tr>\n",
              "  </thead>\n",
              "  <tbody>\n",
              "    <tr>\n",
              "      <th>1</th>\n",
              "      <td>1638</td>\n",
              "      <td>3886</td>\n",
              "    </tr>\n",
              "    <tr>\n",
              "      <th>2</th>\n",
              "      <td>2469</td>\n",
              "      <td>1821</td>\n",
              "    </tr>\n",
              "    <tr>\n",
              "      <th>3</th>\n",
              "      <td>839</td>\n",
              "      <td>661</td>\n",
              "    </tr>\n",
              "    <tr>\n",
              "      <th>4</th>\n",
              "      <td>4414</td>\n",
              "      <td>18</td>\n",
              "    </tr>\n",
              "    <tr>\n",
              "      <th>5</th>\n",
              "      <td>12044</td>\n",
              "      <td>83</td>\n",
              "    </tr>\n",
              "    <tr>\n",
              "      <th>6</th>\n",
              "      <td>2310</td>\n",
              "      <td>12</td>\n",
              "    </tr>\n",
              "    <tr>\n",
              "      <th>7</th>\n",
              "      <td>3053</td>\n",
              "      <td>547</td>\n",
              "    </tr>\n",
              "    <tr>\n",
              "      <th>8</th>\n",
              "      <td>395</td>\n",
              "      <td>2174</td>\n",
              "    </tr>\n",
              "    <tr>\n",
              "      <th>9</th>\n",
              "      <td>2651</td>\n",
              "      <td>767</td>\n",
              "    </tr>\n",
              "    <tr>\n",
              "      <th>10</th>\n",
              "      <td>1195</td>\n",
              "      <td>76</td>\n",
              "    </tr>\n",
              "    <tr>\n",
              "      <th>11</th>\n",
              "      <td>6857</td>\n",
              "      <td>795</td>\n",
              "    </tr>\n",
              "    <tr>\n",
              "      <th>12</th>\n",
              "      <td>483</td>\n",
              "      <td>666</td>\n",
              "    </tr>\n",
              "    <tr>\n",
              "      <th>13</th>\n",
              "      <td>2950</td>\n",
              "      <td>3994</td>\n",
              "    </tr>\n",
              "    <tr>\n",
              "      <th>14</th>\n",
              "      <td>1541</td>\n",
              "      <td>816</td>\n",
              "    </tr>\n",
              "    <tr>\n",
              "      <th>15</th>\n",
              "      <td>1307</td>\n",
              "      <td>53</td>\n",
              "    </tr>\n",
              "  </tbody>\n",
              "</table>\n",
              "</div>"
            ],
            "text/plain": [
              "         Tissue  Stool\n",
              "Patient               \n",
              "1          1638   3886\n",
              "2          2469   1821\n",
              "3           839    661\n",
              "4          4414     18\n",
              "5         12044     83\n",
              "6          2310     12\n",
              "7          3053    547\n",
              "8           395   2174\n",
              "9          2651    767\n",
              "10         1195     76\n",
              "11         6857    795\n",
              "12          483    666\n",
              "13         2950   3994\n",
              "14         1541    816\n",
              "15         1307     53"
            ]
          },
          "metadata": {
            "tags": []
          },
          "execution_count": 122
        }
      ]
    },
    {
      "cell_type": "markdown",
      "metadata": {
        "id": "E5jhDiU01B9M"
      },
      "source": [
        "Hierarchical indices can be created on either or both axes. Here is a trivial example"
      ]
    },
    {
      "cell_type": "code",
      "metadata": {
        "colab": {
          "base_uri": "https://localhost:8080/",
          "height": 202
        },
        "id": "mZfGVSJq0-I_",
        "outputId": "cca79fcc-79ec-4ec0-abc5-f8863ab87354"
      },
      "source": [
        "frame = pd.DataFrame(np.arange(12).reshape(( 4, 3)), \r\n",
        "                  index =[['a', 'a', 'b', 'b'], [1, 2, 1, 2]], \r\n",
        "                  columns =[['Ohio', 'Ohio', 'Colorado'], ['Green', 'Red', 'Green']])\r\n",
        "\r\n",
        "frame"
      ],
      "execution_count": null,
      "outputs": [
        {
          "output_type": "execute_result",
          "data": {
            "text/html": [
              "<div>\n",
              "<style scoped>\n",
              "    .dataframe tbody tr th:only-of-type {\n",
              "        vertical-align: middle;\n",
              "    }\n",
              "\n",
              "    .dataframe tbody tr th {\n",
              "        vertical-align: top;\n",
              "    }\n",
              "\n",
              "    .dataframe thead tr th {\n",
              "        text-align: left;\n",
              "    }\n",
              "</style>\n",
              "<table border=\"1\" class=\"dataframe\">\n",
              "  <thead>\n",
              "    <tr>\n",
              "      <th></th>\n",
              "      <th></th>\n",
              "      <th colspan=\"2\" halign=\"left\">Ohio</th>\n",
              "      <th>Colorado</th>\n",
              "    </tr>\n",
              "    <tr>\n",
              "      <th></th>\n",
              "      <th></th>\n",
              "      <th>Green</th>\n",
              "      <th>Red</th>\n",
              "      <th>Green</th>\n",
              "    </tr>\n",
              "  </thead>\n",
              "  <tbody>\n",
              "    <tr>\n",
              "      <th rowspan=\"2\" valign=\"top\">a</th>\n",
              "      <th>1</th>\n",
              "      <td>0</td>\n",
              "      <td>1</td>\n",
              "      <td>2</td>\n",
              "    </tr>\n",
              "    <tr>\n",
              "      <th>2</th>\n",
              "      <td>3</td>\n",
              "      <td>4</td>\n",
              "      <td>5</td>\n",
              "    </tr>\n",
              "    <tr>\n",
              "      <th rowspan=\"2\" valign=\"top\">b</th>\n",
              "      <th>1</th>\n",
              "      <td>6</td>\n",
              "      <td>7</td>\n",
              "      <td>8</td>\n",
              "    </tr>\n",
              "    <tr>\n",
              "      <th>2</th>\n",
              "      <td>9</td>\n",
              "      <td>10</td>\n",
              "      <td>11</td>\n",
              "    </tr>\n",
              "  </tbody>\n",
              "</table>\n",
              "</div>"
            ],
            "text/plain": [
              "     Ohio     Colorado\n",
              "    Green Red    Green\n",
              "a 1     0   1        2\n",
              "  2     3   4        5\n",
              "b 1     6   7        8\n",
              "  2     9  10       11"
            ]
          },
          "metadata": {
            "tags": []
          },
          "execution_count": 123
        }
      ]
    },
    {
      "cell_type": "markdown",
      "metadata": {
        "id": "zAbgLucL1K9-"
      },
      "source": [
        "If you want to get fancy, both the row and column indices themselves can be given names"
      ]
    },
    {
      "cell_type": "code",
      "metadata": {
        "colab": {
          "base_uri": "https://localhost:8080/",
          "height": 233
        },
        "id": "ABH2phSY1HVo",
        "outputId": "ac44fa11-4afe-4752-9a30-c9feabf06eb7"
      },
      "source": [
        "frame.index.names = ['key1', 'key2']\r\n",
        "frame.columns.names = ['state', 'color']\r\n",
        "frame"
      ],
      "execution_count": null,
      "outputs": [
        {
          "output_type": "execute_result",
          "data": {
            "text/html": [
              "<div>\n",
              "<style scoped>\n",
              "    .dataframe tbody tr th:only-of-type {\n",
              "        vertical-align: middle;\n",
              "    }\n",
              "\n",
              "    .dataframe tbody tr th {\n",
              "        vertical-align: top;\n",
              "    }\n",
              "\n",
              "    .dataframe thead tr th {\n",
              "        text-align: left;\n",
              "    }\n",
              "\n",
              "    .dataframe thead tr:last-of-type th {\n",
              "        text-align: right;\n",
              "    }\n",
              "</style>\n",
              "<table border=\"1\" class=\"dataframe\">\n",
              "  <thead>\n",
              "    <tr>\n",
              "      <th></th>\n",
              "      <th>state</th>\n",
              "      <th colspan=\"2\" halign=\"left\">Ohio</th>\n",
              "      <th>Colorado</th>\n",
              "    </tr>\n",
              "    <tr>\n",
              "      <th></th>\n",
              "      <th>color</th>\n",
              "      <th>Green</th>\n",
              "      <th>Red</th>\n",
              "      <th>Green</th>\n",
              "    </tr>\n",
              "    <tr>\n",
              "      <th>key1</th>\n",
              "      <th>key2</th>\n",
              "      <th></th>\n",
              "      <th></th>\n",
              "      <th></th>\n",
              "    </tr>\n",
              "  </thead>\n",
              "  <tbody>\n",
              "    <tr>\n",
              "      <th rowspan=\"2\" valign=\"top\">a</th>\n",
              "      <th>1</th>\n",
              "      <td>0</td>\n",
              "      <td>1</td>\n",
              "      <td>2</td>\n",
              "    </tr>\n",
              "    <tr>\n",
              "      <th>2</th>\n",
              "      <td>3</td>\n",
              "      <td>4</td>\n",
              "      <td>5</td>\n",
              "    </tr>\n",
              "    <tr>\n",
              "      <th rowspan=\"2\" valign=\"top\">b</th>\n",
              "      <th>1</th>\n",
              "      <td>6</td>\n",
              "      <td>7</td>\n",
              "      <td>8</td>\n",
              "    </tr>\n",
              "    <tr>\n",
              "      <th>2</th>\n",
              "      <td>9</td>\n",
              "      <td>10</td>\n",
              "      <td>11</td>\n",
              "    </tr>\n",
              "  </tbody>\n",
              "</table>\n",
              "</div>"
            ],
            "text/plain": [
              "state      Ohio     Colorado\n",
              "color     Green Red    Green\n",
              "key1 key2                   \n",
              "a    1        0   1        2\n",
              "     2        3   4        5\n",
              "b    1        6   7        8\n",
              "     2        9  10       11"
            ]
          },
          "metadata": {
            "tags": []
          },
          "execution_count": 124
        }
      ]
    },
    {
      "cell_type": "markdown",
      "metadata": {
        "id": "rhU3FLvU1N7E"
      },
      "source": [
        "With this, we can do all sorts of custom indexing"
      ]
    },
    {
      "cell_type": "code",
      "metadata": {
        "colab": {
          "base_uri": "https://localhost:8080/",
          "height": 141
        },
        "id": "vcnEeDiC1TMe",
        "outputId": "892a2270-088e-4d5b-c79c-7050f6ad3b67"
      },
      "source": [
        "frame.loc['a']['Ohio']"
      ],
      "execution_count": null,
      "outputs": [
        {
          "output_type": "execute_result",
          "data": {
            "text/html": [
              "<div>\n",
              "<style scoped>\n",
              "    .dataframe tbody tr th:only-of-type {\n",
              "        vertical-align: middle;\n",
              "    }\n",
              "\n",
              "    .dataframe tbody tr th {\n",
              "        vertical-align: top;\n",
              "    }\n",
              "\n",
              "    .dataframe thead th {\n",
              "        text-align: right;\n",
              "    }\n",
              "</style>\n",
              "<table border=\"1\" class=\"dataframe\">\n",
              "  <thead>\n",
              "    <tr style=\"text-align: right;\">\n",
              "      <th>color</th>\n",
              "      <th>Green</th>\n",
              "      <th>Red</th>\n",
              "    </tr>\n",
              "    <tr>\n",
              "      <th>key2</th>\n",
              "      <th></th>\n",
              "      <th></th>\n",
              "    </tr>\n",
              "  </thead>\n",
              "  <tbody>\n",
              "    <tr>\n",
              "      <th>1</th>\n",
              "      <td>0</td>\n",
              "      <td>1</td>\n",
              "    </tr>\n",
              "    <tr>\n",
              "      <th>2</th>\n",
              "      <td>3</td>\n",
              "      <td>4</td>\n",
              "    </tr>\n",
              "  </tbody>\n",
              "</table>\n",
              "</div>"
            ],
            "text/plain": [
              "color  Green  Red\n",
              "key2             \n",
              "1          0    1\n",
              "2          3    4"
            ]
          },
          "metadata": {
            "tags": []
          },
          "execution_count": 125
        }
      ]
    },
    {
      "cell_type": "code",
      "metadata": {
        "colab": {
          "base_uri": "https://localhost:8080/"
        },
        "id": "kLLs23E71Wva",
        "outputId": "6550cb10-896d-46c2-c7e4-d6bb7b19757f"
      },
      "source": [
        "frame.loc['b', 2]['Colorado']"
      ],
      "execution_count": null,
      "outputs": [
        {
          "output_type": "execute_result",
          "data": {
            "text/plain": [
              "color\n",
              "Green    11\n",
              "Name: (b, 2), dtype: int64"
            ]
          },
          "metadata": {
            "tags": []
          },
          "execution_count": 126
        }
      ]
    },
    {
      "cell_type": "markdown",
      "metadata": {
        "id": "EhA5BnYu1c56"
      },
      "source": [
        "Additionally, the order of the set of indices in a hierarchical `MultiIndex` can be changed by swapping them pairwise"
      ]
    },
    {
      "cell_type": "code",
      "metadata": {
        "colab": {
          "base_uri": "https://localhost:8080/",
          "height": 233
        },
        "id": "FsL85GcA1ZsJ",
        "outputId": "afdd4582-a01b-45ea-e14a-646fb918644a"
      },
      "source": [
        "mb.swaplevel('Patient', 'Taxon').head()"
      ],
      "execution_count": null,
      "outputs": [
        {
          "output_type": "execute_result",
          "data": {
            "text/html": [
              "<div>\n",
              "<style scoped>\n",
              "    .dataframe tbody tr th:only-of-type {\n",
              "        vertical-align: middle;\n",
              "    }\n",
              "\n",
              "    .dataframe tbody tr th {\n",
              "        vertical-align: top;\n",
              "    }\n",
              "\n",
              "    .dataframe thead th {\n",
              "        text-align: right;\n",
              "    }\n",
              "</style>\n",
              "<table border=\"1\" class=\"dataframe\">\n",
              "  <thead>\n",
              "    <tr style=\"text-align: right;\">\n",
              "      <th></th>\n",
              "      <th></th>\n",
              "      <th>Tissue</th>\n",
              "      <th>Stool</th>\n",
              "    </tr>\n",
              "    <tr>\n",
              "      <th>Patient</th>\n",
              "      <th>Taxon</th>\n",
              "      <th></th>\n",
              "      <th></th>\n",
              "    </tr>\n",
              "  </thead>\n",
              "  <tbody>\n",
              "    <tr>\n",
              "      <th>1</th>\n",
              "      <th>Firmicutes</th>\n",
              "      <td>632</td>\n",
              "      <td>305</td>\n",
              "    </tr>\n",
              "    <tr>\n",
              "      <th>2</th>\n",
              "      <th>Firmicutes</th>\n",
              "      <td>136</td>\n",
              "      <td>4182</td>\n",
              "    </tr>\n",
              "    <tr>\n",
              "      <th>3</th>\n",
              "      <th>Firmicutes</th>\n",
              "      <td>1174</td>\n",
              "      <td>703</td>\n",
              "    </tr>\n",
              "    <tr>\n",
              "      <th>4</th>\n",
              "      <th>Firmicutes</th>\n",
              "      <td>408</td>\n",
              "      <td>3946</td>\n",
              "    </tr>\n",
              "    <tr>\n",
              "      <th>5</th>\n",
              "      <th>Firmicutes</th>\n",
              "      <td>831</td>\n",
              "      <td>8605</td>\n",
              "    </tr>\n",
              "  </tbody>\n",
              "</table>\n",
              "</div>"
            ],
            "text/plain": [
              "                    Tissue  Stool\n",
              "Patient Taxon                    \n",
              "1       Firmicutes     632    305\n",
              "2       Firmicutes     136   4182\n",
              "3       Firmicutes    1174    703\n",
              "4       Firmicutes     408   3946\n",
              "5       Firmicutes     831   8605"
            ]
          },
          "metadata": {
            "tags": []
          },
          "execution_count": 127
        }
      ]
    },
    {
      "cell_type": "markdown",
      "metadata": {
        "id": "MNdM9E4v1jMA"
      },
      "source": [
        "Data can also be sorted by any index level, using `sort_values`"
      ]
    },
    {
      "cell_type": "code",
      "metadata": {
        "colab": {
          "base_uri": "https://localhost:8080/",
          "height": 233
        },
        "id": "4rRbAAAl1gE3",
        "outputId": "ce3383f1-d8c1-476b-f3a1-b7ba777b67d7"
      },
      "source": [
        "mb.sort_values('Patient', ascending=False).head()"
      ],
      "execution_count": null,
      "outputs": [
        {
          "output_type": "execute_result",
          "data": {
            "text/html": [
              "<div>\n",
              "<style scoped>\n",
              "    .dataframe tbody tr th:only-of-type {\n",
              "        vertical-align: middle;\n",
              "    }\n",
              "\n",
              "    .dataframe tbody tr th {\n",
              "        vertical-align: top;\n",
              "    }\n",
              "\n",
              "    .dataframe thead th {\n",
              "        text-align: right;\n",
              "    }\n",
              "</style>\n",
              "<table border=\"1\" class=\"dataframe\">\n",
              "  <thead>\n",
              "    <tr style=\"text-align: right;\">\n",
              "      <th></th>\n",
              "      <th></th>\n",
              "      <th>Tissue</th>\n",
              "      <th>Stool</th>\n",
              "    </tr>\n",
              "    <tr>\n",
              "      <th>Taxon</th>\n",
              "      <th>Patient</th>\n",
              "      <th></th>\n",
              "      <th></th>\n",
              "    </tr>\n",
              "  </thead>\n",
              "  <tbody>\n",
              "    <tr>\n",
              "      <th>Other</th>\n",
              "      <th>15</th>\n",
              "      <td>305</td>\n",
              "      <td>32</td>\n",
              "    </tr>\n",
              "    <tr>\n",
              "      <th>Actinobacteria</th>\n",
              "      <th>15</th>\n",
              "      <td>310</td>\n",
              "      <td>204</td>\n",
              "    </tr>\n",
              "    <tr>\n",
              "      <th>Proteobacteria</th>\n",
              "      <th>15</th>\n",
              "      <td>1307</td>\n",
              "      <td>53</td>\n",
              "    </tr>\n",
              "    <tr>\n",
              "      <th>Bacteroidetes</th>\n",
              "      <th>15</th>\n",
              "      <td>102</td>\n",
              "      <td>33</td>\n",
              "    </tr>\n",
              "    <tr>\n",
              "      <th>Firmicutes</th>\n",
              "      <th>15</th>\n",
              "      <td>281</td>\n",
              "      <td>2377</td>\n",
              "    </tr>\n",
              "  </tbody>\n",
              "</table>\n",
              "</div>"
            ],
            "text/plain": [
              "                        Tissue  Stool\n",
              "Taxon          Patient               \n",
              "Other          15          305     32\n",
              "Actinobacteria 15          310    204\n",
              "Proteobacteria 15         1307     53\n",
              "Bacteroidetes  15          102     33\n",
              "Firmicutes     15          281   2377"
            ]
          },
          "metadata": {
            "tags": []
          },
          "execution_count": 128
        }
      ]
    },
    {
      "cell_type": "markdown",
      "metadata": {
        "id": "7OHvb2Av2WaI"
      },
      "source": [
        "## Missing data\r\n",
        "\r\n",
        "The occurence of missing data is so prevalent that it pays to use tools like Pandas, which seamlessly integrates missing data handling so that it can be dealt with easily, and in the manner required by the analysis at hand.\r\n",
        "\r\n",
        "Missing data are represented in `Series` and `DataFrame` objects by the `NaN` floating point value. However, `None` is also treated as missing, since it is commonly used as such in other contexts (*e.g.* NumPy)."
      ]
    },
    {
      "cell_type": "code",
      "metadata": {
        "colab": {
          "base_uri": "https://localhost:8080/"
        },
        "id": "iY0XqG9c1nrt",
        "outputId": "47e604f8-8178-428b-cca9-3c4e267bc1f3"
      },
      "source": [
        "foo = pd.Series(['NaN', -3, None, 'foobar'])\r\n",
        "foo"
      ],
      "execution_count": null,
      "outputs": [
        {
          "output_type": "execute_result",
          "data": {
            "text/plain": [
              "0       NaN\n",
              "1        -3\n",
              "2      None\n",
              "3    foobar\n",
              "dtype: object"
            ]
          },
          "metadata": {
            "tags": []
          },
          "execution_count": 129
        }
      ]
    },
    {
      "cell_type": "code",
      "metadata": {
        "colab": {
          "base_uri": "https://localhost:8080/"
        },
        "id": "rV4OGN1_1tBi",
        "outputId": "493e01c3-2e09-42d8-e804-1d838afda234"
      },
      "source": [
        "foo.isnull()"
      ],
      "execution_count": null,
      "outputs": [
        {
          "output_type": "execute_result",
          "data": {
            "text/plain": [
              "0    False\n",
              "1    False\n",
              "2     True\n",
              "3    False\n",
              "dtype: bool"
            ]
          },
          "metadata": {
            "tags": []
          },
          "execution_count": 130
        }
      ]
    },
    {
      "cell_type": "markdown",
      "metadata": {
        "id": "DASWKffv5Uo_"
      },
      "source": [
        "Missing values may be dropped or indexed out"
      ]
    },
    {
      "cell_type": "code",
      "metadata": {
        "colab": {
          "base_uri": "https://localhost:8080/"
        },
        "id": "zf_YtLIe5Y3P",
        "outputId": "e6318201-d3ec-4281-a092-ded3aedd3844"
      },
      "source": [
        "bacteria2"
      ],
      "execution_count": null,
      "outputs": [
        {
          "output_type": "execute_result",
          "data": {
            "text/plain": [
              "phylum\n",
              "Firmicutes           NaN\n",
              "Proteobacteria     632.0\n",
              "Actinobacteria    1638.0\n",
              "Bacteroidetes      569.0\n",
              "dtype: float64"
            ]
          },
          "metadata": {
            "tags": []
          },
          "execution_count": 131
        }
      ]
    },
    {
      "cell_type": "code",
      "metadata": {
        "colab": {
          "base_uri": "https://localhost:8080/"
        },
        "id": "nggR-vCt5i_m",
        "outputId": "f9d2810d-0d57-4845-8cdf-fe09965abd12"
      },
      "source": [
        "bacteria2.dropna()"
      ],
      "execution_count": null,
      "outputs": [
        {
          "output_type": "execute_result",
          "data": {
            "text/plain": [
              "phylum\n",
              "Proteobacteria     632.0\n",
              "Actinobacteria    1638.0\n",
              "Bacteroidetes      569.0\n",
              "dtype: float64"
            ]
          },
          "metadata": {
            "tags": []
          },
          "execution_count": 132
        }
      ]
    },
    {
      "cell_type": "code",
      "metadata": {
        "colab": {
          "base_uri": "https://localhost:8080/"
        },
        "id": "0OOZud5m5lJK",
        "outputId": "36caf361-c647-455d-af84-9d34497034f2"
      },
      "source": [
        "bacteria2[bacteria2.notnull()]"
      ],
      "execution_count": null,
      "outputs": [
        {
          "output_type": "execute_result",
          "data": {
            "text/plain": [
              "phylum\n",
              "Proteobacteria     632.0\n",
              "Actinobacteria    1638.0\n",
              "Bacteroidetes      569.0\n",
              "dtype: float64"
            ]
          },
          "metadata": {
            "tags": []
          },
          "execution_count": 133
        }
      ]
    },
    {
      "cell_type": "markdown",
      "metadata": {
        "id": "j3KSoVxD5ngz"
      },
      "source": [
        "By default, `dropna` drops entire rows in which one or more values are missing."
      ]
    },
    {
      "cell_type": "code",
      "metadata": {
        "colab": {
          "base_uri": "https://localhost:8080/",
          "height": 294
        },
        "id": "Cp_KaNJz5teJ",
        "outputId": "6594469c-e920-4cbd-dfc2-6edbbaa484c3"
      },
      "source": [
        "data"
      ],
      "execution_count": null,
      "outputs": [
        {
          "output_type": "execute_result",
          "data": {
            "text/html": [
              "<div>\n",
              "<style scoped>\n",
              "    .dataframe tbody tr th:only-of-type {\n",
              "        vertical-align: middle;\n",
              "    }\n",
              "\n",
              "    .dataframe tbody tr th {\n",
              "        vertical-align: top;\n",
              "    }\n",
              "\n",
              "    .dataframe thead th {\n",
              "        text-align: right;\n",
              "    }\n",
              "</style>\n",
              "<table border=\"1\" class=\"dataframe\">\n",
              "  <thead>\n",
              "    <tr style=\"text-align: right;\">\n",
              "      <th></th>\n",
              "      <th>patient</th>\n",
              "      <th>phylum</th>\n",
              "      <th>value</th>\n",
              "      <th>year</th>\n",
              "      <th>treatment</th>\n",
              "    </tr>\n",
              "  </thead>\n",
              "  <tbody>\n",
              "    <tr>\n",
              "      <th>0</th>\n",
              "      <td>1</td>\n",
              "      <td>Firmicutes</td>\n",
              "      <td>632</td>\n",
              "      <td>2013</td>\n",
              "      <td>0.0</td>\n",
              "    </tr>\n",
              "    <tr>\n",
              "      <th>1</th>\n",
              "      <td>1</td>\n",
              "      <td>Proteobacteria</td>\n",
              "      <td>1638</td>\n",
              "      <td>2013</td>\n",
              "      <td>0.0</td>\n",
              "    </tr>\n",
              "    <tr>\n",
              "      <th>2</th>\n",
              "      <td>1</td>\n",
              "      <td>Actinobacteria</td>\n",
              "      <td>569</td>\n",
              "      <td>2013</td>\n",
              "      <td>0.0</td>\n",
              "    </tr>\n",
              "    <tr>\n",
              "      <th>3</th>\n",
              "      <td>1</td>\n",
              "      <td>Bacteroidetes</td>\n",
              "      <td>14</td>\n",
              "      <td>2013</td>\n",
              "      <td>0.0</td>\n",
              "    </tr>\n",
              "    <tr>\n",
              "      <th>4</th>\n",
              "      <td>2</td>\n",
              "      <td>Firmicutes</td>\n",
              "      <td>433</td>\n",
              "      <td>2013</td>\n",
              "      <td>1.0</td>\n",
              "    </tr>\n",
              "    <tr>\n",
              "      <th>5</th>\n",
              "      <td>2</td>\n",
              "      <td>Proteobacteria</td>\n",
              "      <td>0</td>\n",
              "      <td>2013</td>\n",
              "      <td>1.0</td>\n",
              "    </tr>\n",
              "    <tr>\n",
              "      <th>6</th>\n",
              "      <td>2</td>\n",
              "      <td>Actinobacteria</td>\n",
              "      <td>754</td>\n",
              "      <td>2013</td>\n",
              "      <td>NaN</td>\n",
              "    </tr>\n",
              "    <tr>\n",
              "      <th>7</th>\n",
              "      <td>2</td>\n",
              "      <td>Bacteroidetes</td>\n",
              "      <td>555</td>\n",
              "      <td>2013</td>\n",
              "      <td>NaN</td>\n",
              "    </tr>\n",
              "  </tbody>\n",
              "</table>\n",
              "</div>"
            ],
            "text/plain": [
              "  patient          phylum value  year  treatment\n",
              "0       1      Firmicutes   632  2013        0.0\n",
              "1       1  Proteobacteria  1638  2013        0.0\n",
              "2       1  Actinobacteria   569  2013        0.0\n",
              "3       1   Bacteroidetes    14  2013        0.0\n",
              "4       2      Firmicutes   433  2013        1.0\n",
              "5       2  Proteobacteria     0  2013        1.0\n",
              "6       2  Actinobacteria   754  2013        NaN\n",
              "7       2   Bacteroidetes   555  2013        NaN"
            ]
          },
          "metadata": {
            "tags": []
          },
          "execution_count": 134
        }
      ]
    },
    {
      "cell_type": "code",
      "metadata": {
        "colab": {
          "base_uri": "https://localhost:8080/",
          "height": 233
        },
        "id": "dhhhsTr15uDa",
        "outputId": "33c6e3f5-8890-47b7-a8ed-cef7868e2cd0"
      },
      "source": [
        "data.dropna()"
      ],
      "execution_count": null,
      "outputs": [
        {
          "output_type": "execute_result",
          "data": {
            "text/html": [
              "<div>\n",
              "<style scoped>\n",
              "    .dataframe tbody tr th:only-of-type {\n",
              "        vertical-align: middle;\n",
              "    }\n",
              "\n",
              "    .dataframe tbody tr th {\n",
              "        vertical-align: top;\n",
              "    }\n",
              "\n",
              "    .dataframe thead th {\n",
              "        text-align: right;\n",
              "    }\n",
              "</style>\n",
              "<table border=\"1\" class=\"dataframe\">\n",
              "  <thead>\n",
              "    <tr style=\"text-align: right;\">\n",
              "      <th></th>\n",
              "      <th>patient</th>\n",
              "      <th>phylum</th>\n",
              "      <th>value</th>\n",
              "      <th>year</th>\n",
              "      <th>treatment</th>\n",
              "    </tr>\n",
              "  </thead>\n",
              "  <tbody>\n",
              "    <tr>\n",
              "      <th>0</th>\n",
              "      <td>1</td>\n",
              "      <td>Firmicutes</td>\n",
              "      <td>632</td>\n",
              "      <td>2013</td>\n",
              "      <td>0.0</td>\n",
              "    </tr>\n",
              "    <tr>\n",
              "      <th>1</th>\n",
              "      <td>1</td>\n",
              "      <td>Proteobacteria</td>\n",
              "      <td>1638</td>\n",
              "      <td>2013</td>\n",
              "      <td>0.0</td>\n",
              "    </tr>\n",
              "    <tr>\n",
              "      <th>2</th>\n",
              "      <td>1</td>\n",
              "      <td>Actinobacteria</td>\n",
              "      <td>569</td>\n",
              "      <td>2013</td>\n",
              "      <td>0.0</td>\n",
              "    </tr>\n",
              "    <tr>\n",
              "      <th>3</th>\n",
              "      <td>1</td>\n",
              "      <td>Bacteroidetes</td>\n",
              "      <td>14</td>\n",
              "      <td>2013</td>\n",
              "      <td>0.0</td>\n",
              "    </tr>\n",
              "    <tr>\n",
              "      <th>4</th>\n",
              "      <td>2</td>\n",
              "      <td>Firmicutes</td>\n",
              "      <td>433</td>\n",
              "      <td>2013</td>\n",
              "      <td>1.0</td>\n",
              "    </tr>\n",
              "    <tr>\n",
              "      <th>5</th>\n",
              "      <td>2</td>\n",
              "      <td>Proteobacteria</td>\n",
              "      <td>0</td>\n",
              "      <td>2013</td>\n",
              "      <td>1.0</td>\n",
              "    </tr>\n",
              "  </tbody>\n",
              "</table>\n",
              "</div>"
            ],
            "text/plain": [
              "  patient          phylum value  year  treatment\n",
              "0       1      Firmicutes   632  2013        0.0\n",
              "1       1  Proteobacteria  1638  2013        0.0\n",
              "2       1  Actinobacteria   569  2013        0.0\n",
              "3       1   Bacteroidetes    14  2013        0.0\n",
              "4       2      Firmicutes   433  2013        1.0\n",
              "5       2  Proteobacteria     0  2013        1.0"
            ]
          },
          "metadata": {
            "tags": []
          },
          "execution_count": 135
        }
      ]
    },
    {
      "cell_type": "markdown",
      "metadata": {
        "id": "PNbUTfqV50iw"
      },
      "source": [
        "This can be overridden by passing the `how='all'` argument, which only drops a row when every field is a missing value."
      ]
    },
    {
      "cell_type": "code",
      "metadata": {
        "colab": {
          "base_uri": "https://localhost:8080/",
          "height": 294
        },
        "id": "MnwGiuGT5wP7",
        "outputId": "0b6bdb63-fc2e-4b95-fcbc-fba46c5f29ef"
      },
      "source": [
        "data.dropna(how='all')"
      ],
      "execution_count": null,
      "outputs": [
        {
          "output_type": "execute_result",
          "data": {
            "text/html": [
              "<div>\n",
              "<style scoped>\n",
              "    .dataframe tbody tr th:only-of-type {\n",
              "        vertical-align: middle;\n",
              "    }\n",
              "\n",
              "    .dataframe tbody tr th {\n",
              "        vertical-align: top;\n",
              "    }\n",
              "\n",
              "    .dataframe thead th {\n",
              "        text-align: right;\n",
              "    }\n",
              "</style>\n",
              "<table border=\"1\" class=\"dataframe\">\n",
              "  <thead>\n",
              "    <tr style=\"text-align: right;\">\n",
              "      <th></th>\n",
              "      <th>patient</th>\n",
              "      <th>phylum</th>\n",
              "      <th>value</th>\n",
              "      <th>year</th>\n",
              "      <th>treatment</th>\n",
              "    </tr>\n",
              "  </thead>\n",
              "  <tbody>\n",
              "    <tr>\n",
              "      <th>0</th>\n",
              "      <td>1</td>\n",
              "      <td>Firmicutes</td>\n",
              "      <td>632</td>\n",
              "      <td>2013</td>\n",
              "      <td>0.0</td>\n",
              "    </tr>\n",
              "    <tr>\n",
              "      <th>1</th>\n",
              "      <td>1</td>\n",
              "      <td>Proteobacteria</td>\n",
              "      <td>1638</td>\n",
              "      <td>2013</td>\n",
              "      <td>0.0</td>\n",
              "    </tr>\n",
              "    <tr>\n",
              "      <th>2</th>\n",
              "      <td>1</td>\n",
              "      <td>Actinobacteria</td>\n",
              "      <td>569</td>\n",
              "      <td>2013</td>\n",
              "      <td>0.0</td>\n",
              "    </tr>\n",
              "    <tr>\n",
              "      <th>3</th>\n",
              "      <td>1</td>\n",
              "      <td>Bacteroidetes</td>\n",
              "      <td>14</td>\n",
              "      <td>2013</td>\n",
              "      <td>0.0</td>\n",
              "    </tr>\n",
              "    <tr>\n",
              "      <th>4</th>\n",
              "      <td>2</td>\n",
              "      <td>Firmicutes</td>\n",
              "      <td>433</td>\n",
              "      <td>2013</td>\n",
              "      <td>1.0</td>\n",
              "    </tr>\n",
              "    <tr>\n",
              "      <th>5</th>\n",
              "      <td>2</td>\n",
              "      <td>Proteobacteria</td>\n",
              "      <td>0</td>\n",
              "      <td>2013</td>\n",
              "      <td>1.0</td>\n",
              "    </tr>\n",
              "    <tr>\n",
              "      <th>6</th>\n",
              "      <td>2</td>\n",
              "      <td>Actinobacteria</td>\n",
              "      <td>754</td>\n",
              "      <td>2013</td>\n",
              "      <td>NaN</td>\n",
              "    </tr>\n",
              "    <tr>\n",
              "      <th>7</th>\n",
              "      <td>2</td>\n",
              "      <td>Bacteroidetes</td>\n",
              "      <td>555</td>\n",
              "      <td>2013</td>\n",
              "      <td>NaN</td>\n",
              "    </tr>\n",
              "  </tbody>\n",
              "</table>\n",
              "</div>"
            ],
            "text/plain": [
              "  patient          phylum value  year  treatment\n",
              "0       1      Firmicutes   632  2013        0.0\n",
              "1       1  Proteobacteria  1638  2013        0.0\n",
              "2       1  Actinobacteria   569  2013        0.0\n",
              "3       1   Bacteroidetes    14  2013        0.0\n",
              "4       2      Firmicutes   433  2013        1.0\n",
              "5       2  Proteobacteria     0  2013        1.0\n",
              "6       2  Actinobacteria   754  2013        NaN\n",
              "7       2   Bacteroidetes   555  2013        NaN"
            ]
          },
          "metadata": {
            "tags": []
          },
          "execution_count": 136
        }
      ]
    },
    {
      "cell_type": "markdown",
      "metadata": {
        "id": "3-WCUIcn56V2"
      },
      "source": [
        "This can be customized further by specifying how many values need to be present before a row is dropped via the `thresh` argument"
      ]
    },
    {
      "cell_type": "code",
      "metadata": {
        "colab": {
          "base_uri": "https://localhost:8080/",
          "height": 294
        },
        "id": "iWQgozOZ528j",
        "outputId": "067df245-2068-4e21-d05c-abd251ce9b70"
      },
      "source": [
        "data.loc[7, 'year'] = 'NaN'\r\n",
        "data"
      ],
      "execution_count": null,
      "outputs": [
        {
          "output_type": "execute_result",
          "data": {
            "text/html": [
              "<div>\n",
              "<style scoped>\n",
              "    .dataframe tbody tr th:only-of-type {\n",
              "        vertical-align: middle;\n",
              "    }\n",
              "\n",
              "    .dataframe tbody tr th {\n",
              "        vertical-align: top;\n",
              "    }\n",
              "\n",
              "    .dataframe thead th {\n",
              "        text-align: right;\n",
              "    }\n",
              "</style>\n",
              "<table border=\"1\" class=\"dataframe\">\n",
              "  <thead>\n",
              "    <tr style=\"text-align: right;\">\n",
              "      <th></th>\n",
              "      <th>patient</th>\n",
              "      <th>phylum</th>\n",
              "      <th>value</th>\n",
              "      <th>year</th>\n",
              "      <th>treatment</th>\n",
              "    </tr>\n",
              "  </thead>\n",
              "  <tbody>\n",
              "    <tr>\n",
              "      <th>0</th>\n",
              "      <td>1</td>\n",
              "      <td>Firmicutes</td>\n",
              "      <td>632</td>\n",
              "      <td>2013</td>\n",
              "      <td>0.0</td>\n",
              "    </tr>\n",
              "    <tr>\n",
              "      <th>1</th>\n",
              "      <td>1</td>\n",
              "      <td>Proteobacteria</td>\n",
              "      <td>1638</td>\n",
              "      <td>2013</td>\n",
              "      <td>0.0</td>\n",
              "    </tr>\n",
              "    <tr>\n",
              "      <th>2</th>\n",
              "      <td>1</td>\n",
              "      <td>Actinobacteria</td>\n",
              "      <td>569</td>\n",
              "      <td>2013</td>\n",
              "      <td>0.0</td>\n",
              "    </tr>\n",
              "    <tr>\n",
              "      <th>3</th>\n",
              "      <td>1</td>\n",
              "      <td>Bacteroidetes</td>\n",
              "      <td>14</td>\n",
              "      <td>2013</td>\n",
              "      <td>0.0</td>\n",
              "    </tr>\n",
              "    <tr>\n",
              "      <th>4</th>\n",
              "      <td>2</td>\n",
              "      <td>Firmicutes</td>\n",
              "      <td>433</td>\n",
              "      <td>2013</td>\n",
              "      <td>1.0</td>\n",
              "    </tr>\n",
              "    <tr>\n",
              "      <th>5</th>\n",
              "      <td>2</td>\n",
              "      <td>Proteobacteria</td>\n",
              "      <td>0</td>\n",
              "      <td>2013</td>\n",
              "      <td>1.0</td>\n",
              "    </tr>\n",
              "    <tr>\n",
              "      <th>6</th>\n",
              "      <td>2</td>\n",
              "      <td>Actinobacteria</td>\n",
              "      <td>754</td>\n",
              "      <td>2013</td>\n",
              "      <td>NaN</td>\n",
              "    </tr>\n",
              "    <tr>\n",
              "      <th>7</th>\n",
              "      <td>2</td>\n",
              "      <td>Bacteroidetes</td>\n",
              "      <td>555</td>\n",
              "      <td>NaN</td>\n",
              "      <td>NaN</td>\n",
              "    </tr>\n",
              "  </tbody>\n",
              "</table>\n",
              "</div>"
            ],
            "text/plain": [
              "  patient          phylum value  year  treatment\n",
              "0       1      Firmicutes   632  2013        0.0\n",
              "1       1  Proteobacteria  1638  2013        0.0\n",
              "2       1  Actinobacteria   569  2013        0.0\n",
              "3       1   Bacteroidetes    14  2013        0.0\n",
              "4       2      Firmicutes   433  2013        1.0\n",
              "5       2  Proteobacteria     0  2013        1.0\n",
              "6       2  Actinobacteria   754  2013        NaN\n",
              "7       2   Bacteroidetes   555   NaN        NaN"
            ]
          },
          "metadata": {
            "tags": []
          },
          "execution_count": 137
        }
      ]
    },
    {
      "cell_type": "code",
      "metadata": {
        "colab": {
          "base_uri": "https://localhost:8080/",
          "height": 294
        },
        "id": "BdxKKDri5-_V",
        "outputId": "a46c5d39-c3a3-4cc4-c8b8-70b2e7554702"
      },
      "source": [
        "data.dropna(thresh=4)"
      ],
      "execution_count": null,
      "outputs": [
        {
          "output_type": "execute_result",
          "data": {
            "text/html": [
              "<div>\n",
              "<style scoped>\n",
              "    .dataframe tbody tr th:only-of-type {\n",
              "        vertical-align: middle;\n",
              "    }\n",
              "\n",
              "    .dataframe tbody tr th {\n",
              "        vertical-align: top;\n",
              "    }\n",
              "\n",
              "    .dataframe thead th {\n",
              "        text-align: right;\n",
              "    }\n",
              "</style>\n",
              "<table border=\"1\" class=\"dataframe\">\n",
              "  <thead>\n",
              "    <tr style=\"text-align: right;\">\n",
              "      <th></th>\n",
              "      <th>patient</th>\n",
              "      <th>phylum</th>\n",
              "      <th>value</th>\n",
              "      <th>year</th>\n",
              "      <th>treatment</th>\n",
              "    </tr>\n",
              "  </thead>\n",
              "  <tbody>\n",
              "    <tr>\n",
              "      <th>0</th>\n",
              "      <td>1</td>\n",
              "      <td>Firmicutes</td>\n",
              "      <td>632</td>\n",
              "      <td>2013</td>\n",
              "      <td>0.0</td>\n",
              "    </tr>\n",
              "    <tr>\n",
              "      <th>1</th>\n",
              "      <td>1</td>\n",
              "      <td>Proteobacteria</td>\n",
              "      <td>1638</td>\n",
              "      <td>2013</td>\n",
              "      <td>0.0</td>\n",
              "    </tr>\n",
              "    <tr>\n",
              "      <th>2</th>\n",
              "      <td>1</td>\n",
              "      <td>Actinobacteria</td>\n",
              "      <td>569</td>\n",
              "      <td>2013</td>\n",
              "      <td>0.0</td>\n",
              "    </tr>\n",
              "    <tr>\n",
              "      <th>3</th>\n",
              "      <td>1</td>\n",
              "      <td>Bacteroidetes</td>\n",
              "      <td>14</td>\n",
              "      <td>2013</td>\n",
              "      <td>0.0</td>\n",
              "    </tr>\n",
              "    <tr>\n",
              "      <th>4</th>\n",
              "      <td>2</td>\n",
              "      <td>Firmicutes</td>\n",
              "      <td>433</td>\n",
              "      <td>2013</td>\n",
              "      <td>1.0</td>\n",
              "    </tr>\n",
              "    <tr>\n",
              "      <th>5</th>\n",
              "      <td>2</td>\n",
              "      <td>Proteobacteria</td>\n",
              "      <td>0</td>\n",
              "      <td>2013</td>\n",
              "      <td>1.0</td>\n",
              "    </tr>\n",
              "    <tr>\n",
              "      <th>6</th>\n",
              "      <td>2</td>\n",
              "      <td>Actinobacteria</td>\n",
              "      <td>754</td>\n",
              "      <td>2013</td>\n",
              "      <td>NaN</td>\n",
              "    </tr>\n",
              "    <tr>\n",
              "      <th>7</th>\n",
              "      <td>2</td>\n",
              "      <td>Bacteroidetes</td>\n",
              "      <td>555</td>\n",
              "      <td>NaN</td>\n",
              "      <td>NaN</td>\n",
              "    </tr>\n",
              "  </tbody>\n",
              "</table>\n",
              "</div>"
            ],
            "text/plain": [
              "  patient          phylum value  year  treatment\n",
              "0       1      Firmicutes   632  2013        0.0\n",
              "1       1  Proteobacteria  1638  2013        0.0\n",
              "2       1  Actinobacteria   569  2013        0.0\n",
              "3       1   Bacteroidetes    14  2013        0.0\n",
              "4       2      Firmicutes   433  2013        1.0\n",
              "5       2  Proteobacteria     0  2013        1.0\n",
              "6       2  Actinobacteria   754  2013        NaN\n",
              "7       2   Bacteroidetes   555   NaN        NaN"
            ]
          },
          "metadata": {
            "tags": []
          },
          "execution_count": 138
        }
      ]
    },
    {
      "cell_type": "markdown",
      "metadata": {
        "id": "j-PVifMa6Qga"
      },
      "source": [
        "This is typically used in time series applications, where there are repeated measurements that are incomplete for some subjects"
      ]
    },
    {
      "cell_type": "markdown",
      "metadata": {
        "id": "DRJPQfrl6TBy"
      },
      "source": [
        "If we want to drop missing values column-wise instead of row-wise, we use `axis=1`."
      ]
    },
    {
      "cell_type": "code",
      "metadata": {
        "colab": {
          "base_uri": "https://localhost:8080/",
          "height": 294
        },
        "id": "YUIrcMOd6L-e",
        "outputId": "1a24af2e-e828-40c0-ff91-d84dc807e843"
      },
      "source": [
        "data.dropna(axis=1)"
      ],
      "execution_count": null,
      "outputs": [
        {
          "output_type": "execute_result",
          "data": {
            "text/html": [
              "<div>\n",
              "<style scoped>\n",
              "    .dataframe tbody tr th:only-of-type {\n",
              "        vertical-align: middle;\n",
              "    }\n",
              "\n",
              "    .dataframe tbody tr th {\n",
              "        vertical-align: top;\n",
              "    }\n",
              "\n",
              "    .dataframe thead th {\n",
              "        text-align: right;\n",
              "    }\n",
              "</style>\n",
              "<table border=\"1\" class=\"dataframe\">\n",
              "  <thead>\n",
              "    <tr style=\"text-align: right;\">\n",
              "      <th></th>\n",
              "      <th>patient</th>\n",
              "      <th>phylum</th>\n",
              "      <th>value</th>\n",
              "      <th>year</th>\n",
              "    </tr>\n",
              "  </thead>\n",
              "  <tbody>\n",
              "    <tr>\n",
              "      <th>0</th>\n",
              "      <td>1</td>\n",
              "      <td>Firmicutes</td>\n",
              "      <td>632</td>\n",
              "      <td>2013</td>\n",
              "    </tr>\n",
              "    <tr>\n",
              "      <th>1</th>\n",
              "      <td>1</td>\n",
              "      <td>Proteobacteria</td>\n",
              "      <td>1638</td>\n",
              "      <td>2013</td>\n",
              "    </tr>\n",
              "    <tr>\n",
              "      <th>2</th>\n",
              "      <td>1</td>\n",
              "      <td>Actinobacteria</td>\n",
              "      <td>569</td>\n",
              "      <td>2013</td>\n",
              "    </tr>\n",
              "    <tr>\n",
              "      <th>3</th>\n",
              "      <td>1</td>\n",
              "      <td>Bacteroidetes</td>\n",
              "      <td>14</td>\n",
              "      <td>2013</td>\n",
              "    </tr>\n",
              "    <tr>\n",
              "      <th>4</th>\n",
              "      <td>2</td>\n",
              "      <td>Firmicutes</td>\n",
              "      <td>433</td>\n",
              "      <td>2013</td>\n",
              "    </tr>\n",
              "    <tr>\n",
              "      <th>5</th>\n",
              "      <td>2</td>\n",
              "      <td>Proteobacteria</td>\n",
              "      <td>0</td>\n",
              "      <td>2013</td>\n",
              "    </tr>\n",
              "    <tr>\n",
              "      <th>6</th>\n",
              "      <td>2</td>\n",
              "      <td>Actinobacteria</td>\n",
              "      <td>754</td>\n",
              "      <td>2013</td>\n",
              "    </tr>\n",
              "    <tr>\n",
              "      <th>7</th>\n",
              "      <td>2</td>\n",
              "      <td>Bacteroidetes</td>\n",
              "      <td>555</td>\n",
              "      <td>NaN</td>\n",
              "    </tr>\n",
              "  </tbody>\n",
              "</table>\n",
              "</div>"
            ],
            "text/plain": [
              "  patient          phylum value  year\n",
              "0       1      Firmicutes   632  2013\n",
              "1       1  Proteobacteria  1638  2013\n",
              "2       1  Actinobacteria   569  2013\n",
              "3       1   Bacteroidetes    14  2013\n",
              "4       2      Firmicutes   433  2013\n",
              "5       2  Proteobacteria     0  2013\n",
              "6       2  Actinobacteria   754  2013\n",
              "7       2   Bacteroidetes   555   NaN"
            ]
          },
          "metadata": {
            "tags": []
          },
          "execution_count": 139
        }
      ]
    },
    {
      "cell_type": "markdown",
      "metadata": {
        "id": "vP9bXqJn6bBr"
      },
      "source": [
        "Rather than omitting missing data from an analysis, in some cases it may be suitable to fill the missing value in, either with a default value (such as zero) or a value that is either imputed or carried forward/backward from similar data points. We can do this by using Pandas with the `fillna` argument."
      ]
    },
    {
      "cell_type": "code",
      "metadata": {
        "colab": {
          "base_uri": "https://localhost:8080/"
        },
        "id": "SlVLATkm6VgO",
        "outputId": "54b0538d-063f-484e-a9c0-725c11ba7435"
      },
      "source": [
        "bacteria2.fillna(0)"
      ],
      "execution_count": null,
      "outputs": [
        {
          "output_type": "execute_result",
          "data": {
            "text/plain": [
              "phylum\n",
              "Firmicutes           0.0\n",
              "Proteobacteria     632.0\n",
              "Actinobacteria    1638.0\n",
              "Bacteroidetes      569.0\n",
              "dtype: float64"
            ]
          },
          "metadata": {
            "tags": []
          },
          "execution_count": 140
        }
      ]
    },
    {
      "cell_type": "code",
      "metadata": {
        "colab": {
          "base_uri": "https://localhost:8080/",
          "height": 294
        },
        "id": "wd1VQBgp6d5U",
        "outputId": "4f9676e2-fbad-4341-8f9c-5405a726c972"
      },
      "source": [
        "data.fillna({'year': 2013, 'treatment':2})"
      ],
      "execution_count": null,
      "outputs": [
        {
          "output_type": "execute_result",
          "data": {
            "text/html": [
              "<div>\n",
              "<style scoped>\n",
              "    .dataframe tbody tr th:only-of-type {\n",
              "        vertical-align: middle;\n",
              "    }\n",
              "\n",
              "    .dataframe tbody tr th {\n",
              "        vertical-align: top;\n",
              "    }\n",
              "\n",
              "    .dataframe thead th {\n",
              "        text-align: right;\n",
              "    }\n",
              "</style>\n",
              "<table border=\"1\" class=\"dataframe\">\n",
              "  <thead>\n",
              "    <tr style=\"text-align: right;\">\n",
              "      <th></th>\n",
              "      <th>patient</th>\n",
              "      <th>phylum</th>\n",
              "      <th>value</th>\n",
              "      <th>year</th>\n",
              "      <th>treatment</th>\n",
              "    </tr>\n",
              "  </thead>\n",
              "  <tbody>\n",
              "    <tr>\n",
              "      <th>0</th>\n",
              "      <td>1</td>\n",
              "      <td>Firmicutes</td>\n",
              "      <td>632</td>\n",
              "      <td>2013</td>\n",
              "      <td>0.0</td>\n",
              "    </tr>\n",
              "    <tr>\n",
              "      <th>1</th>\n",
              "      <td>1</td>\n",
              "      <td>Proteobacteria</td>\n",
              "      <td>1638</td>\n",
              "      <td>2013</td>\n",
              "      <td>0.0</td>\n",
              "    </tr>\n",
              "    <tr>\n",
              "      <th>2</th>\n",
              "      <td>1</td>\n",
              "      <td>Actinobacteria</td>\n",
              "      <td>569</td>\n",
              "      <td>2013</td>\n",
              "      <td>0.0</td>\n",
              "    </tr>\n",
              "    <tr>\n",
              "      <th>3</th>\n",
              "      <td>1</td>\n",
              "      <td>Bacteroidetes</td>\n",
              "      <td>14</td>\n",
              "      <td>2013</td>\n",
              "      <td>0.0</td>\n",
              "    </tr>\n",
              "    <tr>\n",
              "      <th>4</th>\n",
              "      <td>2</td>\n",
              "      <td>Firmicutes</td>\n",
              "      <td>433</td>\n",
              "      <td>2013</td>\n",
              "      <td>1.0</td>\n",
              "    </tr>\n",
              "    <tr>\n",
              "      <th>5</th>\n",
              "      <td>2</td>\n",
              "      <td>Proteobacteria</td>\n",
              "      <td>0</td>\n",
              "      <td>2013</td>\n",
              "      <td>1.0</td>\n",
              "    </tr>\n",
              "    <tr>\n",
              "      <th>6</th>\n",
              "      <td>2</td>\n",
              "      <td>Actinobacteria</td>\n",
              "      <td>754</td>\n",
              "      <td>2013</td>\n",
              "      <td>2.0</td>\n",
              "    </tr>\n",
              "    <tr>\n",
              "      <th>7</th>\n",
              "      <td>2</td>\n",
              "      <td>Bacteroidetes</td>\n",
              "      <td>555</td>\n",
              "      <td>NaN</td>\n",
              "      <td>2.0</td>\n",
              "    </tr>\n",
              "  </tbody>\n",
              "</table>\n",
              "</div>"
            ],
            "text/plain": [
              "  patient          phylum value  year  treatment\n",
              "0       1      Firmicutes   632  2013        0.0\n",
              "1       1  Proteobacteria  1638  2013        0.0\n",
              "2       1  Actinobacteria   569  2013        0.0\n",
              "3       1   Bacteroidetes    14  2013        0.0\n",
              "4       2      Firmicutes   433  2013        1.0\n",
              "5       2  Proteobacteria     0  2013        1.0\n",
              "6       2  Actinobacteria   754  2013        2.0\n",
              "7       2   Bacteroidetes   555   NaN        2.0"
            ]
          },
          "metadata": {
            "tags": []
          },
          "execution_count": 141
        }
      ]
    },
    {
      "cell_type": "markdown",
      "metadata": {
        "id": "SrzrN2Q16rM5"
      },
      "source": [
        "Notice that `fillna` by default returns a new object with the desired filling behavior, rather than changing the __Series__ or  __DataFrame__ in place (__in general, we like to do this, by the way!__)."
      ]
    },
    {
      "cell_type": "code",
      "metadata": {
        "colab": {
          "base_uri": "https://localhost:8080/",
          "height": 294
        },
        "id": "7bs2y5H966pJ",
        "outputId": "5e02d8b6-910f-4d97-ac7a-7ce348053977"
      },
      "source": [
        "data"
      ],
      "execution_count": null,
      "outputs": [
        {
          "output_type": "execute_result",
          "data": {
            "text/html": [
              "<div>\n",
              "<style scoped>\n",
              "    .dataframe tbody tr th:only-of-type {\n",
              "        vertical-align: middle;\n",
              "    }\n",
              "\n",
              "    .dataframe tbody tr th {\n",
              "        vertical-align: top;\n",
              "    }\n",
              "\n",
              "    .dataframe thead th {\n",
              "        text-align: right;\n",
              "    }\n",
              "</style>\n",
              "<table border=\"1\" class=\"dataframe\">\n",
              "  <thead>\n",
              "    <tr style=\"text-align: right;\">\n",
              "      <th></th>\n",
              "      <th>patient</th>\n",
              "      <th>phylum</th>\n",
              "      <th>value</th>\n",
              "      <th>year</th>\n",
              "      <th>treatment</th>\n",
              "    </tr>\n",
              "  </thead>\n",
              "  <tbody>\n",
              "    <tr>\n",
              "      <th>0</th>\n",
              "      <td>1</td>\n",
              "      <td>Firmicutes</td>\n",
              "      <td>632</td>\n",
              "      <td>2013</td>\n",
              "      <td>0.0</td>\n",
              "    </tr>\n",
              "    <tr>\n",
              "      <th>1</th>\n",
              "      <td>1</td>\n",
              "      <td>Proteobacteria</td>\n",
              "      <td>1638</td>\n",
              "      <td>2013</td>\n",
              "      <td>0.0</td>\n",
              "    </tr>\n",
              "    <tr>\n",
              "      <th>2</th>\n",
              "      <td>1</td>\n",
              "      <td>Actinobacteria</td>\n",
              "      <td>569</td>\n",
              "      <td>2013</td>\n",
              "      <td>0.0</td>\n",
              "    </tr>\n",
              "    <tr>\n",
              "      <th>3</th>\n",
              "      <td>1</td>\n",
              "      <td>Bacteroidetes</td>\n",
              "      <td>14</td>\n",
              "      <td>2013</td>\n",
              "      <td>0.0</td>\n",
              "    </tr>\n",
              "    <tr>\n",
              "      <th>4</th>\n",
              "      <td>2</td>\n",
              "      <td>Firmicutes</td>\n",
              "      <td>433</td>\n",
              "      <td>2013</td>\n",
              "      <td>1.0</td>\n",
              "    </tr>\n",
              "    <tr>\n",
              "      <th>5</th>\n",
              "      <td>2</td>\n",
              "      <td>Proteobacteria</td>\n",
              "      <td>0</td>\n",
              "      <td>2013</td>\n",
              "      <td>1.0</td>\n",
              "    </tr>\n",
              "    <tr>\n",
              "      <th>6</th>\n",
              "      <td>2</td>\n",
              "      <td>Actinobacteria</td>\n",
              "      <td>754</td>\n",
              "      <td>2013</td>\n",
              "      <td>NaN</td>\n",
              "    </tr>\n",
              "    <tr>\n",
              "      <th>7</th>\n",
              "      <td>2</td>\n",
              "      <td>Bacteroidetes</td>\n",
              "      <td>555</td>\n",
              "      <td>NaN</td>\n",
              "      <td>NaN</td>\n",
              "    </tr>\n",
              "  </tbody>\n",
              "</table>\n",
              "</div>"
            ],
            "text/plain": [
              "  patient          phylum value  year  treatment\n",
              "0       1      Firmicutes   632  2013        0.0\n",
              "1       1  Proteobacteria  1638  2013        0.0\n",
              "2       1  Actinobacteria   569  2013        0.0\n",
              "3       1   Bacteroidetes    14  2013        0.0\n",
              "4       2      Firmicutes   433  2013        1.0\n",
              "5       2  Proteobacteria     0  2013        1.0\n",
              "6       2  Actinobacteria   754  2013        NaN\n",
              "7       2   Bacteroidetes   555   NaN        NaN"
            ]
          },
          "metadata": {
            "tags": []
          },
          "execution_count": 142
        }
      ]
    },
    {
      "cell_type": "markdown",
      "metadata": {
        "id": "S3JoAzvd633u"
      },
      "source": [
        "We can alter values in-place using `inplace=True`."
      ]
    },
    {
      "cell_type": "code",
      "metadata": {
        "colab": {
          "base_uri": "https://localhost:8080/",
          "height": 294
        },
        "id": "FdVxsDmE6gWm",
        "outputId": "1d6e2a1e-6fc1-494c-d973-7fe1fee8f9af"
      },
      "source": [
        "_ = data.year.fillna(2013, inplace=True)\r\n",
        "data"
      ],
      "execution_count": null,
      "outputs": [
        {
          "output_type": "execute_result",
          "data": {
            "text/html": [
              "<div>\n",
              "<style scoped>\n",
              "    .dataframe tbody tr th:only-of-type {\n",
              "        vertical-align: middle;\n",
              "    }\n",
              "\n",
              "    .dataframe tbody tr th {\n",
              "        vertical-align: top;\n",
              "    }\n",
              "\n",
              "    .dataframe thead th {\n",
              "        text-align: right;\n",
              "    }\n",
              "</style>\n",
              "<table border=\"1\" class=\"dataframe\">\n",
              "  <thead>\n",
              "    <tr style=\"text-align: right;\">\n",
              "      <th></th>\n",
              "      <th>patient</th>\n",
              "      <th>phylum</th>\n",
              "      <th>value</th>\n",
              "      <th>year</th>\n",
              "      <th>treatment</th>\n",
              "    </tr>\n",
              "  </thead>\n",
              "  <tbody>\n",
              "    <tr>\n",
              "      <th>0</th>\n",
              "      <td>1</td>\n",
              "      <td>Firmicutes</td>\n",
              "      <td>632</td>\n",
              "      <td>2013</td>\n",
              "      <td>0.0</td>\n",
              "    </tr>\n",
              "    <tr>\n",
              "      <th>1</th>\n",
              "      <td>1</td>\n",
              "      <td>Proteobacteria</td>\n",
              "      <td>1638</td>\n",
              "      <td>2013</td>\n",
              "      <td>0.0</td>\n",
              "    </tr>\n",
              "    <tr>\n",
              "      <th>2</th>\n",
              "      <td>1</td>\n",
              "      <td>Actinobacteria</td>\n",
              "      <td>569</td>\n",
              "      <td>2013</td>\n",
              "      <td>0.0</td>\n",
              "    </tr>\n",
              "    <tr>\n",
              "      <th>3</th>\n",
              "      <td>1</td>\n",
              "      <td>Bacteroidetes</td>\n",
              "      <td>14</td>\n",
              "      <td>2013</td>\n",
              "      <td>0.0</td>\n",
              "    </tr>\n",
              "    <tr>\n",
              "      <th>4</th>\n",
              "      <td>2</td>\n",
              "      <td>Firmicutes</td>\n",
              "      <td>433</td>\n",
              "      <td>2013</td>\n",
              "      <td>1.0</td>\n",
              "    </tr>\n",
              "    <tr>\n",
              "      <th>5</th>\n",
              "      <td>2</td>\n",
              "      <td>Proteobacteria</td>\n",
              "      <td>0</td>\n",
              "      <td>2013</td>\n",
              "      <td>1.0</td>\n",
              "    </tr>\n",
              "    <tr>\n",
              "      <th>6</th>\n",
              "      <td>2</td>\n",
              "      <td>Actinobacteria</td>\n",
              "      <td>754</td>\n",
              "      <td>2013</td>\n",
              "      <td>NaN</td>\n",
              "    </tr>\n",
              "    <tr>\n",
              "      <th>7</th>\n",
              "      <td>2</td>\n",
              "      <td>Bacteroidetes</td>\n",
              "      <td>555</td>\n",
              "      <td>NaN</td>\n",
              "      <td>NaN</td>\n",
              "    </tr>\n",
              "  </tbody>\n",
              "</table>\n",
              "</div>"
            ],
            "text/plain": [
              "  patient          phylum value  year  treatment\n",
              "0       1      Firmicutes   632  2013        0.0\n",
              "1       1  Proteobacteria  1638  2013        0.0\n",
              "2       1  Actinobacteria   569  2013        0.0\n",
              "3       1   Bacteroidetes    14  2013        0.0\n",
              "4       2      Firmicutes   433  2013        1.0\n",
              "5       2  Proteobacteria     0  2013        1.0\n",
              "6       2  Actinobacteria   754  2013        NaN\n",
              "7       2   Bacteroidetes   555   NaN        NaN"
            ]
          },
          "metadata": {
            "tags": []
          },
          "execution_count": 143
        }
      ]
    },
    {
      "cell_type": "markdown",
      "metadata": {
        "id": "8ZX0IVcJ7AoO"
      },
      "source": [
        "Missing values can also be interpolated, using any one of a variety of methods"
      ]
    },
    {
      "cell_type": "code",
      "metadata": {
        "colab": {
          "base_uri": "https://localhost:8080/"
        },
        "id": "x6cIT2dY69eI",
        "outputId": "8781bccd-e362-4add-a49d-417ae1c3e913"
      },
      "source": [
        "bacteria2.fillna(method='bfill')"
      ],
      "execution_count": null,
      "outputs": [
        {
          "output_type": "execute_result",
          "data": {
            "text/plain": [
              "phylum\n",
              "Firmicutes         632.0\n",
              "Proteobacteria     632.0\n",
              "Actinobacteria    1638.0\n",
              "Bacteroidetes      569.0\n",
              "dtype: float64"
            ]
          },
          "metadata": {
            "tags": []
          },
          "execution_count": 144
        }
      ]
    },
    {
      "cell_type": "code",
      "metadata": {
        "colab": {
          "base_uri": "https://localhost:8080/"
        },
        "id": "b1wUjsao7GAC",
        "outputId": "20e8bf5e-ec22-4531-a43e-458d755a0b6a"
      },
      "source": [
        "bacteria2.fillna(bacteria2.mean())"
      ],
      "execution_count": null,
      "outputs": [
        {
          "output_type": "execute_result",
          "data": {
            "text/plain": [
              "phylum\n",
              "Firmicutes         946.333333\n",
              "Proteobacteria     632.000000\n",
              "Actinobacteria    1638.000000\n",
              "Bacteroidetes      569.000000\n",
              "dtype: float64"
            ]
          },
          "metadata": {
            "tags": []
          },
          "execution_count": 145
        }
      ]
    },
    {
      "cell_type": "markdown",
      "metadata": {
        "id": "iOChNyUL7STh"
      },
      "source": [
        "## Data summarization\r\n",
        "\r\n",
        "If we want to view the data without going into the details and easily compare it to another data set, we want summary. To summarize data in `Series` or `DataFrame` objects.\r\n",
        "\r\n",
        "The NumPy package contains several functions that are useful here, but several summarization or reduction methods are built into Pandas data structures."
      ]
    },
    {
      "cell_type": "code",
      "metadata": {
        "colab": {
          "base_uri": "https://localhost:8080/"
        },
        "id": "gsAsFeL97H5X",
        "outputId": "9aa14cf3-daa3-4cb0-e1e5-35dc0dbc9cd8"
      },
      "source": [
        "baseball.sum()"
      ],
      "execution_count": null,
      "outputs": [
        {
          "output_type": "execute_result",
          "data": {
            "text/plain": [
              "player    womacto01schilcu01myersmi01helliri01johnsra05f...\n",
              "year                                                 200692\n",
              "stint                                                   113\n",
              "team      CHNBOSNYAMILNYASFNARILANATLNYNTORTBAHOUARIATLM...\n",
              "lg        NLALALNLALNLNLNLNLNLALALNLNLNLALNLNLNLNLALALNL...\n",
              "                                ...                        \n",
              "ibb                                                     177\n",
              "hbp                                                     112\n",
              "sh                                                      138\n",
              "sf                                                      120\n",
              "gidp                                                    354\n",
              "Length: 22, dtype: object"
            ]
          },
          "metadata": {
            "tags": []
          },
          "execution_count": 146
        }
      ]
    },
    {
      "cell_type": "markdown",
      "metadata": {
        "id": "dcsx3xar7_DW"
      },
      "source": [
        "Clearly, `sum` is more meaningful for some columns than others. For methods like `mean` for which application to string variables is not just meaningless, but impossible, these columns are automatically excluded."
      ]
    },
    {
      "cell_type": "code",
      "metadata": {
        "colab": {
          "base_uri": "https://localhost:8080/"
        },
        "id": "F0GR9zpL71Qi",
        "outputId": "8314ccd7-b63d-4de2-f355-093286d74914"
      },
      "source": [
        "baseball.mean()"
      ],
      "execution_count": null,
      "outputs": [
        {
          "output_type": "execute_result",
          "data": {
            "text/plain": [
              "year     2006.92\n",
              "stint       1.13\n",
              "g          52.38\n",
              "ab        136.54\n",
              "r          18.69\n",
              "h          35.82\n",
              "X2b         7.39\n",
              "X3b         0.55\n",
              "hr          4.37\n",
              "rbi        18.47\n",
              "sb          1.38\n",
              "cs          0.46\n",
              "bb         15.49\n",
              "so         24.08\n",
              "ibb         1.77\n",
              "hbp         1.12\n",
              "sh          1.38\n",
              "sf          1.20\n",
              "gidp        3.54\n",
              "dtype: float64"
            ]
          },
          "metadata": {
            "tags": []
          },
          "execution_count": 147
        }
      ]
    },
    {
      "cell_type": "markdown",
      "metadata": {
        "id": "ewfqkeyT8JY-"
      },
      "source": [
        "The important difference between NumPy's functions and Pandas' methods is that the latter have built-in support for handling missing data"
      ]
    },
    {
      "cell_type": "code",
      "metadata": {
        "colab": {
          "base_uri": "https://localhost:8080/"
        },
        "id": "RSqQg1_r8GdN",
        "outputId": "db260800-d26a-4f3e-b5d3-1748c2aba318"
      },
      "source": [
        "bacteria2"
      ],
      "execution_count": null,
      "outputs": [
        {
          "output_type": "execute_result",
          "data": {
            "text/plain": [
              "phylum\n",
              "Firmicutes           NaN\n",
              "Proteobacteria     632.0\n",
              "Actinobacteria    1638.0\n",
              "Bacteroidetes      569.0\n",
              "dtype: float64"
            ]
          },
          "metadata": {
            "tags": []
          },
          "execution_count": 148
        }
      ]
    },
    {
      "cell_type": "code",
      "metadata": {
        "colab": {
          "base_uri": "https://localhost:8080/"
        },
        "id": "hLTqjnml8Maf",
        "outputId": "052a4a2d-fcfa-4fb7-a278-eff258028221"
      },
      "source": [
        "bacteria2.mean()"
      ],
      "execution_count": null,
      "outputs": [
        {
          "output_type": "execute_result",
          "data": {
            "text/plain": [
              "946.3333333333334"
            ]
          },
          "metadata": {
            "tags": []
          },
          "execution_count": 149
        }
      ]
    },
    {
      "cell_type": "markdown",
      "metadata": {
        "id": "KQI4DrqI8R8I"
      },
      "source": [
        "Sometimes we may not want to ignore missing values, and allow the `NaN` to propagate."
      ]
    },
    {
      "cell_type": "code",
      "metadata": {
        "colab": {
          "base_uri": "https://localhost:8080/"
        },
        "id": "ntYRwvsq8OI_",
        "outputId": "f39ccc7a-f922-4b50-d07a-ce0f5a262430"
      },
      "source": [
        "bacteria2.mean(skipna=False)"
      ],
      "execution_count": null,
      "outputs": [
        {
          "output_type": "execute_result",
          "data": {
            "text/plain": [
              "nan"
            ]
          },
          "metadata": {
            "tags": []
          },
          "execution_count": 150
        }
      ]
    },
    {
      "cell_type": "markdown",
      "metadata": {
        "id": "ZMSxnHdM8b28"
      },
      "source": [
        "Passing `axis=1` will summarize over rows instead of columns, which only makes sense in certain situations."
      ]
    },
    {
      "cell_type": "code",
      "metadata": {
        "colab": {
          "base_uri": "https://localhost:8080/"
        },
        "id": "71VjmAg48W5y",
        "outputId": "b49ba094-e036-4036-fcac-82318f07b37a"
      },
      "source": [
        "extra_bases = baseball[['X2b','X3b','hr']].sum(axis=1)\r\n",
        "extra_bases.sort_values(ascending=False)"
      ],
      "execution_count": null,
      "outputs": [
        {
          "output_type": "execute_result",
          "data": {
            "text/plain": [
              "id\n",
              "88653    69\n",
              "89439    57\n",
              "89361    56\n",
              "89462    55\n",
              "89396    54\n",
              "         ..\n",
              "89355     0\n",
              "89354     0\n",
              "89480     0\n",
              "89348     0\n",
              "89420     0\n",
              "Length: 100, dtype: int64"
            ]
          },
          "metadata": {
            "tags": []
          },
          "execution_count": 151
        }
      ]
    },
    {
      "cell_type": "markdown",
      "metadata": {
        "id": "XL6ya23D8mwL"
      },
      "source": [
        "A useful summarization that gives a quick snapshot of multiple statistics for a `Series` or `DataFrame` is `describe`"
      ]
    },
    {
      "cell_type": "code",
      "metadata": {
        "colab": {
          "base_uri": "https://localhost:8080/",
          "height": 314
        },
        "id": "fZu-ZoeP8e-y",
        "outputId": "7be4798f-60d1-4789-b96d-ef6183e1baba"
      },
      "source": [
        "baseball.describe()"
      ],
      "execution_count": null,
      "outputs": [
        {
          "output_type": "execute_result",
          "data": {
            "text/html": [
              "<div>\n",
              "<style scoped>\n",
              "    .dataframe tbody tr th:only-of-type {\n",
              "        vertical-align: middle;\n",
              "    }\n",
              "\n",
              "    .dataframe tbody tr th {\n",
              "        vertical-align: top;\n",
              "    }\n",
              "\n",
              "    .dataframe thead th {\n",
              "        text-align: right;\n",
              "    }\n",
              "</style>\n",
              "<table border=\"1\" class=\"dataframe\">\n",
              "  <thead>\n",
              "    <tr style=\"text-align: right;\">\n",
              "      <th></th>\n",
              "      <th>year</th>\n",
              "      <th>stint</th>\n",
              "      <th>g</th>\n",
              "      <th>ab</th>\n",
              "      <th>r</th>\n",
              "      <th>h</th>\n",
              "      <th>X2b</th>\n",
              "      <th>X3b</th>\n",
              "      <th>hr</th>\n",
              "      <th>rbi</th>\n",
              "      <th>sb</th>\n",
              "      <th>cs</th>\n",
              "      <th>bb</th>\n",
              "      <th>so</th>\n",
              "      <th>ibb</th>\n",
              "      <th>hbp</th>\n",
              "      <th>sh</th>\n",
              "      <th>sf</th>\n",
              "      <th>gidp</th>\n",
              "    </tr>\n",
              "  </thead>\n",
              "  <tbody>\n",
              "    <tr>\n",
              "      <th>count</th>\n",
              "      <td>100.00000</td>\n",
              "      <td>100.000000</td>\n",
              "      <td>100.000000</td>\n",
              "      <td>100.000000</td>\n",
              "      <td>100.00000</td>\n",
              "      <td>100.000000</td>\n",
              "      <td>100.000000</td>\n",
              "      <td>100.000000</td>\n",
              "      <td>100.000000</td>\n",
              "      <td>100.00000</td>\n",
              "      <td>100.000000</td>\n",
              "      <td>100.000000</td>\n",
              "      <td>100.000000</td>\n",
              "      <td>100.000000</td>\n",
              "      <td>100.000000</td>\n",
              "      <td>100.00000</td>\n",
              "      <td>100.000000</td>\n",
              "      <td>100.000000</td>\n",
              "      <td>100.000000</td>\n",
              "    </tr>\n",
              "    <tr>\n",
              "      <th>mean</th>\n",
              "      <td>2006.92000</td>\n",
              "      <td>1.130000</td>\n",
              "      <td>52.380000</td>\n",
              "      <td>136.540000</td>\n",
              "      <td>18.69000</td>\n",
              "      <td>35.820000</td>\n",
              "      <td>7.390000</td>\n",
              "      <td>0.550000</td>\n",
              "      <td>4.370000</td>\n",
              "      <td>18.47000</td>\n",
              "      <td>1.380000</td>\n",
              "      <td>0.460000</td>\n",
              "      <td>15.490000</td>\n",
              "      <td>24.080000</td>\n",
              "      <td>1.770000</td>\n",
              "      <td>1.12000</td>\n",
              "      <td>1.380000</td>\n",
              "      <td>1.200000</td>\n",
              "      <td>3.540000</td>\n",
              "    </tr>\n",
              "    <tr>\n",
              "      <th>std</th>\n",
              "      <td>0.27266</td>\n",
              "      <td>0.337998</td>\n",
              "      <td>48.031299</td>\n",
              "      <td>181.936853</td>\n",
              "      <td>27.77496</td>\n",
              "      <td>50.221807</td>\n",
              "      <td>11.117277</td>\n",
              "      <td>1.445124</td>\n",
              "      <td>7.975537</td>\n",
              "      <td>28.34793</td>\n",
              "      <td>3.694878</td>\n",
              "      <td>1.067613</td>\n",
              "      <td>25.812649</td>\n",
              "      <td>32.804496</td>\n",
              "      <td>5.042957</td>\n",
              "      <td>2.23055</td>\n",
              "      <td>2.919042</td>\n",
              "      <td>2.035046</td>\n",
              "      <td>5.201826</td>\n",
              "    </tr>\n",
              "    <tr>\n",
              "      <th>min</th>\n",
              "      <td>2006.00000</td>\n",
              "      <td>1.000000</td>\n",
              "      <td>1.000000</td>\n",
              "      <td>0.000000</td>\n",
              "      <td>0.00000</td>\n",
              "      <td>0.000000</td>\n",
              "      <td>0.000000</td>\n",
              "      <td>0.000000</td>\n",
              "      <td>0.000000</td>\n",
              "      <td>0.00000</td>\n",
              "      <td>0.000000</td>\n",
              "      <td>0.000000</td>\n",
              "      <td>0.000000</td>\n",
              "      <td>0.000000</td>\n",
              "      <td>0.000000</td>\n",
              "      <td>0.00000</td>\n",
              "      <td>0.000000</td>\n",
              "      <td>0.000000</td>\n",
              "      <td>0.000000</td>\n",
              "    </tr>\n",
              "    <tr>\n",
              "      <th>25%</th>\n",
              "      <td>2007.00000</td>\n",
              "      <td>1.000000</td>\n",
              "      <td>9.500000</td>\n",
              "      <td>2.000000</td>\n",
              "      <td>0.00000</td>\n",
              "      <td>0.000000</td>\n",
              "      <td>0.000000</td>\n",
              "      <td>0.000000</td>\n",
              "      <td>0.000000</td>\n",
              "      <td>0.00000</td>\n",
              "      <td>0.000000</td>\n",
              "      <td>0.000000</td>\n",
              "      <td>0.000000</td>\n",
              "      <td>1.000000</td>\n",
              "      <td>0.000000</td>\n",
              "      <td>0.00000</td>\n",
              "      <td>0.000000</td>\n",
              "      <td>0.000000</td>\n",
              "      <td>0.000000</td>\n",
              "    </tr>\n",
              "    <tr>\n",
              "      <th>50%</th>\n",
              "      <td>2007.00000</td>\n",
              "      <td>1.000000</td>\n",
              "      <td>33.000000</td>\n",
              "      <td>40.500000</td>\n",
              "      <td>2.00000</td>\n",
              "      <td>8.000000</td>\n",
              "      <td>1.000000</td>\n",
              "      <td>0.000000</td>\n",
              "      <td>0.000000</td>\n",
              "      <td>2.00000</td>\n",
              "      <td>0.000000</td>\n",
              "      <td>0.000000</td>\n",
              "      <td>1.000000</td>\n",
              "      <td>7.000000</td>\n",
              "      <td>0.000000</td>\n",
              "      <td>0.00000</td>\n",
              "      <td>0.000000</td>\n",
              "      <td>0.000000</td>\n",
              "      <td>1.000000</td>\n",
              "    </tr>\n",
              "    <tr>\n",
              "      <th>75%</th>\n",
              "      <td>2007.00000</td>\n",
              "      <td>1.000000</td>\n",
              "      <td>83.250000</td>\n",
              "      <td>243.750000</td>\n",
              "      <td>33.25000</td>\n",
              "      <td>62.750000</td>\n",
              "      <td>11.750000</td>\n",
              "      <td>1.000000</td>\n",
              "      <td>6.000000</td>\n",
              "      <td>27.00000</td>\n",
              "      <td>1.000000</td>\n",
              "      <td>0.000000</td>\n",
              "      <td>19.250000</td>\n",
              "      <td>37.250000</td>\n",
              "      <td>1.250000</td>\n",
              "      <td>1.00000</td>\n",
              "      <td>1.000000</td>\n",
              "      <td>2.000000</td>\n",
              "      <td>6.000000</td>\n",
              "    </tr>\n",
              "    <tr>\n",
              "      <th>max</th>\n",
              "      <td>2007.00000</td>\n",
              "      <td>2.000000</td>\n",
              "      <td>155.000000</td>\n",
              "      <td>586.000000</td>\n",
              "      <td>107.00000</td>\n",
              "      <td>159.000000</td>\n",
              "      <td>52.000000</td>\n",
              "      <td>12.000000</td>\n",
              "      <td>35.000000</td>\n",
              "      <td>96.00000</td>\n",
              "      <td>22.000000</td>\n",
              "      <td>6.000000</td>\n",
              "      <td>132.000000</td>\n",
              "      <td>134.000000</td>\n",
              "      <td>43.000000</td>\n",
              "      <td>11.00000</td>\n",
              "      <td>14.000000</td>\n",
              "      <td>9.000000</td>\n",
              "      <td>21.000000</td>\n",
              "    </tr>\n",
              "  </tbody>\n",
              "</table>\n",
              "</div>"
            ],
            "text/plain": [
              "             year       stint           g          ab          r           h  \\\n",
              "count   100.00000  100.000000  100.000000  100.000000  100.00000  100.000000   \n",
              "mean   2006.92000    1.130000   52.380000  136.540000   18.69000   35.820000   \n",
              "std       0.27266    0.337998   48.031299  181.936853   27.77496   50.221807   \n",
              "min    2006.00000    1.000000    1.000000    0.000000    0.00000    0.000000   \n",
              "25%    2007.00000    1.000000    9.500000    2.000000    0.00000    0.000000   \n",
              "50%    2007.00000    1.000000   33.000000   40.500000    2.00000    8.000000   \n",
              "75%    2007.00000    1.000000   83.250000  243.750000   33.25000   62.750000   \n",
              "max    2007.00000    2.000000  155.000000  586.000000  107.00000  159.000000   \n",
              "\n",
              "              X2b         X3b          hr        rbi          sb          cs  \\\n",
              "count  100.000000  100.000000  100.000000  100.00000  100.000000  100.000000   \n",
              "mean     7.390000    0.550000    4.370000   18.47000    1.380000    0.460000   \n",
              "std     11.117277    1.445124    7.975537   28.34793    3.694878    1.067613   \n",
              "min      0.000000    0.000000    0.000000    0.00000    0.000000    0.000000   \n",
              "25%      0.000000    0.000000    0.000000    0.00000    0.000000    0.000000   \n",
              "50%      1.000000    0.000000    0.000000    2.00000    0.000000    0.000000   \n",
              "75%     11.750000    1.000000    6.000000   27.00000    1.000000    0.000000   \n",
              "max     52.000000   12.000000   35.000000   96.00000   22.000000    6.000000   \n",
              "\n",
              "               bb          so         ibb        hbp          sh          sf  \\\n",
              "count  100.000000  100.000000  100.000000  100.00000  100.000000  100.000000   \n",
              "mean    15.490000   24.080000    1.770000    1.12000    1.380000    1.200000   \n",
              "std     25.812649   32.804496    5.042957    2.23055    2.919042    2.035046   \n",
              "min      0.000000    0.000000    0.000000    0.00000    0.000000    0.000000   \n",
              "25%      0.000000    1.000000    0.000000    0.00000    0.000000    0.000000   \n",
              "50%      1.000000    7.000000    0.000000    0.00000    0.000000    0.000000   \n",
              "75%     19.250000   37.250000    1.250000    1.00000    1.000000    2.000000   \n",
              "max    132.000000  134.000000   43.000000   11.00000   14.000000    9.000000   \n",
              "\n",
              "             gidp  \n",
              "count  100.000000  \n",
              "mean     3.540000  \n",
              "std      5.201826  \n",
              "min      0.000000  \n",
              "25%      0.000000  \n",
              "50%      1.000000  \n",
              "75%      6.000000  \n",
              "max     21.000000  "
            ]
          },
          "metadata": {
            "tags": []
          },
          "execution_count": 152
        }
      ]
    },
    {
      "cell_type": "markdown",
      "metadata": {
        "id": "tLlVrJsi8wvF"
      },
      "source": [
        "__Note:__ As we can see that `describe` returns count, mean, std, min, 25%, 50%, 75 % and max of the data whoch is similar to the performance of R"
      ]
    },
    {
      "cell_type": "markdown",
      "metadata": {
        "id": "88M0YuT08vwq"
      },
      "source": [
        "`describe` can detect non-numeric data and sometimes yield useful information about it."
      ]
    },
    {
      "cell_type": "code",
      "metadata": {
        "colab": {
          "base_uri": "https://localhost:8080/"
        },
        "id": "OONruiYX8sPI",
        "outputId": "96681d59-4cdd-425e-999f-9ef88c0e83fb"
      },
      "source": [
        "baseball.player.describe()"
      ],
      "execution_count": null,
      "outputs": [
        {
          "output_type": "execute_result",
          "data": {
            "text/plain": [
              "count           100\n",
              "unique           82\n",
              "top       trachst01\n",
              "freq              2\n",
              "Name: player, dtype: object"
            ]
          },
          "metadata": {
            "tags": []
          },
          "execution_count": 153
        }
      ]
    },
    {
      "cell_type": "markdown",
      "metadata": {
        "id": "0myH48hQ9N5C"
      },
      "source": [
        "We can also calculate summary statistics *across* multiple columns, for example, correlation and covariance.\r\n",
        "\r\n",
        "$$cov(x,y) = \\sum_i (x_i - \\bar{x})(y_i - \\bar{y})$$\r\n",
        "where $x_i$ is real value and $\\bar{x}$ is expected value simillarly with $y$."
      ]
    },
    {
      "cell_type": "code",
      "metadata": {
        "colab": {
          "base_uri": "https://localhost:8080/"
        },
        "id": "EwSHailU9JnB",
        "outputId": "350a2342-7efc-4b04-a6cc-b82b1ef8b150"
      },
      "source": [
        "baseball.hr.cov(baseball.X2b)"
      ],
      "execution_count": null,
      "outputs": [
        {
          "output_type": "execute_result",
          "data": {
            "text/plain": [
              "69.07646464646454"
            ]
          },
          "metadata": {
            "tags": []
          },
          "execution_count": 154
        }
      ]
    },
    {
      "cell_type": "markdown",
      "metadata": {
        "id": "rtytYadk9TdJ"
      },
      "source": [
        "$$corr(x,y) = \\frac{cov(x,y)}{(n-1)s_x s_y} = \\frac{\\sum_i (x_i - \\bar{x})(y_i - \\bar{y})}{\\sqrt{\\sum_i (x_i - \\bar{x})^2 \\sum_i (y_i - \\bar{y})^2}}$$\r\n",
        "\r\n",
        "where  $n$ is number of predictors or number of observations."
      ]
    },
    {
      "cell_type": "code",
      "metadata": {
        "colab": {
          "base_uri": "https://localhost:8080/"
        },
        "id": "-VO9e6Ve9SUY",
        "outputId": "341d1123-e01a-4854-dd42-b37eb14e0684"
      },
      "source": [
        "baseball.hr.corr(baseball.X2b)"
      ],
      "execution_count": null,
      "outputs": [
        {
          "output_type": "execute_result",
          "data": {
            "text/plain": [
              "0.7790615182539742"
            ]
          },
          "metadata": {
            "tags": []
          },
          "execution_count": 155
        }
      ]
    },
    {
      "cell_type": "code",
      "metadata": {
        "colab": {
          "base_uri": "https://localhost:8080/"
        },
        "id": "VH7jANtn9Z9D",
        "outputId": "c212cba0-a3de-4dcb-f5a9-55447c46fca5"
      },
      "source": [
        "baseball.ab.corr(baseball.h)"
      ],
      "execution_count": null,
      "outputs": [
        {
          "output_type": "execute_result",
          "data": {
            "text/plain": [
              "0.9942174036272377"
            ]
          },
          "metadata": {
            "tags": []
          },
          "execution_count": 156
        }
      ]
    },
    {
      "cell_type": "code",
      "metadata": {
        "colab": {
          "base_uri": "https://localhost:8080/",
          "height": 651
        },
        "id": "8te91BwI9cCR",
        "outputId": "5a685acf-0059-4e49-8e7d-2b4bd084abfc"
      },
      "source": [
        "baseball.corr()"
      ],
      "execution_count": null,
      "outputs": [
        {
          "output_type": "execute_result",
          "data": {
            "text/html": [
              "<div>\n",
              "<style scoped>\n",
              "    .dataframe tbody tr th:only-of-type {\n",
              "        vertical-align: middle;\n",
              "    }\n",
              "\n",
              "    .dataframe tbody tr th {\n",
              "        vertical-align: top;\n",
              "    }\n",
              "\n",
              "    .dataframe thead th {\n",
              "        text-align: right;\n",
              "    }\n",
              "</style>\n",
              "<table border=\"1\" class=\"dataframe\">\n",
              "  <thead>\n",
              "    <tr style=\"text-align: right;\">\n",
              "      <th></th>\n",
              "      <th>year</th>\n",
              "      <th>stint</th>\n",
              "      <th>g</th>\n",
              "      <th>ab</th>\n",
              "      <th>r</th>\n",
              "      <th>h</th>\n",
              "      <th>X2b</th>\n",
              "      <th>X3b</th>\n",
              "      <th>hr</th>\n",
              "      <th>rbi</th>\n",
              "      <th>sb</th>\n",
              "      <th>cs</th>\n",
              "      <th>bb</th>\n",
              "      <th>so</th>\n",
              "      <th>ibb</th>\n",
              "      <th>hbp</th>\n",
              "      <th>sh</th>\n",
              "      <th>sf</th>\n",
              "      <th>gidp</th>\n",
              "    </tr>\n",
              "  </thead>\n",
              "  <tbody>\n",
              "    <tr>\n",
              "      <th>year</th>\n",
              "      <td>1.000000</td>\n",
              "      <td>0.004384</td>\n",
              "      <td>-0.050874</td>\n",
              "      <td>-0.001360</td>\n",
              "      <td>-0.023315</td>\n",
              "      <td>0.001151</td>\n",
              "      <td>-0.052917</td>\n",
              "      <td>-0.246099</td>\n",
              "      <td>0.060199</td>\n",
              "      <td>0.042812</td>\n",
              "      <td>0.030480</td>\n",
              "      <td>0.058296</td>\n",
              "      <td>0.005626</td>\n",
              "      <td>0.069610</td>\n",
              "      <td>0.015868</td>\n",
              "      <td>-0.000664</td>\n",
              "      <td>-0.012184</td>\n",
              "      <td>-0.007282</td>\n",
              "      <td>0.052131</td>\n",
              "    </tr>\n",
              "    <tr>\n",
              "      <th>stint</th>\n",
              "      <td>0.004384</td>\n",
              "      <td>1.000000</td>\n",
              "      <td>-0.257552</td>\n",
              "      <td>-0.216333</td>\n",
              "      <td>-0.209781</td>\n",
              "      <td>-0.206878</td>\n",
              "      <td>-0.196423</td>\n",
              "      <td>-0.085821</td>\n",
              "      <td>-0.209124</td>\n",
              "      <td>-0.205688</td>\n",
              "      <td>-0.120837</td>\n",
              "      <td>-0.055425</td>\n",
              "      <td>-0.190301</td>\n",
              "      <td>-0.214121</td>\n",
              "      <td>-0.118580</td>\n",
              "      <td>-0.195074</td>\n",
              "      <td>-0.091527</td>\n",
              "      <td>-0.155662</td>\n",
              "      <td>-0.224173</td>\n",
              "    </tr>\n",
              "    <tr>\n",
              "      <th>g</th>\n",
              "      <td>-0.050874</td>\n",
              "      <td>-0.257552</td>\n",
              "      <td>1.000000</td>\n",
              "      <td>0.935910</td>\n",
              "      <td>0.910262</td>\n",
              "      <td>0.929292</td>\n",
              "      <td>0.885847</td>\n",
              "      <td>0.518663</td>\n",
              "      <td>0.802014</td>\n",
              "      <td>0.891563</td>\n",
              "      <td>0.492362</td>\n",
              "      <td>0.520923</td>\n",
              "      <td>0.828572</td>\n",
              "      <td>0.866499</td>\n",
              "      <td>0.514423</td>\n",
              "      <td>0.730161</td>\n",
              "      <td>0.079361</td>\n",
              "      <td>0.767543</td>\n",
              "      <td>0.863041</td>\n",
              "    </tr>\n",
              "    <tr>\n",
              "      <th>ab</th>\n",
              "      <td>-0.001360</td>\n",
              "      <td>-0.216333</td>\n",
              "      <td>0.935910</td>\n",
              "      <td>1.000000</td>\n",
              "      <td>0.965609</td>\n",
              "      <td>0.994217</td>\n",
              "      <td>0.952249</td>\n",
              "      <td>0.535986</td>\n",
              "      <td>0.843308</td>\n",
              "      <td>0.947911</td>\n",
              "      <td>0.533536</td>\n",
              "      <td>0.577192</td>\n",
              "      <td>0.850803</td>\n",
              "      <td>0.923926</td>\n",
              "      <td>0.506398</td>\n",
              "      <td>0.767210</td>\n",
              "      <td>0.094537</td>\n",
              "      <td>0.840361</td>\n",
              "      <td>0.926632</td>\n",
              "    </tr>\n",
              "    <tr>\n",
              "      <th>r</th>\n",
              "      <td>-0.023315</td>\n",
              "      <td>-0.209781</td>\n",
              "      <td>0.910262</td>\n",
              "      <td>0.965609</td>\n",
              "      <td>1.000000</td>\n",
              "      <td>0.970560</td>\n",
              "      <td>0.923508</td>\n",
              "      <td>0.500807</td>\n",
              "      <td>0.890060</td>\n",
              "      <td>0.941483</td>\n",
              "      <td>0.596343</td>\n",
              "      <td>0.576454</td>\n",
              "      <td>0.915010</td>\n",
              "      <td>0.879375</td>\n",
              "      <td>0.588882</td>\n",
              "      <td>0.806523</td>\n",
              "      <td>-0.001273</td>\n",
              "      <td>0.839592</td>\n",
              "      <td>0.894724</td>\n",
              "    </tr>\n",
              "    <tr>\n",
              "      <th>h</th>\n",
              "      <td>0.001151</td>\n",
              "      <td>-0.206878</td>\n",
              "      <td>0.929292</td>\n",
              "      <td>0.994217</td>\n",
              "      <td>0.970560</td>\n",
              "      <td>1.000000</td>\n",
              "      <td>0.957275</td>\n",
              "      <td>0.514245</td>\n",
              "      <td>0.855163</td>\n",
              "      <td>0.952320</td>\n",
              "      <td>0.530018</td>\n",
              "      <td>0.571629</td>\n",
              "      <td>0.853384</td>\n",
              "      <td>0.906966</td>\n",
              "      <td>0.513009</td>\n",
              "      <td>0.767449</td>\n",
              "      <td>0.045533</td>\n",
              "      <td>0.839737</td>\n",
              "      <td>0.935525</td>\n",
              "    </tr>\n",
              "    <tr>\n",
              "      <th>X2b</th>\n",
              "      <td>-0.052917</td>\n",
              "      <td>-0.196423</td>\n",
              "      <td>0.885847</td>\n",
              "      <td>0.952249</td>\n",
              "      <td>0.923508</td>\n",
              "      <td>0.957275</td>\n",
              "      <td>1.000000</td>\n",
              "      <td>0.493267</td>\n",
              "      <td>0.779062</td>\n",
              "      <td>0.901751</td>\n",
              "      <td>0.413655</td>\n",
              "      <td>0.477487</td>\n",
              "      <td>0.780012</td>\n",
              "      <td>0.862149</td>\n",
              "      <td>0.453301</td>\n",
              "      <td>0.738226</td>\n",
              "      <td>0.005659</td>\n",
              "      <td>0.819361</td>\n",
              "      <td>0.906860</td>\n",
              "    </tr>\n",
              "    <tr>\n",
              "      <th>X3b</th>\n",
              "      <td>-0.246099</td>\n",
              "      <td>-0.085821</td>\n",
              "      <td>0.518663</td>\n",
              "      <td>0.535986</td>\n",
              "      <td>0.500807</td>\n",
              "      <td>0.514245</td>\n",
              "      <td>0.493267</td>\n",
              "      <td>1.000000</td>\n",
              "      <td>0.210028</td>\n",
              "      <td>0.369890</td>\n",
              "      <td>0.450421</td>\n",
              "      <td>0.384312</td>\n",
              "      <td>0.350682</td>\n",
              "      <td>0.408800</td>\n",
              "      <td>0.090993</td>\n",
              "      <td>0.217474</td>\n",
              "      <td>0.187012</td>\n",
              "      <td>0.394987</td>\n",
              "      <td>0.411577</td>\n",
              "    </tr>\n",
              "    <tr>\n",
              "      <th>hr</th>\n",
              "      <td>0.060199</td>\n",
              "      <td>-0.209124</td>\n",
              "      <td>0.802014</td>\n",
              "      <td>0.843308</td>\n",
              "      <td>0.890060</td>\n",
              "      <td>0.855163</td>\n",
              "      <td>0.779062</td>\n",
              "      <td>0.210028</td>\n",
              "      <td>1.000000</td>\n",
              "      <td>0.948787</td>\n",
              "      <td>0.364346</td>\n",
              "      <td>0.345187</td>\n",
              "      <td>0.916774</td>\n",
              "      <td>0.865929</td>\n",
              "      <td>0.673691</td>\n",
              "      <td>0.767411</td>\n",
              "      <td>-0.145374</td>\n",
              "      <td>0.782038</td>\n",
              "      <td>0.798350</td>\n",
              "    </tr>\n",
              "    <tr>\n",
              "      <th>rbi</th>\n",
              "      <td>0.042812</td>\n",
              "      <td>-0.205688</td>\n",
              "      <td>0.891563</td>\n",
              "      <td>0.947911</td>\n",
              "      <td>0.941483</td>\n",
              "      <td>0.952320</td>\n",
              "      <td>0.901751</td>\n",
              "      <td>0.369890</td>\n",
              "      <td>0.948787</td>\n",
              "      <td>1.000000</td>\n",
              "      <td>0.394633</td>\n",
              "      <td>0.435011</td>\n",
              "      <td>0.893945</td>\n",
              "      <td>0.929410</td>\n",
              "      <td>0.582982</td>\n",
              "      <td>0.780899</td>\n",
              "      <td>-0.054670</td>\n",
              "      <td>0.855260</td>\n",
              "      <td>0.906908</td>\n",
              "    </tr>\n",
              "    <tr>\n",
              "      <th>sb</th>\n",
              "      <td>0.030480</td>\n",
              "      <td>-0.120837</td>\n",
              "      <td>0.492362</td>\n",
              "      <td>0.533536</td>\n",
              "      <td>0.596343</td>\n",
              "      <td>0.530018</td>\n",
              "      <td>0.413655</td>\n",
              "      <td>0.450421</td>\n",
              "      <td>0.364346</td>\n",
              "      <td>0.394633</td>\n",
              "      <td>1.000000</td>\n",
              "      <td>0.743921</td>\n",
              "      <td>0.491351</td>\n",
              "      <td>0.365841</td>\n",
              "      <td>0.209110</td>\n",
              "      <td>0.413570</td>\n",
              "      <td>0.171910</td>\n",
              "      <td>0.412947</td>\n",
              "      <td>0.431198</td>\n",
              "    </tr>\n",
              "    <tr>\n",
              "      <th>cs</th>\n",
              "      <td>0.058296</td>\n",
              "      <td>-0.055425</td>\n",
              "      <td>0.520923</td>\n",
              "      <td>0.577192</td>\n",
              "      <td>0.576454</td>\n",
              "      <td>0.571629</td>\n",
              "      <td>0.477487</td>\n",
              "      <td>0.384312</td>\n",
              "      <td>0.345187</td>\n",
              "      <td>0.435011</td>\n",
              "      <td>0.743921</td>\n",
              "      <td>1.000000</td>\n",
              "      <td>0.425352</td>\n",
              "      <td>0.426658</td>\n",
              "      <td>0.106152</td>\n",
              "      <td>0.337129</td>\n",
              "      <td>0.293397</td>\n",
              "      <td>0.422146</td>\n",
              "      <td>0.456820</td>\n",
              "    </tr>\n",
              "    <tr>\n",
              "      <th>bb</th>\n",
              "      <td>0.005626</td>\n",
              "      <td>-0.190301</td>\n",
              "      <td>0.828572</td>\n",
              "      <td>0.850803</td>\n",
              "      <td>0.915010</td>\n",
              "      <td>0.853384</td>\n",
              "      <td>0.780012</td>\n",
              "      <td>0.350682</td>\n",
              "      <td>0.916774</td>\n",
              "      <td>0.893945</td>\n",
              "      <td>0.491351</td>\n",
              "      <td>0.425352</td>\n",
              "      <td>1.000000</td>\n",
              "      <td>0.795751</td>\n",
              "      <td>0.792057</td>\n",
              "      <td>0.742118</td>\n",
              "      <td>-0.044992</td>\n",
              "      <td>0.760932</td>\n",
              "      <td>0.823631</td>\n",
              "    </tr>\n",
              "    <tr>\n",
              "      <th>so</th>\n",
              "      <td>0.069610</td>\n",
              "      <td>-0.214121</td>\n",
              "      <td>0.866499</td>\n",
              "      <td>0.923926</td>\n",
              "      <td>0.879375</td>\n",
              "      <td>0.906966</td>\n",
              "      <td>0.862149</td>\n",
              "      <td>0.408800</td>\n",
              "      <td>0.865929</td>\n",
              "      <td>0.929410</td>\n",
              "      <td>0.365841</td>\n",
              "      <td>0.426658</td>\n",
              "      <td>0.795751</td>\n",
              "      <td>1.000000</td>\n",
              "      <td>0.476613</td>\n",
              "      <td>0.742547</td>\n",
              "      <td>0.073624</td>\n",
              "      <td>0.782314</td>\n",
              "      <td>0.846629</td>\n",
              "    </tr>\n",
              "    <tr>\n",
              "      <th>ibb</th>\n",
              "      <td>0.015868</td>\n",
              "      <td>-0.118580</td>\n",
              "      <td>0.514423</td>\n",
              "      <td>0.506398</td>\n",
              "      <td>0.588882</td>\n",
              "      <td>0.513009</td>\n",
              "      <td>0.453301</td>\n",
              "      <td>0.090993</td>\n",
              "      <td>0.673691</td>\n",
              "      <td>0.582982</td>\n",
              "      <td>0.209110</td>\n",
              "      <td>0.106152</td>\n",
              "      <td>0.792057</td>\n",
              "      <td>0.476613</td>\n",
              "      <td>1.000000</td>\n",
              "      <td>0.431714</td>\n",
              "      <td>-0.075658</td>\n",
              "      <td>0.451377</td>\n",
              "      <td>0.572355</td>\n",
              "    </tr>\n",
              "    <tr>\n",
              "      <th>hbp</th>\n",
              "      <td>-0.000664</td>\n",
              "      <td>-0.195074</td>\n",
              "      <td>0.730161</td>\n",
              "      <td>0.767210</td>\n",
              "      <td>0.806523</td>\n",
              "      <td>0.767449</td>\n",
              "      <td>0.738226</td>\n",
              "      <td>0.217474</td>\n",
              "      <td>0.767411</td>\n",
              "      <td>0.780899</td>\n",
              "      <td>0.413570</td>\n",
              "      <td>0.337129</td>\n",
              "      <td>0.742118</td>\n",
              "      <td>0.742547</td>\n",
              "      <td>0.431714</td>\n",
              "      <td>1.000000</td>\n",
              "      <td>-0.104810</td>\n",
              "      <td>0.648882</td>\n",
              "      <td>0.700380</td>\n",
              "    </tr>\n",
              "    <tr>\n",
              "      <th>sh</th>\n",
              "      <td>-0.012184</td>\n",
              "      <td>-0.091527</td>\n",
              "      <td>0.079361</td>\n",
              "      <td>0.094537</td>\n",
              "      <td>-0.001273</td>\n",
              "      <td>0.045533</td>\n",
              "      <td>0.005659</td>\n",
              "      <td>0.187012</td>\n",
              "      <td>-0.145374</td>\n",
              "      <td>-0.054670</td>\n",
              "      <td>0.171910</td>\n",
              "      <td>0.293397</td>\n",
              "      <td>-0.044992</td>\n",
              "      <td>0.073624</td>\n",
              "      <td>-0.075658</td>\n",
              "      <td>-0.104810</td>\n",
              "      <td>1.000000</td>\n",
              "      <td>-0.002721</td>\n",
              "      <td>0.028924</td>\n",
              "    </tr>\n",
              "    <tr>\n",
              "      <th>sf</th>\n",
              "      <td>-0.007282</td>\n",
              "      <td>-0.155662</td>\n",
              "      <td>0.767543</td>\n",
              "      <td>0.840361</td>\n",
              "      <td>0.839592</td>\n",
              "      <td>0.839737</td>\n",
              "      <td>0.819361</td>\n",
              "      <td>0.394987</td>\n",
              "      <td>0.782038</td>\n",
              "      <td>0.855260</td>\n",
              "      <td>0.412947</td>\n",
              "      <td>0.422146</td>\n",
              "      <td>0.760932</td>\n",
              "      <td>0.782314</td>\n",
              "      <td>0.451377</td>\n",
              "      <td>0.648882</td>\n",
              "      <td>-0.002721</td>\n",
              "      <td>1.000000</td>\n",
              "      <td>0.785489</td>\n",
              "    </tr>\n",
              "    <tr>\n",
              "      <th>gidp</th>\n",
              "      <td>0.052131</td>\n",
              "      <td>-0.224173</td>\n",
              "      <td>0.863041</td>\n",
              "      <td>0.926632</td>\n",
              "      <td>0.894724</td>\n",
              "      <td>0.935525</td>\n",
              "      <td>0.906860</td>\n",
              "      <td>0.411577</td>\n",
              "      <td>0.798350</td>\n",
              "      <td>0.906908</td>\n",
              "      <td>0.431198</td>\n",
              "      <td>0.456820</td>\n",
              "      <td>0.823631</td>\n",
              "      <td>0.846629</td>\n",
              "      <td>0.572355</td>\n",
              "      <td>0.700380</td>\n",
              "      <td>0.028924</td>\n",
              "      <td>0.785489</td>\n",
              "      <td>1.000000</td>\n",
              "    </tr>\n",
              "  </tbody>\n",
              "</table>\n",
              "</div>"
            ],
            "text/plain": [
              "           year     stint         g        ab         r         h       X2b  \\\n",
              "year   1.000000  0.004384 -0.050874 -0.001360 -0.023315  0.001151 -0.052917   \n",
              "stint  0.004384  1.000000 -0.257552 -0.216333 -0.209781 -0.206878 -0.196423   \n",
              "g     -0.050874 -0.257552  1.000000  0.935910  0.910262  0.929292  0.885847   \n",
              "ab    -0.001360 -0.216333  0.935910  1.000000  0.965609  0.994217  0.952249   \n",
              "r     -0.023315 -0.209781  0.910262  0.965609  1.000000  0.970560  0.923508   \n",
              "h      0.001151 -0.206878  0.929292  0.994217  0.970560  1.000000  0.957275   \n",
              "X2b   -0.052917 -0.196423  0.885847  0.952249  0.923508  0.957275  1.000000   \n",
              "X3b   -0.246099 -0.085821  0.518663  0.535986  0.500807  0.514245  0.493267   \n",
              "hr     0.060199 -0.209124  0.802014  0.843308  0.890060  0.855163  0.779062   \n",
              "rbi    0.042812 -0.205688  0.891563  0.947911  0.941483  0.952320  0.901751   \n",
              "sb     0.030480 -0.120837  0.492362  0.533536  0.596343  0.530018  0.413655   \n",
              "cs     0.058296 -0.055425  0.520923  0.577192  0.576454  0.571629  0.477487   \n",
              "bb     0.005626 -0.190301  0.828572  0.850803  0.915010  0.853384  0.780012   \n",
              "so     0.069610 -0.214121  0.866499  0.923926  0.879375  0.906966  0.862149   \n",
              "ibb    0.015868 -0.118580  0.514423  0.506398  0.588882  0.513009  0.453301   \n",
              "hbp   -0.000664 -0.195074  0.730161  0.767210  0.806523  0.767449  0.738226   \n",
              "sh    -0.012184 -0.091527  0.079361  0.094537 -0.001273  0.045533  0.005659   \n",
              "sf    -0.007282 -0.155662  0.767543  0.840361  0.839592  0.839737  0.819361   \n",
              "gidp   0.052131 -0.224173  0.863041  0.926632  0.894724  0.935525  0.906860   \n",
              "\n",
              "            X3b        hr       rbi        sb        cs        bb        so  \\\n",
              "year  -0.246099  0.060199  0.042812  0.030480  0.058296  0.005626  0.069610   \n",
              "stint -0.085821 -0.209124 -0.205688 -0.120837 -0.055425 -0.190301 -0.214121   \n",
              "g      0.518663  0.802014  0.891563  0.492362  0.520923  0.828572  0.866499   \n",
              "ab     0.535986  0.843308  0.947911  0.533536  0.577192  0.850803  0.923926   \n",
              "r      0.500807  0.890060  0.941483  0.596343  0.576454  0.915010  0.879375   \n",
              "h      0.514245  0.855163  0.952320  0.530018  0.571629  0.853384  0.906966   \n",
              "X2b    0.493267  0.779062  0.901751  0.413655  0.477487  0.780012  0.862149   \n",
              "X3b    1.000000  0.210028  0.369890  0.450421  0.384312  0.350682  0.408800   \n",
              "hr     0.210028  1.000000  0.948787  0.364346  0.345187  0.916774  0.865929   \n",
              "rbi    0.369890  0.948787  1.000000  0.394633  0.435011  0.893945  0.929410   \n",
              "sb     0.450421  0.364346  0.394633  1.000000  0.743921  0.491351  0.365841   \n",
              "cs     0.384312  0.345187  0.435011  0.743921  1.000000  0.425352  0.426658   \n",
              "bb     0.350682  0.916774  0.893945  0.491351  0.425352  1.000000  0.795751   \n",
              "so     0.408800  0.865929  0.929410  0.365841  0.426658  0.795751  1.000000   \n",
              "ibb    0.090993  0.673691  0.582982  0.209110  0.106152  0.792057  0.476613   \n",
              "hbp    0.217474  0.767411  0.780899  0.413570  0.337129  0.742118  0.742547   \n",
              "sh     0.187012 -0.145374 -0.054670  0.171910  0.293397 -0.044992  0.073624   \n",
              "sf     0.394987  0.782038  0.855260  0.412947  0.422146  0.760932  0.782314   \n",
              "gidp   0.411577  0.798350  0.906908  0.431198  0.456820  0.823631  0.846629   \n",
              "\n",
              "            ibb       hbp        sh        sf      gidp  \n",
              "year   0.015868 -0.000664 -0.012184 -0.007282  0.052131  \n",
              "stint -0.118580 -0.195074 -0.091527 -0.155662 -0.224173  \n",
              "g      0.514423  0.730161  0.079361  0.767543  0.863041  \n",
              "ab     0.506398  0.767210  0.094537  0.840361  0.926632  \n",
              "r      0.588882  0.806523 -0.001273  0.839592  0.894724  \n",
              "h      0.513009  0.767449  0.045533  0.839737  0.935525  \n",
              "X2b    0.453301  0.738226  0.005659  0.819361  0.906860  \n",
              "X3b    0.090993  0.217474  0.187012  0.394987  0.411577  \n",
              "hr     0.673691  0.767411 -0.145374  0.782038  0.798350  \n",
              "rbi    0.582982  0.780899 -0.054670  0.855260  0.906908  \n",
              "sb     0.209110  0.413570  0.171910  0.412947  0.431198  \n",
              "cs     0.106152  0.337129  0.293397  0.422146  0.456820  \n",
              "bb     0.792057  0.742118 -0.044992  0.760932  0.823631  \n",
              "so     0.476613  0.742547  0.073624  0.782314  0.846629  \n",
              "ibb    1.000000  0.431714 -0.075658  0.451377  0.572355  \n",
              "hbp    0.431714  1.000000 -0.104810  0.648882  0.700380  \n",
              "sh    -0.075658 -0.104810  1.000000 -0.002721  0.028924  \n",
              "sf     0.451377  0.648882 -0.002721  1.000000  0.785489  \n",
              "gidp   0.572355  0.700380  0.028924  0.785489  1.000000  "
            ]
          },
          "metadata": {
            "tags": []
          },
          "execution_count": 157
        }
      ]
    },
    {
      "cell_type": "markdown",
      "metadata": {
        "id": "YfRqgNeq9ksu"
      },
      "source": [
        "If we have a `DataFrame` with a hierarchical index (or indices), summary statistics can be applied with respect to any of the index levels"
      ]
    },
    {
      "cell_type": "code",
      "metadata": {
        "colab": {
          "base_uri": "https://localhost:8080/",
          "height": 233
        },
        "id": "GIor_TgF9eGI",
        "outputId": "9e235034-78f1-413e-e364-852fba3fb82a"
      },
      "source": [
        "mb.head()"
      ],
      "execution_count": null,
      "outputs": [
        {
          "output_type": "execute_result",
          "data": {
            "text/html": [
              "<div>\n",
              "<style scoped>\n",
              "    .dataframe tbody tr th:only-of-type {\n",
              "        vertical-align: middle;\n",
              "    }\n",
              "\n",
              "    .dataframe tbody tr th {\n",
              "        vertical-align: top;\n",
              "    }\n",
              "\n",
              "    .dataframe thead th {\n",
              "        text-align: right;\n",
              "    }\n",
              "</style>\n",
              "<table border=\"1\" class=\"dataframe\">\n",
              "  <thead>\n",
              "    <tr style=\"text-align: right;\">\n",
              "      <th></th>\n",
              "      <th></th>\n",
              "      <th>Tissue</th>\n",
              "      <th>Stool</th>\n",
              "    </tr>\n",
              "    <tr>\n",
              "      <th>Taxon</th>\n",
              "      <th>Patient</th>\n",
              "      <th></th>\n",
              "      <th></th>\n",
              "    </tr>\n",
              "  </thead>\n",
              "  <tbody>\n",
              "    <tr>\n",
              "      <th rowspan=\"5\" valign=\"top\">Firmicutes</th>\n",
              "      <th>1</th>\n",
              "      <td>632</td>\n",
              "      <td>305</td>\n",
              "    </tr>\n",
              "    <tr>\n",
              "      <th>2</th>\n",
              "      <td>136</td>\n",
              "      <td>4182</td>\n",
              "    </tr>\n",
              "    <tr>\n",
              "      <th>3</th>\n",
              "      <td>1174</td>\n",
              "      <td>703</td>\n",
              "    </tr>\n",
              "    <tr>\n",
              "      <th>4</th>\n",
              "      <td>408</td>\n",
              "      <td>3946</td>\n",
              "    </tr>\n",
              "    <tr>\n",
              "      <th>5</th>\n",
              "      <td>831</td>\n",
              "      <td>8605</td>\n",
              "    </tr>\n",
              "  </tbody>\n",
              "</table>\n",
              "</div>"
            ],
            "text/plain": [
              "                    Tissue  Stool\n",
              "Taxon      Patient               \n",
              "Firmicutes 1           632    305\n",
              "           2           136   4182\n",
              "           3          1174    703\n",
              "           4           408   3946\n",
              "           5           831   8605"
            ]
          },
          "metadata": {
            "tags": []
          },
          "execution_count": 158
        }
      ]
    },
    {
      "cell_type": "code",
      "metadata": {
        "colab": {
          "base_uri": "https://localhost:8080/",
          "height": 233
        },
        "id": "HIeQnZ069o8G",
        "outputId": "44ff3241-eefe-40ea-a1a2-3d4f2424eeb1"
      },
      "source": [
        "mb.sum(level='Taxon')"
      ],
      "execution_count": null,
      "outputs": [
        {
          "output_type": "execute_result",
          "data": {
            "text/html": [
              "<div>\n",
              "<style scoped>\n",
              "    .dataframe tbody tr th:only-of-type {\n",
              "        vertical-align: middle;\n",
              "    }\n",
              "\n",
              "    .dataframe tbody tr th {\n",
              "        vertical-align: top;\n",
              "    }\n",
              "\n",
              "    .dataframe thead th {\n",
              "        text-align: right;\n",
              "    }\n",
              "</style>\n",
              "<table border=\"1\" class=\"dataframe\">\n",
              "  <thead>\n",
              "    <tr style=\"text-align: right;\">\n",
              "      <th></th>\n",
              "      <th>Tissue</th>\n",
              "      <th>Stool</th>\n",
              "    </tr>\n",
              "    <tr>\n",
              "      <th>Taxon</th>\n",
              "      <th></th>\n",
              "      <th></th>\n",
              "    </tr>\n",
              "  </thead>\n",
              "  <tbody>\n",
              "    <tr>\n",
              "      <th>Firmicutes</th>\n",
              "      <td>10266</td>\n",
              "      <td>30477</td>\n",
              "    </tr>\n",
              "    <tr>\n",
              "      <th>Proteobacteria</th>\n",
              "      <td>44146</td>\n",
              "      <td>16369</td>\n",
              "    </tr>\n",
              "    <tr>\n",
              "      <th>Actinobacteria</th>\n",
              "      <td>6736</td>\n",
              "      <td>2263</td>\n",
              "    </tr>\n",
              "    <tr>\n",
              "      <th>Bacteroidetes</th>\n",
              "      <td>8995</td>\n",
              "      <td>4656</td>\n",
              "    </tr>\n",
              "    <tr>\n",
              "      <th>Other</th>\n",
              "      <td>2982</td>\n",
              "      <td>519</td>\n",
              "    </tr>\n",
              "  </tbody>\n",
              "</table>\n",
              "</div>"
            ],
            "text/plain": [
              "                Tissue  Stool\n",
              "Taxon                        \n",
              "Firmicutes       10266  30477\n",
              "Proteobacteria   44146  16369\n",
              "Actinobacteria    6736   2263\n",
              "Bacteroidetes     8995   4656\n",
              "Other             2982    519"
            ]
          },
          "metadata": {
            "tags": []
          },
          "execution_count": 159
        }
      ]
    },
    {
      "cell_type": "markdown",
      "metadata": {
        "id": "4Mb6GzIO9zud"
      },
      "source": [
        "## Writing Data to Files\r\n",
        "\r\n",
        "As well as being able to read several data input formats, Pandas can also export data to a variety of storage formats just like its capability to import varous file types"
      ]
    },
    {
      "cell_type": "code",
      "metadata": {
        "id": "F3kcYnIg9rI2"
      },
      "source": [
        "mb.to_csv(\"mb.csv\")"
      ],
      "execution_count": null,
      "outputs": []
    },
    {
      "cell_type": "markdown",
      "metadata": {
        "id": "wiUcDFhW-Fhk"
      },
      "source": [
        "The `to_csv` method writes a `DataFrame` to a comma-separated values (csv) file. You can specify custom delimiters (via `sep` argument), how missing values are written (via `na_rep` argument), whether the index is writen (via `index` argument), whether the header is included (via `header` argument), among other options."
      ]
    },
    {
      "cell_type": "markdown",
      "metadata": {
        "id": "ucnpNa5E_Giw"
      },
      "source": [
        "An efficient way of storing data to disk is in binary format. Pandas supports this using Python’s built-in pickle serialization."
      ]
    },
    {
      "cell_type": "code",
      "metadata": {
        "id": "c1BbqpEP_BEt"
      },
      "source": [
        "baseball.to_pickle(\"baseball_pickle\")"
      ],
      "execution_count": null,
      "outputs": []
    },
    {
      "cell_type": "markdown",
      "metadata": {
        "id": "GCeZ0QmM-Njq"
      },
      "source": [
        "The complement to `to_pickle` is the `read_pickle` function, which restores the pickle to a `DataFrame` or `Series`:"
      ]
    },
    {
      "cell_type": "code",
      "metadata": {
        "colab": {
          "base_uri": "https://localhost:8080/",
          "height": 466
        },
        "id": "XVfwVbtZ-CEs",
        "outputId": "c5c73e82-ecb5-4137-aa61-9a7f254b41a3"
      },
      "source": [
        "pd.read_pickle(\"baseball_pickle\")"
      ],
      "execution_count": null,
      "outputs": [
        {
          "output_type": "execute_result",
          "data": {
            "text/html": [
              "<div>\n",
              "<style scoped>\n",
              "    .dataframe tbody tr th:only-of-type {\n",
              "        vertical-align: middle;\n",
              "    }\n",
              "\n",
              "    .dataframe tbody tr th {\n",
              "        vertical-align: top;\n",
              "    }\n",
              "\n",
              "    .dataframe thead th {\n",
              "        text-align: right;\n",
              "    }\n",
              "</style>\n",
              "<table border=\"1\" class=\"dataframe\">\n",
              "  <thead>\n",
              "    <tr style=\"text-align: right;\">\n",
              "      <th></th>\n",
              "      <th>player</th>\n",
              "      <th>year</th>\n",
              "      <th>stint</th>\n",
              "      <th>team</th>\n",
              "      <th>lg</th>\n",
              "      <th>g</th>\n",
              "      <th>ab</th>\n",
              "      <th>r</th>\n",
              "      <th>h</th>\n",
              "      <th>X2b</th>\n",
              "      <th>X3b</th>\n",
              "      <th>hr</th>\n",
              "      <th>rbi</th>\n",
              "      <th>sb</th>\n",
              "      <th>cs</th>\n",
              "      <th>bb</th>\n",
              "      <th>so</th>\n",
              "      <th>ibb</th>\n",
              "      <th>hbp</th>\n",
              "      <th>sh</th>\n",
              "      <th>sf</th>\n",
              "      <th>gidp</th>\n",
              "    </tr>\n",
              "    <tr>\n",
              "      <th>id</th>\n",
              "      <th></th>\n",
              "      <th></th>\n",
              "      <th></th>\n",
              "      <th></th>\n",
              "      <th></th>\n",
              "      <th></th>\n",
              "      <th></th>\n",
              "      <th></th>\n",
              "      <th></th>\n",
              "      <th></th>\n",
              "      <th></th>\n",
              "      <th></th>\n",
              "      <th></th>\n",
              "      <th></th>\n",
              "      <th></th>\n",
              "      <th></th>\n",
              "      <th></th>\n",
              "      <th></th>\n",
              "      <th></th>\n",
              "      <th></th>\n",
              "      <th></th>\n",
              "      <th></th>\n",
              "    </tr>\n",
              "  </thead>\n",
              "  <tbody>\n",
              "    <tr>\n",
              "      <th>88641</th>\n",
              "      <td>womacto01</td>\n",
              "      <td>2006</td>\n",
              "      <td>2</td>\n",
              "      <td>CHN</td>\n",
              "      <td>NL</td>\n",
              "      <td>19</td>\n",
              "      <td>50</td>\n",
              "      <td>6</td>\n",
              "      <td>14</td>\n",
              "      <td>1</td>\n",
              "      <td>0</td>\n",
              "      <td>1</td>\n",
              "      <td>2.0</td>\n",
              "      <td>1.0</td>\n",
              "      <td>1.0</td>\n",
              "      <td>4</td>\n",
              "      <td>4.0</td>\n",
              "      <td>0.0</td>\n",
              "      <td>0.0</td>\n",
              "      <td>3.0</td>\n",
              "      <td>0.0</td>\n",
              "      <td>0.0</td>\n",
              "    </tr>\n",
              "    <tr>\n",
              "      <th>88643</th>\n",
              "      <td>schilcu01</td>\n",
              "      <td>2006</td>\n",
              "      <td>1</td>\n",
              "      <td>BOS</td>\n",
              "      <td>AL</td>\n",
              "      <td>31</td>\n",
              "      <td>2</td>\n",
              "      <td>0</td>\n",
              "      <td>1</td>\n",
              "      <td>0</td>\n",
              "      <td>0</td>\n",
              "      <td>0</td>\n",
              "      <td>0.0</td>\n",
              "      <td>0.0</td>\n",
              "      <td>0.0</td>\n",
              "      <td>0</td>\n",
              "      <td>1.0</td>\n",
              "      <td>0.0</td>\n",
              "      <td>0.0</td>\n",
              "      <td>0.0</td>\n",
              "      <td>0.0</td>\n",
              "      <td>0.0</td>\n",
              "    </tr>\n",
              "    <tr>\n",
              "      <th>88645</th>\n",
              "      <td>myersmi01</td>\n",
              "      <td>2006</td>\n",
              "      <td>1</td>\n",
              "      <td>NYA</td>\n",
              "      <td>AL</td>\n",
              "      <td>62</td>\n",
              "      <td>0</td>\n",
              "      <td>0</td>\n",
              "      <td>0</td>\n",
              "      <td>0</td>\n",
              "      <td>0</td>\n",
              "      <td>0</td>\n",
              "      <td>0.0</td>\n",
              "      <td>0.0</td>\n",
              "      <td>0.0</td>\n",
              "      <td>0</td>\n",
              "      <td>0.0</td>\n",
              "      <td>0.0</td>\n",
              "      <td>0.0</td>\n",
              "      <td>0.0</td>\n",
              "      <td>0.0</td>\n",
              "      <td>0.0</td>\n",
              "    </tr>\n",
              "    <tr>\n",
              "      <th>88649</th>\n",
              "      <td>helliri01</td>\n",
              "      <td>2006</td>\n",
              "      <td>1</td>\n",
              "      <td>MIL</td>\n",
              "      <td>NL</td>\n",
              "      <td>20</td>\n",
              "      <td>3</td>\n",
              "      <td>0</td>\n",
              "      <td>0</td>\n",
              "      <td>0</td>\n",
              "      <td>0</td>\n",
              "      <td>0</td>\n",
              "      <td>0.0</td>\n",
              "      <td>0.0</td>\n",
              "      <td>0.0</td>\n",
              "      <td>0</td>\n",
              "      <td>2.0</td>\n",
              "      <td>0.0</td>\n",
              "      <td>0.0</td>\n",
              "      <td>0.0</td>\n",
              "      <td>0.0</td>\n",
              "      <td>0.0</td>\n",
              "    </tr>\n",
              "    <tr>\n",
              "      <th>88650</th>\n",
              "      <td>johnsra05</td>\n",
              "      <td>2006</td>\n",
              "      <td>1</td>\n",
              "      <td>NYA</td>\n",
              "      <td>AL</td>\n",
              "      <td>33</td>\n",
              "      <td>6</td>\n",
              "      <td>0</td>\n",
              "      <td>1</td>\n",
              "      <td>0</td>\n",
              "      <td>0</td>\n",
              "      <td>0</td>\n",
              "      <td>0.0</td>\n",
              "      <td>0.0</td>\n",
              "      <td>0.0</td>\n",
              "      <td>0</td>\n",
              "      <td>4.0</td>\n",
              "      <td>0.0</td>\n",
              "      <td>0.0</td>\n",
              "      <td>0.0</td>\n",
              "      <td>0.0</td>\n",
              "      <td>0.0</td>\n",
              "    </tr>\n",
              "    <tr>\n",
              "      <th>...</th>\n",
              "      <td>...</td>\n",
              "      <td>...</td>\n",
              "      <td>...</td>\n",
              "      <td>...</td>\n",
              "      <td>...</td>\n",
              "      <td>...</td>\n",
              "      <td>...</td>\n",
              "      <td>...</td>\n",
              "      <td>...</td>\n",
              "      <td>...</td>\n",
              "      <td>...</td>\n",
              "      <td>...</td>\n",
              "      <td>...</td>\n",
              "      <td>...</td>\n",
              "      <td>...</td>\n",
              "      <td>...</td>\n",
              "      <td>...</td>\n",
              "      <td>...</td>\n",
              "      <td>...</td>\n",
              "      <td>...</td>\n",
              "      <td>...</td>\n",
              "      <td>...</td>\n",
              "    </tr>\n",
              "    <tr>\n",
              "      <th>89525</th>\n",
              "      <td>benitar01</td>\n",
              "      <td>2007</td>\n",
              "      <td>2</td>\n",
              "      <td>FLO</td>\n",
              "      <td>NL</td>\n",
              "      <td>34</td>\n",
              "      <td>0</td>\n",
              "      <td>0</td>\n",
              "      <td>0</td>\n",
              "      <td>0</td>\n",
              "      <td>0</td>\n",
              "      <td>0</td>\n",
              "      <td>0.0</td>\n",
              "      <td>0.0</td>\n",
              "      <td>0.0</td>\n",
              "      <td>0</td>\n",
              "      <td>0.0</td>\n",
              "      <td>0.0</td>\n",
              "      <td>0.0</td>\n",
              "      <td>0.0</td>\n",
              "      <td>0.0</td>\n",
              "      <td>0.0</td>\n",
              "    </tr>\n",
              "    <tr>\n",
              "      <th>89526</th>\n",
              "      <td>benitar01</td>\n",
              "      <td>2007</td>\n",
              "      <td>1</td>\n",
              "      <td>SFN</td>\n",
              "      <td>NL</td>\n",
              "      <td>19</td>\n",
              "      <td>0</td>\n",
              "      <td>0</td>\n",
              "      <td>0</td>\n",
              "      <td>0</td>\n",
              "      <td>0</td>\n",
              "      <td>0</td>\n",
              "      <td>0.0</td>\n",
              "      <td>0.0</td>\n",
              "      <td>0.0</td>\n",
              "      <td>0</td>\n",
              "      <td>0.0</td>\n",
              "      <td>0.0</td>\n",
              "      <td>0.0</td>\n",
              "      <td>0.0</td>\n",
              "      <td>0.0</td>\n",
              "      <td>0.0</td>\n",
              "    </tr>\n",
              "    <tr>\n",
              "      <th>89530</th>\n",
              "      <td>ausmubr01</td>\n",
              "      <td>2007</td>\n",
              "      <td>1</td>\n",
              "      <td>HOU</td>\n",
              "      <td>NL</td>\n",
              "      <td>117</td>\n",
              "      <td>349</td>\n",
              "      <td>38</td>\n",
              "      <td>82</td>\n",
              "      <td>16</td>\n",
              "      <td>3</td>\n",
              "      <td>3</td>\n",
              "      <td>25.0</td>\n",
              "      <td>6.0</td>\n",
              "      <td>1.0</td>\n",
              "      <td>37</td>\n",
              "      <td>74.0</td>\n",
              "      <td>3.0</td>\n",
              "      <td>6.0</td>\n",
              "      <td>4.0</td>\n",
              "      <td>1.0</td>\n",
              "      <td>11.0</td>\n",
              "    </tr>\n",
              "    <tr>\n",
              "      <th>89533</th>\n",
              "      <td>aloumo01</td>\n",
              "      <td>2007</td>\n",
              "      <td>1</td>\n",
              "      <td>NYN</td>\n",
              "      <td>NL</td>\n",
              "      <td>87</td>\n",
              "      <td>328</td>\n",
              "      <td>51</td>\n",
              "      <td>112</td>\n",
              "      <td>19</td>\n",
              "      <td>1</td>\n",
              "      <td>13</td>\n",
              "      <td>49.0</td>\n",
              "      <td>3.0</td>\n",
              "      <td>0.0</td>\n",
              "      <td>27</td>\n",
              "      <td>30.0</td>\n",
              "      <td>5.0</td>\n",
              "      <td>2.0</td>\n",
              "      <td>0.0</td>\n",
              "      <td>3.0</td>\n",
              "      <td>13.0</td>\n",
              "    </tr>\n",
              "    <tr>\n",
              "      <th>89534</th>\n",
              "      <td>alomasa02</td>\n",
              "      <td>2007</td>\n",
              "      <td>1</td>\n",
              "      <td>NYN</td>\n",
              "      <td>NL</td>\n",
              "      <td>8</td>\n",
              "      <td>22</td>\n",
              "      <td>1</td>\n",
              "      <td>3</td>\n",
              "      <td>1</td>\n",
              "      <td>0</td>\n",
              "      <td>0</td>\n",
              "      <td>0.0</td>\n",
              "      <td>0.0</td>\n",
              "      <td>0.0</td>\n",
              "      <td>0</td>\n",
              "      <td>3.0</td>\n",
              "      <td>0.0</td>\n",
              "      <td>0.0</td>\n",
              "      <td>0.0</td>\n",
              "      <td>0.0</td>\n",
              "      <td>0.0</td>\n",
              "    </tr>\n",
              "  </tbody>\n",
              "</table>\n",
              "<p>100 rows × 22 columns</p>\n",
              "</div>"
            ],
            "text/plain": [
              "          player  year  stint team  lg    g   ab   r    h  X2b  X3b  hr   rbi  \\\n",
              "id                                                                              \n",
              "88641  womacto01  2006      2  CHN  NL   19   50   6   14    1    0   1   2.0   \n",
              "88643  schilcu01  2006      1  BOS  AL   31    2   0    1    0    0   0   0.0   \n",
              "88645  myersmi01  2006      1  NYA  AL   62    0   0    0    0    0   0   0.0   \n",
              "88649  helliri01  2006      1  MIL  NL   20    3   0    0    0    0   0   0.0   \n",
              "88650  johnsra05  2006      1  NYA  AL   33    6   0    1    0    0   0   0.0   \n",
              "...          ...   ...    ...  ...  ..  ...  ...  ..  ...  ...  ...  ..   ...   \n",
              "89525  benitar01  2007      2  FLO  NL   34    0   0    0    0    0   0   0.0   \n",
              "89526  benitar01  2007      1  SFN  NL   19    0   0    0    0    0   0   0.0   \n",
              "89530  ausmubr01  2007      1  HOU  NL  117  349  38   82   16    3   3  25.0   \n",
              "89533   aloumo01  2007      1  NYN  NL   87  328  51  112   19    1  13  49.0   \n",
              "89534  alomasa02  2007      1  NYN  NL    8   22   1    3    1    0   0   0.0   \n",
              "\n",
              "        sb   cs  bb    so  ibb  hbp   sh   sf  gidp  \n",
              "id                                                   \n",
              "88641  1.0  1.0   4   4.0  0.0  0.0  3.0  0.0   0.0  \n",
              "88643  0.0  0.0   0   1.0  0.0  0.0  0.0  0.0   0.0  \n",
              "88645  0.0  0.0   0   0.0  0.0  0.0  0.0  0.0   0.0  \n",
              "88649  0.0  0.0   0   2.0  0.0  0.0  0.0  0.0   0.0  \n",
              "88650  0.0  0.0   0   4.0  0.0  0.0  0.0  0.0   0.0  \n",
              "...    ...  ...  ..   ...  ...  ...  ...  ...   ...  \n",
              "89525  0.0  0.0   0   0.0  0.0  0.0  0.0  0.0   0.0  \n",
              "89526  0.0  0.0   0   0.0  0.0  0.0  0.0  0.0   0.0  \n",
              "89530  6.0  1.0  37  74.0  3.0  6.0  4.0  1.0  11.0  \n",
              "89533  3.0  0.0  27  30.0  5.0  2.0  0.0  3.0  13.0  \n",
              "89534  0.0  0.0   0   3.0  0.0  0.0  0.0  0.0   0.0  \n",
              "\n",
              "[100 rows x 22 columns]"
            ]
          },
          "metadata": {
            "tags": []
          },
          "execution_count": 162
        }
      ]
    },
    {
      "cell_type": "markdown",
      "metadata": {
        "id": "zLe-doTR_Lc1"
      },
      "source": [
        "It is recommended that binary storage of data via pickle only be used as a temporary storage format, in situations where speed is relevant. This is because there is no guarantee that the pickle format will not change with future versions of Python."
      ]
    }
  ]
}
